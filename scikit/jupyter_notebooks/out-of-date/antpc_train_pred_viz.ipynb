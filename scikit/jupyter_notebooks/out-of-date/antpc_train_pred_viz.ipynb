{
 "cells": [
  {
   "cell_type": "code",
   "execution_count": 1,
   "metadata": {},
   "outputs": [],
   "source": [
    "import pandas as pd\n",
    "import numpy as np\n",
    "import plotly.plotly as py\n",
    "import matplotlib as mpl\n",
    "import matplotlib.pyplot as plt\n",
    "import seaborn as sns\n",
    "from mpl_toolkits.axes_grid1 import make_axes_locatable\n",
    "%matplotlib inline"
   ]
  },
  {
   "cell_type": "markdown",
   "metadata": {},
   "source": [
    "### Notes from viz lectures\n",
    "\n",
    "### Simplification\n",
    "* Figure out consolidation schemes--ratios might be useful for rxtr params\n",
    "* Exclude or dim unimportant data\n",
    "\n",
    "### Headings for training set viz\n",
    "* Goal for i.i.d. training set accomplished / not accomplished\n",
    "* Certain locations in training set space difficult to predict OR error higher in certain locations in training set space\n",
    "* Natural uranium not reliably predicted by any algorithm\n",
    "* Complex models predict x parameters better than simple models (or vice versa)"
   ]
  },
  {
   "cell_type": "code",
   "execution_count": 2,
   "metadata": {},
   "outputs": [],
   "source": [
    "# color dict (use: colors['XColor'])\n",
    "\n",
    "colors = {'DBrwn' : '#8c510a', 'MBrwn' : '#d8b365', 'LBrwn' : '#f6e8c3',\n",
    "          'DTeal' : '#01665e', 'MTeal' : '#5ab4ac', 'LTeal' : '#c7eae5',\n",
    "          'DPurp' : '#762a83', 'MPurp' : '#af8dc3', 'LPurp' : '#e7d4e8'\n",
    "         }\n",
    "# set params\n",
    "# save as .mplstyle file and import with: plt.style.use('file')\n",
    "#mpl.rcParams['lines.linewidth'] = 2\n",
    "#mpl.rcParams['lines.color'] = 'r'\n",
    "\n",
    "# colors for seaborn\n",
    "dark = [\"#8c510a\", \"#01665e\", \"#762a83\"]\n",
    "med = [\"#d8b365\", \"#5ab4ac\", \"#af8dc3\"]\n",
    "light = [\"f6e8c3\", \"#c7eae5\", \"#e7d4e8\"]"
   ]
  },
  {
   "cell_type": "markdown",
   "metadata": {},
   "source": [
    "## Predictions"
   ]
  },
  {
   "cell_type": "code",
   "execution_count": 4,
   "metadata": {},
   "outputs": [
    {
     "data": {
      "text/plain": [
       "Index(['Instance', 'Ridge', 'SVR', 'TrueY', 'kNN'], dtype='object')"
      ]
     },
     "execution_count": 4,
     "metadata": {},
     "output_type": "execute_result"
    }
   ],
   "source": [
    "rxtr = pd.read_csv('../results/28march2018/sfcompo_fissact_reactor_predictions.csv').rename(columns = {'Unnamed: 0':'Instance'})\n",
    "# MWd/MTU\n",
    "burn = pd.read_csv('../results/28march2018/sfcompo_fissact_burnup_predictions.csv').rename(columns = {'Unnamed: 0':'Instance'})\n",
    "# %u235\n",
    "enri = pd.read_csv('../results/28march2018/sfcompo_fissact_enrichment_predictions.csv').rename(columns = {'Unnamed: 0':'Instance'})\n",
    "# days\n",
    "cool = pd.read_csv('../results/28march2018/sfcompo_fissact_cooling_predictions.csv').rename(columns = {'Unnamed: 0':'Instance'})\n",
    "\n",
    "rxtr.columns"
   ]
  },
  {
   "cell_type": "markdown",
   "metadata": {},
   "source": [
    "## Scores (Aggregate data)"
   ]
  },
  {
   "cell_type": "code",
   "execution_count": 5,
   "metadata": {},
   "outputs": [
    {
     "data": {
      "text/plain": [
       "Index(['CV_fold', 'fit_time', 'score_time', 'test_explained_variance',\n",
       "       'test_neg_mean_absolute_error', 'test_neg_mean_squared_error',\n",
       "       'test_r2', 'test_neg_rmse', 'algorithm'],\n",
       "      dtype='object')"
      ]
     },
     "execution_count": 5,
     "metadata": {},
     "output_type": "execute_result"
    }
   ],
   "source": [
    "r_scr = pd.read_csv('../results/3april2018/sfcompo_fissactreactor_scores.csv').rename(columns = {'Unnamed: 0':'CV_fold'})\n",
    "# MWd/MTU\n",
    "b_scr = pd.read_csv('../results/3april2018/sfcompo_fissactburnup_scores.csv').rename(columns = {'Unnamed: 0':'CV_fold'})\n",
    "# %u235\n",
    "e_scr = pd.read_csv('../results/3april2018/sfcompo_fissactenrichment_scores.csv').rename(columns = {'Unnamed: 0':'CV_fold'})\n",
    "# days\n",
    "c_scr = pd.read_csv('../results/3april2018/sfcompo_fissactcooling_scores.csv').rename(columns = {'Unnamed: 0':'CV_fold'})\n",
    "c_scr.columns"
   ]
  },
  {
   "cell_type": "markdown",
   "metadata": {},
   "source": [
    "## Training Set"
   ]
  },
  {
   "cell_type": "code",
   "execution_count": 6,
   "metadata": {},
   "outputs": [
    {
     "data": {
      "text/plain": [
       "Index(['Burnup', 'CoolingTime', 'Enrichment', 'ReactorType', 'ba138', 'ce140',\n",
       "       'ce142', 'ce144', 'cs133', 'cs135', 'cs137', 'la139', 'mo100', 'mo95',\n",
       "       'mo97', 'mo98', 'nd143', 'nd144', 'nd145', 'nd146', 'pd104', 'pd105',\n",
       "       'pd106', 'pr141', 'pu239', 'pu240', 'pu241', 'pu242', 'rb87', 'rh103',\n",
       "       'ru101', 'ru102', 'ru104', 'sr88', 'sr90', 'tc99', 'total', 'u234',\n",
       "       'u235', 'u236', 'u238', 'xe131', 'xe132', 'xe134', 'xe136', 'y89',\n",
       "       'zr91', 'zr92', 'zr93', 'zr94', 'zr96', 'Burnup [GWd/MTU]',\n",
       "       'Cooling Time [Months]', 'Enrichment [% U235]', 'Reactor Type'],\n",
       "      dtype='object')"
      ]
     },
     "execution_count": 6,
     "metadata": {},
     "output_type": "execute_result"
    }
   ],
   "source": [
    "trainXY = pd.read_pickle(\"../sfcompo_pickles/not-scaled_trainset_nucs_fissact_8dec.pkl\")\n",
    "# nucs messed up somehow and labels are at beginning\n",
    "x = len(trainXY.columns)\n",
    "dfY_b = trainXY.iloc[:, 0]//1000\n",
    "dfY_c = trainXY.iloc[:, 1]//30\n",
    "dfY_e = trainXY.iloc[:, 2]\n",
    "dfY_r = trainXY.iloc[:, 3]\n",
    "dfX = trainXY.iloc[:, 4:x]\n",
    "# rename cols\n",
    "burn_name = 'Burnup [GWd/MTU]'\n",
    "cool_name = 'Cooling Time [Months]'\n",
    "enr_name = 'Enrichment [% U235]'\n",
    "rxtr_name = 'Reactor Type'\n",
    "trainXY[burn_name] = trainXY['Burnup']//1000\n",
    "trainXY[cool_name] = trainXY['CoolingTime']//30\n",
    "trainXY[enr_name] = trainXY['Enrichment']\n",
    "trainXY[rxtr_name] = trainXY['ReactorType']\n",
    "trainXY.columns"
   ]
  },
  {
   "cell_type": "markdown",
   "metadata": {},
   "source": [
    "## Compare Predictions\n",
    "### Natural uranium not reliably predicted by any algorithm\n",
    "### Certain locations in training set space difficult to predict OR error higher in certain locations in training set space"
   ]
  },
  {
   "cell_type": "code",
   "execution_count": 8,
   "metadata": {},
   "outputs": [],
   "source": [
    "params = ['Burnup', 'Enrichment', 'Cooling Time']\n",
    "values = ['TrueY', 'kNN', 'Ridge', 'SVR']\n",
    "#tups = params * values\n",
    "#for p in params:\n",
    "#    p_tup = zip(p*len(burn), values)\n",
    "#    tups.insert(len(tups), p_tup)\n",
    "\n",
    "#tups = zip(*[['Estimates']*len(data),data.keys()])\n",
    "\n",
    "#pred_df = pd.DataFrame()\n",
    "#pred_df = pd.concat([burn, enri, cool], axis=1)\n",
    "#df.columns = pd.MultiIndex.from_tuples([burn_tuples, enri_tuples, cool_tuples], \n",
    "#                                       names=['Parameter', 'Value'])\n",
    "\n",
    "\n",
    "\n",
    "#tups\n",
    "#label params\n",
    "#burn['Parameter'] = 'Burnup'\n",
    "#enri['Parameter'] = 'Enrichment'\n",
    "#cool['Parameter'] = 'Cooling Time'\n",
    "#rxtr['Parameter'] = 'Reactor Type'\n",
    "#pred_df = pd.DataFrame()\n",
    "#pred_df = pd.concat([burn, enri, cool])#, rxtr])\n",
    "#pred_df = pred_df.melt(id_vars = ['TrueY', 'Parameter'], \n",
    "#                       value_vars = ['SVR', 'kNN', 'Ridge'], \n",
    "#                       value_name='Predicted Value', var_name='Algorithm')\n",
    "#pred_df.sample(10)"
   ]
  },
  {
   "cell_type": "code",
   "execution_count": 9,
   "metadata": {},
   "outputs": [
    {
     "ename": "IndentationError",
     "evalue": "unexpected indent (<ipython-input-9-f5b091c1f7a0>, line 8)",
     "output_type": "error",
     "traceback": [
      "\u001b[0;36m  File \u001b[0;32m\"<ipython-input-9-f5b091c1f7a0>\"\u001b[0;36m, line \u001b[0;32m8\u001b[0m\n\u001b[0;31m    x_vars=['TrueY', 'Ridge', 'SVR'],\u001b[0m\n\u001b[0m    ^\u001b[0m\n\u001b[0;31mIndentationError\u001b[0m\u001b[0;31m:\u001b[0m unexpected indent\n"
     ]
    }
   ],
   "source": [
    "#yvars = [pred_df[pred_df.Parameter=='Burnup'], \n",
    "#         pred_df[pred_df.Parameter=='Enrichment'], \n",
    "#         pred_df[pred_df.Parameter=='Cooling Time']]\n",
    "\n",
    "#plt.clf()\n",
    "#sns.set(style=\"ticks\", font_scale=1.0)\n",
    "#p = sns.pairplot(pred_df, hue='Algorithm', \n",
    "                 x_vars=['TrueY', 'Ridge', 'SVR'], \n",
    "                 y_vars=['TrueY', '', ''])\n",
    "#p = p.map(plt.scatter, 'TrueY', 'Predicted Value').set_axis_labels('Ground Truth', 'Predicted Value')"
   ]
  },
  {
   "cell_type": "code",
   "execution_count": 70,
   "metadata": {},
   "outputs": [
    {
     "data": {
      "text/plain": [
       "<matplotlib.figure.Figure at 0x7f76b43f2e80>"
      ]
     },
     "metadata": {},
     "output_type": "display_data"
    },
    {
     "data": {
      "image/png": "[encoded data removed]",
      "text/plain": [
       "<matplotlib.figure.Figure at 0x7f76b3e9c940>"
      ]
     },
     "metadata": {},
     "output_type": "display_data"
    }
   ],
   "source": [
    "plt.clf()\n",
    "sns.set(style=\"ticks\", font_scale=1.5)\n",
    "g = sns.lmplot(x=\"TrueY\", y=\"Predicted\", hue=\"Algorithm\", data=burn_df, \n",
    "               fit_reg=False, palette=sns.color_palette(med))\n",
    "#burn_g.axes[0,0].set_ylim(-3, 70)\n",
    "#burn_g.axes[0,0].set_xlim(-2, 70)"
   ]
  },
  {
   "cell_type": "code",
   "execution_count": null,
   "metadata": {},
   "outputs": [],
   "source": [
    "\n",
    "burns = burn[['Ridge', 'SVR', 'TrueY', 'kNN']] // 1000.0\n",
    "enris = enri[['Ridge', 'SVR', 'TrueY', 'kNN']]\n",
    "bY = burns[['TrueY']]\n",
    "eY = enris[['TrueY']]\n",
    "\n",
    "#bin stuff\n",
    "x = bY\n",
    "y = eY\n",
    "xbin = 1.5\n",
    "ybin = 0.15\n",
    "xmax = np.max(np.abs(x))\n",
    "ymax = np.max(np.abs(y))\n",
    "xlim = (int(xmax/xbin) + 1)*xbin\n",
    "ylim = (int(ymax/ybin) + 1)*ybin\n",
    "xbins = np.arange(0, xlim + xbin, xbin)\n",
    "ybins = np.arange(0, ylim + ybin, ybin)\n",
    "xcount, xdivs = np.histogram(x, bins=xbins)\n",
    "ycount, ydivs = np.histogram(y, bins=ybins)\n",
    "\n",
    "#figure stuff\n",
    "fig, axScatter = plt.subplots(figsize=(7, 7))\n",
    "axScatter.scatter(x, y, s=ycount*0.1, c='k', alpha=0.5, linewidths=0.1, marker='o', label='Ground Truth')\n",
    "# commenting out diff algs; can do diff plots\n",
    "#axScatter.scatter(burns[['kNN']], enris[['kNN']], s=ycount*0.1, c=colors['MBrwn'], alpha=0.5, linewidths=0.1, marker='s', label='kNN Pred')\n",
    "#axScatter.scatter(burns[['Ridge']], enris[['Ridge']], s=ycount*0.1, c=colors['MPurp'], alpha=0.5, linewidths=0.1, marker='s', label='Ridge Pred')\n",
    "axScatter.scatter(burns[['SVR']], enris[['SVR']], s=ycount*0.1, c=colors['MTeal'], alpha=0.5, linewidths=0.1, marker='s', label='SVR Pred')\n",
    "axScatter.legend()\n",
    "plt.xlabel('Burnup [GWd/MTU]', fontsize=16)\n",
    "plt.ylabel('Enrichment [%U235]', fontsize=16)\n",
    "#fig.savefig('test.png', bbox_inches='tight')\n",
    "plt.show()"
   ]
  },
  {
   "cell_type": "code",
   "execution_count": null,
   "metadata": {},
   "outputs": [],
   "source": [
    "pred = sns.FacetGrid(data=pred_df, col=\"Parameter\",\n",
    "                     hue=\"Algorithm\", \n",
    "                     sharex=False, sharey=False, size=8, \n",
    "                     palette=sns.color_palette(med))\n",
    "pred= pred.map(plt.scatter, 'TrueY', 'Predicted Value', s=150)\n",
    "\n",
    "(pred.set_axis_labels(\"Ground Truth\", \"Predicted Value\")\n",
    "     .set_titles(\"{col_name}\")\n",
    "     .add_legend(markerscale=2))\n",
    "pred.axes[0,0].set_ylim(-5, 70)\n",
    "pred.axes[0,0].set_xlim(-5, 70)\n",
    "plt.plot([-5, -5], [65, 65], 'k-', linewidth=2)\n",
    "\n",
    "#pred.savefig('predictions.png', bbox_inches='tight', transparent=True)\n",
    "\n",
    "fig, axScatter = plt.subplots(figsize=(7, 7))\n",
    "#axScatter.scatter(x, y, s=ycount*0.1, c=colors['MTeal'], alpha=0.5, linewidths=0.1, marker='o', label='Ground Truth')\n",
    "axScatter.scatter(x, y, s=ycount*0.1, c='k', alpha=0.5, linewidths=0.1, marker='o', label='Ground Truth')\n",
    "# commenting out diff algs; can do diff plots\n",
    "axScatter.scatter(burn_knn, enr_knn, s=ycount*0.1, c=colors['MBrwn'], alpha=0.5, linewidths=0.1, marker='s', label='kNN Pred')\n",
    "#axScatter.scatter(burn_rr, enr_rr, s=ycount*0.1, c=colors['MPurp'], alpha=0.5, linewidths=0.1, marker='s', label='Ridge Pred')\n",
    "#axScatter.scatter(burn_svr, enr_svr, s=ycount*0.1, c=colors['MTeal'], alpha=0.5, linewidths=0.1, marker='s', label='SVR Pred')\n",
    "#axScatter.legend()\n",
    "plt.xlabel('Burnup [GWd/MTU]', fontsize=16)\n",
    "plt.ylabel('Enrichment [%U235]', fontsize=16)\n",
    "# comment out to see the really bad predictions\n",
    "#plt.ylim(ymax=6)\n",
    "fig.savefig('test.png', bbox_inches='tight')\n",
    "plt.show()"
   ]
  },
  {
   "cell_type": "markdown",
   "metadata": {},
   "source": [
    "## Burnup v. Enrichment here"
   ]
  },
  {
   "cell_type": "code",
   "execution_count": 11,
   "metadata": {},
   "outputs": [],
   "source": [
    "x = dfY_b//1000.\n",
    "y = dfY_e\n",
    "#bin stuff\n",
    "xbin = 1.5\n",
    "ybin = 0.15\n",
    "xmax = np.max(np.abs(x))\n",
    "ymax = np.max(np.abs(y))\n",
    "xlim = (int(xmax/xbin) + 1)*xbin\n",
    "ylim = (int(ymax/ybin) + 1)*ybin\n",
    "xbins = np.arange(0, xlim + xbin, xbin)\n",
    "ybins = np.arange(0, ylim + ybin, ybin)\n",
    "xcount, xdivs = np.histogram(x, bins=xbins)\n",
    "ycount, ydivs = np.histogram(y, bins=ybins)"
   ]
  },
  {
   "cell_type": "code",
   "execution_count": null,
   "metadata": {},
   "outputs": [],
   "source": []
  },
  {
   "cell_type": "code",
   "execution_count": null,
   "metadata": {},
   "outputs": [],
   "source": []
  },
  {
   "cell_type": "markdown",
   "metadata": {},
   "source": [
    "## Correlate Features"
   ]
  },
  {
   "cell_type": "code",
   "execution_count": 14,
   "metadata": {
    "collapsed": true
   },
   "outputs": [],
   "source": [
    "cols_fissact = ['u235', 'u236', 'u238',\n",
    "                'pu239', 'pu240', 'pu241', 'pu242',\n",
    "               ]\n",
    "df_filtered = dfX[cols_fissact]\n",
    "\n",
    "corr = df_filtered.corr()\n",
    "#plt.matshow(corr)\n",
    "sns.heatmap(corr, \n",
    "            xticklabels=corr.columns.values,\n",
    "            yticklabels=corr.columns.values, \n",
    "            cmap=sns.diverging_palette(220, 10, as_cmap=True))"
   ]
  },
  {
   "cell_type": "code",
   "execution_count": null,
   "metadata": {},
   "outputs": [],
   "source": [
    "#other features\n",
    "\n",
    "other_cols = ['cs137', 'u234', 'sr90', 'u238', ]\n",
    "df_other = dfX[other_cols]\n",
    "\n",
    "other_corr = df_other.corr()\n",
    "sns.heatmap(other_corr, \n",
    "            xticklabels=other_corr.columns.values,\n",
    "            yticklabels=other_corr.columns.values, \n",
    "            cmap=sns.diverging_palette(220, 10, as_cmap=True))"
   ]
  },
  {
   "cell_type": "code",
   "execution_count": null,
   "metadata": {},
   "outputs": [],
   "source": [
    "sns.pairplot(df_other)"
   ]
  },
  {
   "cell_type": "code",
   "execution_count": 12,
   "metadata": {},
   "outputs": [
    {
     "ename": "NameError",
     "evalue": "name 'burn_knn' is not defined",
     "output_type": "error",
     "traceback": [
      "\u001b[0;31m---------------------------------------------------------------------------\u001b[0m",
      "\u001b[0;31mNameError\u001b[0m                                 Traceback (most recent call last)",
      "\u001b[0;32m<ipython-input-12-a27805b9e733>\u001b[0m in \u001b[0;36m<module>\u001b[0;34m()\u001b[0m\n\u001b[1;32m      3\u001b[0m \u001b[0maxScatter\u001b[0m\u001b[0;34m.\u001b[0m\u001b[0mscatter\u001b[0m\u001b[0;34m(\u001b[0m\u001b[0mx\u001b[0m\u001b[0;34m,\u001b[0m \u001b[0my\u001b[0m\u001b[0;34m,\u001b[0m \u001b[0ms\u001b[0m\u001b[0;34m=\u001b[0m\u001b[0mycount\u001b[0m\u001b[0;34m*\u001b[0m\u001b[0;36m0.1\u001b[0m\u001b[0;34m,\u001b[0m \u001b[0mc\u001b[0m\u001b[0;34m=\u001b[0m\u001b[0;34m'k'\u001b[0m\u001b[0;34m,\u001b[0m \u001b[0malpha\u001b[0m\u001b[0;34m=\u001b[0m\u001b[0;36m0.5\u001b[0m\u001b[0;34m,\u001b[0m \u001b[0mlinewidths\u001b[0m\u001b[0;34m=\u001b[0m\u001b[0;36m0.1\u001b[0m\u001b[0;34m,\u001b[0m \u001b[0mmarker\u001b[0m\u001b[0;34m=\u001b[0m\u001b[0;34m'o'\u001b[0m\u001b[0;34m,\u001b[0m \u001b[0mlabel\u001b[0m\u001b[0;34m=\u001b[0m\u001b[0;34m'Ground Truth'\u001b[0m\u001b[0;34m)\u001b[0m\u001b[0;34m\u001b[0m\u001b[0m\n\u001b[1;32m      4\u001b[0m \u001b[0;31m# commenting out diff algs; can do diff plots\u001b[0m\u001b[0;34m\u001b[0m\u001b[0;34m\u001b[0m\u001b[0m\n\u001b[0;32m----> 5\u001b[0;31m \u001b[0maxScatter\u001b[0m\u001b[0;34m.\u001b[0m\u001b[0mscatter\u001b[0m\u001b[0;34m(\u001b[0m\u001b[0mburn_knn\u001b[0m\u001b[0;34m,\u001b[0m \u001b[0menr_knn\u001b[0m\u001b[0;34m,\u001b[0m \u001b[0ms\u001b[0m\u001b[0;34m=\u001b[0m\u001b[0mycount\u001b[0m\u001b[0;34m*\u001b[0m\u001b[0;36m0.1\u001b[0m\u001b[0;34m,\u001b[0m \u001b[0mc\u001b[0m\u001b[0;34m=\u001b[0m\u001b[0mcolors\u001b[0m\u001b[0;34m[\u001b[0m\u001b[0;34m'MBrwn'\u001b[0m\u001b[0;34m]\u001b[0m\u001b[0;34m,\u001b[0m \u001b[0malpha\u001b[0m\u001b[0;34m=\u001b[0m\u001b[0;36m0.5\u001b[0m\u001b[0;34m,\u001b[0m \u001b[0mlinewidths\u001b[0m\u001b[0;34m=\u001b[0m\u001b[0;36m0.1\u001b[0m\u001b[0;34m,\u001b[0m \u001b[0mmarker\u001b[0m\u001b[0;34m=\u001b[0m\u001b[0;34m's'\u001b[0m\u001b[0;34m,\u001b[0m \u001b[0mlabel\u001b[0m\u001b[0;34m=\u001b[0m\u001b[0;34m'kNN Pred'\u001b[0m\u001b[0;34m)\u001b[0m\u001b[0;34m\u001b[0m\u001b[0m\n\u001b[0m\u001b[1;32m      6\u001b[0m \u001b[0;31m#axScatter.scatter(burn_rr, enr_rr, s=ycount*0.1, c=colors['MPurp'], alpha=0.5, linewidths=0.1, marker='s', label='Ridge Pred')\u001b[0m\u001b[0;34m\u001b[0m\u001b[0;34m\u001b[0m\u001b[0m\n\u001b[1;32m      7\u001b[0m \u001b[0;31m#axScatter.scatter(burn_svr, enr_svr, s=ycount*0.1, c=colors['MTeal'], alpha=0.5, linewidths=0.1, marker='s', label='SVR Pred')\u001b[0m\u001b[0;34m\u001b[0m\u001b[0;34m\u001b[0m\u001b[0m\n",
      "\u001b[0;31mNameError\u001b[0m: name 'burn_knn' is not defined"
     ]
    },
    {
     "data": {
      "image/png": "[encoded data removed]",
      "text/plain": [
       "<matplotlib.figure.Figure at 0x7f8c142cc198>"
      ]
     },
     "metadata": {},
     "output_type": "display_data"
    }
   ],
   "source": [
    "fig, axScatter = plt.subplots(figsize=(7, 7))\n",
    "#axScatter.scatter(x, y, s=ycount*0.1, c=colors['MTeal'], alpha=0.5, linewidths=0.1, marker='o', label='Ground Truth')\n",
    "axScatter.scatter(x, y, s=ycount*0.1, c='k', alpha=0.5, linewidths=0.1, marker='o', label='Ground Truth')\n",
    "# commenting out diff algs; can do diff plots\n",
    "axScatter.scatter(burn_knn, enr_knn, s=ycount*0.1, c=colors['MBrwn'], alpha=0.5, linewidths=0.1, marker='s', label='kNN Pred')\n",
    "#axScatter.scatter(burn_rr, enr_rr, s=ycount*0.1, c=colors['MPurp'], alpha=0.5, linewidths=0.1, marker='s', label='Ridge Pred')\n",
    "#axScatter.scatter(burn_svr, enr_svr, s=ycount*0.1, c=colors['MTeal'], alpha=0.5, linewidths=0.1, marker='s', label='SVR Pred')\n",
    "#axScatter.legend()\n",
    "plt.xlabel('Burnup [GWd/MTU]', fontsize=16)\n",
    "plt.ylabel('Enrichment [%U235]', fontsize=16)\n",
    "# comment out to see the really bad predictions\n",
    "#plt.ylim(ymax=6)\n",
    "fig.savefig('test.png', bbox_inches='tight')\n",
    "plt.show()"
   ]
  },
  {
   "cell_type": "code",
   "execution_count": 32,
   "metadata": {},
   "outputs": [
    {
     "ename": "NameError",
     "evalue": "name 'burn_svr' is not defined",
     "output_type": "error",
     "traceback": [
      "\u001b[0;31m---------------------------------------------------------------------------\u001b[0m",
      "\u001b[0;31mNameError\u001b[0m                                 Traceback (most recent call last)",
      "\u001b[0;32m<ipython-input-32-600abbfcc58e>\u001b[0m in \u001b[0;36m<module>\u001b[0;34m()\u001b[0m\n\u001b[1;32m      5\u001b[0m \u001b[0;31m#axScatter.scatter(burn_knn, enr_knn, c=colors['MBrwn'], s=10, linewidths=0.1, marker='s', label='kNN Pred')\u001b[0m\u001b[0;34m\u001b[0m\u001b[0;34m\u001b[0m\u001b[0m\n\u001b[1;32m      6\u001b[0m \u001b[0;31m#axScatter.scatter(burn_rr, enr_rr, c=colors['MPurp'], s=10, linewidths=0.1, marker='s', label='Ridge Pred')\u001b[0m\u001b[0;34m\u001b[0m\u001b[0;34m\u001b[0m\u001b[0m\n\u001b[0;32m----> 7\u001b[0;31m \u001b[0maxScatter\u001b[0m\u001b[0;34m.\u001b[0m\u001b[0mscatter\u001b[0m\u001b[0;34m(\u001b[0m\u001b[0mburn_svr\u001b[0m\u001b[0;34m,\u001b[0m \u001b[0menr_svr\u001b[0m\u001b[0;34m,\u001b[0m \u001b[0mc\u001b[0m\u001b[0;34m=\u001b[0m\u001b[0mcolors\u001b[0m\u001b[0;34m[\u001b[0m\u001b[0;34m'MTeal'\u001b[0m\u001b[0;34m]\u001b[0m\u001b[0;34m,\u001b[0m \u001b[0ms\u001b[0m\u001b[0;34m=\u001b[0m\u001b[0;36m10\u001b[0m\u001b[0;34m,\u001b[0m \u001b[0mlinewidths\u001b[0m\u001b[0;34m=\u001b[0m\u001b[0;36m0.1\u001b[0m\u001b[0;34m,\u001b[0m \u001b[0mmarker\u001b[0m\u001b[0;34m=\u001b[0m\u001b[0;34m's'\u001b[0m\u001b[0;34m,\u001b[0m \u001b[0mlabel\u001b[0m\u001b[0;34m=\u001b[0m\u001b[0;34m'SVR Pred'\u001b[0m\u001b[0;34m)\u001b[0m\u001b[0;34m\u001b[0m\u001b[0m\n\u001b[0m\u001b[1;32m      8\u001b[0m \u001b[0maxScatter\u001b[0m\u001b[0;34m.\u001b[0m\u001b[0mlegend\u001b[0m\u001b[0;34m(\u001b[0m\u001b[0;34m)\u001b[0m\u001b[0;34m\u001b[0m\u001b[0m\n\u001b[1;32m      9\u001b[0m \u001b[0mplt\u001b[0m\u001b[0;34m.\u001b[0m\u001b[0mxlabel\u001b[0m\u001b[0;34m(\u001b[0m\u001b[0;34m'Burnup [GWd/MTU]'\u001b[0m\u001b[0;34m,\u001b[0m \u001b[0mfontsize\u001b[0m\u001b[0;34m=\u001b[0m\u001b[0;36m16\u001b[0m\u001b[0;34m)\u001b[0m\u001b[0;34m\u001b[0m\u001b[0m\n",
      "\u001b[0;31mNameError\u001b[0m: name 'burn_svr' is not defined"
     ]
    },
    {
     "data": {
      "text/plain": [
       "<matplotlib.figure.Figure at 0x7f0391cdcb00>"
      ]
     },
     "metadata": {},
     "output_type": "display_data"
    },
    {
     "data": {
      "image/png": "[encoded data removed]",
      "text/plain": [
       "<matplotlib.figure.Figure at 0x7f038936fe80>"
      ]
     },
     "metadata": {},
     "output_type": "display_data"
    }
   ],
   "source": [
    "plt.clf()\n",
    "fig, axScatter = plt.subplots(figsize=(12,10))\n",
    "#fig.suptitle('test title', fontsize=20)\n",
    "axScatter.scatter(x, y, c='k', s=10, linewidths=0.1, marker='o', label='Ground Truth')\n",
    "#axScatter.scatter(burn_knn, enr_knn, c=colors['MBrwn'], s=10, linewidths=0.1, marker='s', label='kNN Pred')\n",
    "#axScatter.scatter(burn_rr, enr_rr, c=colors['MPurp'], s=10, linewidths=0.1, marker='s', label='Ridge Pred')\n",
    "axScatter.scatter(burn_svr, enr_svr, c=colors['MTeal'], s=10, linewidths=0.1, marker='s', label='SVR Pred')\n",
    "axScatter.legend()\n",
    "plt.xlabel('Burnup [GWd/MTU]', fontsize=16)\n",
    "plt.ylabel('Enrichment [%U235]', fontsize=16)\n",
    "divider = make_axes_locatable(axScatter)\n",
    "axHistx = divider.append_axes(\"top\", 1, pad=0.2, sharex=axScatter)\n",
    "axHisty = divider.append_axes(\"right\", 1.75, pad=0.2, sharey=axScatter)\n",
    "axHistx.hist(x, bins=xbins, color='0.5')\n",
    "axHisty.hist(y, bins=ybins, orientation='horizontal', color='0.5')\n",
    "plt.setp(axHistx.get_xticklabels(), visible=False)\n",
    "plt.setp(axHisty.get_yticklabels(), visible=False)\n",
    "axHistx.set_yticks([0, 250, 500])\n",
    "axHisty.set_xticks([0, 1000, 2000])\n",
    "# comment out to see the really bad predictions\n",
    "#plt.ylim(ymax=6)\n",
    "plt.show()"
   ]
  },
  {
   "cell_type": "code",
   "execution_count": null,
   "metadata": {},
   "outputs": [],
   "source": [
    "burn = pd.read_csv('results/28march2018/sfcompo_fissact_burnup_predictions.csv').rename(columns = {'Unnamed: 0':'Instance'})\n",
    "cool = pd.read_csv('results/28march2018/sfcompo_fissact_cooling_predictions.csv').rename(columns = {'Unnamed: 0':'Instance'})\n",
    "enri = pd.read_csv('results/28march2018/sfcompo_fissact_enrichment_predictions.csv').rename(columns = {'Unnamed: 0':'Instance'})\n",
    "rxtr = pd.read_csv('results/28march2018/sfcompo_fissact_reactor_predictions.csv').rename(columns = {'Unnamed: 0':'Instance'})\n",
    "burn = burn.loc[:, ['SVR', 'TrueY', 'kNN', 'Ridge']]//1000\n",
    "cool = cool.loc[:, ['SVR', 'TrueY', 'kNN', 'Ridge']]//30\n",
    "burn['Parameter'] = 'Burnup [GWd/MTU]'\n",
    "enri['Parameter'] = 'Enrichment [% U235]'\n",
    "cool['Parameter'] = 'Cooling Time [Months]'\n",
    "rxtr['Parameter'] = 'Reactor Type'"
   ]
  }
 ],
 "metadata": {
  "kernelspec": {
   "display_name": "Python 3",
   "language": "python",
   "name": "python3"
  },
  "language_info": {
   "codemirror_mode": {
    "name": "ipython",
    "version": 3
   },
   "file_extension": ".py",
   "mimetype": "text/x-python",
   "name": "python",
   "nbconvert_exporter": "python",
   "pygments_lexer": "ipython3",
   "version": "3.5.2"
  }
 },
 "nbformat": 4,
 "nbformat_minor": 1
}
