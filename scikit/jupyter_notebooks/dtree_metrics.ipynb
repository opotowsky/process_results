{
 "cells": [
  {
   "cell_type": "code",
   "execution_count": 1,
   "metadata": {},
   "outputs": [],
   "source": [
    "from sklearn.preprocessing import scale\n",
    "from sklearn.tree import DecisionTreeRegressor, DecisionTreeClassifier\n",
    "from sklearn.model_selection import KFold, StratifiedKFold\n",
    "\n",
    "import pandas as pd\n",
    "import numpy as np"
   ]
  },
  {
   "cell_type": "code",
   "execution_count": 2,
   "metadata": {},
   "outputs": [],
   "source": [
    "from learn.tools import splitXY, random_error"
   ]
  },
  {
   "cell_type": "code",
   "execution_count": 13,
   "metadata": {},
   "outputs": [],
   "source": [
    "train = '~/sims_n_results/final_sims_nov2020/not-scaled_nuc29.pkl'\n",
    "trainXY = pd.read_pickle(train)\n",
    "trainXY.reset_index(inplace=True, drop=True)\n",
    "trainXY = trainXY.sample(frac=0.1)\n",
    "trainX_unscaled, rY, cY, eY, bY = splitXY(trainXY)"
   ]
  },
  {
   "cell_type": "markdown",
   "metadata": {},
   "source": [
    "# Reactor"
   ]
  },
  {
   "cell_type": "code",
   "execution_count": 14,
   "metadata": {},
   "outputs": [],
   "source": [
    "trainY = rY\n",
    "alg = 'dtree'\n",
    "depth = 70\n",
    "feats = 17\n",
    "CV = 3\n",
    "kfold = StratifiedKFold(n_splits=CV, shuffle=True)\n",
    "scores = 'accuracy'\n",
    "rxtr_param = 'reactor'"
   ]
  },
  {
   "cell_type": "markdown",
   "metadata": {},
   "source": [
    "## criterion, gini vs entropy"
   ]
  },
  {
   "cell_type": "code",
   "execution_count": 15,
   "metadata": {},
   "outputs": [
    {
     "data": {
      "text/html": [
       "<div>\n",
       "<style scoped>\n",
       "    .dataframe tbody tr th:only-of-type {\n",
       "        vertical-align: middle;\n",
       "    }\n",
       "\n",
       "    .dataframe tbody tr th {\n",
       "        vertical-align: top;\n",
       "    }\n",
       "\n",
       "    .dataframe thead th {\n",
       "        text-align: right;\n",
       "    }\n",
       "</style>\n",
       "<table border=\"1\" class=\"dataframe\">\n",
       "  <thead>\n",
       "    <tr style=\"text-align: right;\">\n",
       "      <th></th>\n",
       "      <th>Unnamed: 0</th>\n",
       "      <th>Percent Error</th>\n",
       "      <th>DTree Acc</th>\n",
       "      <th>DTree Acc Std</th>\n",
       "    </tr>\n",
       "  </thead>\n",
       "  <tbody>\n",
       "    <tr>\n",
       "      <th>0</th>\n",
       "      <td>0</td>\n",
       "      <td>0</td>\n",
       "      <td>0.987463</td>\n",
       "      <td>0.000404</td>\n",
       "    </tr>\n",
       "    <tr>\n",
       "      <th>1</th>\n",
       "      <td>1</td>\n",
       "      <td>5</td>\n",
       "      <td>0.946012</td>\n",
       "      <td>0.002677</td>\n",
       "    </tr>\n",
       "    <tr>\n",
       "      <th>2</th>\n",
       "      <td>2</td>\n",
       "      <td>10</td>\n",
       "      <td>0.914583</td>\n",
       "      <td>0.000897</td>\n",
       "    </tr>\n",
       "    <tr>\n",
       "      <th>3</th>\n",
       "      <td>3</td>\n",
       "      <td>20</td>\n",
       "      <td>0.860936</td>\n",
       "      <td>0.002838</td>\n",
       "    </tr>\n",
       "  </tbody>\n",
       "</table>\n",
       "</div>"
      ],
      "text/plain": [
       "   Unnamed: 0  Percent Error  DTree Acc  DTree Acc Std\n",
       "0           0              0   0.987463       0.000404\n",
       "1           1              5   0.946012       0.002677\n",
       "2           2             10   0.914583       0.000897\n",
       "3           3             20   0.860936       0.002838"
      ]
     },
     "execution_count": 15,
     "metadata": {},
     "output_type": "execute_result"
    }
   ],
   "source": [
    "init = DecisionTreeClassifier(criterion='gini', max_depth=depth, max_features=feats, class_weight='balanced')\n",
    "csv_name = 'gini'\n",
    "random_error(trainX_unscaled, trainY, alg, init, kfold, scores, csv_name, rxtr_param)\n",
    "gini = pd.read_csv(csv_name + '_random_error.csv')\n",
    "gini"
   ]
  },
  {
   "cell_type": "code",
   "execution_count": 16,
   "metadata": {},
   "outputs": [
    {
     "data": {
      "text/html": [
       "<div>\n",
       "<style scoped>\n",
       "    .dataframe tbody tr th:only-of-type {\n",
       "        vertical-align: middle;\n",
       "    }\n",
       "\n",
       "    .dataframe tbody tr th {\n",
       "        vertical-align: top;\n",
       "    }\n",
       "\n",
       "    .dataframe thead th {\n",
       "        text-align: right;\n",
       "    }\n",
       "</style>\n",
       "<table border=\"1\" class=\"dataframe\">\n",
       "  <thead>\n",
       "    <tr style=\"text-align: right;\">\n",
       "      <th></th>\n",
       "      <th>Unnamed: 0</th>\n",
       "      <th>Percent Error</th>\n",
       "      <th>DTree Acc</th>\n",
       "      <th>DTree Acc Std</th>\n",
       "    </tr>\n",
       "  </thead>\n",
       "  <tbody>\n",
       "    <tr>\n",
       "      <th>0</th>\n",
       "      <td>0</td>\n",
       "      <td>0</td>\n",
       "      <td>0.988578</td>\n",
       "      <td>0.001344</td>\n",
       "    </tr>\n",
       "    <tr>\n",
       "      <th>1</th>\n",
       "      <td>1</td>\n",
       "      <td>5</td>\n",
       "      <td>0.949888</td>\n",
       "      <td>0.000324</td>\n",
       "    </tr>\n",
       "    <tr>\n",
       "      <th>2</th>\n",
       "      <td>2</td>\n",
       "      <td>10</td>\n",
       "      <td>0.918214</td>\n",
       "      <td>0.002615</td>\n",
       "    </tr>\n",
       "    <tr>\n",
       "      <th>3</th>\n",
       "      <td>3</td>\n",
       "      <td>20</td>\n",
       "      <td>0.868878</td>\n",
       "      <td>0.002360</td>\n",
       "    </tr>\n",
       "  </tbody>\n",
       "</table>\n",
       "</div>"
      ],
      "text/plain": [
       "   Unnamed: 0  Percent Error  DTree Acc  DTree Acc Std\n",
       "0           0              0   0.988578       0.001344\n",
       "1           1              5   0.949888       0.000324\n",
       "2           2             10   0.918214       0.002615\n",
       "3           3             20   0.868878       0.002360"
      ]
     },
     "execution_count": 16,
     "metadata": {},
     "output_type": "execute_result"
    }
   ],
   "source": [
    "init = DecisionTreeClassifier(criterion='entropy', max_depth=depth, max_features=feats, class_weight='balanced')\n",
    "csv_name = 'entropy'\n",
    "random_error(trainX_unscaled, trainY, alg, init, kfold, scores, csv_name, rxtr_param)\n",
    "entr = pd.read_csv(csv_name + '_random_error.csv')\n",
    "entr"
   ]
  },
  {
   "cell_type": "markdown",
   "metadata": {},
   "source": [
    "# Burnup"
   ]
  },
  {
   "cell_type": "code",
   "execution_count": 17,
   "metadata": {},
   "outputs": [],
   "source": [
    "trainX = scale(trainX_unscaled)\n",
    "trainY = bY\n",
    "depth = 50\n",
    "feats = 29\n",
    "alg = 'dtree'\n",
    "CV = 3\n",
    "kfold = KFold(n_splits=CV, shuffle=True)\n",
    "scores = ['explained_variance', 'neg_mean_absolute_error', 'neg_root_mean_squared_error']\n",
    "rxtr_param = 'burnup'"
   ]
  },
  {
   "cell_type": "code",
   "execution_count": 18,
   "metadata": {},
   "outputs": [
    {
     "data": {
      "text/html": [
       "<div>\n",
       "<style scoped>\n",
       "    .dataframe tbody tr th:only-of-type {\n",
       "        vertical-align: middle;\n",
       "    }\n",
       "\n",
       "    .dataframe tbody tr th {\n",
       "        vertical-align: top;\n",
       "    }\n",
       "\n",
       "    .dataframe thead th {\n",
       "        text-align: right;\n",
       "    }\n",
       "</style>\n",
       "<table border=\"1\" class=\"dataframe\">\n",
       "  <thead>\n",
       "    <tr style=\"text-align: right;\">\n",
       "      <th></th>\n",
       "      <th>Unnamed: 0</th>\n",
       "      <th>Percent Error</th>\n",
       "      <th>DTree ExpVar</th>\n",
       "      <th>DTree ExpVar Std</th>\n",
       "      <th>DTree MAE</th>\n",
       "      <th>DTree MAE Std</th>\n",
       "      <th>DTree RMSE</th>\n",
       "      <th>DTree RMSE Std</th>\n",
       "    </tr>\n",
       "  </thead>\n",
       "  <tbody>\n",
       "    <tr>\n",
       "      <th>0</th>\n",
       "      <td>0</td>\n",
       "      <td>0</td>\n",
       "      <td>0.999999</td>\n",
       "      <td>2.518403e-07</td>\n",
       "      <td>-1.898543</td>\n",
       "      <td>0.141211</td>\n",
       "      <td>-24.295826</td>\n",
       "      <td>2.130421</td>\n",
       "    </tr>\n",
       "    <tr>\n",
       "      <th>1</th>\n",
       "      <td>1</td>\n",
       "      <td>5</td>\n",
       "      <td>0.998963</td>\n",
       "      <td>2.112923e-05</td>\n",
       "      <td>-327.742951</td>\n",
       "      <td>3.378615</td>\n",
       "      <td>-653.466319</td>\n",
       "      <td>5.770819</td>\n",
       "    </tr>\n",
       "    <tr>\n",
       "      <th>2</th>\n",
       "      <td>2</td>\n",
       "      <td>10</td>\n",
       "      <td>0.996912</td>\n",
       "      <td>1.227369e-05</td>\n",
       "      <td>-624.007686</td>\n",
       "      <td>1.528608</td>\n",
       "      <td>-1127.829317</td>\n",
       "      <td>2.239703</td>\n",
       "    </tr>\n",
       "    <tr>\n",
       "      <th>3</th>\n",
       "      <td>3</td>\n",
       "      <td>20</td>\n",
       "      <td>0.990668</td>\n",
       "      <td>5.117750e-05</td>\n",
       "      <td>-1149.519750</td>\n",
       "      <td>8.285530</td>\n",
       "      <td>-1960.657804</td>\n",
       "      <td>9.122867</td>\n",
       "    </tr>\n",
       "  </tbody>\n",
       "</table>\n",
       "</div>"
      ],
      "text/plain": [
       "   Unnamed: 0  Percent Error  DTree ExpVar  DTree ExpVar Std    DTree MAE  \\\n",
       "0           0              0      0.999999      2.518403e-07    -1.898543   \n",
       "1           1              5      0.998963      2.112923e-05  -327.742951   \n",
       "2           2             10      0.996912      1.227369e-05  -624.007686   \n",
       "3           3             20      0.990668      5.117750e-05 -1149.519750   \n",
       "\n",
       "   DTree MAE Std   DTree RMSE  DTree RMSE Std  \n",
       "0       0.141211   -24.295826        2.130421  \n",
       "1       3.378615  -653.466319        5.770819  \n",
       "2       1.528608 -1127.829317        2.239703  \n",
       "3       8.285530 -1960.657804        9.122867  "
      ]
     },
     "execution_count": 18,
     "metadata": {},
     "output_type": "execute_result"
    }
   ],
   "source": [
    "init = DecisionTreeRegressor(criterion='mse', max_depth=depth, max_features=feats)\n",
    "csv_name = 'mse'\n",
    "random_error(trainX_unscaled, trainY, alg, init, kfold, scores, csv_name, rxtr_param)\n",
    "mse = pd.read_csv(csv_name + '_random_error.csv')\n",
    "mse"
   ]
  },
  {
   "cell_type": "code",
   "execution_count": 19,
   "metadata": {},
   "outputs": [
    {
     "data": {
      "text/html": [
       "<div>\n",
       "<style scoped>\n",
       "    .dataframe tbody tr th:only-of-type {\n",
       "        vertical-align: middle;\n",
       "    }\n",
       "\n",
       "    .dataframe tbody tr th {\n",
       "        vertical-align: top;\n",
       "    }\n",
       "\n",
       "    .dataframe thead th {\n",
       "        text-align: right;\n",
       "    }\n",
       "</style>\n",
       "<table border=\"1\" class=\"dataframe\">\n",
       "  <thead>\n",
       "    <tr style=\"text-align: right;\">\n",
       "      <th></th>\n",
       "      <th>Unnamed: 0</th>\n",
       "      <th>Percent Error</th>\n",
       "      <th>DTree ExpVar</th>\n",
       "      <th>DTree ExpVar Std</th>\n",
       "      <th>DTree MAE</th>\n",
       "      <th>DTree MAE Std</th>\n",
       "      <th>DTree RMSE</th>\n",
       "      <th>DTree RMSE Std</th>\n",
       "    </tr>\n",
       "  </thead>\n",
       "  <tbody>\n",
       "    <tr>\n",
       "      <th>0</th>\n",
       "      <td>0</td>\n",
       "      <td>0</td>\n",
       "      <td>0.999996</td>\n",
       "      <td>9.820849e-07</td>\n",
       "      <td>-4.257322</td>\n",
       "      <td>0.347336</td>\n",
       "      <td>-39.134808</td>\n",
       "      <td>5.142841</td>\n",
       "    </tr>\n",
       "    <tr>\n",
       "      <th>1</th>\n",
       "      <td>1</td>\n",
       "      <td>5</td>\n",
       "      <td>0.998841</td>\n",
       "      <td>7.032867e-06</td>\n",
       "      <td>-346.795912</td>\n",
       "      <td>2.272825</td>\n",
       "      <td>-690.936677</td>\n",
       "      <td>3.880037</td>\n",
       "    </tr>\n",
       "    <tr>\n",
       "      <th>2</th>\n",
       "      <td>2</td>\n",
       "      <td>10</td>\n",
       "      <td>0.996588</td>\n",
       "      <td>1.230621e-04</td>\n",
       "      <td>-649.347352</td>\n",
       "      <td>9.129097</td>\n",
       "      <td>-1185.314483</td>\n",
       "      <td>17.543585</td>\n",
       "    </tr>\n",
       "    <tr>\n",
       "      <th>3</th>\n",
       "      <td>3</td>\n",
       "      <td>20</td>\n",
       "      <td>0.990384</td>\n",
       "      <td>1.067820e-04</td>\n",
       "      <td>-1146.582570</td>\n",
       "      <td>8.408048</td>\n",
       "      <td>-1990.242144</td>\n",
       "      <td>9.460859</td>\n",
       "    </tr>\n",
       "  </tbody>\n",
       "</table>\n",
       "</div>"
      ],
      "text/plain": [
       "   Unnamed: 0  Percent Error  DTree ExpVar  DTree ExpVar Std    DTree MAE  \\\n",
       "0           0              0      0.999996      9.820849e-07    -4.257322   \n",
       "1           1              5      0.998841      7.032867e-06  -346.795912   \n",
       "2           2             10      0.996588      1.230621e-04  -649.347352   \n",
       "3           3             20      0.990384      1.067820e-04 -1146.582570   \n",
       "\n",
       "   DTree MAE Std   DTree RMSE  DTree RMSE Std  \n",
       "0       0.347336   -39.134808        5.142841  \n",
       "1       2.272825  -690.936677        3.880037  \n",
       "2       9.129097 -1185.314483       17.543585  \n",
       "3       8.408048 -1990.242144        9.460859  "
      ]
     },
     "execution_count": 19,
     "metadata": {},
     "output_type": "execute_result"
    }
   ],
   "source": [
    "init = DecisionTreeRegressor(criterion='mae', max_depth=depth, max_features=feats)\n",
    "csv_name = 'mae'\n",
    "random_error(trainX_unscaled, trainY, alg, init, kfold, scores, csv_name, rxtr_param)\n",
    "mae = pd.read_csv(csv_name + '_random_error.csv')\n",
    "mae"
   ]
  },
  {
   "cell_type": "code",
   "execution_count": null,
   "metadata": {},
   "outputs": [],
   "source": []
  }
 ],
 "metadata": {
  "kernelspec": {
   "display_name": "Python 3",
   "language": "python",
   "name": "python3"
  },
  "language_info": {
   "codemirror_mode": {
    "name": "ipython",
    "version": 3
   },
   "file_extension": ".py",
   "mimetype": "text/x-python",
   "name": "python",
   "nbconvert_exporter": "python",
   "pygments_lexer": "ipython3",
   "version": "3.6.9"
  }
 },
 "nbformat": 4,
 "nbformat_minor": 4
}
