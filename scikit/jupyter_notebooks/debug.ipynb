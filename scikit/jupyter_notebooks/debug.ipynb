{
 "cells": [
  {
   "cell_type": "code",
   "execution_count": 4,
   "metadata": {},
   "outputs": [],
   "source": [
    "from sklearn.preprocessing import scale, StandardScaler\n",
    "from sklearn.model_selection import learning_curve, cross_val_score, RandomizedSearchCV\n",
    "from sklearn.tree import DecisionTreeClassifier, DecisionTreeRegressor\n",
    "import pandas as pd\n",
    "import numpy as np\n",
    "import matplotlib.pyplot as plt\n",
    "%matplotlib inline"
   ]
  },
  {
   "cell_type": "code",
   "execution_count": 2,
   "metadata": {},
   "outputs": [],
   "source": [
    "def splitXY(dfXY):\n",
    "    lbls = ['ReactorType', 'CoolingTime', 'Enrichment', 'Burnup', 'OrigenReactor']\n",
    "    dfX = dfXY.drop(lbls, axis=1)\n",
    "    if 'total' in dfX.columns:\n",
    "        dfX.drop('total', axis=1, inplace=True)\n",
    "        r_dfY = dfXY.loc[:, lbls[0]]\n",
    "        c_dfY = dfXY.loc[:, lbls[1]]\n",
    "        e_dfY = dfXY.loc[:, lbls[2]]\n",
    "        b_dfY = dfXY.loc[:, lbls[3]]\n",
    "    return dfX, r_dfY, c_dfY, e_dfY, b_dfY"
   ]
  },
  {
   "cell_type": "code",
   "execution_count": 5,
   "metadata": {},
   "outputs": [],
   "source": [
    "#trainset1 = '../2jul2018_testset1_nucs_fissact_not-scaled.pkl'\n",
    "trainset2 = '../../prep-pkls/nucmoles_opusupdate_aug2019/not-scaled_15nuc.pkl'\n",
    "#trainXY1 = pd.read_pickle(trainset1)\n",
    "trainXY2 = pd.read_pickle(trainset2)\n",
    "#trainX1, rY1, cY1, eY1, bY1 = splitXY(trainXY1)\n",
    "trainX2, rY2, cY2, eY2, bY2 = splitXY(trainXY2)\n",
    "#trainX2 = scale(trainX2)"
   ]
  },
  {
   "cell_type": "code",
   "execution_count": 6,
   "metadata": {},
   "outputs": [
    {
     "data": {
      "text/plain": [
       "(24795, 15)"
      ]
     },
     "execution_count": 6,
     "metadata": {},
     "output_type": "execute_result"
    }
   ],
   "source": [
    "trainX2.shape"
   ]
  },
  {
   "cell_type": "code",
   "execution_count": 103,
   "metadata": {},
   "outputs": [],
   "source": [
    "scale = StandardScaler()\n",
    "trainX2 = scale.fit(trainX2).transform(trainX2)"
   ]
  },
  {
   "cell_type": "code",
   "execution_count": 105,
   "metadata": {},
   "outputs": [
    {
     "data": {
      "text/plain": [
       "array([2.63548254e+01, 2.35684218e+01, 1.74328134e+01, 2.33104703e-02,\n",
       "       1.61377473e+01, 3.17953674e+00, 2.18675029e+01, 2.17230695e+01,\n",
       "       2.74492883e+01, 1.43147133e+01, 1.91236962e+01, 2.17747337e+01,\n",
       "       3.36732771e+00, 3.39631319e+01, 4.45917518e+00, 8.41317218e+00,\n",
       "       1.30225624e+00, 8.00794822e+00, 7.74330483e+00, 1.71423208e+01,\n",
       "       2.42754193e+01, 2.81820116e+00, 8.30324147e+00, 7.62703235e+00,\n",
       "       1.73215465e-02, 3.79634264e+00, 1.81340046e+01, 2.48414299e+01,\n",
       "       1.53720251e+01, 2.75476186e+00, 5.49902594e+00, 1.50522722e+01,\n",
       "       7.46735552e-02, 1.03467662e+03, 1.73385095e+01, 4.49457824e+03,\n",
       "       2.25351895e-02, 3.08400280e+01, 3.92240512e+01, 9.47995819e+01,\n",
       "       4.84879969e+00, 8.45089517e+00, 1.03724634e+01, 1.31147087e+01,\n",
       "       1.60573928e+01, 1.86354280e+01])"
      ]
     },
     "execution_count": 105,
     "metadata": {},
     "output_type": "execute_result"
    }
   ],
   "source": [
    "scale.mean_\n",
    "scale.var_"
   ]
  },
  {
   "cell_type": "code",
   "execution_count": 97,
   "metadata": {},
   "outputs": [
    {
     "name": "stdout",
     "output_type": "stream",
     "text": [
      "(1966, 47)\n",
      "(10287, 52)\n"
     ]
    }
   ],
   "source": [
    "print(trainXY1.shape)\n",
    "print(trainXY2.shape)"
   ]
  },
  {
   "cell_type": "code",
   "execution_count": 106,
   "metadata": {},
   "outputs": [
    {
     "data": {
      "text/plain": [
       "array([[-1.74036092, -1.71718002, -1.77359636, ..., -1.89849363,\n",
       "        -1.84512213, -1.80261662],\n",
       "       [-1.56368506, -1.57616296, -1.58639853, ..., -1.66930199,\n",
       "        -1.63205393, -1.60578452],\n",
       "       [-1.56360715, -1.56543117, -1.58620692, ..., -1.66792132,\n",
       "        -1.63202897, -1.60578452],\n",
       "       ...,\n",
       "       [-1.12111885, -1.08995692, -1.11806864, ..., -1.09936038,\n",
       "        -1.10295203, -1.11878895],\n",
       "       [-1.12111885, -1.08542526, -1.11806864, ..., -1.09936038,\n",
       "        -1.10295203, -1.11878895],\n",
       "       [-1.12111885, -1.08542526, -1.11806864, ..., -1.09936038,\n",
       "        -1.10295203, -1.11878895]])"
      ]
     },
     "execution_count": 106,
     "metadata": {},
     "output_type": "execute_result"
    }
   ],
   "source": [
    "trainX2\n",
    "#pd.DataFrame(trainX2)"
   ]
  },
  {
   "cell_type": "code",
   "execution_count": 29,
   "metadata": {},
   "outputs": [
    {
     "data": {
      "text/plain": [
       "['cs135', 'pd104', 'pd105', 'pd106', 'pu242']"
      ]
     },
     "execution_count": 29,
     "metadata": {},
     "output_type": "execute_result"
    }
   ],
   "source": [
    "extra = []\n",
    "for i in trainX2:\n",
    "    if i not in trainX1:\n",
    "        extra.append(i)\n",
    "extra"
   ]
  },
  {
   "cell_type": "code",
   "execution_count": 107,
   "metadata": {},
   "outputs": [
    {
     "data": {
      "text/plain": [
       "DecisionTreeRegressor(criterion='mse', max_depth=None, max_features=None,\n",
       "           max_leaf_nodes=None, min_impurity_decrease=0.0,\n",
       "           min_impurity_split=None, min_samples_leaf=1,\n",
       "           min_samples_split=2, min_weight_fraction_leaf=0.0,\n",
       "           presort=False, random_state=None, splitter='best')"
      ]
     },
     "execution_count": 107,
     "metadata": {},
     "output_type": "execute_result"
    }
   ],
   "source": [
    "dtr = DecisionTreeRegressor()\n",
    "dtr"
   ]
  },
  {
   "cell_type": "code",
   "execution_count": 108,
   "metadata": {},
   "outputs": [],
   "source": [
    "\n",
    "dtr.fit(trainX2, cY2)\n",
    "cv_scr = cross_val_score(dtr, trainX2, cY2, cv=5)"
   ]
  },
  {
   "cell_type": "code",
   "execution_count": 109,
   "metadata": {},
   "outputs": [
    {
     "name": "stdout",
     "output_type": "stream",
     "text": [
      "[0.97674601 0.97326819 0.74433583 0.96823127 0.72539757]\n"
     ]
    }
   ],
   "source": [
    "scr = cv_scr\n",
    "fi = dtr.feature_importances_\n",
    "print(scr)"
   ]
  },
  {
   "cell_type": "code",
   "execution_count": 110,
   "metadata": {},
   "outputs": [
    {
     "ename": "AttributeError",
     "evalue": "'numpy.ndarray' object has no attribute 'columns'",
     "output_type": "error",
     "traceback": [
      "\u001b[0;31m---------------------------------------------------------------------------\u001b[0m",
      "\u001b[0;31mAttributeError\u001b[0m                            Traceback (most recent call last)",
      "\u001b[0;32m<ipython-input-110-8864b98c1a27>\u001b[0m in \u001b[0;36m<module>\u001b[0;34m()\u001b[0m\n\u001b[0;32m----> 1\u001b[0;31m \u001b[0mfeatures\u001b[0m  \u001b[0;34m=\u001b[0m \u001b[0mlist\u001b[0m\u001b[0;34m(\u001b[0m\u001b[0mzip\u001b[0m\u001b[0;34m(\u001b[0m\u001b[0mtrainX2\u001b[0m\u001b[0;34m.\u001b[0m\u001b[0mcolumns\u001b[0m\u001b[0;34m,\u001b[0m \u001b[0mfi\u001b[0m\u001b[0;34m)\u001b[0m\u001b[0;34m)\u001b[0m\u001b[0;34m\u001b[0m\u001b[0m\n\u001b[0m\u001b[1;32m      2\u001b[0m \u001b[0mfeatures\u001b[0m\u001b[0;34m.\u001b[0m\u001b[0msort\u001b[0m\u001b[0;34m(\u001b[0m\u001b[0mkey\u001b[0m\u001b[0;34m=\u001b[0m\u001b[0;32mlambda\u001b[0m \u001b[0mx\u001b[0m\u001b[0;34m:\u001b[0m \u001b[0mx\u001b[0m\u001b[0;34m[\u001b[0m\u001b[0;36m1\u001b[0m\u001b[0;34m]\u001b[0m\u001b[0;34m)\u001b[0m\u001b[0;34m\u001b[0m\u001b[0m\n\u001b[1;32m      3\u001b[0m \u001b[0;31m#features\u001b[0m\u001b[0;34m\u001b[0m\u001b[0;34m\u001b[0m\u001b[0m\n",
      "\u001b[0;31mAttributeError\u001b[0m: 'numpy.ndarray' object has no attribute 'columns'"
     ]
    }
   ],
   "source": [
    "features  = list(zip(trainX2.columns, fi))\n",
    "features.sort(key=lambda x: x[1])\n",
    "#features"
   ]
  },
  {
   "cell_type": "code",
   "execution_count": 123,
   "metadata": {},
   "outputs": [
    {
     "data": {
      "text/plain": [
       "84"
      ]
     },
     "execution_count": 123,
     "metadata": {},
     "output_type": "execute_result"
    }
   ],
   "source": [
    "dtr.tree_.max_depth"
   ]
  },
  {
   "cell_type": "code",
   "execution_count": 112,
   "metadata": {},
   "outputs": [],
   "source": [
    "trainset_frac = np.array( [0.1, 0.2, 0.3, 0.4, 0.5, 0.55, 0.6, 0.65, 0.7, 0.75, 0.8, 0.85, 0.9, 0.95, 1.0] )\n",
    "tsize, train, cv = learning_curve(dtr, trainX2, cY2, train_sizes=trainset_frac, cv=8, shuffle=True)"
   ]
  },
  {
   "cell_type": "code",
   "execution_count": 113,
   "metadata": {},
   "outputs": [],
   "source": [
    "train_mean = np.mean(train, axis=1)\n",
    "cv_mean = np.mean(cv, axis=1)"
   ]
  },
  {
   "cell_type": "code",
   "execution_count": 114,
   "metadata": {},
   "outputs": [
    {
     "data": {
      "text/plain": [
       "<matplotlib.axes._subplots.AxesSubplot at 0x7f1e7a5eea20>"
      ]
     },
     "execution_count": 114,
     "metadata": {},
     "output_type": "execute_result"
    },
    {
     "data": {
      "text/plain": [
       "<matplotlib.figure.Figure at 0x7f1e7a76fa20>"
      ]
     },
     "metadata": {},
     "output_type": "display_data"
    },
    {
     "data": {
      "image/png": "[encoded data removed]",
      "text/plain": [
       "<matplotlib.figure.Figure at 0x7f1e7a870400>"
      ]
     },
     "metadata": {},
     "output_type": "display_data"
    }
   ],
   "source": [
    "lc = pd.DataFrame({'Training Score' : train_mean, 'CrossVal Score' : cv_mean}, index=trainset_frac)\n",
    "plt.figure()\n",
    "lc.plot(linewidth=3)"
   ]
  },
  {
   "cell_type": "code",
   "execution_count": 125,
   "metadata": {},
   "outputs": [],
   "source": [
    "dtr_grid = {\"max_depth\": np.linspace(3, 90).astype(int), \"max_features\": np.linspace(5, len(trainXY2.columns)-6).astype(int)}"
   ]
  },
  {
   "cell_type": "code",
   "execution_count": 126,
   "metadata": {},
   "outputs": [
    {
     "name": "stdout",
     "output_type": "stream",
     "text": [
      "74 38\n"
     ]
    }
   ],
   "source": [
    "alg1_opt = RandomizedSearchCV(estimator=dtr, param_distributions=dtr_grid, n_iter=20, scoring='explained_variance', n_jobs=-1, cv=5, return_train_score=True)\n",
    "alg1_opt.fit(trainX2, cY2)\n",
    "d1 = alg1_opt.best_params_['max_depth']\n",
    "f1 = alg1_opt.best_params_['max_features']\n",
    "print(d1, f1)"
   ]
  },
  {
   "cell_type": "code",
   "execution_count": 131,
   "metadata": {},
   "outputs": [
    {
     "data": {
      "text/plain": [
       "array([9.62243477e-04, 1.66076484e-05, 2.70083386e-04, 1.02640550e-02,\n",
       "       1.22107888e-02, 2.68016187e-02, 6.20004963e-02, 1.42686910e-05,\n",
       "       2.90246661e-17, 7.57370579e-03, 3.40558983e-07, 3.47471718e-04,\n",
       "       1.94358600e-03, 1.32205256e-01, 4.27789560e-05, 1.63423691e-06,\n",
       "       2.91288676e-17, 1.61573503e-06, 3.08676025e-01, 2.67337883e-05,\n",
       "       2.99067837e-03, 1.69369550e-02, 5.15618903e-02, 3.57188082e-03,\n",
       "       0.00000000e+00, 1.67771670e-02, 2.58979453e-08, 3.76851142e-03,\n",
       "       1.94086419e-02, 4.58587036e-09, 3.01923205e-01, 1.66818170e-07,\n",
       "       1.27333089e-03, 1.34210409e-03, 1.96102184e-05, 3.71351910e-08,\n",
       "       3.47952767e-07, 2.17747592e-06, 6.23564367e-09, 8.89687981e-05,\n",
       "       6.08840642e-05, 4.38084138e-07, 1.37576104e-08, 2.51284154e-04,\n",
       "       6.11449356e-09, 1.66623547e-02])"
      ]
     },
     "execution_count": 131,
     "metadata": {},
     "output_type": "execute_result"
    }
   ],
   "source": [
    "dtr.feature_importances_"
   ]
  },
  {
   "cell_type": "code",
   "execution_count": 26,
   "metadata": {},
   "outputs": [],
   "source": [
    "alg1_init = alg1_opt.best_estimator_"
   ]
  },
  {
   "cell_type": "code",
   "execution_count": 27,
   "metadata": {},
   "outputs": [
    {
     "data": {
      "text/html": [
       "<div>\n",
       "<style scoped>\n",
       "    .dataframe tbody tr th:only-of-type {\n",
       "        vertical-align: middle;\n",
       "    }\n",
       "\n",
       "    .dataframe tbody tr th {\n",
       "        vertical-align: top;\n",
       "    }\n",
       "\n",
       "    .dataframe thead th {\n",
       "        text-align: right;\n",
       "    }\n",
       "</style>\n",
       "<table border=\"1\" class=\"dataframe\">\n",
       "  <thead>\n",
       "    <tr style=\"text-align: right;\">\n",
       "      <th></th>\n",
       "      <th>AbsTrainSize</th>\n",
       "      <th>CV-Score</th>\n",
       "      <th>TrainScore</th>\n",
       "      <th>Algorithm</th>\n",
       "    </tr>\n",
       "  </thead>\n",
       "  <tbody>\n",
       "    <tr>\n",
       "      <th>0.10</th>\n",
       "      <td>131</td>\n",
       "      <td>0.795065</td>\n",
       "      <td>0.870229</td>\n",
       "      <td>knn</td>\n",
       "    </tr>\n",
       "    <tr>\n",
       "      <th>0.20</th>\n",
       "      <td>262</td>\n",
       "      <td>0.849952</td>\n",
       "      <td>0.921120</td>\n",
       "      <td>knn</td>\n",
       "    </tr>\n",
       "    <tr>\n",
       "      <th>0.30</th>\n",
       "      <td>393</td>\n",
       "      <td>0.892716</td>\n",
       "      <td>0.938083</td>\n",
       "      <td>knn</td>\n",
       "    </tr>\n",
       "    <tr>\n",
       "      <th>0.40</th>\n",
       "      <td>524</td>\n",
       "      <td>0.891705</td>\n",
       "      <td>0.943384</td>\n",
       "      <td>knn</td>\n",
       "    </tr>\n",
       "    <tr>\n",
       "      <th>0.50</th>\n",
       "      <td>655</td>\n",
       "      <td>0.903410</td>\n",
       "      <td>0.954198</td>\n",
       "      <td>knn</td>\n",
       "    </tr>\n",
       "    <tr>\n",
       "      <th>0.55</th>\n",
       "      <td>720</td>\n",
       "      <td>0.906457</td>\n",
       "      <td>0.954167</td>\n",
       "      <td>knn</td>\n",
       "    </tr>\n",
       "    <tr>\n",
       "      <th>0.60</th>\n",
       "      <td>786</td>\n",
       "      <td>0.907478</td>\n",
       "      <td>0.958863</td>\n",
       "      <td>knn</td>\n",
       "    </tr>\n",
       "    <tr>\n",
       "      <th>0.65</th>\n",
       "      <td>851</td>\n",
       "      <td>0.906467</td>\n",
       "      <td>0.961614</td>\n",
       "      <td>knn</td>\n",
       "    </tr>\n",
       "    <tr>\n",
       "      <th>0.70</th>\n",
       "      <td>916</td>\n",
       "      <td>0.906462</td>\n",
       "      <td>0.964702</td>\n",
       "      <td>knn</td>\n",
       "    </tr>\n",
       "    <tr>\n",
       "      <th>0.75</th>\n",
       "      <td>982</td>\n",
       "      <td>0.911038</td>\n",
       "      <td>0.964698</td>\n",
       "      <td>knn</td>\n",
       "    </tr>\n",
       "    <tr>\n",
       "      <th>0.80</th>\n",
       "      <td>1048</td>\n",
       "      <td>0.914090</td>\n",
       "      <td>0.966285</td>\n",
       "      <td>knn</td>\n",
       "    </tr>\n",
       "    <tr>\n",
       "      <th>0.85</th>\n",
       "      <td>1113</td>\n",
       "      <td>0.920191</td>\n",
       "      <td>0.969452</td>\n",
       "      <td>knn</td>\n",
       "    </tr>\n",
       "    <tr>\n",
       "      <th>0.90</th>\n",
       "      <td>1179</td>\n",
       "      <td>0.923243</td>\n",
       "      <td>0.969183</td>\n",
       "      <td>knn</td>\n",
       "    </tr>\n",
       "    <tr>\n",
       "      <th>0.95</th>\n",
       "      <td>1244</td>\n",
       "      <td>0.925771</td>\n",
       "      <td>0.973205</td>\n",
       "      <td>knn</td>\n",
       "    </tr>\n",
       "    <tr>\n",
       "      <th>1.00</th>\n",
       "      <td>1310</td>\n",
       "      <td>0.931367</td>\n",
       "      <td>0.974555</td>\n",
       "      <td>knn</td>\n",
       "    </tr>\n",
       "    <tr>\n",
       "      <th>0.10</th>\n",
       "      <td>131</td>\n",
       "      <td>0.795065</td>\n",
       "      <td>0.870229</td>\n",
       "      <td>knn</td>\n",
       "    </tr>\n",
       "    <tr>\n",
       "      <th>0.20</th>\n",
       "      <td>262</td>\n",
       "      <td>0.849952</td>\n",
       "      <td>0.921120</td>\n",
       "      <td>knn</td>\n",
       "    </tr>\n",
       "    <tr>\n",
       "      <th>0.30</th>\n",
       "      <td>393</td>\n",
       "      <td>0.892716</td>\n",
       "      <td>0.938083</td>\n",
       "      <td>knn</td>\n",
       "    </tr>\n",
       "    <tr>\n",
       "      <th>0.40</th>\n",
       "      <td>524</td>\n",
       "      <td>0.891705</td>\n",
       "      <td>0.943384</td>\n",
       "      <td>knn</td>\n",
       "    </tr>\n",
       "    <tr>\n",
       "      <th>0.50</th>\n",
       "      <td>655</td>\n",
       "      <td>0.903410</td>\n",
       "      <td>0.954198</td>\n",
       "      <td>knn</td>\n",
       "    </tr>\n",
       "    <tr>\n",
       "      <th>0.55</th>\n",
       "      <td>720</td>\n",
       "      <td>0.906457</td>\n",
       "      <td>0.954167</td>\n",
       "      <td>knn</td>\n",
       "    </tr>\n",
       "    <tr>\n",
       "      <th>0.60</th>\n",
       "      <td>786</td>\n",
       "      <td>0.907478</td>\n",
       "      <td>0.958863</td>\n",
       "      <td>knn</td>\n",
       "    </tr>\n",
       "    <tr>\n",
       "      <th>0.65</th>\n",
       "      <td>851</td>\n",
       "      <td>0.906467</td>\n",
       "      <td>0.961614</td>\n",
       "      <td>knn</td>\n",
       "    </tr>\n",
       "    <tr>\n",
       "      <th>0.70</th>\n",
       "      <td>916</td>\n",
       "      <td>0.906462</td>\n",
       "      <td>0.964702</td>\n",
       "      <td>knn</td>\n",
       "    </tr>\n",
       "    <tr>\n",
       "      <th>0.75</th>\n",
       "      <td>982</td>\n",
       "      <td>0.911038</td>\n",
       "      <td>0.964698</td>\n",
       "      <td>knn</td>\n",
       "    </tr>\n",
       "    <tr>\n",
       "      <th>0.80</th>\n",
       "      <td>1048</td>\n",
       "      <td>0.914090</td>\n",
       "      <td>0.966285</td>\n",
       "      <td>knn</td>\n",
       "    </tr>\n",
       "    <tr>\n",
       "      <th>0.85</th>\n",
       "      <td>1113</td>\n",
       "      <td>0.920191</td>\n",
       "      <td>0.969452</td>\n",
       "      <td>knn</td>\n",
       "    </tr>\n",
       "    <tr>\n",
       "      <th>0.90</th>\n",
       "      <td>1179</td>\n",
       "      <td>0.923243</td>\n",
       "      <td>0.969183</td>\n",
       "      <td>knn</td>\n",
       "    </tr>\n",
       "    <tr>\n",
       "      <th>0.95</th>\n",
       "      <td>1244</td>\n",
       "      <td>0.925771</td>\n",
       "      <td>0.973205</td>\n",
       "      <td>knn</td>\n",
       "    </tr>\n",
       "    <tr>\n",
       "      <th>1.00</th>\n",
       "      <td>1310</td>\n",
       "      <td>0.931367</td>\n",
       "      <td>0.974555</td>\n",
       "      <td>knn</td>\n",
       "    </tr>\n",
       "  </tbody>\n",
       "</table>\n",
       "</div>"
      ],
      "text/plain": [
       "      AbsTrainSize  CV-Score  TrainScore Algorithm\n",
       "0.10           131  0.795065    0.870229       knn\n",
       "0.20           262  0.849952    0.921120       knn\n",
       "0.30           393  0.892716    0.938083       knn\n",
       "0.40           524  0.891705    0.943384       knn\n",
       "0.50           655  0.903410    0.954198       knn\n",
       "0.55           720  0.906457    0.954167       knn\n",
       "0.60           786  0.907478    0.958863       knn\n",
       "0.65           851  0.906467    0.961614       knn\n",
       "0.70           916  0.906462    0.964702       knn\n",
       "0.75           982  0.911038    0.964698       knn\n",
       "0.80          1048  0.914090    0.966285       knn\n",
       "0.85          1113  0.920191    0.969452       knn\n",
       "0.90          1179  0.923243    0.969183       knn\n",
       "0.95          1244  0.925771    0.973205       knn\n",
       "1.00          1310  0.931367    0.974555       knn\n",
       "0.10           131  0.795065    0.870229       knn\n",
       "0.20           262  0.849952    0.921120       knn\n",
       "0.30           393  0.892716    0.938083       knn\n",
       "0.40           524  0.891705    0.943384       knn\n",
       "0.50           655  0.903410    0.954198       knn\n",
       "0.55           720  0.906457    0.954167       knn\n",
       "0.60           786  0.907478    0.958863       knn\n",
       "0.65           851  0.906467    0.961614       knn\n",
       "0.70           916  0.906462    0.964702       knn\n",
       "0.75           982  0.911038    0.964698       knn\n",
       "0.80          1048  0.914090    0.966285       knn\n",
       "0.85          1113  0.920191    0.969452       knn\n",
       "0.90          1179  0.923243    0.969183       knn\n",
       "0.95          1244  0.925771    0.973205       knn\n",
       "1.00          1310  0.931367    0.974555       knn"
      ]
     },
     "execution_count": 27,
     "metadata": {},
     "output_type": "execute_result"
    }
   ],
   "source": [
    "k"
   ]
  },
  {
   "cell_type": "code",
   "execution_count": null,
   "metadata": {},
   "outputs": [],
   "source": []
  }
 ],
 "metadata": {
  "kernelspec": {
   "display_name": "Python 3",
   "language": "python",
   "name": "python3"
  },
  "language_info": {
   "codemirror_mode": {
    "name": "ipython",
    "version": 3
   },
   "file_extension": ".py",
   "mimetype": "text/x-python",
   "name": "python",
   "nbconvert_exporter": "python",
   "pygments_lexer": "ipython3",
   "version": "3.6.9"
  }
 },
 "nbformat": 4,
 "nbformat_minor": 2
}
