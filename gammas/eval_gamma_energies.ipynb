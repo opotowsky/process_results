{
 "cells": [
  {
   "cell_type": "code",
   "execution_count": 4,
   "metadata": {},
   "outputs": [],
   "source": [
    "import numpy as np\n",
    "from matplotlib import pyplot as plt\n",
    "%matplotlib inline"
   ]
  },
  {
   "cell_type": "code",
   "execution_count": 2,
   "metadata": {},
   "outputs": [],
   "source": [
    "from pyne import data, nucname\n",
    "from pyne.material import Material\n",
    "import pandas as pd"
   ]
  },
  {
   "cell_type": "code",
   "execution_count": 3,
   "metadata": {},
   "outputs": [],
   "source": [
    "pkl62 = 'not-scaled_nuc62_activities.pkl'\n",
    "nuc62 = pd.read_pickle(pkl62).drop(columns=['total']).reset_index(drop=True)\n",
    "nuc62 = nuc62.loc[(nuc62['Burnup'] > 0) & (nuc62['CoolingTime'] > 0)]"
   ]
  },
  {
   "cell_type": "code",
   "execution_count": 5,
   "metadata": {},
   "outputs": [
    {
     "data": {
      "text/plain": [
       "(440594, 70)"
      ]
     },
     "execution_count": 5,
     "metadata": {},
     "output_type": "execute_result"
    }
   ],
   "source": [
    "#before filtering for 0 burnup/ct: 448390\n",
    "nuc62.shape"
   ]
  },
  {
   "cell_type": "code",
   "execution_count": 6,
   "metadata": {},
   "outputs": [],
   "source": [
    "#nuc62.sample(2)"
   ]
  },
  {
   "cell_type": "code",
   "execution_count": 7,
   "metadata": {},
   "outputs": [],
   "source": [
    "#print(nuc62.columns)"
   ]
  },
  {
   "cell_type": "code",
   "execution_count": 8,
   "metadata": {},
   "outputs": [],
   "source": [
    "list62 = nuc62.columns.tolist()\n",
    "del list62[0:8]\n",
    "#len(list62)"
   ]
  },
  {
   "cell_type": "markdown",
   "metadata": {},
   "source": [
    "# Get rid of low/zero activity entries"
   ]
  },
  {
   "cell_type": "code",
   "execution_count": 9,
   "metadata": {},
   "outputs": [],
   "source": [
    "# arbitrary minimum max activity to filter out ultra-low activity (and zero activity) nucs\n",
    "min_maxact = 1e-7\n",
    "new_nuclist = []\n",
    "for nuc in list62:\n",
    "    maxact = nuc62[nuc].describe()['max']\n",
    "    if maxact > min_maxact:\n",
    "        new_nuclist.append(nuc)\n",
    "#print(len(new_nuclist))\n",
    "#print(new_nuclist)"
   ]
  },
  {
   "cell_type": "code",
   "execution_count": 10,
   "metadata": {},
   "outputs": [
    {
     "data": {
      "text/html": [
       "<div>\n",
       "<style scoped>\n",
       "    .dataframe tbody tr th:only-of-type {\n",
       "        vertical-align: middle;\n",
       "    }\n",
       "\n",
       "    .dataframe tbody tr th {\n",
       "        vertical-align: top;\n",
       "    }\n",
       "\n",
       "    .dataframe thead th {\n",
       "        text-align: right;\n",
       "    }\n",
       "</style>\n",
       "<table border=\"1\" class=\"dataframe\">\n",
       "  <thead>\n",
       "    <tr style=\"text-align: right;\">\n",
       "      <th></th>\n",
       "      <th>ac227</th>\n",
       "      <th>am241</th>\n",
       "      <th>am243</th>\n",
       "      <th>ba133</th>\n",
       "      <th>cd109</th>\n",
       "      <th>ce139</th>\n",
       "      <th>ce144</th>\n",
       "      <th>cf249</th>\n",
       "      <th>cf252</th>\n",
       "      <th>cm243</th>\n",
       "      <th>...</th>\n",
       "      <th>th228</th>\n",
       "      <th>th229</th>\n",
       "      <th>u232</th>\n",
       "      <th>u233</th>\n",
       "      <th>u234</th>\n",
       "      <th>u235</th>\n",
       "      <th>u236</th>\n",
       "      <th>u238</th>\n",
       "      <th>y88</th>\n",
       "      <th>zr93</th>\n",
       "    </tr>\n",
       "  </thead>\n",
       "  <tbody>\n",
       "    <tr>\n",
       "      <th>170365</th>\n",
       "      <td>0.000002</td>\n",
       "      <td>1305.0</td>\n",
       "      <td>9.866</td>\n",
       "      <td>0.000485</td>\n",
       "      <td>0.000081</td>\n",
       "      <td>6.854000e-09</td>\n",
       "      <td>40.12</td>\n",
       "      <td>1.569000e-07</td>\n",
       "      <td>9.328000e-08</td>\n",
       "      <td>4.865</td>\n",
       "      <td>...</td>\n",
       "      <td>0.00343</td>\n",
       "      <td>2.846000e-08</td>\n",
       "      <td>0.003638</td>\n",
       "      <td>0.000015</td>\n",
       "      <td>1.4780</td>\n",
       "      <td>0.002749</td>\n",
       "      <td>0.03966</td>\n",
       "      <td>0.3290</td>\n",
       "      <td>1.301000e-12</td>\n",
       "      <td>0.580</td>\n",
       "    </tr>\n",
       "    <tr>\n",
       "      <th>248507</th>\n",
       "      <td>0.000003</td>\n",
       "      <td>791.9</td>\n",
       "      <td>137.200</td>\n",
       "      <td>0.067470</td>\n",
       "      <td>0.067550</td>\n",
       "      <td>4.803000e-03</td>\n",
       "      <td>15640.00</td>\n",
       "      <td>2.079000e-03</td>\n",
       "      <td>6.679000e-02</td>\n",
       "      <td>42.740</td>\n",
       "      <td>...</td>\n",
       "      <td>0.01820</td>\n",
       "      <td>6.779000e-07</td>\n",
       "      <td>0.023110</td>\n",
       "      <td>0.000010</td>\n",
       "      <td>0.5863</td>\n",
       "      <td>0.000132</td>\n",
       "      <td>0.04026</td>\n",
       "      <td>0.3169</td>\n",
       "      <td>2.469000e-05</td>\n",
       "      <td>1.808</td>\n",
       "    </tr>\n",
       "  </tbody>\n",
       "</table>\n",
       "<p>2 rows × 49 columns</p>\n",
       "</div>"
      ],
      "text/plain": [
       "           ac227   am241    am243     ba133     cd109         ce139     ce144  \\\n",
       "170365  0.000002  1305.0    9.866  0.000485  0.000081  6.854000e-09     40.12   \n",
       "248507  0.000003   791.9  137.200  0.067470  0.067550  4.803000e-03  15640.00   \n",
       "\n",
       "               cf249         cf252   cm243  ...    th228         th229  \\\n",
       "170365  1.569000e-07  9.328000e-08   4.865  ...  0.00343  2.846000e-08   \n",
       "248507  2.079000e-03  6.679000e-02  42.740  ...  0.01820  6.779000e-07   \n",
       "\n",
       "            u232      u233    u234      u235     u236    u238           y88  \\\n",
       "170365  0.003638  0.000015  1.4780  0.002749  0.03966  0.3290  1.301000e-12   \n",
       "248507  0.023110  0.000010  0.5863  0.000132  0.04026  0.3169  2.469000e-05   \n",
       "\n",
       "         zr93  \n",
       "170365  0.580  \n",
       "248507  1.808  \n",
       "\n",
       "[2 rows x 49 columns]"
      ]
     },
     "execution_count": 10,
     "metadata": {},
     "output_type": "execute_result"
    }
   ],
   "source": [
    "# labels removed\n",
    "nuc49 = nuc62[new_nuclist]\n",
    "nuc49.sample(2)"
   ]
  },
  {
   "cell_type": "markdown",
   "metadata": {},
   "source": [
    "# replacing PyNE method with a manual version to filter out negative nuclide IDs"
   ]
  },
  {
   "cell_type": "code",
   "execution_count": 11,
   "metadata": {},
   "outputs": [],
   "source": [
    "def manual_gammas(nuclide):\n",
    "    parent = nucname.id(nuclide)\n",
    "    decay_c = data.decay_const(parent)\n",
    "    energies = data.gamma_energy(parent)\n",
    "    intensities = data.gamma_photon_intensity(parent)\n",
    "    children = data.gamma_from_to_byparent(parent)\n",
    "    decay_children = data.decay_data_children(parent)\n",
    "    decay_branches = data.decay_photon_branch_ratio_byparent(parent)\n",
    "    \n",
    "    gammas_result = []\n",
    "    for i, c in enumerate(children):\n",
    "        for j, dc in enumerate(decay_children):\n",
    "            # here is where we skip negative nuclides\n",
    "            if c[0] > 0:\n",
    "                if nucname.zzzaaa(c[0]) == nucname.zzzaaa(dc):\n",
    "                    gammas_result.append((energies[i][0], decay_c*intensities[i][0]*decay_branches[j][0]))\n",
    "    return gammas_result"
   ]
  },
  {
   "cell_type": "markdown",
   "metadata": {},
   "source": [
    "# Plotting Gamma Intensities WRT Energy "
   ]
  },
  {
   "cell_type": "code",
   "execution_count": 12,
   "metadata": {
    "scrolled": false
   },
   "outputs": [],
   "source": [
    "#Choosing idx = 140704 for this analysis\n",
    "idx = 140704\n",
    "gamma_dflist = []\n",
    "for nuc in new_nuclist:\n",
    "    mat = Material()\n",
    "    act_bq = nuc49.iloc[idx][nuc] * 3.7e10\n",
    "    mat.from_activity({nuc : act_bq})\n",
    "    gamlist = manual_gammas(nuc)\n",
    "    gamma = pd.DataFrame(gamlist, columns = ['energy', 'intensity'])\n",
    "    #get gamma intensity in decay/s\n",
    "    num_atoms = mat.mass * 6.02e23 / data.atomic_mass(nucname.id(nuc))\n",
    "    gamma['total_intensity'] = num_atoms * gamma['intensity']\n",
    "    gamma['test_counts'] = gamma['total_intensity'] / act_bq\n",
    "    gamma['nucID'] = nuc\n",
    "    gamma['half life (y)'] = data.half_life(nucname.id(nuc)) / 60 / 60 / 24 / 365.25\n",
    "    gamma_dflist.append(gamma)\n",
    "all_gammas = pd.concat(gamma_dflist).reset_index(drop=True)"
   ]
  },
  {
   "cell_type": "code",
   "execution_count": 13,
   "metadata": {
    "scrolled": false
   },
   "outputs": [],
   "source": [
    "nuc_plot = sorted(all_gammas.nucID.unique())"
   ]
  },
  {
   "cell_type": "code",
   "execution_count": 14,
   "metadata": {
    "scrolled": false
   },
   "outputs": [
    {
     "data": {
      "image/png": "[encoded data removed]",
      "text/plain": [
       "<Figure size 864x576 with 1 Axes>"
      ]
     },
     "metadata": {
      "needs_background": "light"
     },
     "output_type": "display_data"
    }
   ],
   "source": [
    "fig, ax = plt.subplots(figsize=(12, 8))\n",
    "num_colors = len(nuc_plot)\n",
    "cm = plt.get_cmap('gist_rainbow')\n",
    "for i, nuc in enumerate(nuc_plot):\n",
    "    ix = np.where(all_gammas['nucID'] == nuc)\n",
    "    ax.scatter(all_gammas['energy'].iloc[ix], all_gammas['test_counts'].iloc[ix], \n",
    "               color = cm(1.*i/num_colors), label = nuc, s = 30)\n",
    "#ax.set_ylim(1e1, 1e14)\n",
    "plt.title('Intensity wrt Gamma Energy for 49 Nuclides', fontsize=14)\n",
    "#plt.yscale('log')\n",
    "ax.set_xlabel('Energy (keV)')\n",
    "ax.set_ylabel('Intensity (decays/s)')\n",
    "ax.legend(loc='best', ncol=4)\n",
    "plt.show()"
   ]
  },
  {
   "cell_type": "code",
   "execution_count": 15,
   "metadata": {},
   "outputs": [],
   "source": [
    "some_gammas = all_gammas.loc[(all_gammas['half life (y)'] >= 1.) & (all_gammas['energy'] >= 200)]\n",
    "# Choosing to move forward with 200 keV cutoff for now since NaI detectors won't see below that. \n",
    "# Can add back in more nucs for HPGe detector study but will first attempt to keep it at this list of 32\n",
    "# No energy cutoff gives full list of 37."
   ]
  },
  {
   "cell_type": "code",
   "execution_count": 16,
   "metadata": {},
   "outputs": [
    {
     "name": "stdout",
     "output_type": "stream",
     "text": [
      "32\n",
      "['ac227', 'am241', 'am243', 'ba133', 'cf249', 'cf252', 'cm243', 'cm244', 'cm245', 'cs134', 'cs137', 'eu152', 'eu154', 'ho166m', 'kr85', 'nb94', 'np236', 'np237', 'pa231', 'pm146', 'pu236', 'pu238', 'pu239', 'pu240', 'ra226', 'sb125', 'th228', 'th229', 'u232', 'u233', 'u234', 'u235']\n"
     ]
    }
   ],
   "source": [
    "some_nucs = sorted(list(set(some_gammas['nucID'].tolist())))\n",
    "print(len(some_nucs))\n",
    "print(some_nucs)"
   ]
  },
  {
   "cell_type": "code",
   "execution_count": 17,
   "metadata": {},
   "outputs": [
    {
     "name": "stdout",
     "output_type": "stream",
     "text": [
      "ac227 \t half life  21.772 years\n",
      "am241 \t half life  432.59999999999997 years\n",
      "am243 \t half life  7364.0 years\n",
      "ba133 \t half life  10.551 years\n",
      "cf249 \t half life  351.0 years\n",
      "cf252 \t half life  2.645 years\n",
      "cm243 \t half life  29.099999999999998 years\n",
      "cm244 \t half life  18.1 years\n",
      "cm245 \t half life  8423.0 years\n",
      "cs134 \t half life  2.0652 years\n",
      "cs137 \t half life  30.080000000000002 years\n",
      "eu152 \t half life  13.516999999999998 years\n",
      "eu154 \t half life  8.600999999999999 years\n",
      "ho166m \t half life  1200.0 years\n",
      "kr85 \t half life  10.739 years\n",
      "nb94 \t half life  20300.0 years\n",
      "np236 \t half life  153000.0 years\n",
      "np237 \t half life  2144000.0 years\n",
      "pa231 \t half life  32760.0 years\n",
      "pm146 \t half life  5.529999999999999 years\n",
      "pu236 \t half life  2.8579999999999997 years\n",
      "pu238 \t half life  87.7 years\n",
      "pu239 \t half life  24110.0 years\n",
      "pu240 \t half life  6561.0 years\n",
      "ra226 \t half life  1600.0 years\n",
      "sb125 \t half life  2.75856 years\n",
      "th228 \t half life  1.9115999999999997 years\n",
      "th229 \t half life  7880.0 years\n",
      "u232 \t half life  68.9 years\n",
      "u233 \t half life  159200.0 years\n",
      "u234 \t half life  245500.0 years\n",
      "u235 \t half life  704000000.0 years\n"
     ]
    }
   ],
   "source": [
    "for nuc in some_nucs:\n",
    "    try:\n",
    "        hl = some_gammas['half life (y)'].loc[some_gammas['nucID'] == nuc].values\n",
    "        print('{} \\t half life  {} years'.format(nuc, hl[0]))\n",
    "    except:\n",
    "        print('{} \\t not present'.format(nuc))\n",
    "        some_nucs.remove(nuc)"
   ]
  },
  {
   "cell_type": "code",
   "execution_count": 18,
   "metadata": {},
   "outputs": [
    {
     "name": "stdout",
     "output_type": "stream",
     "text": [
      "32\n"
     ]
    }
   ],
   "source": [
    "print(len(some_nucs))"
   ]
  },
  {
   "cell_type": "code",
   "execution_count": 19,
   "metadata": {},
   "outputs": [
    {
     "name": "stderr",
     "output_type": "stream",
     "text": [
      "/home/opotowsky/.local/lib/python3.6/site-packages/ipykernel_launcher.py:2: SettingWithCopyWarning: \n",
      "A value is trying to be set on a copy of a slice from a DataFrame\n",
      "\n",
      "See the caveats in the documentation: https://pandas.pydata.org/pandas-docs/stable/user_guide/indexing.html#returning-a-view-versus-a-copy\n",
      "  \n"
     ]
    }
   ],
   "source": [
    "# was having issues with the plot below, perhaps because a the first gamma energy of a nuc had a NaN for intensity\n",
    "some_gammas.dropna(inplace=True)"
   ]
  },
  {
   "cell_type": "code",
   "execution_count": 20,
   "metadata": {},
   "outputs": [
    {
     "data": {
      "image/png": "[encoded data removed]",
      "text/plain": [
       "<Figure size 864x576 with 1 Axes>"
      ]
     },
     "metadata": {
      "needs_background": "light"
     },
     "output_type": "display_data"
    }
   ],
   "source": [
    "fig, ax = plt.subplots(figsize=(12, 8))\n",
    "num_colors = len(some_nucs)\n",
    "cm = plt.get_cmap('gist_rainbow')\n",
    "for i, nuc in enumerate(some_nucs):\n",
    "    ix = np.where(some_gammas['nucID'] == nuc)\n",
    "    ax.scatter(some_gammas['energy'].iloc[ix], some_gammas['test_counts'].iloc[ix], \n",
    "               color = cm(1.*i/num_colors), label = nuc, s = 30)\n",
    "#ax.set_ylim(1e14, 5e16)\n",
    "plt.title('Intensity wrt Gamma Energy for 32 Nuclides', fontsize=14)\n",
    "#plt.yscale('log')\n",
    "ax.set_xlabel('Energy (keV)')\n",
    "ax.set_ylabel('Intensity (decay/s)')\n",
    "ax.legend(loc='best', ncol=3)\n",
    "plt.show()"
   ]
  },
  {
   "cell_type": "markdown",
   "metadata": {},
   "source": [
    "# Finding some target gamma energies for tests"
   ]
  },
  {
   "cell_type": "code",
   "execution_count": 21,
   "metadata": {},
   "outputs": [
    {
     "data": {
      "text/plain": [
       "count    1.065000e+03\n",
       "mean     1.096067e+00\n",
       "std      6.706718e+00\n",
       "min      7.997155e-09\n",
       "25%      9.996444e-06\n",
       "50%      1.532139e-03\n",
       "75%      2.303181e-02\n",
       "max      9.758499e+01\n",
       "Name: test_counts, dtype: float64"
      ]
     },
     "execution_count": 21,
     "metadata": {},
     "output_type": "execute_result"
    }
   ],
   "source": [
    "some_gammas['test_counts'].describe()"
   ]
  },
  {
   "cell_type": "code",
   "execution_count": 24,
   "metadata": {
    "scrolled": false
   },
   "outputs": [
    {
     "data": {
      "text/html": [
       "<div>\n",
       "<style scoped>\n",
       "    .dataframe tbody tr th:only-of-type {\n",
       "        vertical-align: middle;\n",
       "    }\n",
       "\n",
       "    .dataframe tbody tr th {\n",
       "        vertical-align: top;\n",
       "    }\n",
       "\n",
       "    .dataframe thead th {\n",
       "        text-align: right;\n",
       "    }\n",
       "</style>\n",
       "<table border=\"1\" class=\"dataframe\">\n",
       "  <thead>\n",
       "    <tr style=\"text-align: right;\">\n",
       "      <th></th>\n",
       "      <th>energy</th>\n",
       "      <th>intensity</th>\n",
       "      <th>total_intensity</th>\n",
       "      <th>test_counts</th>\n",
       "      <th>nucID</th>\n",
       "      <th>half life (y)</th>\n",
       "    </tr>\n",
       "  </thead>\n",
       "  <tbody>\n",
       "    <tr>\n",
       "      <th>3471</th>\n",
       "      <td>604.7210</td>\n",
       "      <td>1.038238e-06</td>\n",
       "      <td>2.004269e+14</td>\n",
       "      <td>97.584993</td>\n",
       "      <td>cs134</td>\n",
       "      <td>2.06520</td>\n",
       "    </tr>\n",
       "    <tr>\n",
       "      <th>3472</th>\n",
       "      <td>795.8640</td>\n",
       "      <td>9.089102e-07</td>\n",
       "      <td>1.754608e+14</td>\n",
       "      <td>85.429354</td>\n",
       "      <td>cs134</td>\n",
       "      <td>2.06520</td>\n",
       "    </tr>\n",
       "    <tr>\n",
       "      <th>3479</th>\n",
       "      <td>661.6570</td>\n",
       "      <td>6.214028e-08</td>\n",
       "      <td>4.614353e+16</td>\n",
       "      <td>85.069738</td>\n",
       "      <td>cs137</td>\n",
       "      <td>30.08000</td>\n",
       "    </tr>\n",
       "    <tr>\n",
       "      <th>249</th>\n",
       "      <td>388.1700</td>\n",
       "      <td>4.130079e-09</td>\n",
       "      <td>3.056297e-02</td>\n",
       "      <td>65.976530</td>\n",
       "      <td>cf249</td>\n",
       "      <td>351.00000</td>\n",
       "    </tr>\n",
       "    <tr>\n",
       "      <th>213</th>\n",
       "      <td>356.0129</td>\n",
       "      <td>1.291724e-07</td>\n",
       "      <td>1.380922e+07</td>\n",
       "      <td>62.027935</td>\n",
       "      <td>ba133</td>\n",
       "      <td>10.55100</td>\n",
       "    </tr>\n",
       "    <tr>\n",
       "      <th>3864</th>\n",
       "      <td>810.2930</td>\n",
       "      <td>1.041118e-09</td>\n",
       "      <td>5.160650e+06</td>\n",
       "      <td>56.859773</td>\n",
       "      <td>ho166m</td>\n",
       "      <td>1200.00000</td>\n",
       "    </tr>\n",
       "    <tr>\n",
       "      <th>3857</th>\n",
       "      <td>711.6810</td>\n",
       "      <td>9.910386e-10</td>\n",
       "      <td>4.912416e+06</td>\n",
       "      <td>54.124746</td>\n",
       "      <td>ho166m</td>\n",
       "      <td>1200.00000</td>\n",
       "    </tr>\n",
       "    <tr>\n",
       "      <th>4044</th>\n",
       "      <td>453.8300</td>\n",
       "      <td>1.688364e-07</td>\n",
       "      <td>4.406969e+09</td>\n",
       "      <td>42.492784</td>\n",
       "      <td>pm146</td>\n",
       "      <td>5.53000</td>\n",
       "    </tr>\n",
       "    <tr>\n",
       "      <th>3773</th>\n",
       "      <td>1274.4290</td>\n",
       "      <td>8.895544e-08</td>\n",
       "      <td>8.320420e+13</td>\n",
       "      <td>34.821342</td>\n",
       "      <td>eu154</td>\n",
       "      <td>8.60100</td>\n",
       "    </tr>\n",
       "    <tr>\n",
       "      <th>4368</th>\n",
       "      <td>427.8740</td>\n",
       "      <td>2.356844e-07</td>\n",
       "      <td>5.406174e+13</td>\n",
       "      <td>29.589474</td>\n",
       "      <td>sb125</td>\n",
       "      <td>2.75856</td>\n",
       "    </tr>\n",
       "    <tr>\n",
       "      <th>3832</th>\n",
       "      <td>280.4640</td>\n",
       "      <td>5.374276e-10</td>\n",
       "      <td>2.663941e+06</td>\n",
       "      <td>29.351159</td>\n",
       "      <td>ho166m</td>\n",
       "      <td>1200.00000</td>\n",
       "    </tr>\n",
       "    <tr>\n",
       "      <th>3519</th>\n",
       "      <td>344.2785</td>\n",
       "      <td>4.320918e-08</td>\n",
       "      <td>4.435664e+11</td>\n",
       "      <td>26.581552</td>\n",
       "      <td>eu152</td>\n",
       "      <td>13.51700</td>\n",
       "    </tr>\n",
       "    <tr>\n",
       "      <th>3643</th>\n",
       "      <td>1408.0130</td>\n",
       "      <td>3.390967e-08</td>\n",
       "      <td>3.481018e+11</td>\n",
       "      <td>20.860656</td>\n",
       "      <td>eu152</td>\n",
       "      <td>13.51700</td>\n",
       "    </tr>\n",
       "    <tr>\n",
       "      <th>3741</th>\n",
       "      <td>723.3014</td>\n",
       "      <td>5.123833e-08</td>\n",
       "      <td>4.792562e+13</td>\n",
       "      <td>20.057093</td>\n",
       "      <td>eu154</td>\n",
       "      <td>8.60100</td>\n",
       "    </tr>\n",
       "  </tbody>\n",
       "</table>\n",
       "</div>"
      ],
      "text/plain": [
       "         energy     intensity  total_intensity  test_counts   nucID  \\\n",
       "3471   604.7210  1.038238e-06     2.004269e+14    97.584993   cs134   \n",
       "3472   795.8640  9.089102e-07     1.754608e+14    85.429354   cs134   \n",
       "3479   661.6570  6.214028e-08     4.614353e+16    85.069738   cs137   \n",
       "249    388.1700  4.130079e-09     3.056297e-02    65.976530   cf249   \n",
       "213    356.0129  1.291724e-07     1.380922e+07    62.027935   ba133   \n",
       "3864   810.2930  1.041118e-09     5.160650e+06    56.859773  ho166m   \n",
       "3857   711.6810  9.910386e-10     4.912416e+06    54.124746  ho166m   \n",
       "4044   453.8300  1.688364e-07     4.406969e+09    42.492784   pm146   \n",
       "3773  1274.4290  8.895544e-08     8.320420e+13    34.821342   eu154   \n",
       "4368   427.8740  2.356844e-07     5.406174e+13    29.589474   sb125   \n",
       "3832   280.4640  5.374276e-10     2.663941e+06    29.351159  ho166m   \n",
       "3519   344.2785  4.320918e-08     4.435664e+11    26.581552   eu152   \n",
       "3643  1408.0130  3.390967e-08     3.481018e+11    20.860656   eu152   \n",
       "3741   723.3014  5.123833e-08     4.792562e+13    20.057093   eu154   \n",
       "\n",
       "      half life (y)  \n",
       "3471        2.06520  \n",
       "3472        2.06520  \n",
       "3479       30.08000  \n",
       "249       351.00000  \n",
       "213        10.55100  \n",
       "3864     1200.00000  \n",
       "3857     1200.00000  \n",
       "4044        5.53000  \n",
       "3773        8.60100  \n",
       "4368        2.75856  \n",
       "3832     1200.00000  \n",
       "3519       13.51700  \n",
       "3643       13.51700  \n",
       "3741        8.60100  "
      ]
     },
     "execution_count": 24,
     "metadata": {},
     "output_type": "execute_result"
    }
   ],
   "source": [
    "target_gammas = some_gammas.loc[some_gammas['test_counts'] > 19]\n",
    "target_gammas.sort_values(by=['test_counts', 'energy'], ascending=False)"
   ]
  },
  {
   "cell_type": "markdown",
   "metadata": {},
   "source": [
    "# Evaluating uknown peaks from first rounf of HTC results"
   ]
  },
  {
   "cell_type": "code",
   "execution_count": 62,
   "metadata": {},
   "outputs": [],
   "source": [
    "en1 = 1209.338\n",
    "en2 = 1266.063\n",
    "en3 = 1323.123\n",
    "en4 = 1365.079\n",
    "en5 = 1400.322\n",
    "en6 = 1457.382\n",
    "en7 = 1591.305\n",
    "en_err = 0.5\n",
    "ens = [en1, en2, en3, en4, en5, en6, en7]"
   ]
  },
  {
   "cell_type": "code",
   "execution_count": 66,
   "metadata": {
    "scrolled": false
   },
   "outputs": [
    {
     "name": "stdout",
     "output_type": "stream",
     "text": [
      "Energy #1: \n",
      "From GADRAS gamma spec: 1209.338\n",
      "Matches: ['Cf252']\n",
      "PyNE Potential Parents: ['Ag114', 'Ar45', 'Ba129M', 'Cd117M', 'Cf252', 'Cm248', 'Cr57', 'Cs147', 'Dy155', 'Er161', 'Fm251', 'Fr224', 'Gd147', 'Gd161', 'Ir186', 'Ir188', 'La131', 'Lu171', 'Lu172', 'Mo105', 'Nb88M', 'Os176', 'Pb197', 'Pb199', 'Re188', 'Rh106', 'Rh99', 'Ru105', 'Ru109', 'Sb129', 'Tb152', 'Tl186', 'Xe140', 'Yb165']\n",
      "\n",
      "Energy #2: \n",
      "From GADRAS gamma spec: 1266.063\n",
      "Matches: ['Cf252']\n",
      "PyNE Potential Parents: ['Ag114', 'Am238', 'Ar45', 'Au181', 'Au183', 'Au185', 'Au187', 'Ba129M', 'Ba129M', 'Bi201', 'Bi205', 'Cd117M', 'Ce133M', 'Cf252', 'Cm248', 'Cr57', 'Cs147', 'Dy147M', 'Dy155', 'Dy155', 'Er161', 'Eu146', 'Fm251', 'Fr224', 'Gd147', 'Gd161', 'Ge79', 'Hf171', 'Ho150', 'Ir182', 'Ir186', 'Ir188', 'La131', 'Lu171', 'Lu172', 'Mn58M', 'Mo105', 'Nb88M', 'Os176', 'Pb197', 'Pb199', 'Pr145', 'Rb78M', 'Re188', 'Re190M', 'Rh106', 'Rh106', 'Rh99', 'Ru105', 'Ru109', 'Ru111', 'S31', 'S41', 'Sb129', 'Si31', 'Sr93', 'Ta172', 'Tb152', 'Tl186', 'Tl192', 'Xe140', 'Yb165', 'Yb165']\n",
      "\n",
      "Energy #3: \n",
      "From GADRAS gamma spec: 1323.123\n",
      "Matches: ['Cf252', 'Cf252']\n",
      "PyNE Potential Parents: ['Ag104', 'Ag114', 'Ag120', 'Am238', 'Ar45', 'Ar45', 'At207', 'Au181', 'Au181', 'Au183', 'Au185', 'Au187', 'Ba129M', 'Ba129M', 'Ba147', 'Bi201', 'Bi205', 'Br90', 'Cd117M', 'Cd121', 'Ce133M', 'Cf252', 'Cf252', 'Cm248', 'Cr45', 'Cr57', 'Cr63', 'Cs140', 'Cs147', 'Dy147M', 'Dy155', 'Dy155', 'Er161', 'Eu146', 'Eu158', 'Fm251', 'Fr224', 'Gd147', 'Gd161', 'Ge77', 'Ge79', 'Hf171', 'Hg186', 'Ho150', 'Ho156', 'Ho160', 'In131', 'Ir182', 'Ir186', 'Ir188', 'Ir188', 'La131', 'La136', 'La142', 'Lu167', 'Lu170', 'Lu171', 'Lu172', 'Lu172', 'Mn58M', 'Mn58M', 'Mo105', 'Nb88M', 'Os176', 'Pb197', 'Pb199', 'Po205', 'Pr145', 'Rb78M', 'Re188', 'Re188', 'Re190M', 'Rh102M', 'Rh106', 'Rh106', 'Rh99', 'Rn209', 'Ru105', 'Ru109', 'Ru111', 'S31', 'S41', 'Sb117M', 'Sb129', 'Sb130M', 'Si31', 'Sr93', 'Ta172', 'Ta173', 'Tb149', 'Tb152', 'Tb153', 'Tc102M', 'Tl186', 'Tl190M', 'Tl192', 'Xe140', 'Y85M', 'Yb165', 'Yb165']\n",
      "\n",
      "Energy #4: \n",
      "From GADRAS gamma spec: 1365.079\n",
      "Matches: ['Cf252', 'Cf252', 'Cf252', 'Cs134']\n",
      "PyNE Potential Parents: ['Ag104', 'Ag114', 'Ag120', 'Am238', 'Ar45', 'Ar45', 'At207', 'At207', 'Au181', 'Au181', 'Au183', 'Au185', 'Au187', 'Au187', 'Au188', 'Ba129M', 'Ba129M', 'Ba143', 'Ba147', 'Ba147', 'Bi201', 'Bi203', 'Bi205', 'Br90', 'Cd117M', 'Cd117M', 'Cd121', 'Cd125', 'Cd125M', 'Ce133M', 'Cf252', 'Cf252', 'Cf252', 'Cm248', 'Cr45', 'Cr57', 'Cr63', 'Cs134', 'Cs140', 'Cs147', 'Dy147M', 'Dy155', 'Dy155', 'Er161', 'Eu146', 'Eu158', 'Fm251', 'Fr224', 'Fr226', 'Fr227', 'Fr230', 'Ga82', 'Ga83', 'Gd147', 'Gd161', 'Ge77', 'Ge77', 'Ge79', 'Hf171', 'Hg186', 'Hg193M', 'Ho150', 'Ho150', 'Ho156', 'Ho156', 'Ho158', 'Ho160', 'I118', 'I118M', 'In100', 'In131', 'Ir182', 'Ir186', 'Ir188', 'Ir188', 'Kr91', 'Kr93', 'La131', 'La132', 'La136', 'La142', 'Lu167', 'Lu170', 'Lu170', 'Lu171', 'Lu172', 'Lu172', 'Mn58M', 'Mn58M', 'Mo105', 'Mo109', 'Na26', 'Nb88M', 'Nd137', 'Nd139M', 'Nd155', 'Os176', 'Pb197', 'Pb199', 'Po205', 'Pr145', 'Rb78M', 'Rb93', 'Re188', 'Re188', 'Re190M', 'Rh102M', 'Rh106', 'Rh106', 'Rh99', 'Rn209', 'Rn223', 'Ru105', 'Ru109', 'Ru111', 'S31', 'S41', 'Sb117M', 'Sb129', 'Sb130M', 'Si31', 'Sn105', 'Sr93', 'Ta172', 'Ta173', 'Tb149', 'Tb150', 'Tb151', 'Tb152', 'Tb153', 'Tc102M', 'Tl186', 'Tl190M', 'Tl192', 'Tl192', 'Tm164M', 'Tm165', 'Xe121', 'Xe140', 'Y85M', 'Yb153', 'Yb161', 'Yb165', 'Yb165', 'Zr101']\n",
      "\n",
      "Energy #5: \n",
      "From GADRAS gamma spec: 1400.322\n",
      "Matches: ['Cf252', 'Cf252', 'Cf252', 'Cs134', 'Ho166M']\n",
      "PyNE Potential Parents: ['Ag104', 'Ag114', 'Ag120', 'Am238', 'Ar45', 'Ar45', 'At207', 'At207', 'Au181', 'Au181', 'Au181', 'Au183', 'Au185', 'Au185', 'Au186', 'Au187', 'Au187', 'Au188', 'Ba124', 'Ba129', 'Ba129M', 'Ba129M', 'Ba143', 'Ba147', 'Ba147', 'Bi201', 'Bi201', 'Bi203', 'Bi205', 'Br90', 'Cd117M', 'Cd117M', 'Cd121', 'Cd121M', 'Cd125', 'Cd125M', 'Ce133M', 'Cf252', 'Cf252', 'Cf252', 'Cl41', 'Cm248', 'Cr45', 'Cr57', 'Cr63', 'Cs134', 'Cs140', 'Cs147', 'Dy147M', 'Dy155', 'Dy155', 'Dy155', 'Er161', 'Er171', 'Eu146', 'Eu158', 'Fm251', 'Fr224', 'Fr226', 'Fr227', 'Fr230', 'Ga82', 'Ga83', 'Gd147', 'Gd161', 'Gd161', 'Ge77', 'Ge77', 'Ge79', 'Hf171', 'Hg186', 'Hg193M', 'Hg193M', 'Ho150', 'Ho150', 'Ho156', 'Ho156', 'Ho158', 'Ho159', 'Ho160', 'Ho162', 'Ho166M', 'I118', 'I118M', 'I136', 'In100', 'In131', 'Ir182', 'Ir186', 'Ir188', 'Ir188', 'Kr91', 'Kr93', 'La131', 'La132', 'La132', 'La136', 'La142', 'Lu167', 'Lu170', 'Lu170', 'Lu171', 'Lu172', 'Lu172', 'Mn58M', 'Mn58M', 'Mo105', 'Mo109', 'Na26', 'Nb88M', 'Nb98M', 'Nd137', 'Nd139M', 'Nd155', 'Os176', 'P26', 'Pa234', 'Pb197', 'Pb199', 'Po205', 'Pr145', 'Rb78M', 'Rb93', 'Re188', 'Re188', 'Re190M', 'Rh102M', 'Rh106', 'Rh106', 'Rh96', 'Rh99', 'Rn209', 'Rn223', 'Ru105', 'Ru109', 'Ru111', 'Ru95', 'S31', 'S41', 'Sb117M', 'Sb129', 'Sb130M', 'Si31', 'Sn105', 'Sn105', 'Sr81', 'Sr93', 'Ta172', 'Ta173', 'Tb149', 'Tb150', 'Tb151', 'Tb152', 'Tb152', 'Tb153', 'Tc102M', 'Tc94', 'Tc94M', 'Tl186', 'Tl190M', 'Tl192', 'Tl192', 'Tl195', 'Tm164M', 'Tm165', 'Xe121', 'Xe140', 'Y85M', 'Y97', 'Y97M', 'Y97M', 'Yb153', 'Yb159', 'Yb161', 'Yb165', 'Yb165', 'Zr101', 'Zr103', 'Zr87']\n",
      "\n",
      "Energy #6: \n",
      "From GADRAS gamma spec: 1457.382\n",
      "Matches: ['Cf252', 'Cf252', 'Cf252', 'Cs134', 'Ho166M', 'Eu152']\n",
      "PyNE Potential Parents: ['Ag104', 'Ag114', 'Ag120', 'Ag98', 'Am238', 'Ar45', 'Ar45', 'At207', 'At207', 'Au181', 'Au181', 'Au181', 'Au183', 'Au185', 'Au185', 'Au186', 'Au187', 'Au187', 'Au188', 'Ba124', 'Ba129', 'Ba129M', 'Ba129M', 'Ba143', 'Ba147', 'Ba147', 'Bi201', 'Bi201', 'Bi203', 'Bi205', 'Br90', 'Cd117M', 'Cd117M', 'Cd121', 'Cd121M', 'Cd121M', 'Cd125', 'Cd125M', 'Ce133M', 'Cf252', 'Cf252', 'Cf252', 'Cl41', 'Cm248', 'Cr45', 'Cr57', 'Cr63', 'Cs122', 'Cs127', 'Cs134', 'Cs140', 'Cs147', 'Dy147M', 'Dy155', 'Dy155', 'Dy155', 'Er161', 'Er171', 'Eu146', 'Eu152', 'Eu158', 'Fm251', 'Fr224', 'Fr226', 'Fr227', 'Fr230', 'Ga82', 'Ga83', 'Gd144', 'Gd147', 'Gd161', 'Gd161', 'Ge77', 'Ge77', 'Ge79', 'Hf171', 'Hg186', 'Hg193M', 'Hg193M', 'Ho150', 'Ho150', 'Ho150', 'Ho156', 'Ho156', 'Ho158', 'Ho159', 'Ho160', 'Ho162', 'Ho166M', 'I118', 'I118M', 'I135', 'I136', 'In100', 'In131', 'In132', 'Ir182', 'Ir184', 'Ir186', 'Ir188', 'Ir188', 'Ir188', 'Kr72', 'Kr75', 'Kr91', 'Kr93', 'La131', 'La132', 'La132', 'La136', 'La142', 'Lu167', 'Lu170', 'Lu170', 'Lu170', 'Lu171', 'Lu172', 'Lu172', 'Mn58M', 'Mn58M', 'Mn62M', 'Mo105', 'Mo109', 'Na26', 'Nb88M', 'Nb98M', 'Nd137', 'Nd139M', 'Nd151', 'Nd154', 'Nd155', 'Os176', 'P26', 'Pa234', 'Pb197', 'Pb199', 'Pm152M', 'Pm154', 'Po205', 'Pr145', 'Pt189', 'Rb78M', 'Rb93', 'Re188', 'Re188', 'Re188', 'Re190M', 'Rh102M', 'Rh106', 'Rh106', 'Rh96', 'Rh99', 'Rn209', 'Rn223', 'Rn225', 'Ru105', 'Ru109', 'Ru111', 'Ru95', 'S31', 'S41', 'Sb117M', 'Sb129', 'Sb130M', 'Se69', 'Si31', 'Sn105', 'Sn105', 'Sr81', 'Sr93', 'Ta172', 'Ta173', 'Tb149', 'Tb150', 'Tb151', 'Tb151', 'Tb152', 'Tb152', 'Tb152', 'Tb153', 'Tc102M', 'Tc94', 'Tc94M', 'Tl186', 'Tl190M', 'Tl192', 'Tl192', 'Tl195', 'Tm164M', 'Tm165', 'Tm166', 'Xe121', 'Xe140', 'Y85M', 'Y97', 'Y97M', 'Y97M', 'Yb153', 'Yb159', 'Yb161', 'Yb165', 'Yb165', 'Zn61', 'Zr101', 'Zr103', 'Zr87']\n",
      "\n",
      "Energy #7: \n",
      "From GADRAS gamma spec: 1591.305\n",
      "Matches: ['Cf252', 'Cf252', 'Cf252', 'Cs134', 'Ho166M', 'Eu152']\n",
      "PyNE Potential Parents: ['Ag104', 'Ag114', 'Ag120', 'Ag98', 'Am238', 'Ar45', 'Ar45', 'At207', 'At207', 'Au181', 'Au181', 'Au181', 'Au183', 'Au185', 'Au185', 'Au186', 'Au187', 'Au187', 'Au188', 'Ba124', 'Ba129', 'Ba129M', 'Ba129M', 'Ba143', 'Ba143', 'Ba147', 'Ba147', 'Bi197', 'Bi201', 'Bi201', 'Bi203', 'Bi205', 'Br90', 'Ca50', 'Cd117M', 'Cd117M', 'Cd121', 'Cd121M', 'Cd121M', 'Cd125', 'Cd125M', 'Ce133M', 'Cf252', 'Cf252', 'Cf252', 'Cl41', 'Cm248', 'Cr45', 'Cr57', 'Cr63', 'Cs122', 'Cs127', 'Cs134', 'Cs139', 'Cs140', 'Cs147', 'Dy147M', 'Dy155', 'Dy155', 'Dy155', 'Er161', 'Er171', 'Eu146', 'Eu152', 'Eu158', 'Fm251', 'Fr224', 'Fr226', 'Fr227', 'Fr230', 'Ga82', 'Ga83', 'Gd144', 'Gd147', 'Gd161', 'Gd161', 'Ge77', 'Ge77', 'Ge79', 'Hf171', 'Hg186', 'Hg193M', 'Hg193M', 'Hg193M', 'Ho150', 'Ho150', 'Ho150', 'Ho150', 'Ho150', 'Ho156', 'Ho156', 'Ho158', 'Ho159', 'Ho160', 'Ho162', 'Ho166M', 'I118', 'I118M', 'I135', 'I136', 'In100', 'In103', 'In107', 'In131', 'In132', 'Ir182', 'Ir184', 'Ir186', 'Ir188', 'Ir188', 'Ir188', 'Kr72', 'Kr75', 'Kr91', 'Kr93', 'La131', 'La131', 'La132', 'La132', 'La134', 'La136', 'La142', 'Lu167', 'Lu170', 'Lu170', 'Lu170', 'Lu171', 'Lu172', 'Lu172', 'Mn58M', 'Mn58M', 'Mn62M', 'Mo105', 'Mo109', 'Na26', 'Nb88M', 'Nb98M', 'Nd137', 'Nd139M', 'Nd151', 'Nd154', 'Nd155', 'Os176', 'P26', 'Pa234', 'Pb197', 'Pb199', 'Pm152M', 'Pm152M', 'Pm154', 'Po205', 'Pr136', 'Pr145', 'Pt189', 'Rb78M', 'Rb93', 'Re188', 'Re188', 'Re188', 'Re190M', 'Rh102M', 'Rh106', 'Rh106', 'Rh96', 'Rh99', 'Rn209', 'Rn223', 'Rn225', 'Ru105', 'Ru107', 'Ru109', 'Ru111', 'Ru95', 'S31', 'S41', 'Sb117M', 'Sb129', 'Sb130M', 'Sc52', 'Se69', 'Si31', 'Sn105', 'Sn105', 'Sn125', 'Sr81', 'Sr93', 'Ta172', 'Ta173', 'Ta174', 'Tb149', 'Tb150', 'Tb151', 'Tb151', 'Tb152', 'Tb152', 'Tb152', 'Tb153', 'Tc102M', 'Tc92', 'Tc94', 'Tc94M', 'Tl186', 'Tl190M', 'Tl192', 'Tl192', 'Tl195', 'Tl195', 'Tm159', 'Tm161', 'Tm164M', 'Tm165', 'Tm166', 'Tm166', 'Xe121', 'Xe140', 'Y85M', 'Y97', 'Y97M', 'Y97M', 'Y98', 'Yb153', 'Yb159', 'Yb161', 'Yb163', 'Yb165', 'Yb165', 'Zn61', 'Zr101', 'Zr103', 'Zr87']\n",
      "\n"
     ]
    }
   ],
   "source": [
    "pnames = []\n",
    "matches = []\n",
    "for i, en in enumerate(ens):\n",
    "    ps = data.gamma_parent(en, en_err)\n",
    "    for p in ps:\n",
    "        if p > 0:\n",
    "            pname = nucname.name(p)\n",
    "            pnames.append(pname)\n",
    "            for nuc in some_nucs:\n",
    "                if pname.lower() == nuc:\n",
    "                    matches.append(pname)\n",
    "    print('Energy #{}: '.format(i+1))\n",
    "    print('From GADRAS gamma spec: {}'.format(en))\n",
    "    print('Matches: {}'.format(matches))\n",
    "    print('PyNE Potential Parents: {}\\n'.format(sorted(pnames)))"
   ]
  },
  {
   "cell_type": "code",
   "execution_count": null,
   "metadata": {},
   "outputs": [],
   "source": []
  },
  {
   "cell_type": "markdown",
   "metadata": {},
   "source": [
    "# Keeping the cells below for reference\n",
    "\n",
    "## A. Old list only had a small number of nucs with half lives longer than a month"
   ]
  },
  {
   "cell_type": "code",
   "execution_count": 80,
   "metadata": {},
   "outputs": [
    {
     "data": {
      "text/plain": [
       "['cm244',\n",
       " 'cs137',\n",
       " 'ce144',\n",
       " 'zr95',\n",
       " 'y91',\n",
       " 'pu241',\n",
       " 'sr89',\n",
       " 'pm147',\n",
       " 'cs134',\n",
       " 'ru103']"
      ]
     },
     "execution_count": 80,
     "metadata": {},
     "output_type": "execute_result"
    }
   ],
   "source": [
    "halflifemin = all_gammas.loc[all_gammas['half life (y)'] > 0.1]\n",
    "hlmin_list = list(set(halflifemin['nucID'].tolist()))\n",
    "hlmin_list"
   ]
  },
  {
   "cell_type": "markdown",
   "metadata": {},
   "source": [
    "#### Get list of Isos with energy above 300 keV and intensity above 100, then 10 (min half life of ~1 month now applied)"
   ]
  },
  {
   "cell_type": "code",
   "execution_count": 93,
   "metadata": {},
   "outputs": [
    {
     "data": {
      "text/plain": [
       "set()"
      ]
     },
     "execution_count": 93,
     "metadata": {},
     "output_type": "execute_result"
    }
   ],
   "source": [
    "set(all_gammas.loc[(all_gammas['half life (y)'] > 0.1) & (all_gammas['energy'] > 300) & (all_gammas['intensity'] > 100)]['nucID'].tolist())"
   ]
  },
  {
   "cell_type": "code",
   "execution_count": 94,
   "metadata": {},
   "outputs": [],
   "source": [
    "# ~50 nucs here, 16 above\n",
    "above10 = set(all_gammas.loc[(all_gammas['half life (y)'] > 0.1) & (all_gammas['energy'] > 300) & (all_gammas['intensity'] >= 10)]['nucID'].tolist())"
   ]
  },
  {
   "cell_type": "code",
   "execution_count": 90,
   "metadata": {},
   "outputs": [
    {
     "data": {
      "text/plain": [
       "{'cm244', 'cs134', 'cs137', 'ru103', 'sr89', 'y91', 'zr95'}"
      ]
     },
     "execution_count": 90,
     "metadata": {},
     "output_type": "execute_result"
    }
   ],
   "source": [
    "above10"
   ]
  },
  {
   "cell_type": "code",
   "execution_count": 91,
   "metadata": {},
   "outputs": [
    {
     "data": {
      "text/plain": [
       "7"
      ]
     },
     "execution_count": 91,
     "metadata": {},
     "output_type": "execute_result"
    }
   ],
   "source": [
    "len(above10)"
   ]
  },
  {
   "cell_type": "code",
   "execution_count": 96,
   "metadata": {},
   "outputs": [
    {
     "data": {
      "text/html": [
       "<div>\n",
       "<style scoped>\n",
       "    .dataframe tbody tr th:only-of-type {\n",
       "        vertical-align: middle;\n",
       "    }\n",
       "\n",
       "    .dataframe tbody tr th {\n",
       "        vertical-align: top;\n",
       "    }\n",
       "\n",
       "    .dataframe thead th {\n",
       "        text-align: right;\n",
       "    }\n",
       "</style>\n",
       "<table border=\"1\" class=\"dataframe\">\n",
       "  <thead>\n",
       "    <tr style=\"text-align: right;\">\n",
       "      <th></th>\n",
       "      <th>energy</th>\n",
       "      <th>intensity</th>\n",
       "      <th>nucID</th>\n",
       "      <th>half life (y)</th>\n",
       "    </tr>\n",
       "  </thead>\n",
       "  <tbody>\n",
       "    <tr>\n",
       "      <th>360</th>\n",
       "      <td>302.990</td>\n",
       "      <td>21.400</td>\n",
       "      <td>cm244</td>\n",
       "      <td>18.100000</td>\n",
       "    </tr>\n",
       "    <tr>\n",
       "      <th>361</th>\n",
       "      <td>506.900</td>\n",
       "      <td>10.000</td>\n",
       "      <td>cm244</td>\n",
       "      <td>18.100000</td>\n",
       "    </tr>\n",
       "    <tr>\n",
       "      <th>362</th>\n",
       "      <td>554.500</td>\n",
       "      <td>100.000</td>\n",
       "      <td>cm244</td>\n",
       "      <td>18.100000</td>\n",
       "    </tr>\n",
       "    <tr>\n",
       "      <th>363</th>\n",
       "      <td>597.200</td>\n",
       "      <td>61.000</td>\n",
       "      <td>cm244</td>\n",
       "      <td>18.100000</td>\n",
       "    </tr>\n",
       "    <tr>\n",
       "      <th>365</th>\n",
       "      <td>758.600</td>\n",
       "      <td>16.100</td>\n",
       "      <td>cm244</td>\n",
       "      <td>18.100000</td>\n",
       "    </tr>\n",
       "    <tr>\n",
       "      <th>366</th>\n",
       "      <td>817.800</td>\n",
       "      <td>80.000</td>\n",
       "      <td>cm244</td>\n",
       "      <td>18.100000</td>\n",
       "    </tr>\n",
       "    <tr>\n",
       "      <th>377</th>\n",
       "      <td>569.331</td>\n",
       "      <td>15.373</td>\n",
       "      <td>cs134</td>\n",
       "      <td>2.065200</td>\n",
       "    </tr>\n",
       "    <tr>\n",
       "      <th>378</th>\n",
       "      <td>604.721</td>\n",
       "      <td>97.620</td>\n",
       "      <td>cs134</td>\n",
       "      <td>2.065200</td>\n",
       "    </tr>\n",
       "    <tr>\n",
       "      <th>379</th>\n",
       "      <td>795.864</td>\n",
       "      <td>85.460</td>\n",
       "      <td>cs134</td>\n",
       "      <td>2.065200</td>\n",
       "    </tr>\n",
       "    <tr>\n",
       "      <th>386</th>\n",
       "      <td>661.657</td>\n",
       "      <td>85.100</td>\n",
       "      <td>cs137</td>\n",
       "      <td>30.080000</td>\n",
       "    </tr>\n",
       "    <tr>\n",
       "      <th>2298</th>\n",
       "      <td>497.085</td>\n",
       "      <td>100.000</td>\n",
       "      <td>ru103</td>\n",
       "      <td>0.107452</td>\n",
       "    </tr>\n",
       "    <tr>\n",
       "      <th>2393</th>\n",
       "      <td>908.960</td>\n",
       "      <td>100.000</td>\n",
       "      <td>sr89</td>\n",
       "      <td>0.138434</td>\n",
       "    </tr>\n",
       "    <tr>\n",
       "      <th>3479</th>\n",
       "      <td>1204.800</td>\n",
       "      <td>100.000</td>\n",
       "      <td>y91</td>\n",
       "      <td>0.160192</td>\n",
       "    </tr>\n",
       "    <tr>\n",
       "      <th>3643</th>\n",
       "      <td>724.192</td>\n",
       "      <td>44.270</td>\n",
       "      <td>zr95</td>\n",
       "      <td>0.175310</td>\n",
       "    </tr>\n",
       "    <tr>\n",
       "      <th>3644</th>\n",
       "      <td>756.725</td>\n",
       "      <td>54.380</td>\n",
       "      <td>zr95</td>\n",
       "      <td>0.175310</td>\n",
       "    </tr>\n",
       "  </tbody>\n",
       "</table>\n",
       "</div>"
      ],
      "text/plain": [
       "        energy  intensity  nucID  half life (y)\n",
       "360    302.990     21.400  cm244      18.100000\n",
       "361    506.900     10.000  cm244      18.100000\n",
       "362    554.500    100.000  cm244      18.100000\n",
       "363    597.200     61.000  cm244      18.100000\n",
       "365    758.600     16.100  cm244      18.100000\n",
       "366    817.800     80.000  cm244      18.100000\n",
       "377    569.331     15.373  cs134       2.065200\n",
       "378    604.721     97.620  cs134       2.065200\n",
       "379    795.864     85.460  cs134       2.065200\n",
       "386    661.657     85.100  cs137      30.080000\n",
       "2298   497.085    100.000  ru103       0.107452\n",
       "2393   908.960    100.000   sr89       0.138434\n",
       "3479  1204.800    100.000    y91       0.160192\n",
       "3643   724.192     44.270   zr95       0.175310\n",
       "3644   756.725     54.380   zr95       0.175310"
      ]
     },
     "execution_count": 96,
     "metadata": {},
     "output_type": "execute_result"
    }
   ],
   "source": [
    "some_gammas = halflifemin.loc[(all_gammas['energy'] > 300) & (all_gammas['intensity'] >= 10)]\n",
    "some_gammas"
   ]
  },
  {
   "cell_type": "markdown",
   "metadata": {},
   "source": [
    "## B. Find nucs with longer half lives from gadras list\n",
    "\n",
    "this was done, then new origen sims were run with the new nuclide list. \n",
    "\n",
    "those results are now above in nuc62."
   ]
  },
  {
   "cell_type": "code",
   "execution_count": 3,
   "metadata": {},
   "outputs": [
    {
     "name": "stdout",
     "output_type": "stream",
     "text": [
      "['Be7', 'N16', 'F18', 'Na22', 'Na24', 'Si31', 'P32', 'Cl38', 'Ar41', 'K40', 'K42', 'Sc46', 'Cr51', 'Mn54', 'Mn56', 'Fe52', 'Fe59', 'Co56', 'Co57', 'Co58', 'Co60', 'Co62', 'Co62m', 'Ni66', 'Cu64', 'Cu67', 'Zn63', 'Zn65', 'Ga67', 'Ga68', 'Ga72', 'Ge68', 'As76', 'Se75', 'Br77', 'Br82', 'Kr85', 'Kr85m', 'Kr88', 'Rb82', 'Rb83', 'Rb86', 'Sr83', 'Sr85', 'Sr87m', 'Sr89', 'Sr90', 'Sr91', 'Sr92', 'Y88', 'Y92', 'Y93', 'Zr89', 'Zr93', 'Zr95', 'Zr97', 'Nb91', 'Nb91m', 'Nb92', 'Nb92m', 'Nb94', 'Nb95', 'Nb95m', 'Nb97', 'Nb97m', 'Mo99', 'Tc99', 'Tc99m', 'Rh105', 'Ru103', 'Ru105', 'Ru106', 'Rh99', 'Rh100', 'Rh102', 'Rh102m', 'Pd103', 'Ag110m', 'Cd109', 'Cd115', 'In111', 'Sn113', 'Sn125', 'Sb122', 'Sb124', 'Sb125', 'Sb126', 'Te123m', 'Te129', 'Te129m', 'Te132', 'I123', 'I125', 'I126', 'I131', 'I132', 'I133', 'I134', 'I135', 'Xe127', 'Xe129m', 'Xe131m', 'Xe133', 'Xe133m', 'Xe135', 'Cs132', 'Cs134', 'Cs136', 'Cs137', 'Ba133', 'Ba140', 'La138', 'La140', 'Ce139', 'Ce141', 'Ce143', 'Ce144', 'Nd147', 'Pm145', 'Pm146', 'Sm153', 'Eu150', 'Eu152', 'Eu154', 'Eu155', 'Eu156', 'Gd153', 'Tb160', 'Ho166', 'Ho166m', 'Ho167', 'Yb169', 'Lu176', 'Lu177', 'Lu177m', 'Hf175', 'Ta182', 'Re186', 'W187', 'W188', 'Ir190', 'Ir192', 'Ir194', 'Pt188', 'Pt197', 'Au198', 'Au199', 'Hg203', 'Tl200', 'Tl201', 'Tl202', 'Tl204', 'Tl208', 'Tl209', 'Pb212', 'Pb214', 'Bi207', 'Bi214', 'Po210', 'At207', 'Rn222', 'Ra223', 'Ra226', 'Ac227', 'Ac228', 'Th227', 'Th228', 'Th229', 'Th232', 'Th234', 'Pa231', 'Pa233', 'U233', 'U232', 'U234', 'U235', 'U236', 'U237', 'U238', 'U239', 'Np236', 'Np237', 'Np239', 'Pu236', 'Pu238', 'Pu239', 'Pu240', 'Pu241', 'Pu242', 'Am241', 'Am243', 'Cm243', 'Cm244', 'Cm245', 'Cf249', 'Cf252']\n"
     ]
    }
   ],
   "source": [
    "gad_file = '/home/opotowsky/gadras_linux_apis/DetectorResponse/gadras_run_directory/RadionuclideList.txt'\n",
    "filelines = []\n",
    "with open(gad_file) as f:\n",
    "    for line in f.readlines():\n",
    "        l = line.strip().split()\n",
    "        filelines.append(l)\n",
    "del filelines[0]\n",
    "del filelines[143]\n",
    "gad_nucs = [line[0] for line in filelines]\n",
    "print(gad_nucs)"
   ]
  },
  {
   "cell_type": "code",
   "execution_count": 4,
   "metadata": {},
   "outputs": [
    {
     "data": {
      "text/plain": [
       "196"
      ]
     },
     "execution_count": 4,
     "metadata": {},
     "output_type": "execute_result"
    }
   ],
   "source": [
    "len(gad_nucs)"
   ]
  },
  {
   "cell_type": "code",
   "execution_count": 5,
   "metadata": {},
   "outputs": [],
   "source": [
    "gammas = []\n",
    "for nuc in gad_nucs:\n",
    "    energy = pd.DataFrame(data.gamma_energy(nucname.id(nuc)), columns = ['energy', 'err'])\n",
    "    intensity = pd.DataFrame(data.gamma_photon_intensity(nucname.id(nuc)), columns = ['intensity', 'err'])\n",
    "    gamma = pd.concat([energy.iloc[:,0], intensity.iloc[:,0]], axis=1)\n",
    "    gamma['nucID'] = nuc\n",
    "    gamma['half life (y)'] = data.half_life(nucname.id(nuc)) / 60 / 60 / 24 / 365.25\n",
    "    gammas.append(gamma)\n",
    "gad_gammas = pd.concat(gammas).reset_index(drop=True)"
   ]
  },
  {
   "cell_type": "code",
   "execution_count": 6,
   "metadata": {},
   "outputs": [],
   "source": [
    "# overwriting dataframe with only nucs that have half life longer than 3 months\n",
    "gad_gammas = gad_gammas.loc[gad_gammas['half life (y)'] > 0.25]"
   ]
  },
  {
   "cell_type": "code",
   "execution_count": 7,
   "metadata": {},
   "outputs": [
    {
     "name": "stdout",
     "output_type": "stream",
     "text": [
      "62\n",
      "['Ac227', 'Am241', 'Am243', 'Ba133', 'Bi207', 'Cd109', 'Ce139', 'Ce144', 'Cf249', 'Cf252', 'Cm243', 'Cm244', 'Cm245', 'Co57', 'Co60', 'Cs134', 'Cs137', 'Eu150', 'Eu152', 'Eu154', 'Eu155', 'Gd153', 'Ho166m', 'K40', 'Kr85', 'La138', 'Lu176', 'Mn54', 'Na22', 'Nb92', 'Nb94', 'Np236', 'Np237', 'Pa231', 'Pm145', 'Pm146', 'Po210', 'Pu236', 'Pu238', 'Pu239', 'Pu240', 'Pu241', 'Pu242', 'Ra226', 'Rh102', 'Sb125', 'Se75', 'Sn113', 'Ta182', 'Tc99', 'Th228', 'Th229', 'Th232', 'U232', 'U233', 'U234', 'U235', 'U236', 'U238', 'Y88', 'Zn65', 'Zr93']\n"
     ]
    }
   ],
   "source": [
    "gadlist = sorted(list(set(gad_gammas['nucID'].tolist())))\n",
    "print(len(gadlist))\n",
    "print(gadlist)"
   ]
  },
  {
   "cell_type": "code",
   "execution_count": 11,
   "metadata": {},
   "outputs": [
    {
     "data": {
      "image/png": "[encoded data removed]",
      "text/plain": [
       "<Figure size 864x576 with 1 Axes>"
      ]
     },
     "metadata": {
      "needs_background": "light"
     },
     "output_type": "display_data"
    }
   ],
   "source": [
    "fig, ax = plt.subplots(figsize=(12, 8))\n",
    "\n",
    "num_colors = len(gadlist)\n",
    "cm = plt.get_cmap('gist_rainbow')\n",
    "for i, nuc in enumerate(gadlist):\n",
    "    ix = np.where(gad_gammas['nucID'] == nuc)\n",
    "    ax.scatter(gad_gammas['energy'].iloc[ix], gad_gammas['intensity'].iloc[ix], \n",
    "               color = cm(1.*i/num_colors), label = nuc, s = 30)\n",
    "#ax.set_xlim(200, 6000)\n",
    "ax.set_ylim(0, 650)\n",
    "ax.set_xlabel('Energy (keV)')\n",
    "ax.set_ylabel('Relative Intensity')\n",
    "ax.legend(loc='best', ncol=4)\n",
    "plt.show()"
   ]
  },
  {
   "cell_type": "code",
   "execution_count": 12,
   "metadata": {},
   "outputs": [],
   "source": [
    "#gad_min_intensity = set(gad_gammas.loc[(gad_gammas['energy'] > 150) & (gad_gammas['intensity'] >= 5)]['nucID'].tolist())\n",
    "gad_min_intensity = set(gad_gammas.loc[(gad_gammas['intensity'] >= 1)]['nucID'].tolist())"
   ]
  },
  {
   "cell_type": "code",
   "execution_count": 13,
   "metadata": {},
   "outputs": [
    {
     "data": {
      "text/plain": [
       "53"
      ]
     },
     "execution_count": 13,
     "metadata": {},
     "output_type": "execute_result"
    }
   ],
   "source": [
    "len(gad_min_intensity)"
   ]
  },
  {
   "cell_type": "code",
   "execution_count": 14,
   "metadata": {},
   "outputs": [
    {
     "name": "stdout",
     "output_type": "stream",
     "text": [
      "['Ac227', 'Rh102', 'Pu241', 'Kr85', 'Ho166m', 'Cd109', 'Cs134', 'Am241', 'Pu239', 'Lu176', 'Cf249', 'K40', 'Co57', 'La138', 'Np237', 'Sn113', 'Nb92', 'Th229', 'Sb125', 'Gd153', 'Pm145', 'Cf252', 'Pa231', 'Np236', 'Y88', 'Cm243', 'Bi207', 'Se75', 'Pu238', 'Eu152', 'U233', 'Na22', 'Am243', 'Ta182', 'Cm245', 'Ce144', 'Eu155', 'U232', 'Mn54', 'Cs137', 'Eu154', 'Zn65', 'Ra226', 'U236', 'Ce139', 'U235', 'Eu150', 'Pm146', 'Ba133', 'Th228', 'Cm244', 'Co60', 'Tc99']\n"
     ]
    }
   ],
   "source": [
    "print(list(gad_min_intensity))"
   ]
  },
  {
   "cell_type": "code",
   "execution_count": 16,
   "metadata": {},
   "outputs": [],
   "source": [
    "import re"
   ]
  },
  {
   "cell_type": "code",
   "execution_count": 25,
   "metadata": {},
   "outputs": [
    {
     "data": {
      "text/plain": [
       "['Cs', '137', '']"
      ]
     },
     "execution_count": 25,
     "metadata": {},
     "output_type": "execute_result"
    }
   ],
   "source": [
    "s = 'Cs137'\n",
    "re.split('(\\d+)', s)"
   ]
  },
  {
   "cell_type": "code",
   "execution_count": 28,
   "metadata": {},
   "outputs": [
    {
     "name": "stdout",
     "output_type": "stream",
     "text": [
      "ac-227\n",
      "am-241\n",
      "am-243\n",
      "ba-133\n",
      "bi-207\n",
      "cd-109\n",
      "ce-139\n",
      "ce-144\n",
      "cf-249\n",
      "cf-252\n",
      "cm-243\n",
      "cm-244\n",
      "cm-245\n",
      "co-57\n",
      "co-60\n",
      "cs-134\n",
      "cs-137\n",
      "eu-150\n",
      "eu-152\n",
      "eu-154\n",
      "eu-155\n",
      "gd-153\n",
      "ho-166m\n",
      "k-40\n",
      "kr-85\n",
      "la-138\n",
      "lu-176\n",
      "mn-54\n",
      "na-22\n",
      "nb-92\n",
      "nb-94\n",
      "np-236\n",
      "np-237\n",
      "pa-231\n",
      "pm-145\n",
      "pm-146\n",
      "po-210\n",
      "pu-236\n",
      "pu-238\n",
      "pu-239\n",
      "pu-240\n",
      "pu-241\n",
      "pu-242\n",
      "ra-226\n",
      "rh-102\n",
      "sb-125\n",
      "se-75\n",
      "sn-113\n",
      "ta-182\n",
      "tc-99\n",
      "th-228\n",
      "th-229\n",
      "th-232\n",
      "u-232\n",
      "u-233\n",
      "u-234\n",
      "u-235\n",
      "u-236\n",
      "u-238\n",
      "y-88\n",
      "zn-65\n",
      "zr-93\n"
     ]
    }
   ],
   "source": [
    "origen_list = []\n",
    "for nuc in gadlist:\n",
    "    splitnuc = re.split('(\\d+)', nuc)\n",
    "    newnuc = splitnuc[0].lower() + '-' + splitnuc[1] + splitnuc[2]\n",
    "    origen_list.append(newnuc)\n",
    "for n in origen_list: print(n)"
   ]
  },
  {
   "cell_type": "code",
   "execution_count": null,
   "metadata": {},
   "outputs": [],
   "source": []
  }
 ],
 "metadata": {
  "kernelspec": {
   "display_name": "Python 3.6.9 64-bit",
   "language": "python",
   "name": "python36964bitd329e22ac13646ec9393c4f232bf7547"
  },
  "language_info": {
   "codemirror_mode": {
    "name": "ipython",
    "version": 3
   },
   "file_extension": ".py",
   "mimetype": "text/x-python",
   "name": "python",
   "nbconvert_exporter": "python",
   "pygments_lexer": "ipython3",
   "version": "3.6.9"
  }
 },
 "nbformat": 4,
 "nbformat_minor": 4
}
