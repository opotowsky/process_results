{
 "cells": [
  {
   "cell_type": "code",
   "execution_count": 1,
   "metadata": {},
   "outputs": [],
   "source": [
    "from pyne import data, nucname\n",
    "from pyne.material import Material\n",
    "import pandas as pd"
   ]
  },
  {
   "cell_type": "code",
   "execution_count": 2,
   "metadata": {},
   "outputs": [],
   "source": [
    "pkl62 = 'not-scaled_nuc62_activities.pkl'\n",
    "nuc62 = pd.read_pickle(pkl62).drop(columns=['total']).reset_index(drop=True)\n",
    "nuc62 = nuc62.loc[(nuc62['Burnup'] > 0) & (nuc62['CoolingTime'] > 0)]\n",
    "list62 = nuc62.columns.tolist()\n",
    "del list62[0:8]\n",
    "#print(len(list62))\n",
    "\n",
    "# arbitrary minimum max activity to filter out ultra-low activity (and zero activity) nucs\n",
    "min_maxact = 1e-7\n",
    "new_nuclist = []\n",
    "for nuc in list62:\n",
    "    maxact = nuc62[nuc].describe()['max']\n",
    "    if maxact > min_maxact:\n",
    "        new_nuclist.append(nuc)\n",
    "#print(len(new_nuclist))\n",
    "#print(new_nuclist)\n",
    "\n",
    "# labels removed\n",
    "nuc49 = nuc62[new_nuclist]"
   ]
  },
  {
   "cell_type": "code",
   "execution_count": 3,
   "metadata": {},
   "outputs": [],
   "source": [
    "#Choosing rando idx for this analysis\n",
    "idx = 29748\n",
    "no_gams = []\n",
    "gamma_dflist = []\n",
    "for nuc in new_nuclist:\n",
    "    mat = Material()\n",
    "    act_bq = nuc49.iloc[idx][nuc] * 3.7e10\n",
    "    mat.from_activity({nuc : act_bq})\n",
    "    try:\n",
    "        gamlist = mat.gammas()\n",
    "        gamma = pd.DataFrame(gamlist, columns = ['energy', 'intensity'])\n",
    "        num_atoms = mat.mass * 6.02e23 / data.atomic_mass(nucname.id(nuc))\n",
    "        gamma['total_intensity'] = num_atoms * gamma['intensity']\n",
    "        gamma['nucID'] = nuc\n",
    "        gamma['half life (y)'] = data.half_life(nucname.id(nuc)) / 60 / 60 / 24 / 365.25\n",
    "        gamma_dflist.append(gamma)\n",
    "    except:\n",
    "        no_gams.append(nuc)\n",
    "all_gammas = pd.concat(gamma_dflist).reset_index(drop=True)"
   ]
  },
  {
   "cell_type": "code",
   "execution_count": 4,
   "metadata": {},
   "outputs": [
    {
     "name": "stdout",
     "output_type": "stream",
     "text": [
      "['ac227', 'cf252', 'th229', 'u233']\n"
     ]
    }
   ],
   "source": [
    "print(no_gams)"
   ]
  },
  {
   "cell_type": "code",
   "execution_count": 8,
   "metadata": {
    "scrolled": false
   },
   "outputs": [
    {
     "name": "stdout",
     "output_type": "stream",
     "text": [
      "ac227\n",
      "892270000\n",
      "[(-872230000, 872230000)]\n",
      "\n",
      "\n",
      "cf252\n",
      "982520000\n",
      "[(-581490000, 581490002), (-451100000, -451100000), (-461170000, 461170003), (-451100000, -451100000), (-431080000, 431080001), (-411020000, -411020000), (-431080000, 431080001), (-581490000, -581490000), (-380940000, 380940006), (-411020000, -411020000), (-581490000, -581490000), (-581490000, -581490000), (-581490000, 581490002), (-441130000, 441130009), (-441130000, -441130000), (-451100000, -451100000), (-411020000, -411020000), (-451100000, -451100000), (-411020000, -411020000), (-411020000, -411020000), (-411020000, -411020000), (-411020000, -411020000), (-411020000, -411020000), (-581490000, -581490000), (-411020000, -411020000), (-581490000, -581490000), (-451100000, -451100000), (-441130000, 441130008), (-441130000, -441130000), (-411020000, -411020000), (-411020000, 411020006), (-451100000, -451100000), (-411020000, -411020000), (-411020000, -411020000), (-451100000, -451100000), (-411020000, 411020001), (-581490000, -581490000), (-451100000, -451100000), (-411020000, -411020000), (-451100000, -451100000), (-411020000, 411020006), (-441130000, -441130000), (-441130000, 441130009), (-441130000, -441130000), (-411020000, 411020006), (-581490000, -581490000), (-411020000, -411020000), (-641600000, 641600004), (-411020000, 411020001), (-581490000, -581490000), (-461180000, 461180016), (-411020000, -411020000), (-451100000, -451100000), (-581490000, -581490000), (-411020000, -411020000), (-461180000, 461180007), (-411020000, -411020000), (-581490000, -581490000), (-441130000, -441130000), (-441130000, -441130000), (-411020000, -411020000), (-581490000, 581490037), (-581490000, -581490000), (-380940000, 380940022), (-581490000, -581490000), (-461170000, -461170000), (-581490000, -581490000), (-551440000, 551440010), (-461180000, -461180000), (-441130000, -441130000), (-411020000, -411020000), (-461130000, 461130024), (-461130000, 461130024), (-451100000, -451100000), (-461180000, 461180014), (-461170000, -461170000), (-461180000, 461180002), (-421040000, 421040053), (-441130000, -441130000), (-441110000, 441110051), (-461180000, 461180005), (-461170000, -461170000), (-441130000, -441130000), (-340880000, 340880000), (-441120000, 441120054), (-360880000, 360880042), (-461150000, 461150017), (-461150000, 461150014), (-461170000, -461170000), (-360880000, 360880003), (-360880000, 360880023)]\n",
      "\n",
      "\n",
      "th229\n",
      "902290000\n",
      "[(-882250000, 882250035), (-882250000, 882250014), (-882250000, -882250000), (-882250000, 882250028), (-882250000, 882250022), (-882250000, 882250027), (-882250000, 882250025), (-882250000, 882250018), (-882250000, 882250000), (-882250000, 882250018), (-882250000, 882250011), (-882250000, 882250010), (-882250000, 882250005), (-882250000, 882250009), (-882250000, 882250003), (-882250000, 882250008), (-882250000, 882250000), (-882250000, 882250005)]\n",
      "\n",
      "\n",
      "u233\n",
      "922330000\n",
      "[(-902290000, 902290000), (-902290000, 902290003), (-902290000, 902290000)]\n",
      "\n",
      "\n"
     ]
    }
   ],
   "source": [
    "for nuc in nuc49:\n",
    "    children = data.gamma_from_to_byparent(nucname.id(nuc))\n",
    "    neg_from = [(x, y) for x, y in children if x < 0]\n",
    "    # it was determined that negative \"to\" children don't impact mat.gammas()\n",
    "    #neg_to = [y for x, y in children if y < 0]\n",
    "    if (len(neg_from) > 0):\n",
    "        print(nuc)\n",
    "        print(nucname.id(nuc))\n",
    "        print(neg_from)\n",
    "        print('\\n')"
   ]
  },
  {
   "cell_type": "code",
   "execution_count": 9,
   "metadata": {},
   "outputs": [],
   "source": [
    "nuclide = 'ac227'\n",
    "parent = nucname.id(nuclide)\n",
    "decay_c = data.decay_const(parent)\n",
    "energies = data.gamma_energy(parent)\n",
    "intensities = data.gamma_photon_intensity(parent)\n",
    "children = data.gamma_from_to_byparent(parent)\n",
    "decay_children = data.decay_data_children(parent)\n",
    "decay_branches = data.decay_photon_branch_ratio_byparent(parent)"
   ]
  },
  {
   "cell_type": "code",
   "execution_count": 15,
   "metadata": {},
   "outputs": [
    {
     "data": {
      "text/plain": [
       "[(872230012, 872230003),\n",
       " (872230017, 872230012),\n",
       " (872230015, 872230005),\n",
       " (872230017, 872230011),\n",
       " (872230007, 872230001),\n",
       " (-872230000, 872230000),\n",
       " (872230008, 872230001),\n",
       " (872230007, 872230000),\n",
       " (872230014, 872230003),\n",
       " (872230015, 872230003),\n",
       " (872230008, 872230000),\n",
       " (872230009, 872230001),\n",
       " (872230017, 872230010),\n",
       " (872230011, 872230001),\n",
       " (872230016, 872230003),\n",
       " (0, 0),\n",
       " (872230013, 872230001),\n",
       " (872230014, 872230001),\n",
       " (872230015, 872230001),\n",
       " (872230013, 872230000)]"
      ]
     },
     "execution_count": 15,
     "metadata": {},
     "output_type": "execute_result"
    }
   ],
   "source": [
    "children[40:60]"
   ]
  },
  {
   "cell_type": "code",
   "execution_count": 16,
   "metadata": {},
   "outputs": [
    {
     "data": {
      "text/plain": [
       "[872230000, 902270000]"
      ]
     },
     "execution_count": 16,
     "metadata": {},
     "output_type": "execute_result"
    }
   ],
   "source": [
    "decay_children"
   ]
  },
  {
   "cell_type": "code",
   "execution_count": 17,
   "metadata": {},
   "outputs": [
    {
     "data": {
      "text/plain": [
       "[(9.3, 1.1097228374671527e-13),\n",
       " (12.9, 1.5314222049194625e-14),\n",
       " (15.2, 6.35568534185733e-13),\n",
       " (24.5, 2.82474904082548e-11),\n",
       " (25.95, 6.125688819677849e-16),\n",
       " (28.6, 4.2371235612382196e-11),\n",
       " (33.5, 1.22513776393557e-13),\n",
       " (35.0, 3.062844409838925e-14),\n",
       " (37.47, 3.062844409838925e-15),\n",
       " (37.9, 4.94331082144459e-11),\n",
       " (44.7, 1.22513776393557e-13),\n",
       " (51.06, 3.0628444098389247e-16),\n",
       " (52.32, 1.5314222049194626e-15),\n",
       " (53.7, 4.594266614758387e-14),\n",
       " (55.0, 4.90055105574228e-13),\n",
       " (55.8, 4.287982173774495e-15),\n",
       " (57.56, 3.5222710713147635e-15),\n",
       " (59.4, 4.594266614758387e-14),\n",
       " (60.6, 4.594266614758387e-14),\n",
       " (69.28, 4.2879821737744945e-12),\n",
       " (70.6, 9.188533229516774e-14),\n",
       " (72.5, 7.657111024597313e-14),\n",
       " (79.54, 1.22513776393557e-12),\n",
       " (82.2, 9.188533229516774e-13),\n",
       " (83.0, 1.5314222049194626e-15),\n",
       " (85.0, 1.22513776393557e-14),\n",
       " (86.1, 5.206835496726172e-13),\n",
       " (86.7, 3.062844409838925e-12),\n",
       " (88.1, 7.657111024597312e-13),\n",
       " (88.5, 1.0719955434436237e-15),\n",
       " (90.0, 1.990848866395301e-13),\n",
       " (99.6, 5.666262158202011e-12),\n",
       " (101.0, 7.657111024597312e-13),\n",
       " (105.0, 3.828555512298656e-13),\n",
       " (106.85, 1.22513776393557e-12),\n",
       " (108.0, 4.594266614758387e-14),\n",
       " (118.7, 4.594266614758387e-14),\n",
       " (121.6, 1.3782799844275162e-12),\n",
       " (134.5, 6.12568881967785e-13),\n",
       " (137.4, 4.594266614758387e-13),\n",
       " (140.9, 2.2971333073791935e-13),\n",
       " (143.0, 3.062844409838925e-13),\n",
       " (143.65, 2.9097021893469784e-14),\n",
       " (146.0, 9.801102111484559e-15),\n",
       " (147.61, 2.7565599688550325e-12),\n",
       " (159.2, 6.12568881967785e-13),\n",
       " (160.49, 4.90055105574228e-12),\n",
       " (161.4, 1.5314222049194625e-13),\n",
       " (162.6, 6.12568881967785e-14),\n",
       " (172.0, 1.0719955434436236e-12),\n",
       " (174.3, 3.062844409838925e-13),\n",
       " (176.1, 3.6754132918067096e-13),\n",
       " (206.8, 1.0719955434436236e-12),\n",
       " (216.6, 6.12568881967785e-14),\n",
       " (229.7, 4.594266614758387e-13),\n",
       " (230.9, 1.5314222049194625e-14),\n",
       " (231.79, 7.963395465581204e-15),\n",
       " (242.6, 3.062844409838925e-13),\n",
       " (243.9, 3.062844409838925e-14),\n",
       " (283.4, 6.12568881967785e-14),\n",
       " (351.7, 6.12568881967785e-14),\n",
       " (415.6, 2.2971333073791935e-13),\n",
       " (439.6, 3.8285555122986563e-14),\n",
       " (441.0, 6.12568881967785e-14),\n",
       " (460.2, 2.2971333073791935e-13),\n",
       " (527.6, 3.215986630330871e-14),\n",
       " (540.4, 7.810253245089259e-14)]"
      ]
     },
     "execution_count": 17,
     "metadata": {},
     "output_type": "execute_result"
    }
   ],
   "source": [
    "# from pyne source code in data.cpp\n",
    "gammas_result = []\n",
    "for i, c in enumerate(children):\n",
    "    for j, dc in enumerate(decay_children):\n",
    "        # here is where we decide to skip negative nuclides\n",
    "        if c[0] > 0:\n",
    "            if nucname.zzzaaa(c[0]) == nucname.zzzaaa(dc):\n",
    "                gammas_result.append((energies[i][0], decay_c*intensities[i][0]*decay_branches[j][0]))\n",
    "gammas_result"
   ]
  },
  {
   "cell_type": "code",
   "execution_count": 18,
   "metadata": {},
   "outputs": [],
   "source": [
    "nuclide = 'cs137'\n",
    "parent = nucname.id(nuclide)\n",
    "decay_c = data.decay_const(parent)\n",
    "energies = data.gamma_energy(parent)\n",
    "intensities = data.gamma_photon_intensity(parent)\n",
    "children = data.gamma_from_to_byparent(parent)\n",
    "decay_children = data.decay_data_children(parent)\n",
    "decay_branches = data.decay_photon_branch_ratio_byparent(parent)"
   ]
  },
  {
   "cell_type": "code",
   "execution_count": 19,
   "metadata": {},
   "outputs": [
    {
     "data": {
      "text/plain": [
       "[(1.0, nan)]"
      ]
     },
     "execution_count": 19,
     "metadata": {},
     "output_type": "execute_result"
    }
   ],
   "source": [
    "decay_branches"
   ]
  },
  {
   "cell_type": "code",
   "execution_count": 20,
   "metadata": {},
   "outputs": [
    {
     "data": {
      "text/plain": [
       "[(561370001, 561370000), (561370002, 561370000)]"
      ]
     },
     "execution_count": 20,
     "metadata": {},
     "output_type": "execute_result"
    }
   ],
   "source": [
    "children"
   ]
  },
  {
   "cell_type": "code",
   "execution_count": 21,
   "metadata": {},
   "outputs": [
    {
     "data": {
      "text/plain": [
       "[561370000]"
      ]
     },
     "execution_count": 21,
     "metadata": {},
     "output_type": "execute_result"
    }
   ],
   "source": [
    "decay_children"
   ]
  },
  {
   "cell_type": "code",
   "execution_count": 22,
   "metadata": {},
   "outputs": [
    {
     "data": {
      "text/plain": [
       "[(283.5, 4.2351778792770855e-13), (661.657, 6.214028233215172e-08)]"
      ]
     },
     "execution_count": 22,
     "metadata": {},
     "output_type": "execute_result"
    }
   ],
   "source": [
    "gammas_result = []\n",
    "for i, c in enumerate(children):\n",
    "    for j, dc in enumerate(decay_children):\n",
    "        # here is where we decide to skip negative nuclides\n",
    "        if c[0] > 0:\n",
    "            if nucname.zzzaaa(c[0]) == nucname.zzzaaa(dc):\n",
    "                gammas_result.append((energies[i][0], decay_c*intensities[i][0]*decay_branches[j][0]))\n",
    "gammas_result"
   ]
  },
  {
   "cell_type": "markdown",
   "metadata": {},
   "source": [
    "# Result: Manual implementation of pyne gammas method "
   ]
  },
  {
   "cell_type": "code",
   "execution_count": 23,
   "metadata": {},
   "outputs": [],
   "source": [
    "def manual_gammas(nuclide):\n",
    "    parent = nucname.id(nuclide)\n",
    "    decay_c = data.decay_const(parent)\n",
    "    energies = data.gamma_energy(parent)\n",
    "    intensities = data.gamma_photon_intensity(parent)\n",
    "    children = data.gamma_from_to_byparent(parent)\n",
    "    decay_children = data.decay_data_children(parent)\n",
    "    decay_branches = data.decay_photon_branch_ratio_byparent(parent)\n",
    "    \n",
    "    gammas_result = []\n",
    "    for i, c in enumerate(children):\n",
    "        for j, dc in enumerate(decay_children):\n",
    "            # here is where we skip negative nuclides\n",
    "            if c[0] > 0:\n",
    "                if nucname.zzzaaa(c[0]) == nucname.zzzaaa(dc):\n",
    "                    gammas_result.append((energies[i][0], decay_c*intensities[i][0]*decay_branches[j][0]))\n",
    "    return gammas_result"
   ]
  },
  {
   "cell_type": "code",
   "execution_count": 24,
   "metadata": {},
   "outputs": [],
   "source": [
    "idx = 29748\n",
    "no_gams = []\n",
    "gamma_dflist = []\n",
    "for nuc in new_nuclist:\n",
    "    mat = Material()\n",
    "    act_bq = nuc49.iloc[idx][nuc] * 3.7e10\n",
    "    mat.from_activity({nuc : act_bq})\n",
    "    try:\n",
    "        gamlist = manual_gammas(nuc)\n",
    "        gamma = pd.DataFrame(gamlist, columns = ['energy', 'intensity'])\n",
    "        num_atoms = mat.mass * 6.02e23 / data.atomic_mass(nucname.id(nuc))\n",
    "        gamma['total_intensity'] = num_atoms * gamma['intensity']\n",
    "        gamma['nucID'] = nuc\n",
    "        gamma['half life (y)'] = data.half_life(nucname.id(nuc)) / 60 / 60 / 24 / 365.25\n",
    "        gamma_dflist.append(gamma)\n",
    "    except:\n",
    "        no_gams.append(nuc)\n",
    "all_gammas = pd.concat(gamma_dflist).reset_index(drop=True)"
   ]
  },
  {
   "cell_type": "code",
   "execution_count": 25,
   "metadata": {},
   "outputs": [
    {
     "data": {
      "text/plain": [
       "[]"
      ]
     },
     "execution_count": 25,
     "metadata": {},
     "output_type": "execute_result"
    }
   ],
   "source": [
    "no_gams"
   ]
  },
  {
   "cell_type": "code",
   "execution_count": 26,
   "metadata": {},
   "outputs": [
    {
     "data": {
      "text/plain": [
       "count    1.708000e+03\n",
       "mean     1.135661e+13\n",
       "std      2.929383e+14\n",
       "min      4.086126e-17\n",
       "25%      2.581830e+00\n",
       "50%      2.495861e+04\n",
       "75%      2.501519e+07\n",
       "max      1.040275e+16\n",
       "Name: total_intensity, dtype: float64"
      ]
     },
     "execution_count": 26,
     "metadata": {},
     "output_type": "execute_result"
    }
   ],
   "source": [
    "all_gammas['total_intensity'].describe()"
   ]
  },
  {
   "cell_type": "code",
   "execution_count": 27,
   "metadata": {},
   "outputs": [
    {
     "data": {
      "text/html": [
       "<div>\n",
       "<style scoped>\n",
       "    .dataframe tbody tr th:only-of-type {\n",
       "        vertical-align: middle;\n",
       "    }\n",
       "\n",
       "    .dataframe tbody tr th {\n",
       "        vertical-align: top;\n",
       "    }\n",
       "\n",
       "    .dataframe thead th {\n",
       "        text-align: right;\n",
       "    }\n",
       "</style>\n",
       "<table border=\"1\" class=\"dataframe\">\n",
       "  <thead>\n",
       "    <tr style=\"text-align: right;\">\n",
       "      <th></th>\n",
       "      <th>energy</th>\n",
       "      <th>intensity</th>\n",
       "      <th>total_intensity</th>\n",
       "      <th>nucID</th>\n",
       "      <th>half life (y)</th>\n",
       "    </tr>\n",
       "  </thead>\n",
       "  <tbody>\n",
       "    <tr>\n",
       "      <th>0</th>\n",
       "      <td>9.30</td>\n",
       "      <td>1.109723e-13</td>\n",
       "      <td>0.406854</td>\n",
       "      <td>ac227</td>\n",
       "      <td>21.772</td>\n",
       "    </tr>\n",
       "    <tr>\n",
       "      <th>1</th>\n",
       "      <td>12.90</td>\n",
       "      <td>1.531422e-14</td>\n",
       "      <td>0.056146</td>\n",
       "      <td>ac227</td>\n",
       "      <td>21.772</td>\n",
       "    </tr>\n",
       "    <tr>\n",
       "      <th>2</th>\n",
       "      <td>15.20</td>\n",
       "      <td>6.355685e-13</td>\n",
       "      <td>2.330164</td>\n",
       "      <td>ac227</td>\n",
       "      <td>21.772</td>\n",
       "    </tr>\n",
       "    <tr>\n",
       "      <th>3</th>\n",
       "      <td>24.50</td>\n",
       "      <td>2.824749e-11</td>\n",
       "      <td>103.562842</td>\n",
       "      <td>ac227</td>\n",
       "      <td>21.772</td>\n",
       "    </tr>\n",
       "    <tr>\n",
       "      <th>4</th>\n",
       "      <td>25.95</td>\n",
       "      <td>6.125689e-16</td>\n",
       "      <td>0.002246</td>\n",
       "      <td>ac227</td>\n",
       "      <td>21.772</td>\n",
       "    </tr>\n",
       "    <tr>\n",
       "      <th>...</th>\n",
       "      <td>...</td>\n",
       "      <td>...</td>\n",
       "      <td>...</td>\n",
       "      <td>...</td>\n",
       "      <td>...</td>\n",
       "    </tr>\n",
       "    <tr>\n",
       "      <th>62</th>\n",
       "      <td>439.60</td>\n",
       "      <td>3.828556e-14</td>\n",
       "      <td>0.140365</td>\n",
       "      <td>ac227</td>\n",
       "      <td>21.772</td>\n",
       "    </tr>\n",
       "    <tr>\n",
       "      <th>63</th>\n",
       "      <td>441.00</td>\n",
       "      <td>6.125689e-14</td>\n",
       "      <td>0.224584</td>\n",
       "      <td>ac227</td>\n",
       "      <td>21.772</td>\n",
       "    </tr>\n",
       "    <tr>\n",
       "      <th>64</th>\n",
       "      <td>460.20</td>\n",
       "      <td>2.297133e-13</td>\n",
       "      <td>0.842190</td>\n",
       "      <td>ac227</td>\n",
       "      <td>21.772</td>\n",
       "    </tr>\n",
       "    <tr>\n",
       "      <th>65</th>\n",
       "      <td>527.60</td>\n",
       "      <td>3.215987e-14</td>\n",
       "      <td>0.117907</td>\n",
       "      <td>ac227</td>\n",
       "      <td>21.772</td>\n",
       "    </tr>\n",
       "    <tr>\n",
       "      <th>66</th>\n",
       "      <td>540.40</td>\n",
       "      <td>7.810253e-14</td>\n",
       "      <td>0.286345</td>\n",
       "      <td>ac227</td>\n",
       "      <td>21.772</td>\n",
       "    </tr>\n",
       "  </tbody>\n",
       "</table>\n",
       "<p>67 rows × 5 columns</p>\n",
       "</div>"
      ],
      "text/plain": [
       "    energy     intensity  total_intensity  nucID  half life (y)\n",
       "0     9.30  1.109723e-13         0.406854  ac227         21.772\n",
       "1    12.90  1.531422e-14         0.056146  ac227         21.772\n",
       "2    15.20  6.355685e-13         2.330164  ac227         21.772\n",
       "3    24.50  2.824749e-11       103.562842  ac227         21.772\n",
       "4    25.95  6.125689e-16         0.002246  ac227         21.772\n",
       "..     ...           ...              ...    ...            ...\n",
       "62  439.60  3.828556e-14         0.140365  ac227         21.772\n",
       "63  441.00  6.125689e-14         0.224584  ac227         21.772\n",
       "64  460.20  2.297133e-13         0.842190  ac227         21.772\n",
       "65  527.60  3.215987e-14         0.117907  ac227         21.772\n",
       "66  540.40  7.810253e-14         0.286345  ac227         21.772\n",
       "\n",
       "[67 rows x 5 columns]"
      ]
     },
     "execution_count": 27,
     "metadata": {},
     "output_type": "execute_result"
    }
   ],
   "source": [
    "all_gammas.loc[all_gammas['nucID'] == 'ac227']"
   ]
  },
  {
   "cell_type": "code",
   "execution_count": null,
   "metadata": {},
   "outputs": [],
   "source": []
  }
 ],
 "metadata": {
  "kernelspec": {
   "display_name": "Python 3.6.9 64-bit",
   "language": "python",
   "name": "python36964bitd329e22ac13646ec9393c4f232bf7547"
  },
  "language_info": {
   "codemirror_mode": {
    "name": "ipython",
    "version": 3
   },
   "file_extension": ".py",
   "mimetype": "text/x-python",
   "name": "python",
   "nbconvert_exporter": "python",
   "pygments_lexer": "ipython3",
   "version": "3.6.9"
  }
 },
 "nbformat": 4,
 "nbformat_minor": 4
}
