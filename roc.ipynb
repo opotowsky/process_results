{
 "cells": [
  {
   "cell_type": "code",
   "execution_count": 19,
   "metadata": {},
   "outputs": [],
   "source": [
    "import pandas as pd\n",
    "import numpy as np\n",
    "import matplotlib.pyplot as plt\n",
    "import matplotlib as mpl\n",
    "from sklearn.preprocessing import scale, label_binarize\n",
    "from sklearn.model_selection import cross_val_predict\n",
    "from sklearn.neighbors import KNeighborsClassifier\n",
    "from sklearn.tree import DecisionTreeClassifier\n",
    "from sklearn.model_selection import StratifiedKFold\n",
    "from sklearn.metrics import roc_curve, roc_auc_score, auc"
   ]
  },
  {
   "cell_type": "code",
   "execution_count": 17,
   "metadata": {},
   "outputs": [],
   "source": [
    "# color dict (use: colors['XColor'])\n",
    "import ast\n",
    "with open('color_palette.txt', 'r') as file:\n",
    "    contents = file.read()\n",
    "    colors = ast.literal_eval(contents)"
   ]
  },
  {
   "cell_type": "code",
   "execution_count": 4,
   "metadata": {},
   "outputs": [],
   "source": [
    "CV = 5\n",
    "lbls = ['ReactorType', 'CoolingTime', 'Enrichment', 'Burnup', 'OrigenReactor']\n",
    "nonlbls = ['AvgPowerDensity', 'ModDensity', 'UiWeight']\n",
    "train = pd.read_pickle('/mnt/researchdrive/BOX_INTERNAL/opotowsky/sim_grams_nuc29.pkl')"
   ]
  },
  {
   "cell_type": "code",
   "execution_count": 7,
   "metadata": {},
   "outputs": [],
   "source": [
    "X = train.drop(lbls, axis=1)\n",
    "for nonlbl in nonlbls+['total']:\n",
    "    if nonlbl in X.columns:\n",
    "        X.drop(nonlbl, axis=1, inplace=True)\n",
    "y = train.loc[:, lbls[0]]"
   ]
  },
  {
   "cell_type": "code",
   "execution_count": 26,
   "metadata": {},
   "outputs": [],
   "source": [
    "X = scale(X)"
   ]
  },
  {
   "cell_type": "code",
   "execution_count": 27,
   "metadata": {},
   "outputs": [],
   "source": [
    "cv = StratifiedKFold(n_splits=CV, shuffle=True)\n",
    "knn_init = KNeighborsClassifier(n_neighbors=4, weights='distance', p=1, metric='minkowski')\n",
    "dtr_init = DecisionTreeClassifier(max_depth=56, max_features=None, class_weight='balanced')"
   ]
  },
  {
   "cell_type": "code",
   "execution_count": 37,
   "metadata": {},
   "outputs": [],
   "source": [
    "#rxtrs = ['pwr', 'bwr', 'phwr']\n",
    "rxtrs = ['bwr', 'phwr', 'pwr']"
   ]
  },
  {
   "cell_type": "code",
   "execution_count": 38,
   "metadata": {},
   "outputs": [
    {
     "data": {
      "text/plain": [
       "array([[1, 0, 0],\n",
       "       [1, 0, 0],\n",
       "       [1, 0, 0],\n",
       "       ...,\n",
       "       [0, 1, 0],\n",
       "       [0, 1, 0],\n",
       "       [0, 1, 0]])"
      ]
     },
     "execution_count": 38,
     "metadata": {},
     "output_type": "execute_result"
    }
   ],
   "source": [
    "y_bin = label_binarize(y, classes=rxtrs)\n",
    "n_classes = 3\n",
    "y_bin"
   ]
  },
  {
   "cell_type": "code",
   "execution_count": 29,
   "metadata": {},
   "outputs": [],
   "source": [
    "y_score_knn = cross_val_predict(knn_init, X, y, cv=cv, method='predict_proba')"
   ]
  },
  {
   "cell_type": "code",
   "execution_count": 31,
   "metadata": {},
   "outputs": [
    {
     "data": {
      "text/plain": [
       "array([[1., 0., 0.],\n",
       "       [1., 0., 0.],\n",
       "       [1., 0., 0.],\n",
       "       ...,\n",
       "       [0., 1., 0.],\n",
       "       [0., 1., 0.],\n",
       "       [0., 1., 0.]])"
      ]
     },
     "execution_count": 31,
     "metadata": {},
     "output_type": "execute_result"
    }
   ],
   "source": [
    "y_score_knn"
   ]
  },
  {
   "cell_type": "code",
   "execution_count": null,
   "metadata": {},
   "outputs": [],
   "source": [
    "y_score_dtr = cross_val_predict(dtr_init, X, y, cv=cv, method='predict_proba')"
   ]
  },
  {
   "cell_type": "code",
   "execution_count": 39,
   "metadata": {},
   "outputs": [],
   "source": [
    "fpr_knn = dict()\n",
    "tpr_knn = dict()\n",
    "auc_knn = dict()\n",
    "#fpr_dtr = dict()\n",
    "#tpr_dtr = dict()\n",
    "#auc_dtr = dict()\n",
    "for i in range(n_classes):\n",
    "    fpr_knn[i], tpr_knn[i], _ = roc_curve(y_bin[:, i], y_score_knn[:, i])\n",
    "    #fpr_dtr[i], tpr_dtr[i], _ = roc_curve(y_bin[:, i], y_score_dtr[:, i])\n",
    "    auc_knn[i] = auc(fpr_knn[i], tpr_knn[i])\n",
    "    #auc_dtr[i] = auc(fpr_dtr[i], tpr_dtr[i])"
   ]
  },
  {
   "cell_type": "code",
   "execution_count": 42,
   "metadata": {},
   "outputs": [],
   "source": [
    "def plot_roc(fpr, tpr, auc, alg):\n",
    "    color = ['Brwn', 'Purp', 'Teal']\n",
    "    for i, c in zip(range(n_classes), color):\n",
    "        plt.plot(fpr[i], tpr[i], lw=2, color=colors['M'+c],\n",
    "                 label='ROC, {0} (AUC = {1:0.2f})'.format(rxtrs[i], auc[i]))\n",
    "    plt.plot([0, 1], [0, 1], 'k--', lw=2)\n",
    "    plt.xlim([-0.05, 1.0])\n",
    "    plt.ylim([0.0, 1.05])\n",
    "    plt.xlabel('False Positive Rate')\n",
    "    plt.ylabel('True Positive Rate')\n",
    "    plt.title('Receiver operating characteristic for {}'.format(alg))\n",
    "    plt.legend(loc=\"lower right\")\n",
    "    plt.show()\n",
    "    return"
   ]
  },
  {
   "cell_type": "code",
   "execution_count": 43,
   "metadata": {},
   "outputs": [
    {
     "data": {
      "image/png": "[encoded data removed]",
      "text/plain": [
       "<Figure size 432x288 with 1 Axes>"
      ]
     },
     "metadata": {
      "needs_background": "light"
     },
     "output_type": "display_data"
    }
   ],
   "source": [
    "plot_roc(fpr_knn, tpr_knn, auc_knn, 'kNN')"
   ]
  },
  {
   "cell_type": "code",
   "execution_count": null,
   "metadata": {},
   "outputs": [],
   "source": [
    "plot_roc(fpr_dtr, tpr_dtr, auc_dtr, 'Dec Tree')"
   ]
  }
 ],
 "metadata": {
  "kernelspec": {
   "display_name": "Python 3",
   "language": "python",
   "name": "python3"
  },
  "language_info": {
   "codemirror_mode": {
    "name": "ipython",
    "version": 3
   },
   "file_extension": ".py",
   "mimetype": "text/x-python",
   "name": "python",
   "nbconvert_exporter": "python",
   "pygments_lexer": "ipython3",
   "version": "3.6.9"
  }
 },
 "nbformat": 4,
 "nbformat_minor": 4
}
