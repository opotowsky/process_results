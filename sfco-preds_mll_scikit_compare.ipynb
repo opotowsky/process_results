{
 "cells": [
  {
   "cell_type": "code",
   "execution_count": 2,
   "metadata": {},
   "outputs": [],
   "source": [
    "import pandas as pd"
   ]
  },
  {
   "cell_type": "code",
   "execution_count": 16,
   "metadata": {},
   "outputs": [],
   "source": [
    "base = '/mnt/researchdrive/BOX_INTERNAL/opotowsky/processed_results/'\n",
    "sfco = 'sfcompo_mll_scikit_compare.pkl'\n",
    "df = pd.read_pickle(base+sfco)"
   ]
  },
  {
   "cell_type": "code",
   "execution_count": 17,
   "metadata": {},
   "outputs": [],
   "source": [
    "poserr = {'Neg MAE' : 'MAE', 'Neg MedAE' : 'MedAE', 'Neg MAPE' : 'MAPE', \n",
    "          'MedAE IQR_25' : 'IQR_25', 'MedAE IQR_75' : 'IQR_75',\n",
    "          'Balanced Accuracy' : 'Bal Acc', 'Accuracy' : 'Acc'}\n",
    "df.rename(columns=poserr, inplace=True)\n",
    "err_list = ['MAE', 'MAPE', 'MedAE', 'QR_25', 'IQR_75']\n",
    "df.loc[(['imputed-null', 'zero-null'], ['burnup', 'enrichment']), (['knn', 'dtree', 'mll'], err_list)] *= -1"
   ]
  },
  {
   "cell_type": "markdown",
   "metadata": {},
   "source": [
    "# SFCOMPO Results"
   ]
  },
  {
   "cell_type": "markdown",
   "metadata": {},
   "source": [
    "### Reactor Type"
   ]
  },
  {
   "cell_type": "code",
   "execution_count": 18,
   "metadata": {},
   "outputs": [
    {
     "data": {
      "text/html": [
       "<div>\n",
       "<style scoped>\n",
       "    .dataframe tbody tr th:only-of-type {\n",
       "        vertical-align: middle;\n",
       "    }\n",
       "\n",
       "    .dataframe tbody tr th {\n",
       "        vertical-align: top;\n",
       "    }\n",
       "\n",
       "    .dataframe thead tr th {\n",
       "        text-align: left;\n",
       "    }\n",
       "\n",
       "    .dataframe thead tr:last-of-type th {\n",
       "        text-align: right;\n",
       "    }\n",
       "</style>\n",
       "<table border=\"1\" class=\"dataframe\">\n",
       "  <thead>\n",
       "    <tr>\n",
       "      <th></th>\n",
       "      <th>Algorithm</th>\n",
       "      <th colspan=\"2\" halign=\"left\">knn</th>\n",
       "      <th colspan=\"2\" halign=\"left\">dtree</th>\n",
       "      <th colspan=\"2\" halign=\"left\">mll</th>\n",
       "    </tr>\n",
       "    <tr>\n",
       "      <th></th>\n",
       "      <th>Metric</th>\n",
       "      <th>Acc</th>\n",
       "      <th>Acc CI</th>\n",
       "      <th>Acc</th>\n",
       "      <th>Acc CI</th>\n",
       "      <th>Acc</th>\n",
       "      <th>Acc CI</th>\n",
       "    </tr>\n",
       "    <tr>\n",
       "      <th>NullHandling</th>\n",
       "      <th>PredParam</th>\n",
       "      <th></th>\n",
       "      <th></th>\n",
       "      <th></th>\n",
       "      <th></th>\n",
       "      <th></th>\n",
       "      <th></th>\n",
       "    </tr>\n",
       "  </thead>\n",
       "  <tbody>\n",
       "    <tr>\n",
       "      <th>imputed-null</th>\n",
       "      <th>reactor</th>\n",
       "      <td>0.522772</td>\n",
       "      <td>0.022227</td>\n",
       "      <td>0.600000</td>\n",
       "      <td>0.021800</td>\n",
       "      <td>0.386139</td>\n",
       "      <td>0.021665</td>\n",
       "    </tr>\n",
       "    <tr>\n",
       "      <th>zero-null</th>\n",
       "      <th>reactor</th>\n",
       "      <td>0.451485</td>\n",
       "      <td>0.022145</td>\n",
       "      <td>0.421782</td>\n",
       "      <td>0.021976</td>\n",
       "      <td>0.718812</td>\n",
       "      <td>0.020006</td>\n",
       "    </tr>\n",
       "  </tbody>\n",
       "</table>\n",
       "</div>"
      ],
      "text/plain": [
       "Algorithm                    knn               dtree                 mll  \\\n",
       "Metric                       Acc    Acc CI       Acc    Acc CI       Acc   \n",
       "NullHandling PredParam                                                     \n",
       "imputed-null reactor    0.522772  0.022227  0.600000  0.021800  0.386139   \n",
       "zero-null    reactor    0.451485  0.022145  0.421782  0.021976  0.718812   \n",
       "\n",
       "Algorithm                         \n",
       "Metric                    Acc CI  \n",
       "NullHandling PredParam            \n",
       "imputed-null reactor    0.021665  \n",
       "zero-null    reactor    0.020006  "
      ]
     },
     "execution_count": 18,
     "metadata": {},
     "output_type": "execute_result"
    }
   ],
   "source": [
    "acc_list = ['Acc', 'Acc CI']\n",
    "df.loc[(['imputed-null', 'zero-null'], 'reactor'), (['knn', 'dtree', 'mll'], acc_list)]"
   ]
  },
  {
   "cell_type": "code",
   "execution_count": 19,
   "metadata": {},
   "outputs": [
    {
     "data": {
      "text/html": [
       "<div>\n",
       "<style scoped>\n",
       "    .dataframe tbody tr th:only-of-type {\n",
       "        vertical-align: middle;\n",
       "    }\n",
       "\n",
       "    .dataframe tbody tr th {\n",
       "        vertical-align: top;\n",
       "    }\n",
       "\n",
       "    .dataframe thead tr th {\n",
       "        text-align: left;\n",
       "    }\n",
       "\n",
       "    .dataframe thead tr:last-of-type th {\n",
       "        text-align: right;\n",
       "    }\n",
       "</style>\n",
       "<table border=\"1\" class=\"dataframe\">\n",
       "  <thead>\n",
       "    <tr>\n",
       "      <th></th>\n",
       "      <th>Algorithm</th>\n",
       "      <th colspan=\"2\" halign=\"left\">knn</th>\n",
       "      <th colspan=\"2\" halign=\"left\">dtree</th>\n",
       "      <th colspan=\"2\" halign=\"left\">mll</th>\n",
       "    </tr>\n",
       "    <tr>\n",
       "      <th></th>\n",
       "      <th>Metric</th>\n",
       "      <th>Bal Acc</th>\n",
       "      <th>BalAcc CI</th>\n",
       "      <th>Bal Acc</th>\n",
       "      <th>BalAcc CI</th>\n",
       "      <th>Bal Acc</th>\n",
       "      <th>BalAcc CI</th>\n",
       "    </tr>\n",
       "    <tr>\n",
       "      <th>NullHandling</th>\n",
       "      <th>PredParam</th>\n",
       "      <th></th>\n",
       "      <th></th>\n",
       "      <th></th>\n",
       "      <th></th>\n",
       "      <th></th>\n",
       "      <th></th>\n",
       "    </tr>\n",
       "  </thead>\n",
       "  <tbody>\n",
       "    <tr>\n",
       "      <th>imputed-null</th>\n",
       "      <th>reactor</th>\n",
       "      <td>0.090122</td>\n",
       "      <td>0.012743</td>\n",
       "      <td>0.115501</td>\n",
       "      <td>0.014223</td>\n",
       "      <td>0.000000</td>\n",
       "      <td>0.000000</td>\n",
       "    </tr>\n",
       "    <tr>\n",
       "      <th>zero-null</th>\n",
       "      <th>reactor</th>\n",
       "      <td>0.207605</td>\n",
       "      <td>0.018049</td>\n",
       "      <td>0.295921</td>\n",
       "      <td>0.020312</td>\n",
       "      <td>0.631419</td>\n",
       "      <td>0.021467</td>\n",
       "    </tr>\n",
       "  </tbody>\n",
       "</table>\n",
       "</div>"
      ],
      "text/plain": [
       "Algorithm                    knn               dtree                 mll  \\\n",
       "Metric                   Bal Acc BalAcc CI   Bal Acc BalAcc CI   Bal Acc   \n",
       "NullHandling PredParam                                                     \n",
       "imputed-null reactor    0.090122  0.012743  0.115501  0.014223  0.000000   \n",
       "zero-null    reactor    0.207605  0.018049  0.295921  0.020312  0.631419   \n",
       "\n",
       "Algorithm                         \n",
       "Metric                 BalAcc CI  \n",
       "NullHandling PredParam            \n",
       "imputed-null reactor    0.000000  \n",
       "zero-null    reactor    0.021467  "
      ]
     },
     "execution_count": 19,
     "metadata": {},
     "output_type": "execute_result"
    }
   ],
   "source": [
    "acc_list = ['Bal Acc', 'BalAcc CI']\n",
    "df.loc[(['imputed-null', 'zero-null'], 'reactor'), (['knn', 'dtree', 'mll'], acc_list)]"
   ]
  },
  {
   "cell_type": "markdown",
   "metadata": {},
   "source": [
    "### Burnup"
   ]
  },
  {
   "cell_type": "code",
   "execution_count": 20,
   "metadata": {
    "scrolled": true
   },
   "outputs": [
    {
     "data": {
      "text/html": [
       "<div>\n",
       "<style scoped>\n",
       "    .dataframe tbody tr th:only-of-type {\n",
       "        vertical-align: middle;\n",
       "    }\n",
       "\n",
       "    .dataframe tbody tr th {\n",
       "        vertical-align: top;\n",
       "    }\n",
       "\n",
       "    .dataframe thead tr th {\n",
       "        text-align: left;\n",
       "    }\n",
       "\n",
       "    .dataframe thead tr:last-of-type th {\n",
       "        text-align: right;\n",
       "    }\n",
       "</style>\n",
       "<table border=\"1\" class=\"dataframe\">\n",
       "  <thead>\n",
       "    <tr>\n",
       "      <th></th>\n",
       "      <th>Algorithm</th>\n",
       "      <th colspan=\"2\" halign=\"left\">knn</th>\n",
       "      <th colspan=\"2\" halign=\"left\">dtree</th>\n",
       "      <th colspan=\"2\" halign=\"left\">mll</th>\n",
       "    </tr>\n",
       "    <tr>\n",
       "      <th></th>\n",
       "      <th>Metric</th>\n",
       "      <th>MAE</th>\n",
       "      <th>MAE Std</th>\n",
       "      <th>MAE</th>\n",
       "      <th>MAE Std</th>\n",
       "      <th>MAE</th>\n",
       "      <th>MAE Std</th>\n",
       "    </tr>\n",
       "    <tr>\n",
       "      <th>NullHandling</th>\n",
       "      <th>PredParam</th>\n",
       "      <th></th>\n",
       "      <th></th>\n",
       "      <th></th>\n",
       "      <th></th>\n",
       "      <th></th>\n",
       "      <th></th>\n",
       "    </tr>\n",
       "  </thead>\n",
       "  <tbody>\n",
       "    <tr>\n",
       "      <th>imputed-null</th>\n",
       "      <th>burnup</th>\n",
       "      <td>9433.718488</td>\n",
       "      <td>8494.801751</td>\n",
       "      <td>10891.433122</td>\n",
       "      <td>9864.653647</td>\n",
       "      <td>13168.940290</td>\n",
       "      <td>10587.055692</td>\n",
       "    </tr>\n",
       "    <tr>\n",
       "      <th>zero-null</th>\n",
       "      <th>burnup</th>\n",
       "      <td>14875.237472</td>\n",
       "      <td>13392.796181</td>\n",
       "      <td>15182.662343</td>\n",
       "      <td>15817.366266</td>\n",
       "      <td>3532.898462</td>\n",
       "      <td>4232.458472</td>\n",
       "    </tr>\n",
       "  </tbody>\n",
       "</table>\n",
       "</div>"
      ],
      "text/plain": [
       "Algorithm                        knn                       dtree  \\\n",
       "Metric                           MAE       MAE Std           MAE   \n",
       "NullHandling PredParam                                             \n",
       "imputed-null burnup      9433.718488   8494.801751  10891.433122   \n",
       "zero-null    burnup     14875.237472  13392.796181  15182.662343   \n",
       "\n",
       "Algorithm                                      mll                \n",
       "Metric                       MAE Std           MAE       MAE Std  \n",
       "NullHandling PredParam                                            \n",
       "imputed-null burnup      9864.653647  13168.940290  10587.055692  \n",
       "zero-null    burnup     15817.366266   3532.898462   4232.458472  "
      ]
     },
     "execution_count": 20,
     "metadata": {},
     "output_type": "execute_result"
    }
   ],
   "source": [
    "err_list = ['MAE', 'MAE Std']\n",
    "df.loc[(['imputed-null', 'zero-null'], 'burnup'), (['knn', 'dtree', 'mll'], err_list)]"
   ]
  },
  {
   "cell_type": "code",
   "execution_count": 21,
   "metadata": {
    "scrolled": true
   },
   "outputs": [
    {
     "data": {
      "text/html": [
       "<div>\n",
       "<style scoped>\n",
       "    .dataframe tbody tr th:only-of-type {\n",
       "        vertical-align: middle;\n",
       "    }\n",
       "\n",
       "    .dataframe tbody tr th {\n",
       "        vertical-align: top;\n",
       "    }\n",
       "\n",
       "    .dataframe thead tr th {\n",
       "        text-align: left;\n",
       "    }\n",
       "\n",
       "    .dataframe thead tr:last-of-type th {\n",
       "        text-align: right;\n",
       "    }\n",
       "</style>\n",
       "<table border=\"1\" class=\"dataframe\">\n",
       "  <thead>\n",
       "    <tr>\n",
       "      <th></th>\n",
       "      <th>Algorithm</th>\n",
       "      <th colspan=\"2\" halign=\"left\">knn</th>\n",
       "      <th colspan=\"2\" halign=\"left\">dtree</th>\n",
       "      <th colspan=\"2\" halign=\"left\">mll</th>\n",
       "    </tr>\n",
       "    <tr>\n",
       "      <th></th>\n",
       "      <th>Metric</th>\n",
       "      <th>MAPE</th>\n",
       "      <th>MAPE Std</th>\n",
       "      <th>MAPE</th>\n",
       "      <th>MAPE Std</th>\n",
       "      <th>MAPE</th>\n",
       "      <th>MAPE Std</th>\n",
       "    </tr>\n",
       "    <tr>\n",
       "      <th>NullHandling</th>\n",
       "      <th>PredParam</th>\n",
       "      <th></th>\n",
       "      <th></th>\n",
       "      <th></th>\n",
       "      <th></th>\n",
       "      <th></th>\n",
       "      <th></th>\n",
       "    </tr>\n",
       "  </thead>\n",
       "  <tbody>\n",
       "    <tr>\n",
       "      <th>imputed-null</th>\n",
       "      <th>burnup</th>\n",
       "      <td>102.822066</td>\n",
       "      <td>349.716345</td>\n",
       "      <td>113.512633</td>\n",
       "      <td>371.917203</td>\n",
       "      <td>166.780306</td>\n",
       "      <td>434.520142</td>\n",
       "    </tr>\n",
       "    <tr>\n",
       "      <th>zero-null</th>\n",
       "      <th>burnup</th>\n",
       "      <td>53.636249</td>\n",
       "      <td>33.699767</td>\n",
       "      <td>54.050509</td>\n",
       "      <td>43.256411</td>\n",
       "      <td>13.623656</td>\n",
       "      <td>16.279853</td>\n",
       "    </tr>\n",
       "  </tbody>\n",
       "</table>\n",
       "</div>"
      ],
      "text/plain": [
       "Algorithm                      knn                   dtree              \\\n",
       "Metric                        MAPE    MAPE Std        MAPE    MAPE Std   \n",
       "NullHandling PredParam                                                   \n",
       "imputed-null burnup     102.822066  349.716345  113.512633  371.917203   \n",
       "zero-null    burnup      53.636249   33.699767   54.050509   43.256411   \n",
       "\n",
       "Algorithm                      mll              \n",
       "Metric                        MAPE    MAPE Std  \n",
       "NullHandling PredParam                          \n",
       "imputed-null burnup     166.780306  434.520142  \n",
       "zero-null    burnup      13.623656   16.279853  "
      ]
     },
     "execution_count": 21,
     "metadata": {},
     "output_type": "execute_result"
    }
   ],
   "source": [
    "err_list = ['MAPE', 'MAPE Std']\n",
    "df.loc[(['imputed-null', 'zero-null'], 'burnup'), (['knn', 'dtree', 'mll'], err_list)]"
   ]
  },
  {
   "cell_type": "code",
   "execution_count": 22,
   "metadata": {
    "scrolled": true
   },
   "outputs": [
    {
     "data": {
      "text/html": [
       "<div>\n",
       "<style scoped>\n",
       "    .dataframe tbody tr th:only-of-type {\n",
       "        vertical-align: middle;\n",
       "    }\n",
       "\n",
       "    .dataframe tbody tr th {\n",
       "        vertical-align: top;\n",
       "    }\n",
       "\n",
       "    .dataframe thead tr th {\n",
       "        text-align: left;\n",
       "    }\n",
       "\n",
       "    .dataframe thead tr:last-of-type th {\n",
       "        text-align: right;\n",
       "    }\n",
       "</style>\n",
       "<table border=\"1\" class=\"dataframe\">\n",
       "  <thead>\n",
       "    <tr>\n",
       "      <th></th>\n",
       "      <th>Algorithm</th>\n",
       "      <th colspan=\"3\" halign=\"left\">knn</th>\n",
       "      <th colspan=\"3\" halign=\"left\">dtree</th>\n",
       "      <th colspan=\"3\" halign=\"left\">mll</th>\n",
       "    </tr>\n",
       "    <tr>\n",
       "      <th></th>\n",
       "      <th>Metric</th>\n",
       "      <th>MedAE</th>\n",
       "      <th>IQR_25</th>\n",
       "      <th>IQR_75</th>\n",
       "      <th>MedAE</th>\n",
       "      <th>IQR_25</th>\n",
       "      <th>IQR_75</th>\n",
       "      <th>MedAE</th>\n",
       "      <th>IQR_25</th>\n",
       "      <th>IQR_75</th>\n",
       "    </tr>\n",
       "    <tr>\n",
       "      <th>NullHandling</th>\n",
       "      <th>PredParam</th>\n",
       "      <th></th>\n",
       "      <th></th>\n",
       "      <th></th>\n",
       "      <th></th>\n",
       "      <th></th>\n",
       "      <th></th>\n",
       "      <th></th>\n",
       "      <th></th>\n",
       "      <th></th>\n",
       "    </tr>\n",
       "  </thead>\n",
       "  <tbody>\n",
       "    <tr>\n",
       "      <th>imputed-null</th>\n",
       "      <th>burnup</th>\n",
       "      <td>7255.92</td>\n",
       "      <td>-1932.76</td>\n",
       "      <td>15474.17</td>\n",
       "      <td>8282.140000</td>\n",
       "      <td>-1910.80</td>\n",
       "      <td>18670.98</td>\n",
       "      <td>10835.92</td>\n",
       "      <td>-4500.00</td>\n",
       "      <td>19808.10</td>\n",
       "    </tr>\n",
       "    <tr>\n",
       "      <th>zero-null</th>\n",
       "      <th>burnup</th>\n",
       "      <td>11470.53</td>\n",
       "      <td>-3501.24</td>\n",
       "      <td>23232.43</td>\n",
       "      <td>8794.263333</td>\n",
       "      <td>-1053.27</td>\n",
       "      <td>27325.93</td>\n",
       "      <td>1702.65</td>\n",
       "      <td>-670.17</td>\n",
       "      <td>5037.41</td>\n",
       "    </tr>\n",
       "  </tbody>\n",
       "</table>\n",
       "</div>"
      ],
      "text/plain": [
       "Algorithm                    knn                           dtree           \\\n",
       "Metric                     MedAE   IQR_25    IQR_75        MedAE   IQR_25   \n",
       "NullHandling PredParam                                                      \n",
       "imputed-null burnup      7255.92 -1932.76  15474.17  8282.140000 -1910.80   \n",
       "zero-null    burnup     11470.53 -3501.24  23232.43  8794.263333 -1053.27   \n",
       "\n",
       "Algorithm                              mll                     \n",
       "Metric                    IQR_75     MedAE   IQR_25    IQR_75  \n",
       "NullHandling PredParam                                         \n",
       "imputed-null burnup     18670.98  10835.92 -4500.00  19808.10  \n",
       "zero-null    burnup     27325.93   1702.65  -670.17   5037.41  "
      ]
     },
     "execution_count": 22,
     "metadata": {},
     "output_type": "execute_result"
    }
   ],
   "source": [
    "err_list = ['MedAE', 'IQR_25', 'IQR_75']\n",
    "df.loc[(['imputed-null', 'zero-null'], 'burnup'), (['knn', 'dtree', 'mll'], err_list)]"
   ]
  },
  {
   "cell_type": "markdown",
   "metadata": {},
   "source": [
    "### Enrichment"
   ]
  },
  {
   "cell_type": "code",
   "execution_count": 23,
   "metadata": {
    "scrolled": true
   },
   "outputs": [
    {
     "data": {
      "text/html": [
       "<div>\n",
       "<style scoped>\n",
       "    .dataframe tbody tr th:only-of-type {\n",
       "        vertical-align: middle;\n",
       "    }\n",
       "\n",
       "    .dataframe tbody tr th {\n",
       "        vertical-align: top;\n",
       "    }\n",
       "\n",
       "    .dataframe thead tr th {\n",
       "        text-align: left;\n",
       "    }\n",
       "\n",
       "    .dataframe thead tr:last-of-type th {\n",
       "        text-align: right;\n",
       "    }\n",
       "</style>\n",
       "<table border=\"1\" class=\"dataframe\">\n",
       "  <thead>\n",
       "    <tr>\n",
       "      <th></th>\n",
       "      <th>Algorithm</th>\n",
       "      <th colspan=\"2\" halign=\"left\">knn</th>\n",
       "      <th colspan=\"2\" halign=\"left\">dtree</th>\n",
       "      <th colspan=\"2\" halign=\"left\">mll</th>\n",
       "    </tr>\n",
       "    <tr>\n",
       "      <th></th>\n",
       "      <th>Metric</th>\n",
       "      <th>MAE</th>\n",
       "      <th>MAE Std</th>\n",
       "      <th>MAE</th>\n",
       "      <th>MAE Std</th>\n",
       "      <th>MAE</th>\n",
       "      <th>MAE Std</th>\n",
       "    </tr>\n",
       "    <tr>\n",
       "      <th>NullHandling</th>\n",
       "      <th>PredParam</th>\n",
       "      <th></th>\n",
       "      <th></th>\n",
       "      <th></th>\n",
       "      <th></th>\n",
       "      <th></th>\n",
       "      <th></th>\n",
       "    </tr>\n",
       "  </thead>\n",
       "  <tbody>\n",
       "    <tr>\n",
       "      <th>imputed-null</th>\n",
       "      <th>enrichment</th>\n",
       "      <td>0.715253</td>\n",
       "      <td>0.678453</td>\n",
       "      <td>0.313949</td>\n",
       "      <td>0.312755</td>\n",
       "      <td>1.253970</td>\n",
       "      <td>0.887900</td>\n",
       "    </tr>\n",
       "    <tr>\n",
       "      <th>zero-null</th>\n",
       "      <th>enrichment</th>\n",
       "      <td>1.670947</td>\n",
       "      <td>1.157118</td>\n",
       "      <td>0.360990</td>\n",
       "      <td>0.398903</td>\n",
       "      <td>0.492394</td>\n",
       "      <td>0.527925</td>\n",
       "    </tr>\n",
       "  </tbody>\n",
       "</table>\n",
       "</div>"
      ],
      "text/plain": [
       "Algorithm                     knn               dtree                 mll  \\\n",
       "Metric                        MAE   MAE Std       MAE   MAE Std       MAE   \n",
       "NullHandling PredParam                                                      \n",
       "imputed-null enrichment  0.715253  0.678453  0.313949  0.312755  1.253970   \n",
       "zero-null    enrichment  1.670947  1.157118  0.360990  0.398903  0.492394   \n",
       "\n",
       "Algorithm                          \n",
       "Metric                    MAE Std  \n",
       "NullHandling PredParam             \n",
       "imputed-null enrichment  0.887900  \n",
       "zero-null    enrichment  0.527925  "
      ]
     },
     "execution_count": 23,
     "metadata": {},
     "output_type": "execute_result"
    }
   ],
   "source": [
    "err_list = ['MAE', 'MAE Std']\n",
    "df.loc[(['imputed-null', 'zero-null'], 'enrichment'), (['knn', 'dtree', 'mll'], err_list)]"
   ]
  },
  {
   "cell_type": "code",
   "execution_count": 24,
   "metadata": {
    "scrolled": true
   },
   "outputs": [
    {
     "data": {
      "text/html": [
       "<div>\n",
       "<style scoped>\n",
       "    .dataframe tbody tr th:only-of-type {\n",
       "        vertical-align: middle;\n",
       "    }\n",
       "\n",
       "    .dataframe tbody tr th {\n",
       "        vertical-align: top;\n",
       "    }\n",
       "\n",
       "    .dataframe thead tr th {\n",
       "        text-align: left;\n",
       "    }\n",
       "\n",
       "    .dataframe thead tr:last-of-type th {\n",
       "        text-align: right;\n",
       "    }\n",
       "</style>\n",
       "<table border=\"1\" class=\"dataframe\">\n",
       "  <thead>\n",
       "    <tr>\n",
       "      <th></th>\n",
       "      <th>Algorithm</th>\n",
       "      <th colspan=\"2\" halign=\"left\">knn</th>\n",
       "      <th colspan=\"2\" halign=\"left\">dtree</th>\n",
       "      <th colspan=\"2\" halign=\"left\">mll</th>\n",
       "    </tr>\n",
       "    <tr>\n",
       "      <th></th>\n",
       "      <th>Metric</th>\n",
       "      <th>MAPE</th>\n",
       "      <th>MAPE Std</th>\n",
       "      <th>MAPE</th>\n",
       "      <th>MAPE Std</th>\n",
       "      <th>MAPE</th>\n",
       "      <th>MAPE Std</th>\n",
       "    </tr>\n",
       "    <tr>\n",
       "      <th>NullHandling</th>\n",
       "      <th>PredParam</th>\n",
       "      <th></th>\n",
       "      <th></th>\n",
       "      <th></th>\n",
       "      <th></th>\n",
       "      <th></th>\n",
       "      <th></th>\n",
       "    </tr>\n",
       "  </thead>\n",
       "  <tbody>\n",
       "    <tr>\n",
       "      <th>imputed-null</th>\n",
       "      <th>enrichment</th>\n",
       "      <td>40.364444</td>\n",
       "      <td>76.595866</td>\n",
       "      <td>14.468137</td>\n",
       "      <td>31.417296</td>\n",
       "      <td>66.019890</td>\n",
       "      <td>108.363809</td>\n",
       "    </tr>\n",
       "    <tr>\n",
       "      <th>zero-null</th>\n",
       "      <th>enrichment</th>\n",
       "      <td>55.803637</td>\n",
       "      <td>34.058811</td>\n",
       "      <td>12.853581</td>\n",
       "      <td>16.873785</td>\n",
       "      <td>17.139565</td>\n",
       "      <td>23.607935</td>\n",
       "    </tr>\n",
       "  </tbody>\n",
       "</table>\n",
       "</div>"
      ],
      "text/plain": [
       "Algorithm                      knn                 dtree             \\\n",
       "Metric                        MAPE   MAPE Std       MAPE   MAPE Std   \n",
       "NullHandling PredParam                                                \n",
       "imputed-null enrichment  40.364444  76.595866  14.468137  31.417296   \n",
       "zero-null    enrichment  55.803637  34.058811  12.853581  16.873785   \n",
       "\n",
       "Algorithm                      mll              \n",
       "Metric                        MAPE    MAPE Std  \n",
       "NullHandling PredParam                          \n",
       "imputed-null enrichment  66.019890  108.363809  \n",
       "zero-null    enrichment  17.139565   23.607935  "
      ]
     },
     "execution_count": 24,
     "metadata": {},
     "output_type": "execute_result"
    }
   ],
   "source": [
    "err_list = ['MAPE', 'MAPE Std']\n",
    "df.loc[(['imputed-null', 'zero-null'], 'enrichment'), (['knn', 'dtree', 'mll'], err_list)]"
   ]
  },
  {
   "cell_type": "code",
   "execution_count": 25,
   "metadata": {
    "scrolled": true
   },
   "outputs": [
    {
     "data": {
      "text/html": [
       "<div>\n",
       "<style scoped>\n",
       "    .dataframe tbody tr th:only-of-type {\n",
       "        vertical-align: middle;\n",
       "    }\n",
       "\n",
       "    .dataframe tbody tr th {\n",
       "        vertical-align: top;\n",
       "    }\n",
       "\n",
       "    .dataframe thead tr th {\n",
       "        text-align: left;\n",
       "    }\n",
       "\n",
       "    .dataframe thead tr:last-of-type th {\n",
       "        text-align: right;\n",
       "    }\n",
       "</style>\n",
       "<table border=\"1\" class=\"dataframe\">\n",
       "  <thead>\n",
       "    <tr>\n",
       "      <th></th>\n",
       "      <th>Algorithm</th>\n",
       "      <th colspan=\"3\" halign=\"left\">knn</th>\n",
       "      <th colspan=\"3\" halign=\"left\">dtree</th>\n",
       "      <th colspan=\"3\" halign=\"left\">mll</th>\n",
       "    </tr>\n",
       "    <tr>\n",
       "      <th></th>\n",
       "      <th>Metric</th>\n",
       "      <th>MedAE</th>\n",
       "      <th>IQR_25</th>\n",
       "      <th>IQR_75</th>\n",
       "      <th>MedAE</th>\n",
       "      <th>IQR_25</th>\n",
       "      <th>IQR_75</th>\n",
       "      <th>MedAE</th>\n",
       "      <th>IQR_25</th>\n",
       "      <th>IQR_75</th>\n",
       "    </tr>\n",
       "    <tr>\n",
       "      <th>NullHandling</th>\n",
       "      <th>PredParam</th>\n",
       "      <th></th>\n",
       "      <th></th>\n",
       "      <th></th>\n",
       "      <th></th>\n",
       "      <th></th>\n",
       "      <th></th>\n",
       "      <th></th>\n",
       "      <th></th>\n",
       "      <th></th>\n",
       "    </tr>\n",
       "  </thead>\n",
       "  <tbody>\n",
       "    <tr>\n",
       "      <th>imputed-null</th>\n",
       "      <th>enrichment</th>\n",
       "      <td>0.50</td>\n",
       "      <td>-0.17</td>\n",
       "      <td>1.13</td>\n",
       "      <td>0.22</td>\n",
       "      <td>-0.13</td>\n",
       "      <td>0.397</td>\n",
       "      <td>1.13</td>\n",
       "      <td>-0.57</td>\n",
       "      <td>1.704</td>\n",
       "    </tr>\n",
       "    <tr>\n",
       "      <th>zero-null</th>\n",
       "      <th>enrichment</th>\n",
       "      <td>2.02</td>\n",
       "      <td>-0.48</td>\n",
       "      <td>2.80</td>\n",
       "      <td>0.22</td>\n",
       "      <td>-0.13</td>\n",
       "      <td>0.451</td>\n",
       "      <td>0.35</td>\n",
       "      <td>-0.12</td>\n",
       "      <td>0.850</td>\n",
       "    </tr>\n",
       "  </tbody>\n",
       "</table>\n",
       "</div>"
      ],
      "text/plain": [
       "Algorithm                 knn               dtree                 mll         \\\n",
       "Metric                  MedAE IQR_25 IQR_75 MedAE IQR_25 IQR_75 MedAE IQR_25   \n",
       "NullHandling PredParam                                                         \n",
       "imputed-null enrichment  0.50  -0.17   1.13  0.22  -0.13  0.397  1.13  -0.57   \n",
       "zero-null    enrichment  2.02  -0.48   2.80  0.22  -0.13  0.451  0.35  -0.12   \n",
       "\n",
       "Algorithm                       \n",
       "Metric                  IQR_75  \n",
       "NullHandling PredParam          \n",
       "imputed-null enrichment  1.704  \n",
       "zero-null    enrichment  0.850  "
      ]
     },
     "execution_count": 25,
     "metadata": {},
     "output_type": "execute_result"
    }
   ],
   "source": [
    "err_list = ['MedAE', 'IQR_25', 'IQR_75']\n",
    "df.loc[(['imputed-null', 'zero-null'], 'enrichment'), (['knn', 'dtree', 'mll'], err_list)]"
   ]
  },
  {
   "cell_type": "markdown",
   "metadata": {},
   "source": [
    "# Intermediate results (where null values are imputed)\n",
    "### Mean Abs Err"
   ]
  },
  {
   "cell_type": "code",
   "execution_count": 30,
   "metadata": {},
   "outputs": [],
   "source": [
    "cols = ['kNN', 'kNN Std', 'DTree', 'DTree Std', 'MaxLL', 'MaxLL Std']\n",
    "rows = ['Reactor Type Accuracy', 'Burnup Error [GWd/MTU]', 'Enrichment Error [%U235]']\n",
    "blank = pd.DataFrame(index=rows, columns=cols)"
   ]
  },
  {
   "cell_type": "code",
   "execution_count": 29,
   "metadata": {},
   "outputs": [
    {
     "data": {
      "text/html": [
       "<div>\n",
       "<style scoped>\n",
       "    .dataframe tbody tr th:only-of-type {\n",
       "        vertical-align: middle;\n",
       "    }\n",
       "\n",
       "    .dataframe tbody tr th {\n",
       "        vertical-align: top;\n",
       "    }\n",
       "\n",
       "    .dataframe thead th {\n",
       "        text-align: right;\n",
       "    }\n",
       "</style>\n",
       "<table border=\"1\" class=\"dataframe\">\n",
       "  <thead>\n",
       "    <tr style=\"text-align: right;\">\n",
       "      <th></th>\n",
       "      <th>kNN</th>\n",
       "      <th>kNN Std</th>\n",
       "      <th>DTree</th>\n",
       "      <th>DTree Std</th>\n",
       "      <th>MaxLL</th>\n",
       "      <th>MaxLL Std</th>\n",
       "    </tr>\n",
       "  </thead>\n",
       "  <tbody>\n",
       "    <tr>\n",
       "      <th>Reactor Type Accuracy</th>\n",
       "      <td>0.13</td>\n",
       "      <td>0.49</td>\n",
       "      <td>0.07</td>\n",
       "      <td>0.48</td>\n",
       "      <td>-0</td>\n",
       "      <td>0.49</td>\n",
       "    </tr>\n",
       "    <tr>\n",
       "      <th>Burnup MAE [GWd/MTU]</th>\n",
       "      <td>9.54</td>\n",
       "      <td>8.6</td>\n",
       "      <td>7.44</td>\n",
       "      <td>8.58</td>\n",
       "      <td>12.57</td>\n",
       "      <td>10.47</td>\n",
       "    </tr>\n",
       "    <tr>\n",
       "      <th>Enrichment MAE [%U235]</th>\n",
       "      <td>0.77</td>\n",
       "      <td>0.7</td>\n",
       "      <td>0.56</td>\n",
       "      <td>0.6</td>\n",
       "      <td>1.22</td>\n",
       "      <td>0.85</td>\n",
       "    </tr>\n",
       "  </tbody>\n",
       "</table>\n",
       "</div>"
      ],
      "text/plain": [
       "                         kNN kNN Std DTree DTree Std  MaxLL MaxLL Std\n",
       "Reactor Type Accuracy   0.13    0.49  0.07      0.48     -0      0.49\n",
       "Burnup MAE [GWd/MTU]    9.54     8.6  7.44      8.58  12.57     10.47\n",
       "Enrichment MAE [%U235]  0.77     0.7  0.56       0.6   1.22      0.85"
      ]
     },
     "execution_count": 29,
     "metadata": {},
     "output_type": "execute_result"
    }
   ],
   "source": [
    "sfco_mean_errs"
   ]
  },
  {
   "cell_type": "markdown",
   "metadata": {},
   "source": [
    "### Median Abs Err"
   ]
  },
  {
   "cell_type": "code",
   "execution_count": 30,
   "metadata": {},
   "outputs": [
    {
     "data": {
      "text/html": [
       "<div>\n",
       "<style scoped>\n",
       "    .dataframe tbody tr th:only-of-type {\n",
       "        vertical-align: middle;\n",
       "    }\n",
       "\n",
       "    .dataframe tbody tr th {\n",
       "        vertical-align: top;\n",
       "    }\n",
       "\n",
       "    .dataframe thead th {\n",
       "        text-align: right;\n",
       "    }\n",
       "</style>\n",
       "<table border=\"1\" class=\"dataframe\">\n",
       "  <thead>\n",
       "    <tr style=\"text-align: right;\">\n",
       "      <th></th>\n",
       "      <th>kNN</th>\n",
       "      <th>kNN Std</th>\n",
       "      <th>DTree</th>\n",
       "      <th>DTree Std</th>\n",
       "      <th>MaxLL</th>\n",
       "      <th>MaxLL Std</th>\n",
       "    </tr>\n",
       "  </thead>\n",
       "  <tbody>\n",
       "    <tr>\n",
       "      <th>Reactor Type Accuracy</th>\n",
       "      <td>0.13</td>\n",
       "      <td>0.49</td>\n",
       "      <td>0.07</td>\n",
       "      <td>0.48</td>\n",
       "      <td>-0</td>\n",
       "      <td>0.49</td>\n",
       "    </tr>\n",
       "    <tr>\n",
       "      <th>Burnup MAE [GWd/MTU]</th>\n",
       "      <td>7.04</td>\n",
       "      <td>6.05</td>\n",
       "      <td>3.17</td>\n",
       "      <td>3.01</td>\n",
       "      <td>9.53</td>\n",
       "      <td>6.62</td>\n",
       "    </tr>\n",
       "    <tr>\n",
       "      <th>Enrichment MAE [%U235]</th>\n",
       "      <td>0.46</td>\n",
       "      <td>0.3</td>\n",
       "      <td>0.31</td>\n",
       "      <td>0.19</td>\n",
       "      <td>0.99</td>\n",
       "      <td>0.51</td>\n",
       "    </tr>\n",
       "  </tbody>\n",
       "</table>\n",
       "</div>"
      ],
      "text/plain": [
       "                         kNN kNN Std DTree DTree Std MaxLL MaxLL Std\n",
       "Reactor Type Accuracy   0.13    0.49  0.07      0.48    -0      0.49\n",
       "Burnup MAE [GWd/MTU]    7.04    6.05  3.17      3.01  9.53      6.62\n",
       "Enrichment MAE [%U235]  0.46     0.3  0.31      0.19  0.99      0.51"
      ]
     },
     "execution_count": 30,
     "metadata": {},
     "output_type": "execute_result"
    }
   ],
   "source": [
    "sfco_med_errs"
   ]
  },
  {
   "cell_type": "markdown",
   "metadata": {},
   "source": [
    "# Old results (where null values were 0)"
   ]
  },
  {
   "cell_type": "code",
   "execution_count": 6,
   "metadata": {},
   "outputs": [
    {
     "data": {
      "text/html": [
       "<div>\n",
       "<style scoped>\n",
       "    .dataframe tbody tr th:only-of-type {\n",
       "        vertical-align: middle;\n",
       "    }\n",
       "\n",
       "    .dataframe tbody tr th {\n",
       "        vertical-align: top;\n",
       "    }\n",
       "\n",
       "    .dataframe thead th {\n",
       "        text-align: right;\n",
       "    }\n",
       "</style>\n",
       "<table border=\"1\" class=\"dataframe\">\n",
       "  <thead>\n",
       "    <tr style=\"text-align: right;\">\n",
       "      <th></th>\n",
       "      <th>kNN</th>\n",
       "      <th>kNN Std</th>\n",
       "      <th>DTree</th>\n",
       "      <th>DTree Std</th>\n",
       "      <th>MaxLL</th>\n",
       "      <th>MaxLL Std</th>\n",
       "    </tr>\n",
       "  </thead>\n",
       "  <tbody>\n",
       "    <tr>\n",
       "      <th>Reactor Type Accuracy</th>\n",
       "      <td>0.14</td>\n",
       "      <td>0.49</td>\n",
       "      <td>0.36</td>\n",
       "      <td>0.5</td>\n",
       "      <td>0.62</td>\n",
       "      <td>0.45</td>\n",
       "    </tr>\n",
       "    <tr>\n",
       "      <th>Burnup MAE [GWd/MTU]</th>\n",
       "      <td>15.17</td>\n",
       "      <td>13.16</td>\n",
       "      <td>14.03</td>\n",
       "      <td>15.21</td>\n",
       "      <td>3.46</td>\n",
       "      <td>3.99</td>\n",
       "    </tr>\n",
       "    <tr>\n",
       "      <th>Enrichment MAE [%U235]</th>\n",
       "      <td>1.48</td>\n",
       "      <td>1.08</td>\n",
       "      <td>0.33</td>\n",
       "      <td>0.37</td>\n",
       "      <td>0.48</td>\n",
       "      <td>0.54</td>\n",
       "    </tr>\n",
       "  </tbody>\n",
       "</table>\n",
       "</div>"
      ],
      "text/plain": [
       "                          kNN kNN Std  DTree DTree Std MaxLL MaxLL Std\n",
       "Reactor Type Accuracy    0.14    0.49   0.36       0.5  0.62      0.45\n",
       "Burnup MAE [GWd/MTU]    15.17   13.16  14.03     15.21  3.46      3.99\n",
       "Enrichment MAE [%U235]   1.48    1.08   0.33      0.37  0.48      0.54"
      ]
     },
     "execution_count": 6,
     "metadata": {},
     "output_type": "execute_result"
    }
   ],
   "source": [
    "sfco_errs"
   ]
  },
  {
   "cell_type": "code",
   "execution_count": 107,
   "metadata": {
    "scrolled": true
   },
   "outputs": [
    {
     "data": {
      "text/html": [
       "<div>\n",
       "<style scoped>\n",
       "    .dataframe tbody tr th:only-of-type {\n",
       "        vertical-align: middle;\n",
       "    }\n",
       "\n",
       "    .dataframe tbody tr th {\n",
       "        vertical-align: top;\n",
       "    }\n",
       "\n",
       "    .dataframe thead th {\n",
       "        text-align: right;\n",
       "    }\n",
       "</style>\n",
       "<table border=\"1\" class=\"dataframe\">\n",
       "  <thead>\n",
       "    <tr style=\"text-align: right;\">\n",
       "      <th></th>\n",
       "      <th>kNN</th>\n",
       "      <th>kNN Std</th>\n",
       "      <th>DTree</th>\n",
       "      <th>DTree Std</th>\n",
       "      <th>MaxLL</th>\n",
       "      <th>MaxLL Std</th>\n",
       "    </tr>\n",
       "  </thead>\n",
       "  <tbody>\n",
       "    <tr>\n",
       "      <th>Reactor Type Accuracy</th>\n",
       "      <td>0.61</td>\n",
       "      <td>0.49</td>\n",
       "      <td>0.51</td>\n",
       "      <td>0.5</td>\n",
       "      <td>0.72</td>\n",
       "      <td>0.45</td>\n",
       "    </tr>\n",
       "    <tr>\n",
       "      <th>Burnup MAE [GWd/MTU]</th>\n",
       "      <td>15.17</td>\n",
       "      <td>13.16</td>\n",
       "      <td>14.03</td>\n",
       "      <td>15.21</td>\n",
       "      <td>3.46</td>\n",
       "      <td>3.99</td>\n",
       "    </tr>\n",
       "    <tr>\n",
       "      <th>Enrichment MAE [%U235]</th>\n",
       "      <td>1.48</td>\n",
       "      <td>1.08</td>\n",
       "      <td>0.33</td>\n",
       "      <td>0.37</td>\n",
       "      <td>0.48</td>\n",
       "      <td>0.54</td>\n",
       "    </tr>\n",
       "  </tbody>\n",
       "</table>\n",
       "</div>"
      ],
      "text/plain": [
       "                          kNN kNN Std  DTree DTree Std MaxLL MaxLL Std\n",
       "Reactor Type Accuracy    0.61    0.49   0.51       0.5  0.72      0.45\n",
       "Burnup MAE [GWd/MTU]    15.17   13.16  14.03     15.21  3.46      3.99\n",
       "Enrichment MAE [%U235]   1.48    1.08   0.33      0.37  0.48      0.54"
      ]
     },
     "execution_count": 107,
     "metadata": {},
     "output_type": "execute_result"
    }
   ],
   "source": [
    "sfco_errs #unbalanced accuracy"
   ]
  },
  {
   "cell_type": "code",
   "execution_count": 101,
   "metadata": {},
   "outputs": [],
   "source": [
    "import dataframe_image as dfi\n",
    "dfi.export(sfco_errs, 'sfcoerrs.png')"
   ]
  },
  {
   "cell_type": "markdown",
   "metadata": {},
   "source": [
    "## Saving code for comparing multiple trainset fracs"
   ]
  },
  {
   "cell_type": "code",
   "execution_count": 5,
   "metadata": {},
   "outputs": [
    {
     "data": {
      "text/plain": [
       "['kNN', 'DTree', 'MaxLL']"
      ]
     },
     "execution_count": 5,
     "metadata": {},
     "output_type": "execute_result"
    }
   ],
   "source": [
    "Algs = ['kNN', 'DTree']\n",
    "cols = Algs + ['MaxLL']\n",
    "cols"
   ]
  },
  {
   "cell_type": "code",
   "execution_count": 6,
   "metadata": {},
   "outputs": [
    {
     "name": "stdout",
     "output_type": "stream",
     "text": [
      "Reactor Type, 29 Nuclides: \n",
      "\n"
     ]
    },
    {
     "data": {
      "text/html": [
       "<div>\n",
       "<style scoped>\n",
       "    .dataframe tbody tr th:only-of-type {\n",
       "        vertical-align: middle;\n",
       "    }\n",
       "\n",
       "    .dataframe tbody tr th {\n",
       "        vertical-align: top;\n",
       "    }\n",
       "\n",
       "    .dataframe thead th {\n",
       "        text-align: right;\n",
       "    }\n",
       "</style>\n",
       "<table border=\"1\" class=\"dataframe\">\n",
       "  <thead>\n",
       "    <tr style=\"text-align: right;\">\n",
       "      <th></th>\n",
       "      <th>kNN</th>\n",
       "      <th>DTree</th>\n",
       "      <th>MaxLL</th>\n",
       "    </tr>\n",
       "  </thead>\n",
       "  <tbody>\n",
       "    <tr>\n",
       "      <th>1.0</th>\n",
       "      <td>0.613861</td>\n",
       "      <td>0.512871</td>\n",
       "      <td>0.718812</td>\n",
       "    </tr>\n",
       "  </tbody>\n",
       "</table>\n",
       "</div>"
      ],
      "text/plain": [
       "          kNN     DTree     MaxLL\n",
       "1.0  0.613861  0.512871  0.718812"
      ]
     },
     "execution_count": 6,
     "metadata": {},
     "output_type": "execute_result"
    }
   ],
   "source": [
    "rxtr29 = pd.DataFrame(columns=cols)\n",
    "for frac in fracs:\n",
    "    scores29 = []\n",
    "    for col in cols:\n",
    "        if col in Algs:\n",
    "            key = 'rxtr' + frac\n",
    "            if 'kNN' in col:\n",
    "                key = key + '_knn'\n",
    "                scores29.append(accuracy_score(learn29[key]['TrueY'], learn29[key]['kNN']))\n",
    "            else:\n",
    "                key = key + '_dtree'\n",
    "                scores29.append(accuracy_score(learn29[key]['TrueY'], learn29[key]['DTree']))\n",
    "        else:\n",
    "            if frac == mll_frac:\n",
    "                scores29.append(accuracy_score(mll29['ReactorType'], mll29['pred_ReactorType']))\n",
    "            else:\n",
    "                scores29.append(np.nan)\n",
    "    rxtr29.loc[frac] = scores29\n",
    "print('Reactor Type, 29 Nuclides: \\n')\n",
    "rxtr29"
   ]
  },
  {
   "cell_type": "code",
   "execution_count": 7,
   "metadata": {},
   "outputs": [],
   "source": [
    "llparam = { 'burn' : ['Burnup', 'pred_Burnup'],\n",
    "            'cool' : ['CoolingTime', 'pred_CoolingTime'],\n",
    "            'enri' : ['Enrichment', 'pred_Enrichment'] }"
   ]
  },
  {
   "cell_type": "code",
   "execution_count": 8,
   "metadata": {},
   "outputs": [],
   "source": [
    "def explained_variances(param):\n",
    "    df29 = pd.DataFrame(columns=cols)\n",
    "    for frac in fracs:\n",
    "        scores29 = []\n",
    "        for col in cols:\n",
    "            if col in Algs:\n",
    "                key = param + frac\n",
    "                if 'kNN' in col:\n",
    "                    key = key + '_knn'\n",
    "                    scores29.append(explained_variance_score(learn29[key]['TrueY'], learn29[key]['kNN']))\n",
    "                else:\n",
    "                    key = key + '_dtree'\n",
    "                    scores29.append(explained_variance_score(learn29[key]['TrueY'], learn29[key]['DTree']))\n",
    "            else:\n",
    "                if frac == mll_frac:\n",
    "                    scores29.append(explained_variance_score(mll29[llparam[param][0]], mll29[llparam[param][1]]))\n",
    "                else:\n",
    "                    scores29.append(np.nan)\n",
    "        df29.loc[frac] = scores29\n",
    "    print(llparam[param][0] + ', ExpVar, 29 nuclides: \\n')\n",
    "    return df29"
   ]
  },
  {
   "cell_type": "code",
   "execution_count": 9,
   "metadata": {},
   "outputs": [],
   "source": [
    "def mean_abs_error(param):\n",
    "    df29 = pd.DataFrame(columns=cols)\n",
    "    for frac in fracs:\n",
    "        scores29 = []\n",
    "        for col in cols:\n",
    "            if col in Algs:\n",
    "                key = param + frac\n",
    "                if 'kNN' in col:\n",
    "                    key = key + '_knn'\n",
    "                    scores29.append(mean_absolute_error(learn29[key]['TrueY'], learn29[key]['kNN']))\n",
    "                else:\n",
    "                    key = key + '_dtree'\n",
    "                    scores29.append(mean_absolute_error(learn29[key]['TrueY'], learn29[key]['DTree']))\n",
    "            else:\n",
    "                if frac == mll_frac:\n",
    "                    scores29.append(mean_absolute_error(mll29[llparam[param][0]], mll29[llparam[param][1]]))\n",
    "                else:\n",
    "                    scores29.append(np.nan)\n",
    "        df29.loc[frac] = scores29\n",
    "    print(llparam[param][0] + ', MAE, 29 nuclides: \\n')\n",
    "    return df29"
   ]
  },
  {
   "cell_type": "code",
   "execution_count": 10,
   "metadata": {
    "scrolled": true
   },
   "outputs": [
    {
     "name": "stdout",
     "output_type": "stream",
     "text": [
      "Enrichment, MAE, 29 nuclides: \n",
      "\n"
     ]
    },
    {
     "data": {
      "text/html": [
       "<div>\n",
       "<style scoped>\n",
       "    .dataframe tbody tr th:only-of-type {\n",
       "        vertical-align: middle;\n",
       "    }\n",
       "\n",
       "    .dataframe tbody tr th {\n",
       "        vertical-align: top;\n",
       "    }\n",
       "\n",
       "    .dataframe thead th {\n",
       "        text-align: right;\n",
       "    }\n",
       "</style>\n",
       "<table border=\"1\" class=\"dataframe\">\n",
       "  <thead>\n",
       "    <tr style=\"text-align: right;\">\n",
       "      <th></th>\n",
       "      <th>kNN</th>\n",
       "      <th>DTree</th>\n",
       "      <th>MaxLL</th>\n",
       "    </tr>\n",
       "  </thead>\n",
       "  <tbody>\n",
       "    <tr>\n",
       "      <th>1.0</th>\n",
       "      <td>1.477326</td>\n",
       "      <td>0.329612</td>\n",
       "      <td>0.484412</td>\n",
       "    </tr>\n",
       "  </tbody>\n",
       "</table>\n",
       "</div>"
      ],
      "text/plain": [
       "          kNN     DTree     MaxLL\n",
       "1.0  1.477326  0.329612  0.484412"
      ]
     },
     "execution_count": 10,
     "metadata": {},
     "output_type": "execute_result"
    }
   ],
   "source": [
    "enri29 = mean_abs_error('enri')\n",
    "enri29"
   ]
  },
  {
   "cell_type": "code",
   "execution_count": 11,
   "metadata": {},
   "outputs": [
    {
     "name": "stdout",
     "output_type": "stream",
     "text": [
      "Burnup, MAE, 29 nuclides: \n",
      "\n"
     ]
    },
    {
     "data": {
      "text/html": [
       "<div>\n",
       "<style scoped>\n",
       "    .dataframe tbody tr th:only-of-type {\n",
       "        vertical-align: middle;\n",
       "    }\n",
       "\n",
       "    .dataframe tbody tr th {\n",
       "        vertical-align: top;\n",
       "    }\n",
       "\n",
       "    .dataframe thead th {\n",
       "        text-align: right;\n",
       "    }\n",
       "</style>\n",
       "<table border=\"1\" class=\"dataframe\">\n",
       "  <thead>\n",
       "    <tr style=\"text-align: right;\">\n",
       "      <th></th>\n",
       "      <th>kNN</th>\n",
       "      <th>DTree</th>\n",
       "      <th>MaxLL</th>\n",
       "    </tr>\n",
       "  </thead>\n",
       "  <tbody>\n",
       "    <tr>\n",
       "      <th>1.0</th>\n",
       "      <td>15172.076809</td>\n",
       "      <td>14027.794601</td>\n",
       "      <td>3462.108343</td>\n",
       "    </tr>\n",
       "  </tbody>\n",
       "</table>\n",
       "</div>"
      ],
      "text/plain": [
       "              kNN         DTree        MaxLL\n",
       "1.0  15172.076809  14027.794601  3462.108343"
      ]
     },
     "execution_count": 11,
     "metadata": {},
     "output_type": "execute_result"
    }
   ],
   "source": [
    "burn29 = mean_abs_error('burn')\n",
    "burn29"
   ]
  },
  {
   "cell_type": "code",
   "execution_count": 9,
   "metadata": {},
   "outputs": [
    {
     "name": "stdout",
     "output_type": "stream",
     "text": [
      "Enrichment, ExpVar, 29 nuclides: \n",
      "\n"
     ]
    },
    {
     "data": {
      "text/html": [
       "<div>\n",
       "<style scoped>\n",
       "    .dataframe tbody tr th:only-of-type {\n",
       "        vertical-align: middle;\n",
       "    }\n",
       "\n",
       "    .dataframe tbody tr th {\n",
       "        vertical-align: top;\n",
       "    }\n",
       "\n",
       "    .dataframe thead th {\n",
       "        text-align: right;\n",
       "    }\n",
       "</style>\n",
       "<table border=\"1\" class=\"dataframe\">\n",
       "  <thead>\n",
       "    <tr style=\"text-align: right;\">\n",
       "      <th></th>\n",
       "      <th>kNN</th>\n",
       "      <th>DTree</th>\n",
       "      <th>MaxLL</th>\n",
       "    </tr>\n",
       "  </thead>\n",
       "  <tbody>\n",
       "    <tr>\n",
       "      <th>0.1</th>\n",
       "      <td>-0.567388</td>\n",
       "      <td>0.655351</td>\n",
       "      <td>NaN</td>\n",
       "    </tr>\n",
       "    <tr>\n",
       "      <th>0.3</th>\n",
       "      <td>-0.585302</td>\n",
       "      <td>0.709187</td>\n",
       "      <td>NaN</td>\n",
       "    </tr>\n",
       "    <tr>\n",
       "      <th>1.0</th>\n",
       "      <td>-0.561107</td>\n",
       "      <td>0.721632</td>\n",
       "      <td>0.557847</td>\n",
       "    </tr>\n",
       "  </tbody>\n",
       "</table>\n",
       "</div>"
      ],
      "text/plain": [
       "          kNN     DTree     MaxLL\n",
       "0.1 -0.567388  0.655351       NaN\n",
       "0.3 -0.585302  0.709187       NaN\n",
       "1.0 -0.561107  0.721632  0.557847"
      ]
     },
     "execution_count": 9,
     "metadata": {},
     "output_type": "execute_result"
    }
   ],
   "source": [
    "enri29 = explained_variances('enri')\n",
    "enri29"
   ]
  },
  {
   "cell_type": "code",
   "execution_count": 11,
   "metadata": {},
   "outputs": [
    {
     "name": "stdout",
     "output_type": "stream",
     "text": [
      "Burnup, ExpVar, 29 nuclides: \n",
      "\n"
     ]
    },
    {
     "data": {
      "text/html": [
       "<div>\n",
       "<style scoped>\n",
       "    .dataframe tbody tr th:only-of-type {\n",
       "        vertical-align: middle;\n",
       "    }\n",
       "\n",
       "    .dataframe tbody tr th {\n",
       "        vertical-align: top;\n",
       "    }\n",
       "\n",
       "    .dataframe thead th {\n",
       "        text-align: right;\n",
       "    }\n",
       "</style>\n",
       "<table border=\"1\" class=\"dataframe\">\n",
       "  <thead>\n",
       "    <tr style=\"text-align: right;\">\n",
       "      <th></th>\n",
       "      <th>kNN</th>\n",
       "      <th>DTree</th>\n",
       "      <th>MaxLL</th>\n",
       "    </tr>\n",
       "  </thead>\n",
       "  <tbody>\n",
       "    <tr>\n",
       "      <th>0.1</th>\n",
       "      <td>0.424760</td>\n",
       "      <td>0.195675</td>\n",
       "      <td>NaN</td>\n",
       "    </tr>\n",
       "    <tr>\n",
       "      <th>0.3</th>\n",
       "      <td>0.425014</td>\n",
       "      <td>0.186354</td>\n",
       "      <td>NaN</td>\n",
       "    </tr>\n",
       "    <tr>\n",
       "      <th>1.0</th>\n",
       "      <td>0.435253</td>\n",
       "      <td>0.242814</td>\n",
       "      <td>0.919398</td>\n",
       "    </tr>\n",
       "  </tbody>\n",
       "</table>\n",
       "</div>"
      ],
      "text/plain": [
       "          kNN     DTree     MaxLL\n",
       "0.1  0.424760  0.195675       NaN\n",
       "0.3  0.425014  0.186354       NaN\n",
       "1.0  0.435253  0.242814  0.919398"
      ]
     },
     "execution_count": 11,
     "metadata": {},
     "output_type": "execute_result"
    }
   ],
   "source": [
    "burn29 = explained_variances('burn')\n",
    "burn29"
   ]
  },
  {
   "cell_type": "code",
   "execution_count": null,
   "metadata": {},
   "outputs": [],
   "source": []
  }
 ],
 "metadata": {
  "kernelspec": {
   "display_name": "Python 3",
   "language": "python",
   "name": "python3"
  },
  "language_info": {
   "codemirror_mode": {
    "name": "ipython",
    "version": 3
   },
   "file_extension": ".py",
   "mimetype": "text/x-python",
   "name": "python",
   "nbconvert_exporter": "python",
   "pygments_lexer": "ipython3",
   "version": "3.6.9"
  }
 },
 "nbformat": 4,
 "nbformat_minor": 4
}
