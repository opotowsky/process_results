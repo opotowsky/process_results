{
 "cells": [
  {
   "cell_type": "code",
   "execution_count": 32,
   "metadata": {},
   "outputs": [],
   "source": [
    "import pandas as pd\n",
    "import dataframe_image as dfi"
   ]
  },
  {
   "cell_type": "code",
   "execution_count": 33,
   "metadata": {},
   "outputs": [],
   "source": [
    "base = '/mnt/researchdrive/BOX_INTERNAL/opotowsky/processed_results/'\n",
    "sfco = 'sfcompo_mll_scikit_compare.pkl'\n",
    "df = pd.read_pickle(base+sfco)"
   ]
  },
  {
   "cell_type": "code",
   "execution_count": 34,
   "metadata": {},
   "outputs": [],
   "source": [
    "accs = {'Balanced Accuracy' : 'Bal Acc', 'Accuracy' : 'Acc'}\n",
    "df.rename(columns=accs, inplace=True)\n",
    "alg_rn = {'knn' : 'kNN', 'dtree' : 'DTree', 'mll' : 'MLL'}\n",
    "null_rn = {'imputed-null' : 'Imputed Nulls', 'zero-null' : 'Zero-value Nulls'}\n",
    "df.rename(columns=alg_rn, index=null_rn, inplace=True)"
   ]
  },
  {
   "cell_type": "code",
   "execution_count": 35,
   "metadata": {},
   "outputs": [],
   "source": [
    "nulls = ['Imputed Nulls', 'Zero-value Nulls']\n",
    "algs = ['kNN', 'DTree', 'MLL']"
   ]
  },
  {
   "cell_type": "markdown",
   "metadata": {},
   "source": [
    "# SFCOMPO Results"
   ]
  },
  {
   "cell_type": "markdown",
   "metadata": {},
   "source": [
    "### Reactor Type"
   ]
  },
  {
   "cell_type": "code",
   "execution_count": 36,
   "metadata": {},
   "outputs": [
    {
     "data": {
      "text/html": [
       "<div>\n",
       "<style scoped>\n",
       "    .dataframe tbody tr th:only-of-type {\n",
       "        vertical-align: middle;\n",
       "    }\n",
       "\n",
       "    .dataframe tbody tr th {\n",
       "        vertical-align: top;\n",
       "    }\n",
       "\n",
       "    .dataframe thead tr th {\n",
       "        text-align: left;\n",
       "    }\n",
       "\n",
       "    .dataframe thead tr:last-of-type th {\n",
       "        text-align: right;\n",
       "    }\n",
       "</style>\n",
       "<table border=\"1\" class=\"dataframe\">\n",
       "  <thead>\n",
       "    <tr>\n",
       "      <th></th>\n",
       "      <th>Algorithm</th>\n",
       "      <th colspan=\"2\" halign=\"left\">kNN</th>\n",
       "      <th colspan=\"2\" halign=\"left\">DTree</th>\n",
       "      <th colspan=\"2\" halign=\"left\">MLL</th>\n",
       "      <th colspan=\"2\" halign=\"left\">kNN</th>\n",
       "      <th colspan=\"2\" halign=\"left\">DTree</th>\n",
       "      <th colspan=\"2\" halign=\"left\">MLL</th>\n",
       "    </tr>\n",
       "    <tr>\n",
       "      <th></th>\n",
       "      <th>Metric</th>\n",
       "      <th>Acc</th>\n",
       "      <th>Acc CI</th>\n",
       "      <th>Acc</th>\n",
       "      <th>Acc CI</th>\n",
       "      <th>Acc</th>\n",
       "      <th>Acc CI</th>\n",
       "      <th>Bal Acc</th>\n",
       "      <th>BalAcc CI</th>\n",
       "      <th>Bal Acc</th>\n",
       "      <th>BalAcc CI</th>\n",
       "      <th>Bal Acc</th>\n",
       "      <th>BalAcc CI</th>\n",
       "    </tr>\n",
       "    <tr>\n",
       "      <th>NullHandling</th>\n",
       "      <th>PredParam</th>\n",
       "      <th></th>\n",
       "      <th></th>\n",
       "      <th></th>\n",
       "      <th></th>\n",
       "      <th></th>\n",
       "      <th></th>\n",
       "      <th></th>\n",
       "      <th></th>\n",
       "      <th></th>\n",
       "      <th></th>\n",
       "      <th></th>\n",
       "      <th></th>\n",
       "    </tr>\n",
       "  </thead>\n",
       "  <tbody>\n",
       "    <tr>\n",
       "      <th>Imputed Nulls</th>\n",
       "      <th>reactor</th>\n",
       "      <td>0.522772</td>\n",
       "      <td>0.057256</td>\n",
       "      <td>0.600000</td>\n",
       "      <td>0.056157</td>\n",
       "      <td>0.386139</td>\n",
       "      <td>0.055809</td>\n",
       "      <td>0.090122</td>\n",
       "      <td>0.032825</td>\n",
       "      <td>0.115501</td>\n",
       "      <td>0.036639</td>\n",
       "      <td>0.000000</td>\n",
       "      <td>0.0000</td>\n",
       "    </tr>\n",
       "    <tr>\n",
       "      <th>Zero-value Nulls</th>\n",
       "      <th>reactor</th>\n",
       "      <td>0.451485</td>\n",
       "      <td>0.057045</td>\n",
       "      <td>0.421782</td>\n",
       "      <td>0.056610</td>\n",
       "      <td>0.718812</td>\n",
       "      <td>0.051535</td>\n",
       "      <td>0.207605</td>\n",
       "      <td>0.046493</td>\n",
       "      <td>0.295921</td>\n",
       "      <td>0.052324</td>\n",
       "      <td>0.631419</td>\n",
       "      <td>0.0553</td>\n",
       "    </tr>\n",
       "  </tbody>\n",
       "</table>\n",
       "</div>"
      ],
      "text/plain": [
       "Algorithm                        kNN               DTree                 MLL  \\\n",
       "Metric                           Acc    Acc CI       Acc    Acc CI       Acc   \n",
       "NullHandling     PredParam                                                     \n",
       "Imputed Nulls    reactor    0.522772  0.057256  0.600000  0.056157  0.386139   \n",
       "Zero-value Nulls reactor    0.451485  0.057045  0.421782  0.056610  0.718812   \n",
       "\n",
       "Algorithm                                  kNN               DTree            \\\n",
       "Metric                        Acc CI   Bal Acc BalAcc CI   Bal Acc BalAcc CI   \n",
       "NullHandling     PredParam                                                     \n",
       "Imputed Nulls    reactor    0.055809  0.090122  0.032825  0.115501  0.036639   \n",
       "Zero-value Nulls reactor    0.051535  0.207605  0.046493  0.295921  0.052324   \n",
       "\n",
       "Algorithm                        MLL            \n",
       "Metric                       Bal Acc BalAcc CI  \n",
       "NullHandling     PredParam                      \n",
       "Imputed Nulls    reactor    0.000000    0.0000  \n",
       "Zero-value Nulls reactor    0.631419    0.0553  "
      ]
     },
     "execution_count": 36,
     "metadata": {},
     "output_type": "execute_result"
    }
   ],
   "source": [
    "acc_list = ['Acc', 'Acc CI']\n",
    "df1 = df.loc[(nulls, 'reactor'), (algs, acc_list)]\n",
    "acc_list = ['Bal Acc', 'BalAcc CI']\n",
    "df2 = df.loc[(nulls, 'reactor'), (algs, acc_list)]\n",
    "df3 = pd.concat([df1, df2], axis=1)\n",
    "df3"
   ]
  },
  {
   "cell_type": "code",
   "execution_count": 37,
   "metadata": {},
   "outputs": [
    {
     "data": {
      "text/html": [
       "<div>\n",
       "<style scoped>\n",
       "    .dataframe tbody tr th:only-of-type {\n",
       "        vertical-align: middle;\n",
       "    }\n",
       "\n",
       "    .dataframe tbody tr th {\n",
       "        vertical-align: top;\n",
       "    }\n",
       "\n",
       "    .dataframe thead tr th {\n",
       "        text-align: left;\n",
       "    }\n",
       "\n",
       "    .dataframe thead tr:last-of-type th {\n",
       "        text-align: right;\n",
       "    }\n",
       "</style>\n",
       "<table border=\"1\" class=\"dataframe\">\n",
       "  <thead>\n",
       "    <tr>\n",
       "      <th></th>\n",
       "      <th>Algorithm</th>\n",
       "      <th colspan=\"2\" halign=\"left\">kNN</th>\n",
       "      <th colspan=\"2\" halign=\"left\">DTree</th>\n",
       "      <th colspan=\"2\" halign=\"left\">MLL</th>\n",
       "    </tr>\n",
       "    <tr>\n",
       "      <th></th>\n",
       "      <th>Metric</th>\n",
       "      <th>Acc</th>\n",
       "      <th>Bal Acc</th>\n",
       "      <th>Acc</th>\n",
       "      <th>Bal Acc</th>\n",
       "      <th>Acc</th>\n",
       "      <th>Bal Acc</th>\n",
       "    </tr>\n",
       "    <tr>\n",
       "      <th>NullHandling</th>\n",
       "      <th>PredParam</th>\n",
       "      <th></th>\n",
       "      <th></th>\n",
       "      <th></th>\n",
       "      <th></th>\n",
       "      <th></th>\n",
       "      <th></th>\n",
       "    </tr>\n",
       "  </thead>\n",
       "  <tbody>\n",
       "    <tr>\n",
       "      <th>Imputed Nulls</th>\n",
       "      <th>reactor</th>\n",
       "      <td>0.52</td>\n",
       "      <td>0.09</td>\n",
       "      <td>0.60</td>\n",
       "      <td>0.12</td>\n",
       "      <td>0.39</td>\n",
       "      <td>0.00</td>\n",
       "    </tr>\n",
       "    <tr>\n",
       "      <th>Zero-value Nulls</th>\n",
       "      <th>reactor</th>\n",
       "      <td>0.45</td>\n",
       "      <td>0.21</td>\n",
       "      <td>0.42</td>\n",
       "      <td>0.30</td>\n",
       "      <td>0.72</td>\n",
       "      <td>0.63</td>\n",
       "    </tr>\n",
       "  </tbody>\n",
       "</table>\n",
       "</div>"
      ],
      "text/plain": [
       "Algorithm                    kNN         DTree           MLL        \n",
       "Metric                       Acc Bal Acc   Acc Bal Acc   Acc Bal Acc\n",
       "NullHandling     PredParam                                          \n",
       "Imputed Nulls    reactor    0.52    0.09  0.60    0.12  0.39    0.00\n",
       "Zero-value Nulls reactor    0.45    0.21  0.42    0.30  0.72    0.63"
      ]
     },
     "execution_count": 37,
     "metadata": {},
     "output_type": "execute_result"
    }
   ],
   "source": [
    "acc_list = ['Acc', 'Bal Acc']\n",
    "df1 = df.loc[(nulls, 'reactor'), (algs, acc_list)].round(2)\n",
    "df1"
   ]
  },
  {
   "cell_type": "code",
   "execution_count": 132,
   "metadata": {},
   "outputs": [
    {
     "name": "stdout",
     "output_type": "stream",
     "text": [
      "Algorithm                    kNN DTree   MLL\n",
      "Metric                       Acc   Acc   Acc\n",
      "NullHandling     PredParam                  \n",
      "Imputed Nulls    reactor    0.52  0.60  0.39\n",
      "Zero-value Nulls reactor    0.45  0.42  0.72\n"
     ]
    }
   ],
   "source": [
    "print(df1.to_string())"
   ]
  },
  {
   "cell_type": "code",
   "execution_count": 28,
   "metadata": {},
   "outputs": [],
   "source": [
    "dfi.export(df1, './plots/sfcompo_reactor.png')"
   ]
  },
  {
   "cell_type": "markdown",
   "metadata": {},
   "source": [
    "### Burnup"
   ]
  },
  {
   "cell_type": "code",
   "execution_count": 38,
   "metadata": {
    "scrolled": true
   },
   "outputs": [],
   "source": [
    "err_list = ['MAE', 'MAE Std']\n",
    "df1 = df.loc[(nulls, 'burnup'), (algs, err_list)]\n",
    "err_list = ['MAPE', 'MAPE Std']\n",
    "df2 = df.loc[(nulls, 'burnup'), (algs, err_list)]\n",
    "err_list = ['MedAE', 'IQR_25', 'IQR_75']\n",
    "df3 = df.loc[(nulls, 'burnup'), (algs, err_list)]"
   ]
  },
  {
   "cell_type": "code",
   "execution_count": 39,
   "metadata": {
    "scrolled": true
   },
   "outputs": [
    {
     "data": {
      "text/html": [
       "<div>\n",
       "<style scoped>\n",
       "    .dataframe tbody tr th:only-of-type {\n",
       "        vertical-align: middle;\n",
       "    }\n",
       "\n",
       "    .dataframe tbody tr th {\n",
       "        vertical-align: top;\n",
       "    }\n",
       "\n",
       "    .dataframe thead tr th {\n",
       "        text-align: left;\n",
       "    }\n",
       "\n",
       "    .dataframe thead tr:last-of-type th {\n",
       "        text-align: right;\n",
       "    }\n",
       "</style>\n",
       "<table border=\"1\" class=\"dataframe\">\n",
       "  <thead>\n",
       "    <tr>\n",
       "      <th></th>\n",
       "      <th>Algorithm</th>\n",
       "      <th colspan=\"2\" halign=\"left\">kNN</th>\n",
       "      <th colspan=\"2\" halign=\"left\">DTree</th>\n",
       "      <th colspan=\"2\" halign=\"left\">MLL</th>\n",
       "    </tr>\n",
       "    <tr>\n",
       "      <th></th>\n",
       "      <th>Metric</th>\n",
       "      <th>MAE</th>\n",
       "      <th>MedAE</th>\n",
       "      <th>MAE</th>\n",
       "      <th>MedAE</th>\n",
       "      <th>MAE</th>\n",
       "      <th>MedAE</th>\n",
       "    </tr>\n",
       "    <tr>\n",
       "      <th>NullHandling</th>\n",
       "      <th>PredParam</th>\n",
       "      <th></th>\n",
       "      <th></th>\n",
       "      <th></th>\n",
       "      <th></th>\n",
       "      <th></th>\n",
       "      <th></th>\n",
       "    </tr>\n",
       "  </thead>\n",
       "  <tbody>\n",
       "    <tr>\n",
       "      <th>Imputed Nulls</th>\n",
       "      <th>burnup</th>\n",
       "      <td>9.43</td>\n",
       "      <td>7.26</td>\n",
       "      <td>10.89</td>\n",
       "      <td>8.28</td>\n",
       "      <td>13.17</td>\n",
       "      <td>10.84</td>\n",
       "    </tr>\n",
       "    <tr>\n",
       "      <th>Zero-value Nulls</th>\n",
       "      <th>burnup</th>\n",
       "      <td>14.88</td>\n",
       "      <td>11.47</td>\n",
       "      <td>15.18</td>\n",
       "      <td>8.79</td>\n",
       "      <td>3.53</td>\n",
       "      <td>1.70</td>\n",
       "    </tr>\n",
       "  </tbody>\n",
       "</table>\n",
       "</div>"
      ],
      "text/plain": [
       "Algorithm                     kNN         DTree          MLL       \n",
       "Metric                        MAE  MedAE    MAE MedAE    MAE  MedAE\n",
       "NullHandling     PredParam                                         \n",
       "Imputed Nulls    burnup      9.43   7.26  10.89  8.28  13.17  10.84\n",
       "Zero-value Nulls burnup     14.88  11.47  15.18  8.79   3.53   1.70"
      ]
     },
     "execution_count": 39,
     "metadata": {},
     "output_type": "execute_result"
    }
   ],
   "source": [
    "err_list = ['MAE', 'MedAE',]# 'MAPE']\n",
    "#err_list = 'MedAE'\n",
    "df1 = df.loc[(nulls, 'burnup'), (algs, err_list)] / 1000\n",
    "df1 = df1.round(2)\n",
    "#print(df1.to_string())\n",
    "df1"
   ]
  },
  {
   "cell_type": "code",
   "execution_count": 30,
   "metadata": {
    "scrolled": true
   },
   "outputs": [],
   "source": [
    "dfi.export(df1, './plots/sfcompo_burnup.png')"
   ]
  },
  {
   "cell_type": "markdown",
   "metadata": {},
   "source": [
    "### Enrichment"
   ]
  },
  {
   "cell_type": "code",
   "execution_count": 40,
   "metadata": {
    "scrolled": true
   },
   "outputs": [],
   "source": [
    "err_list = ['MAE', 'MAE Std']\n",
    "df1 = df.loc[(nulls, 'enrichment'), (algs, err_list)]\n",
    "err_list = ['MAPE', 'MAPE Std']\n",
    "df2 = df.loc[(nulls, 'enrichment'), (algs, err_list)]\n",
    "err_list = ['MedAE', 'IQR_25', 'IQR_75']\n",
    "df3 = df.loc[(nulls, 'enrichment'), (algs, err_list)]"
   ]
  },
  {
   "cell_type": "code",
   "execution_count": 41,
   "metadata": {
    "scrolled": true
   },
   "outputs": [
    {
     "data": {
      "text/html": [
       "<div>\n",
       "<style scoped>\n",
       "    .dataframe tbody tr th:only-of-type {\n",
       "        vertical-align: middle;\n",
       "    }\n",
       "\n",
       "    .dataframe tbody tr th {\n",
       "        vertical-align: top;\n",
       "    }\n",
       "\n",
       "    .dataframe thead tr th {\n",
       "        text-align: left;\n",
       "    }\n",
       "\n",
       "    .dataframe thead tr:last-of-type th {\n",
       "        text-align: right;\n",
       "    }\n",
       "</style>\n",
       "<table border=\"1\" class=\"dataframe\">\n",
       "  <thead>\n",
       "    <tr>\n",
       "      <th></th>\n",
       "      <th>Algorithm</th>\n",
       "      <th colspan=\"3\" halign=\"left\">kNN</th>\n",
       "      <th colspan=\"3\" halign=\"left\">DTree</th>\n",
       "      <th colspan=\"3\" halign=\"left\">MLL</th>\n",
       "    </tr>\n",
       "    <tr>\n",
       "      <th></th>\n",
       "      <th>Metric</th>\n",
       "      <th>MAE</th>\n",
       "      <th>MedAE</th>\n",
       "      <th>MAPE</th>\n",
       "      <th>MAE</th>\n",
       "      <th>MedAE</th>\n",
       "      <th>MAPE</th>\n",
       "      <th>MAE</th>\n",
       "      <th>MedAE</th>\n",
       "      <th>MAPE</th>\n",
       "    </tr>\n",
       "    <tr>\n",
       "      <th>NullHandling</th>\n",
       "      <th>PredParam</th>\n",
       "      <th></th>\n",
       "      <th></th>\n",
       "      <th></th>\n",
       "      <th></th>\n",
       "      <th></th>\n",
       "      <th></th>\n",
       "      <th></th>\n",
       "      <th></th>\n",
       "      <th></th>\n",
       "    </tr>\n",
       "  </thead>\n",
       "  <tbody>\n",
       "    <tr>\n",
       "      <th>Imputed Nulls</th>\n",
       "      <th>enrichment</th>\n",
       "      <td>0.72</td>\n",
       "      <td>0.50</td>\n",
       "      <td>40.36</td>\n",
       "      <td>0.31</td>\n",
       "      <td>0.22</td>\n",
       "      <td>14.47</td>\n",
       "      <td>1.25</td>\n",
       "      <td>1.13</td>\n",
       "      <td>66.02</td>\n",
       "    </tr>\n",
       "    <tr>\n",
       "      <th>Zero-value Nulls</th>\n",
       "      <th>enrichment</th>\n",
       "      <td>1.67</td>\n",
       "      <td>2.02</td>\n",
       "      <td>55.80</td>\n",
       "      <td>0.36</td>\n",
       "      <td>0.22</td>\n",
       "      <td>12.85</td>\n",
       "      <td>0.49</td>\n",
       "      <td>0.35</td>\n",
       "      <td>17.14</td>\n",
       "    </tr>\n",
       "  </tbody>\n",
       "</table>\n",
       "</div>"
      ],
      "text/plain": [
       "Algorithm                     kNN              DTree                MLL        \\\n",
       "Metric                        MAE MedAE   MAPE   MAE MedAE   MAPE   MAE MedAE   \n",
       "NullHandling     PredParam                                                      \n",
       "Imputed Nulls    enrichment  0.72  0.50  40.36  0.31  0.22  14.47  1.25  1.13   \n",
       "Zero-value Nulls enrichment  1.67  2.02  55.80  0.36  0.22  12.85  0.49  0.35   \n",
       "\n",
       "Algorithm                           \n",
       "Metric                        MAPE  \n",
       "NullHandling     PredParam          \n",
       "Imputed Nulls    enrichment  66.02  \n",
       "Zero-value Nulls enrichment  17.14  "
      ]
     },
     "execution_count": 41,
     "metadata": {},
     "output_type": "execute_result"
    }
   ],
   "source": [
    "err_list = ['MAE', 'MedAE', 'MAPE']\n",
    "df1 = df.loc[(nulls, 'enrichment'), (algs, err_list)].round(2)\n",
    "df1"
   ]
  },
  {
   "cell_type": "code",
   "execution_count": 32,
   "metadata": {
    "scrolled": true
   },
   "outputs": [],
   "source": [
    "dfi.export(df1, './plots/sfcompo_enrichment.png')"
   ]
  },
  {
   "cell_type": "markdown",
   "metadata": {},
   "source": [
    "# Intermediate results (where null values are imputed)\n",
    "### Mean Abs Err"
   ]
  },
  {
   "cell_type": "code",
   "execution_count": 30,
   "metadata": {},
   "outputs": [],
   "source": [
    "cols = ['kNN', 'kNN Std', 'DTree', 'DTree Std', 'MaxLL', 'MaxLL Std']\n",
    "rows = ['Reactor Type Accuracy', 'Burnup Error [GWd/MTU]', 'Enrichment Error [%U235]']\n",
    "blank = pd.DataFrame(index=rows, columns=cols)"
   ]
  },
  {
   "cell_type": "code",
   "execution_count": 29,
   "metadata": {},
   "outputs": [
    {
     "data": {
      "text/html": [
       "<div>\n",
       "<style scoped>\n",
       "    .dataframe tbody tr th:only-of-type {\n",
       "        vertical-align: middle;\n",
       "    }\n",
       "\n",
       "    .dataframe tbody tr th {\n",
       "        vertical-align: top;\n",
       "    }\n",
       "\n",
       "    .dataframe thead th {\n",
       "        text-align: right;\n",
       "    }\n",
       "</style>\n",
       "<table border=\"1\" class=\"dataframe\">\n",
       "  <thead>\n",
       "    <tr style=\"text-align: right;\">\n",
       "      <th></th>\n",
       "      <th>kNN</th>\n",
       "      <th>kNN Std</th>\n",
       "      <th>DTree</th>\n",
       "      <th>DTree Std</th>\n",
       "      <th>MaxLL</th>\n",
       "      <th>MaxLL Std</th>\n",
       "    </tr>\n",
       "  </thead>\n",
       "  <tbody>\n",
       "    <tr>\n",
       "      <th>Reactor Type Accuracy</th>\n",
       "      <td>0.13</td>\n",
       "      <td>0.49</td>\n",
       "      <td>0.07</td>\n",
       "      <td>0.48</td>\n",
       "      <td>-0</td>\n",
       "      <td>0.49</td>\n",
       "    </tr>\n",
       "    <tr>\n",
       "      <th>Burnup MAE [GWd/MTU]</th>\n",
       "      <td>9.54</td>\n",
       "      <td>8.6</td>\n",
       "      <td>7.44</td>\n",
       "      <td>8.58</td>\n",
       "      <td>12.57</td>\n",
       "      <td>10.47</td>\n",
       "    </tr>\n",
       "    <tr>\n",
       "      <th>Enrichment MAE [%U235]</th>\n",
       "      <td>0.77</td>\n",
       "      <td>0.7</td>\n",
       "      <td>0.56</td>\n",
       "      <td>0.6</td>\n",
       "      <td>1.22</td>\n",
       "      <td>0.85</td>\n",
       "    </tr>\n",
       "  </tbody>\n",
       "</table>\n",
       "</div>"
      ],
      "text/plain": [
       "                         kNN kNN Std DTree DTree Std  MaxLL MaxLL Std\n",
       "Reactor Type Accuracy   0.13    0.49  0.07      0.48     -0      0.49\n",
       "Burnup MAE [GWd/MTU]    9.54     8.6  7.44      8.58  12.57     10.47\n",
       "Enrichment MAE [%U235]  0.77     0.7  0.56       0.6   1.22      0.85"
      ]
     },
     "execution_count": 29,
     "metadata": {},
     "output_type": "execute_result"
    }
   ],
   "source": [
    "sfco_mean_errs"
   ]
  },
  {
   "cell_type": "markdown",
   "metadata": {},
   "source": [
    "### Median Abs Err"
   ]
  },
  {
   "cell_type": "code",
   "execution_count": 30,
   "metadata": {},
   "outputs": [
    {
     "data": {
      "text/html": [
       "<div>\n",
       "<style scoped>\n",
       "    .dataframe tbody tr th:only-of-type {\n",
       "        vertical-align: middle;\n",
       "    }\n",
       "\n",
       "    .dataframe tbody tr th {\n",
       "        vertical-align: top;\n",
       "    }\n",
       "\n",
       "    .dataframe thead th {\n",
       "        text-align: right;\n",
       "    }\n",
       "</style>\n",
       "<table border=\"1\" class=\"dataframe\">\n",
       "  <thead>\n",
       "    <tr style=\"text-align: right;\">\n",
       "      <th></th>\n",
       "      <th>kNN</th>\n",
       "      <th>kNN Std</th>\n",
       "      <th>DTree</th>\n",
       "      <th>DTree Std</th>\n",
       "      <th>MaxLL</th>\n",
       "      <th>MaxLL Std</th>\n",
       "    </tr>\n",
       "  </thead>\n",
       "  <tbody>\n",
       "    <tr>\n",
       "      <th>Reactor Type Accuracy</th>\n",
       "      <td>0.13</td>\n",
       "      <td>0.49</td>\n",
       "      <td>0.07</td>\n",
       "      <td>0.48</td>\n",
       "      <td>-0</td>\n",
       "      <td>0.49</td>\n",
       "    </tr>\n",
       "    <tr>\n",
       "      <th>Burnup MAE [GWd/MTU]</th>\n",
       "      <td>7.04</td>\n",
       "      <td>6.05</td>\n",
       "      <td>3.17</td>\n",
       "      <td>3.01</td>\n",
       "      <td>9.53</td>\n",
       "      <td>6.62</td>\n",
       "    </tr>\n",
       "    <tr>\n",
       "      <th>Enrichment MAE [%U235]</th>\n",
       "      <td>0.46</td>\n",
       "      <td>0.3</td>\n",
       "      <td>0.31</td>\n",
       "      <td>0.19</td>\n",
       "      <td>0.99</td>\n",
       "      <td>0.51</td>\n",
       "    </tr>\n",
       "  </tbody>\n",
       "</table>\n",
       "</div>"
      ],
      "text/plain": [
       "                         kNN kNN Std DTree DTree Std MaxLL MaxLL Std\n",
       "Reactor Type Accuracy   0.13    0.49  0.07      0.48    -0      0.49\n",
       "Burnup MAE [GWd/MTU]    7.04    6.05  3.17      3.01  9.53      6.62\n",
       "Enrichment MAE [%U235]  0.46     0.3  0.31      0.19  0.99      0.51"
      ]
     },
     "execution_count": 30,
     "metadata": {},
     "output_type": "execute_result"
    }
   ],
   "source": [
    "sfco_med_errs"
   ]
  },
  {
   "cell_type": "markdown",
   "metadata": {},
   "source": [
    "# Old results (where null values were 0)"
   ]
  },
  {
   "cell_type": "code",
   "execution_count": 6,
   "metadata": {},
   "outputs": [
    {
     "data": {
      "text/html": [
       "<div>\n",
       "<style scoped>\n",
       "    .dataframe tbody tr th:only-of-type {\n",
       "        vertical-align: middle;\n",
       "    }\n",
       "\n",
       "    .dataframe tbody tr th {\n",
       "        vertical-align: top;\n",
       "    }\n",
       "\n",
       "    .dataframe thead th {\n",
       "        text-align: right;\n",
       "    }\n",
       "</style>\n",
       "<table border=\"1\" class=\"dataframe\">\n",
       "  <thead>\n",
       "    <tr style=\"text-align: right;\">\n",
       "      <th></th>\n",
       "      <th>kNN</th>\n",
       "      <th>kNN Std</th>\n",
       "      <th>DTree</th>\n",
       "      <th>DTree Std</th>\n",
       "      <th>MaxLL</th>\n",
       "      <th>MaxLL Std</th>\n",
       "    </tr>\n",
       "  </thead>\n",
       "  <tbody>\n",
       "    <tr>\n",
       "      <th>Reactor Type Accuracy</th>\n",
       "      <td>0.14</td>\n",
       "      <td>0.49</td>\n",
       "      <td>0.36</td>\n",
       "      <td>0.5</td>\n",
       "      <td>0.62</td>\n",
       "      <td>0.45</td>\n",
       "    </tr>\n",
       "    <tr>\n",
       "      <th>Burnup MAE [GWd/MTU]</th>\n",
       "      <td>15.17</td>\n",
       "      <td>13.16</td>\n",
       "      <td>14.03</td>\n",
       "      <td>15.21</td>\n",
       "      <td>3.46</td>\n",
       "      <td>3.99</td>\n",
       "    </tr>\n",
       "    <tr>\n",
       "      <th>Enrichment MAE [%U235]</th>\n",
       "      <td>1.48</td>\n",
       "      <td>1.08</td>\n",
       "      <td>0.33</td>\n",
       "      <td>0.37</td>\n",
       "      <td>0.48</td>\n",
       "      <td>0.54</td>\n",
       "    </tr>\n",
       "  </tbody>\n",
       "</table>\n",
       "</div>"
      ],
      "text/plain": [
       "                          kNN kNN Std  DTree DTree Std MaxLL MaxLL Std\n",
       "Reactor Type Accuracy    0.14    0.49   0.36       0.5  0.62      0.45\n",
       "Burnup MAE [GWd/MTU]    15.17   13.16  14.03     15.21  3.46      3.99\n",
       "Enrichment MAE [%U235]   1.48    1.08   0.33      0.37  0.48      0.54"
      ]
     },
     "execution_count": 6,
     "metadata": {},
     "output_type": "execute_result"
    }
   ],
   "source": [
    "sfco_errs"
   ]
  },
  {
   "cell_type": "code",
   "execution_count": 107,
   "metadata": {
    "scrolled": true
   },
   "outputs": [
    {
     "data": {
      "text/html": [
       "<div>\n",
       "<style scoped>\n",
       "    .dataframe tbody tr th:only-of-type {\n",
       "        vertical-align: middle;\n",
       "    }\n",
       "\n",
       "    .dataframe tbody tr th {\n",
       "        vertical-align: top;\n",
       "    }\n",
       "\n",
       "    .dataframe thead th {\n",
       "        text-align: right;\n",
       "    }\n",
       "</style>\n",
       "<table border=\"1\" class=\"dataframe\">\n",
       "  <thead>\n",
       "    <tr style=\"text-align: right;\">\n",
       "      <th></th>\n",
       "      <th>kNN</th>\n",
       "      <th>kNN Std</th>\n",
       "      <th>DTree</th>\n",
       "      <th>DTree Std</th>\n",
       "      <th>MaxLL</th>\n",
       "      <th>MaxLL Std</th>\n",
       "    </tr>\n",
       "  </thead>\n",
       "  <tbody>\n",
       "    <tr>\n",
       "      <th>Reactor Type Accuracy</th>\n",
       "      <td>0.61</td>\n",
       "      <td>0.49</td>\n",
       "      <td>0.51</td>\n",
       "      <td>0.5</td>\n",
       "      <td>0.72</td>\n",
       "      <td>0.45</td>\n",
       "    </tr>\n",
       "    <tr>\n",
       "      <th>Burnup MAE [GWd/MTU]</th>\n",
       "      <td>15.17</td>\n",
       "      <td>13.16</td>\n",
       "      <td>14.03</td>\n",
       "      <td>15.21</td>\n",
       "      <td>3.46</td>\n",
       "      <td>3.99</td>\n",
       "    </tr>\n",
       "    <tr>\n",
       "      <th>Enrichment MAE [%U235]</th>\n",
       "      <td>1.48</td>\n",
       "      <td>1.08</td>\n",
       "      <td>0.33</td>\n",
       "      <td>0.37</td>\n",
       "      <td>0.48</td>\n",
       "      <td>0.54</td>\n",
       "    </tr>\n",
       "  </tbody>\n",
       "</table>\n",
       "</div>"
      ],
      "text/plain": [
       "                          kNN kNN Std  DTree DTree Std MaxLL MaxLL Std\n",
       "Reactor Type Accuracy    0.61    0.49   0.51       0.5  0.72      0.45\n",
       "Burnup MAE [GWd/MTU]    15.17   13.16  14.03     15.21  3.46      3.99\n",
       "Enrichment MAE [%U235]   1.48    1.08   0.33      0.37  0.48      0.54"
      ]
     },
     "execution_count": 107,
     "metadata": {},
     "output_type": "execute_result"
    }
   ],
   "source": [
    "sfco_errs #unbalanced accuracy"
   ]
  },
  {
   "cell_type": "code",
   "execution_count": 101,
   "metadata": {},
   "outputs": [],
   "source": [
    "import dataframe_image as dfi\n",
    "dfi.export(sfco_errs, 'sfcoerrs.png')"
   ]
  },
  {
   "cell_type": "markdown",
   "metadata": {},
   "source": [
    "# SFCOMPO DB"
   ]
  },
  {
   "cell_type": "code",
   "execution_count": 6,
   "metadata": {},
   "outputs": [
    {
     "data": {
      "text/html": [
       "<div>\n",
       "<style scoped>\n",
       "    .dataframe tbody tr th:only-of-type {\n",
       "        vertical-align: middle;\n",
       "    }\n",
       "\n",
       "    .dataframe tbody tr th {\n",
       "        vertical-align: top;\n",
       "    }\n",
       "\n",
       "    .dataframe thead th {\n",
       "        text-align: right;\n",
       "    }\n",
       "</style>\n",
       "<table border=\"1\" class=\"dataframe\">\n",
       "  <thead>\n",
       "    <tr style=\"text-align: right;\">\n",
       "      <th></th>\n",
       "      <th>Burnup</th>\n",
       "      <th>CoolingTime</th>\n",
       "      <th>Enrichment</th>\n",
       "      <th>OrigenReactor</th>\n",
       "      <th>ReactorType</th>\n",
       "      <th>am241</th>\n",
       "      <th>am242m</th>\n",
       "      <th>am243</th>\n",
       "      <th>cm242</th>\n",
       "      <th>cm244</th>\n",
       "      <th>...</th>\n",
       "      <th>pu242</th>\n",
       "      <th>sm147</th>\n",
       "      <th>sm149</th>\n",
       "      <th>sm150</th>\n",
       "      <th>sm151</th>\n",
       "      <th>sm152</th>\n",
       "      <th>u234</th>\n",
       "      <th>u235</th>\n",
       "      <th>u236</th>\n",
       "      <th>u238</th>\n",
       "    </tr>\n",
       "  </thead>\n",
       "  <tbody>\n",
       "    <tr>\n",
       "      <th>BAL-2|1476|42|15</th>\n",
       "      <td>45100.0</td>\n",
       "      <td>0.0</td>\n",
       "      <td>4.4</td>\n",
       "      <td>Balakovo-2_VVER-1000</td>\n",
       "      <td>pwr</td>\n",
       "      <td>0.048000</td>\n",
       "      <td>0.000871</td>\n",
       "      <td>0.141000</td>\n",
       "      <td>0.021000</td>\n",
       "      <td>0.055000</td>\n",
       "      <td>...</td>\n",
       "      <td>0.690</td>\n",
       "      <td>0.273964</td>\n",
       "      <td>0.003416</td>\n",
       "      <td>0.382346</td>\n",
       "      <td>0.012867</td>\n",
       "      <td>0.132168</td>\n",
       "      <td>0.16113</td>\n",
       "      <td>10.640</td>\n",
       "      <td>6.170</td>\n",
       "      <td>926.55</td>\n",
       "    </tr>\n",
       "    <tr>\n",
       "      <th>BAL-2|1476|42|31</th>\n",
       "      <td>45800.0</td>\n",
       "      <td>0.0</td>\n",
       "      <td>4.4</td>\n",
       "      <td>Balakovo-2_VVER-1000</td>\n",
       "      <td>pwr</td>\n",
       "      <td>0.188246</td>\n",
       "      <td>0.000871</td>\n",
       "      <td>0.146000</td>\n",
       "      <td>0.010573</td>\n",
       "      <td>0.053900</td>\n",
       "      <td>...</td>\n",
       "      <td>0.700</td>\n",
       "      <td>0.273964</td>\n",
       "      <td>0.003416</td>\n",
       "      <td>0.382346</td>\n",
       "      <td>0.012867</td>\n",
       "      <td>0.132168</td>\n",
       "      <td>0.22600</td>\n",
       "      <td>10.660</td>\n",
       "      <td>6.000</td>\n",
       "      <td>925.00</td>\n",
       "    </tr>\n",
       "    <tr>\n",
       "      <th>BAL-2|1476|42|6</th>\n",
       "      <td>46700.0</td>\n",
       "      <td>0.0</td>\n",
       "      <td>4.4</td>\n",
       "      <td>Balakovo-2_VVER-1000</td>\n",
       "      <td>pwr</td>\n",
       "      <td>0.066000</td>\n",
       "      <td>0.000871</td>\n",
       "      <td>0.157000</td>\n",
       "      <td>0.024000</td>\n",
       "      <td>0.059000</td>\n",
       "      <td>...</td>\n",
       "      <td>0.720</td>\n",
       "      <td>0.273964</td>\n",
       "      <td>0.003416</td>\n",
       "      <td>0.382346</td>\n",
       "      <td>0.012867</td>\n",
       "      <td>0.132168</td>\n",
       "      <td>0.16113</td>\n",
       "      <td>10.270</td>\n",
       "      <td>6.110</td>\n",
       "      <td>925.18</td>\n",
       "    </tr>\n",
       "    <tr>\n",
       "      <th>BAL-3|1591|23|912</th>\n",
       "      <td>46200.0</td>\n",
       "      <td>0.0</td>\n",
       "      <td>4.4</td>\n",
       "      <td>Balakovo-3_VVER-1000</td>\n",
       "      <td>pwr</td>\n",
       "      <td>0.054000</td>\n",
       "      <td>0.000871</td>\n",
       "      <td>0.151000</td>\n",
       "      <td>0.021000</td>\n",
       "      <td>0.059000</td>\n",
       "      <td>...</td>\n",
       "      <td>0.750</td>\n",
       "      <td>0.273964</td>\n",
       "      <td>0.003416</td>\n",
       "      <td>0.382346</td>\n",
       "      <td>0.012867</td>\n",
       "      <td>0.132168</td>\n",
       "      <td>0.16113</td>\n",
       "      <td>10.180</td>\n",
       "      <td>6.150</td>\n",
       "      <td>925.48</td>\n",
       "    </tr>\n",
       "    <tr>\n",
       "      <th>BAL-3|1591|23|581</th>\n",
       "      <td>47900.0</td>\n",
       "      <td>0.0</td>\n",
       "      <td>4.4</td>\n",
       "      <td>Balakovo-3_VVER-1000</td>\n",
       "      <td>pwr</td>\n",
       "      <td>0.071000</td>\n",
       "      <td>0.000871</td>\n",
       "      <td>0.192000</td>\n",
       "      <td>0.023000</td>\n",
       "      <td>0.079000</td>\n",
       "      <td>...</td>\n",
       "      <td>0.880</td>\n",
       "      <td>0.273964</td>\n",
       "      <td>0.003416</td>\n",
       "      <td>0.382346</td>\n",
       "      <td>0.012867</td>\n",
       "      <td>0.132168</td>\n",
       "      <td>0.16113</td>\n",
       "      <td>8.180</td>\n",
       "      <td>6.340</td>\n",
       "      <td>925.66</td>\n",
       "    </tr>\n",
       "    <tr>\n",
       "      <th>...</th>\n",
       "      <td>...</td>\n",
       "      <td>...</td>\n",
       "      <td>...</td>\n",
       "      <td>...</td>\n",
       "      <td>...</td>\n",
       "      <td>...</td>\n",
       "      <td>...</td>\n",
       "      <td>...</td>\n",
       "      <td>...</td>\n",
       "      <td>...</td>\n",
       "      <td>...</td>\n",
       "      <td>...</td>\n",
       "      <td>...</td>\n",
       "      <td>...</td>\n",
       "      <td>...</td>\n",
       "      <td>...</td>\n",
       "      <td>...</td>\n",
       "      <td>...</td>\n",
       "      <td>...</td>\n",
       "      <td>...</td>\n",
       "      <td>...</td>\n",
       "    </tr>\n",
       "    <tr>\n",
       "      <th>YNK-1|E6|NW-A1|G-127</th>\n",
       "      <td>42500.0</td>\n",
       "      <td>0.0</td>\n",
       "      <td>3.4</td>\n",
       "      <td>Yankee-1_PWR</td>\n",
       "      <td>pwr</td>\n",
       "      <td>0.188246</td>\n",
       "      <td>0.000871</td>\n",
       "      <td>0.149087</td>\n",
       "      <td>0.010573</td>\n",
       "      <td>0.033675</td>\n",
       "      <td>...</td>\n",
       "      <td>0.831</td>\n",
       "      <td>0.273964</td>\n",
       "      <td>0.003416</td>\n",
       "      <td>0.382346</td>\n",
       "      <td>0.012867</td>\n",
       "      <td>0.132168</td>\n",
       "      <td>0.11100</td>\n",
       "      <td>7.249</td>\n",
       "      <td>4.770</td>\n",
       "      <td>932.06</td>\n",
       "    </tr>\n",
       "    <tr>\n",
       "      <th>YNK-1|E6|NW-A1|G-128</th>\n",
       "      <td>42500.0</td>\n",
       "      <td>0.0</td>\n",
       "      <td>3.4</td>\n",
       "      <td>Yankee-1_PWR</td>\n",
       "      <td>pwr</td>\n",
       "      <td>0.188246</td>\n",
       "      <td>0.000871</td>\n",
       "      <td>0.149087</td>\n",
       "      <td>0.010573</td>\n",
       "      <td>0.033675</td>\n",
       "      <td>...</td>\n",
       "      <td>0.803</td>\n",
       "      <td>0.273964</td>\n",
       "      <td>0.003416</td>\n",
       "      <td>0.382346</td>\n",
       "      <td>0.012867</td>\n",
       "      <td>0.132168</td>\n",
       "      <td>0.10500</td>\n",
       "      <td>7.125</td>\n",
       "      <td>4.598</td>\n",
       "      <td>932.39</td>\n",
       "    </tr>\n",
       "    <tr>\n",
       "      <th>YNK-1|E6|NW-A1|N-21</th>\n",
       "      <td>42600.0</td>\n",
       "      <td>0.0</td>\n",
       "      <td>3.4</td>\n",
       "      <td>Yankee-1_PWR</td>\n",
       "      <td>pwr</td>\n",
       "      <td>0.188246</td>\n",
       "      <td>0.000871</td>\n",
       "      <td>0.149087</td>\n",
       "      <td>0.010573</td>\n",
       "      <td>0.033675</td>\n",
       "      <td>...</td>\n",
       "      <td>0.794</td>\n",
       "      <td>0.273964</td>\n",
       "      <td>0.003416</td>\n",
       "      <td>0.382346</td>\n",
       "      <td>0.012867</td>\n",
       "      <td>0.132168</td>\n",
       "      <td>0.10200</td>\n",
       "      <td>7.373</td>\n",
       "      <td>4.569</td>\n",
       "      <td>931.37</td>\n",
       "    </tr>\n",
       "    <tr>\n",
       "      <th>YNK-1|E6|NW-A1|T-165</th>\n",
       "      <td>43200.0</td>\n",
       "      <td>0.0</td>\n",
       "      <td>3.4</td>\n",
       "      <td>Yankee-1_PWR</td>\n",
       "      <td>pwr</td>\n",
       "      <td>0.188246</td>\n",
       "      <td>0.000871</td>\n",
       "      <td>0.149087</td>\n",
       "      <td>0.010573</td>\n",
       "      <td>0.033675</td>\n",
       "      <td>...</td>\n",
       "      <td>0.823</td>\n",
       "      <td>0.273964</td>\n",
       "      <td>0.003416</td>\n",
       "      <td>0.382346</td>\n",
       "      <td>0.012867</td>\n",
       "      <td>0.132168</td>\n",
       "      <td>0.10400</td>\n",
       "      <td>7.020</td>\n",
       "      <td>4.703</td>\n",
       "      <td>931.16</td>\n",
       "    </tr>\n",
       "    <tr>\n",
       "      <th>YNK-1|E6|NW-A1|N-22</th>\n",
       "      <td>44400.0</td>\n",
       "      <td>0.0</td>\n",
       "      <td>3.4</td>\n",
       "      <td>Yankee-1_PWR</td>\n",
       "      <td>pwr</td>\n",
       "      <td>0.188246</td>\n",
       "      <td>0.000871</td>\n",
       "      <td>0.149087</td>\n",
       "      <td>0.010573</td>\n",
       "      <td>0.033675</td>\n",
       "      <td>...</td>\n",
       "      <td>0.860</td>\n",
       "      <td>0.273964</td>\n",
       "      <td>0.003416</td>\n",
       "      <td>0.382346</td>\n",
       "      <td>0.012867</td>\n",
       "      <td>0.132168</td>\n",
       "      <td>0.09300</td>\n",
       "      <td>6.915</td>\n",
       "      <td>4.579</td>\n",
       "      <td>929.77</td>\n",
       "    </tr>\n",
       "  </tbody>\n",
       "</table>\n",
       "<p>505 rows × 34 columns</p>\n",
       "</div>"
      ],
      "text/plain": [
       "                       Burnup  CoolingTime  Enrichment         OrigenReactor  \\\n",
       "BAL-2|1476|42|15      45100.0          0.0         4.4  Balakovo-2_VVER-1000   \n",
       "BAL-2|1476|42|31      45800.0          0.0         4.4  Balakovo-2_VVER-1000   \n",
       "BAL-2|1476|42|6       46700.0          0.0         4.4  Balakovo-2_VVER-1000   \n",
       "BAL-3|1591|23|912     46200.0          0.0         4.4  Balakovo-3_VVER-1000   \n",
       "BAL-3|1591|23|581     47900.0          0.0         4.4  Balakovo-3_VVER-1000   \n",
       "...                       ...          ...         ...                   ...   \n",
       "YNK-1|E6|NW-A1|G-127  42500.0          0.0         3.4          Yankee-1_PWR   \n",
       "YNK-1|E6|NW-A1|G-128  42500.0          0.0         3.4          Yankee-1_PWR   \n",
       "YNK-1|E6|NW-A1|N-21   42600.0          0.0         3.4          Yankee-1_PWR   \n",
       "YNK-1|E6|NW-A1|T-165  43200.0          0.0         3.4          Yankee-1_PWR   \n",
       "YNK-1|E6|NW-A1|N-22   44400.0          0.0         3.4          Yankee-1_PWR   \n",
       "\n",
       "                     ReactorType     am241    am242m     am243     cm242  \\\n",
       "BAL-2|1476|42|15             pwr  0.048000  0.000871  0.141000  0.021000   \n",
       "BAL-2|1476|42|31             pwr  0.188246  0.000871  0.146000  0.010573   \n",
       "BAL-2|1476|42|6              pwr  0.066000  0.000871  0.157000  0.024000   \n",
       "BAL-3|1591|23|912            pwr  0.054000  0.000871  0.151000  0.021000   \n",
       "BAL-3|1591|23|581            pwr  0.071000  0.000871  0.192000  0.023000   \n",
       "...                          ...       ...       ...       ...       ...   \n",
       "YNK-1|E6|NW-A1|G-127         pwr  0.188246  0.000871  0.149087  0.010573   \n",
       "YNK-1|E6|NW-A1|G-128         pwr  0.188246  0.000871  0.149087  0.010573   \n",
       "YNK-1|E6|NW-A1|N-21          pwr  0.188246  0.000871  0.149087  0.010573   \n",
       "YNK-1|E6|NW-A1|T-165         pwr  0.188246  0.000871  0.149087  0.010573   \n",
       "YNK-1|E6|NW-A1|N-22          pwr  0.188246  0.000871  0.149087  0.010573   \n",
       "\n",
       "                         cm244  ...  pu242     sm147     sm149     sm150  \\\n",
       "BAL-2|1476|42|15      0.055000  ...  0.690  0.273964  0.003416  0.382346   \n",
       "BAL-2|1476|42|31      0.053900  ...  0.700  0.273964  0.003416  0.382346   \n",
       "BAL-2|1476|42|6       0.059000  ...  0.720  0.273964  0.003416  0.382346   \n",
       "BAL-3|1591|23|912     0.059000  ...  0.750  0.273964  0.003416  0.382346   \n",
       "BAL-3|1591|23|581     0.079000  ...  0.880  0.273964  0.003416  0.382346   \n",
       "...                        ...  ...    ...       ...       ...       ...   \n",
       "YNK-1|E6|NW-A1|G-127  0.033675  ...  0.831  0.273964  0.003416  0.382346   \n",
       "YNK-1|E6|NW-A1|G-128  0.033675  ...  0.803  0.273964  0.003416  0.382346   \n",
       "YNK-1|E6|NW-A1|N-21   0.033675  ...  0.794  0.273964  0.003416  0.382346   \n",
       "YNK-1|E6|NW-A1|T-165  0.033675  ...  0.823  0.273964  0.003416  0.382346   \n",
       "YNK-1|E6|NW-A1|N-22   0.033675  ...  0.860  0.273964  0.003416  0.382346   \n",
       "\n",
       "                         sm151     sm152     u234    u235   u236    u238  \n",
       "BAL-2|1476|42|15      0.012867  0.132168  0.16113  10.640  6.170  926.55  \n",
       "BAL-2|1476|42|31      0.012867  0.132168  0.22600  10.660  6.000  925.00  \n",
       "BAL-2|1476|42|6       0.012867  0.132168  0.16113  10.270  6.110  925.18  \n",
       "BAL-3|1591|23|912     0.012867  0.132168  0.16113  10.180  6.150  925.48  \n",
       "BAL-3|1591|23|581     0.012867  0.132168  0.16113   8.180  6.340  925.66  \n",
       "...                        ...       ...      ...     ...    ...     ...  \n",
       "YNK-1|E6|NW-A1|G-127  0.012867  0.132168  0.11100   7.249  4.770  932.06  \n",
       "YNK-1|E6|NW-A1|G-128  0.012867  0.132168  0.10500   7.125  4.598  932.39  \n",
       "YNK-1|E6|NW-A1|N-21   0.012867  0.132168  0.10200   7.373  4.569  931.37  \n",
       "YNK-1|E6|NW-A1|T-165  0.012867  0.132168  0.10400   7.020  4.703  931.16  \n",
       "YNK-1|E6|NW-A1|N-22   0.012867  0.132168  0.09300   6.915  4.579  929.77  \n",
       "\n",
       "[505 rows x 34 columns]"
      ]
     },
     "execution_count": 6,
     "metadata": {},
     "output_type": "execute_result"
    }
   ],
   "source": [
    "sfco = pd.read_pickle('~/sfcompo/format_clean/sfcompo_nuc29.pkl')\n",
    "sfco"
   ]
  },
  {
   "cell_type": "code",
   "execution_count": 7,
   "metadata": {},
   "outputs": [],
   "source": [
    "import matplotlib.pyplot as plt"
   ]
  },
  {
   "cell_type": "code",
   "execution_count": 8,
   "metadata": {},
   "outputs": [],
   "source": [
    "# color dict (use: colors['XColor'])\n",
    "import ast\n",
    "with open('color_palette.txt', 'r') as file:\n",
    "    contents = file.read()\n",
    "    colors = ast.literal_eval(contents)"
   ]
  },
  {
   "cell_type": "code",
   "execution_count": 9,
   "metadata": {},
   "outputs": [
    {
     "data": {
      "image/png": "[encoded data removed]",
      "text/plain": [
       "<Figure size 504x504 with 1 Axes>"
      ]
     },
     "metadata": {
      "needs_background": "light"
     },
     "output_type": "display_data"
    }
   ],
   "source": [
    "fig, ax = plt.subplots(figsize=(7,7))\n",
    "ax.set_ylabel('Enrichment [% U235]', fontsize=20, labelpad=15)\n",
    "ax.set_xlabel('Burnup [MWd/MTU]', fontsize=20, labelpad=15)\n",
    "rxtrs = ['pwr', 'bwr', 'phwr']\n",
    "lbls = ['PWR', 'BWR', 'PHWR']\n",
    "cdict = {'pwr' : colors['MTeal'], \n",
    "         'bwr' : colors['MBrwn'], \n",
    "         'phwr' : colors['MPurp']}\n",
    "for i, rxtr in enumerate(rxtrs):\n",
    "    sub = sfco.loc[sfco['ReactorType'] == rxtr]\n",
    "    ax.scatter(sub['Burnup'], sub['Enrichment'], c = cdict[rxtr], s = 50, alpha = 0.5, label=lbls[i])\n",
    "ax.tick_params(labelsize=16)\n",
    "\n",
    "leg = ax.legend(loc='best', title='Reactor Type')\n",
    "for lh in leg.legendHandles: lh.set_alpha(1)\n",
    "\n",
    "fig.savefig('./plots/sfcompo_scatter_viz.png', bbox_inches='tight', transparent=True)\n",
    "plt.show()"
   ]
  },
  {
   "cell_type": "code",
   "execution_count": 15,
   "metadata": {},
   "outputs": [
    {
     "data": {
      "text/plain": [
       "312"
      ]
     },
     "execution_count": 15,
     "metadata": {},
     "output_type": "execute_result"
    }
   ],
   "source": [
    "len(sfco.loc[sfco['ReactorType'] == 'pwr'])"
   ]
  },
  {
   "cell_type": "code",
   "execution_count": 16,
   "metadata": {},
   "outputs": [
    {
     "data": {
      "text/plain": [
       "165"
      ]
     },
     "execution_count": 16,
     "metadata": {},
     "output_type": "execute_result"
    }
   ],
   "source": [
    "len(sfco.loc[sfco['ReactorType'] == 'bwr'])"
   ]
  },
  {
   "cell_type": "code",
   "execution_count": 17,
   "metadata": {},
   "outputs": [
    {
     "data": {
      "text/plain": [
       "28"
      ]
     },
     "execution_count": 17,
     "metadata": {},
     "output_type": "execute_result"
    }
   ],
   "source": [
    "len(sfco.loc[sfco['ReactorType'] == 'phwr'])"
   ]
  },
  {
   "cell_type": "code",
   "execution_count": 40,
   "metadata": {},
   "outputs": [
    {
     "data": {
      "text/plain": [
       "array(['Balakovo-2_VVER-1000', 'Balakovo-3_VVER-1000',\n",
       "       'Calvert Cliffs-1_PWR', 'Cooper-1_BWR', 'Dodewaard-1_BWR',\n",
       "       'Forsmark-3_BWR', 'Fukushima-Daini-1_BWR', 'Fukushima-Daini-2_BWR',\n",
       "       'Garigliano-1_BWR', 'Genkai-1_PWR', 'Gundremmingen-1_BWR',\n",
       "       'Gösgen-1_PWR', 'H.B. Robinson-2_PWR',\n",
       "       'Japan Power Demonstration Reactor-1_BWR', 'Kalinin-1_VVER-1000',\n",
       "       'Kola-3_VVER-440', 'Mihama-3_PWR', 'Monticello-1_BWR',\n",
       "       'Neckarwestheim-2_PWR', 'Novovoronezh-3_VVER-440',\n",
       "       'Novovoronezh-4_VVER-440', 'Novovoronezh-5_VVER-1000',\n",
       "       'Nuclear Power Demonstration Reactor-1_CANDU', 'Obrigheim-1_PWR',\n",
       "       'Ohi-1_PWR', 'Ohi-2_PWR', 'Pickering A-1_CANDU',\n",
       "       'Quad Cities-1_BWR', 'Takahama-3_PWR', 'Three Mile Island-1_PWR',\n",
       "       'Trino Vercellese-1_PWR', 'Tsuruga-1_BWR', 'Turkey Point-3_PWR',\n",
       "       'Vandellos-2_PWR', 'Yankee-1_PWR'], dtype=object)"
      ]
     },
     "execution_count": 40,
     "metadata": {},
     "output_type": "execute_result"
    }
   ],
   "source": [
    "sfco['OrigenReactor'].unique()"
   ]
  },
  {
   "cell_type": "markdown",
   "metadata": {},
   "source": [
    "# Box Plots"
   ]
  },
  {
   "cell_type": "code",
   "execution_count": 42,
   "metadata": {},
   "outputs": [],
   "source": [
    "base = '/mnt/researchdrive/BOX_INTERNAL/opotowsky/'\n",
    "mllpath = base + 'mll/nuc_conc/sfco/'\n",
    "mll_impnull = pd.read_csv(mllpath + 'Job0_unc0.01_impnull/Job0_unc0.01_impnull.csv').drop(columns=['Unnamed: 0', 'Unnamed: 0.1'])\n",
    "mll_0null = pd.read_csv(mllpath + 'Job1_unc0.01_0null/Job1_unc0.01_0null.csv').drop(columns=['Unnamed: 0', 'Unnamed: 0.1'])"
   ]
  },
  {
   "cell_type": "code",
   "execution_count": 43,
   "metadata": {},
   "outputs": [],
   "source": [
    "scipath = base + 'scikit/nuc_conc/sfco/'\n",
    "nulls = ['impnull', '0null']\n",
    "Nulls = ['Imputed Nulls', 'Zero-value Nulls']\n",
    "algs = ['knn', 'dtree', 'mll']\n",
    "preds = ['reactor', 'burnup', 'enrichment', 'cooling']\n",
    "predmll = {'reactor' : 'ReactorType_Score',\n",
    "           'burnup' : 'Burnup_Error',\n",
    "           'enrichment' : 'Enrichment_Error',\n",
    "           'cooling' : 'CoolingTime_Error'}\n",
    "errname = 'AbsError'\n",
    "mlls = [mll_impnull, mll_0null]"
   ]
  },
  {
   "cell_type": "code",
   "execution_count": 57,
   "metadata": {},
   "outputs": [],
   "source": [
    "def boxplots(pred, null_idx):\n",
    "    sv_base = 'plots/sfcompo_boxplots_' + nulls[null_idx]\n",
    "    if pred == 'burnup':\n",
    "        axlbl = 'Burnup Error [MWd/MTU]'\n",
    "        sv_fig = sv_base + '_burn.png'\n",
    "    elif pred == 'reactor':\n",
    "        axlbl = 'Reactor Type'\n",
    "        sv_fig = sv_base + '_rxtr.png'\n",
    "    elif pred == 'enrichment':\n",
    "        axlbl = 'Enrichment Error [% U235]'\n",
    "        sv_fig = sv_base + '_enri.png'\n",
    "    else:\n",
    "        axlbl = 'Time Since Irradiation Error [days]'\n",
    "        sv_fig = sv_base + '_cool.png'\n",
    "    \n",
    "    csv_end = '_tset1.0_nuc29_' + nulls[null_idx] + '_ext_test_compare.csv'\n",
    "    knncsv = pred + '_knn' + csv_end\n",
    "    dtrcsv = pred + '_dtree' + csv_end\n",
    "    knn = pd.read_csv(scipath + knncsv).drop(columns='Unnamed: 0')[errname]\n",
    "    dtr = pd.read_csv(scipath + dtrcsv).drop(columns='Unnamed: 0')[errname]\n",
    "    mll = mlls[null_idx][predmll[pred]]\n",
    "    data = [knn, dtr, mll]\n",
    "    lbls = ['kNN', 'DTree', 'MLL Calc']\n",
    "    \n",
    "    fig, ax = plt.subplots(figsize=(6, 5))\n",
    "    #ax.set_title(Nulls[null_idx], fontsize=20, pad=15)\n",
    "    medianprops = dict(linestyle='-.', linewidth=2.5, color='w')\n",
    "    meanpointprops = dict(markeredgecolor='w', markerfacecolor='cornsilk')\n",
    "    bplot = ax.boxplot(data, notch=True, labels=lbls, patch_artist=True, showmeans=True, \n",
    "                       meanprops=meanpointprops, medianprops=medianprops)\n",
    "    \n",
    "    c = [colors['MBrwn'], colors['MTeal'], colors['MPurp']]\n",
    "    for patch, color in zip(bplot['boxes'], c):\n",
    "        patch.set_facecolor(color)\n",
    "    \n",
    "    ax.set_ylabel(axlbl, fontsize=18, labelpad=15)\n",
    "    ax.set_xlabel('Algorithm', fontsize=18, labelpad=15)\n",
    "    ax.yaxis.grid(True)\n",
    "    ax.tick_params(labelsize=14)\n",
    "    \n",
    "    #get info about boxplots\n",
    "    kfly = bplot[\"fliers\"][0].get_data()[1]\n",
    "    dfly = bplot[\"fliers\"][1].get_data()[1]\n",
    "    mfly = bplot[\"fliers\"][2].get_data()[1]\n",
    "    print(len(kfly), len(dfly), len(mfly))\n",
    "    \n",
    "    plt.show()\n",
    "        \n",
    "    return fig, ax, sv_fig"
   ]
  },
  {
   "cell_type": "code",
   "execution_count": 62,
   "metadata": {},
   "outputs": [
    {
     "name": "stdout",
     "output_type": "stream",
     "text": [
      "0 0 0\n"
     ]
    },
    {
     "data": {
      "image/png": "[encoded data removed]",
      "text/plain": [
       "<Figure size 432x360 with 1 Axes>"
      ]
     },
     "metadata": {
      "needs_background": "light"
     },
     "output_type": "display_data"
    },
    {
     "name": "stdout",
     "output_type": "stream",
     "text": [
      "0 0 0\n"
     ]
    },
    {
     "data": {
      "image/png": "[encoded data removed]",
      "text/plain": [
       "<Figure size 432x360 with 1 Axes>"
      ]
     },
     "metadata": {
      "needs_background": "light"
     },
     "output_type": "display_data"
    }
   ],
   "source": [
    "fig, ax, sv_fig = boxplots('reactor', 0)\n",
    "fig, ax, sv_fig = boxplots('reactor', 1)"
   ]
  },
  {
   "cell_type": "code",
   "execution_count": 58,
   "metadata": {},
   "outputs": [
    {
     "name": "stdout",
     "output_type": "stream",
     "text": [
      "0 0 0\n"
     ]
    },
    {
     "data": {
      "image/png": "[encoded data removed]",
      "text/plain": [
       "<Figure size 432x360 with 1 Axes>"
      ]
     },
     "metadata": {
      "needs_background": "light"
     },
     "output_type": "display_data"
    }
   ],
   "source": [
    "fig, ax, sv_fig = boxplots('burnup', 0)\n",
    "fig.savefig(sv_fig, bbox_inches='tight', transparent=True)"
   ]
  },
  {
   "cell_type": "code",
   "execution_count": 59,
   "metadata": {},
   "outputs": [
    {
     "name": "stdout",
     "output_type": "stream",
     "text": [
      "1 0 39\n"
     ]
    },
    {
     "data": {
      "image/png": "[encoded data removed]",
      "text/plain": [
       "<Figure size 432x360 with 1 Axes>"
      ]
     },
     "metadata": {
      "needs_background": "light"
     },
     "output_type": "display_data"
    }
   ],
   "source": [
    "fig, ax, sv_fig = boxplots('burnup', 1)\n",
    "fig.savefig(sv_fig, bbox_inches='tight', transparent=True)"
   ]
  },
  {
   "cell_type": "code",
   "execution_count": 60,
   "metadata": {},
   "outputs": [
    {
     "name": "stdout",
     "output_type": "stream",
     "text": [
      "0 30 16\n"
     ]
    },
    {
     "data": {
      "image/png": "[encoded data removed]",
      "text/plain": [
       "<Figure size 432x360 with 1 Axes>"
      ]
     },
     "metadata": {
      "needs_background": "light"
     },
     "output_type": "display_data"
    },
    {
     "name": "stdout",
     "output_type": "stream",
     "text": [
      "0 45 16\n"
     ]
    },
    {
     "data": {
      "image/png": "[encoded data removed]",
      "text/plain": [
       "<Figure size 432x360 with 1 Axes>"
      ]
     },
     "metadata": {
      "needs_background": "light"
     },
     "output_type": "display_data"
    }
   ],
   "source": [
    "fig, ax, sv_fig = boxplots('enrichment', 0)\n",
    "fig.savefig(sv_fig, bbox_inches='tight', transparent=True)\n",
    "fig, ax, sv_fig = boxplots('enrichment', 1)\n",
    "fig.savefig(sv_fig, bbox_inches='tight', transparent=True)"
   ]
  },
  {
   "cell_type": "code",
   "execution_count": null,
   "metadata": {},
   "outputs": [],
   "source": []
  }
 ],
 "metadata": {
  "kernelspec": {
   "display_name": "Python 3",
   "language": "python",
   "name": "python3"
  },
  "language_info": {
   "codemirror_mode": {
    "name": "ipython",
    "version": 3
   },
   "file_extension": ".py",
   "mimetype": "text/x-python",
   "name": "python",
   "nbconvert_exporter": "python",
   "pygments_lexer": "ipython3",
   "version": "3.6.9"
  }
 },
 "nbformat": 4,
 "nbformat_minor": 4
}
