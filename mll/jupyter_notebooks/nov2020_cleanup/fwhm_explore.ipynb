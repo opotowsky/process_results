{
 "cells": [
  {
   "cell_type": "code",
   "execution_count": 1,
   "metadata": {},
   "outputs": [],
   "source": [
    "import numpy as np\n",
    "import pandas as pd\n",
    "import matplotlib.pyplot as plt\n",
    "%matplotlib inline"
   ]
  },
  {
   "cell_type": "code",
   "execution_count": 2,
   "metadata": {},
   "outputs": [
    {
     "data": {
      "text/html": [
       "<div>\n",
       "<style scoped>\n",
       "    .dataframe tbody tr th:only-of-type {\n",
       "        vertical-align: middle;\n",
       "    }\n",
       "\n",
       "    .dataframe tbody tr th {\n",
       "        vertical-align: top;\n",
       "    }\n",
       "\n",
       "    .dataframe thead th {\n",
       "        text-align: right;\n",
       "    }\n",
       "</style>\n",
       "<table border=\"1\" class=\"dataframe\">\n",
       "  <thead>\n",
       "    <tr style=\"text-align: right;\">\n",
       "      <th></th>\n",
       "      <th>Unnamed: 0</th>\n",
       "      <th>Burnup</th>\n",
       "      <th>CoolingTime</th>\n",
       "      <th>Enrichment</th>\n",
       "      <th>OrigenReactor</th>\n",
       "      <th>ReactorType</th>\n",
       "      <th>ba136</th>\n",
       "      <th>ba138</th>\n",
       "      <th>cs133</th>\n",
       "      <th>cs134</th>\n",
       "      <th>...</th>\n",
       "      <th>LLUncertainty_0.05</th>\n",
       "      <th>Likelihood0.1</th>\n",
       "      <th>LogLikelihood_0.1</th>\n",
       "      <th>LLUncertainty_0.1</th>\n",
       "      <th>Likelihood0.15</th>\n",
       "      <th>LogLikelihood_0.15</th>\n",
       "      <th>LLUncertainty_0.15</th>\n",
       "      <th>Likelihood0.2</th>\n",
       "      <th>LogLikelihood_0.2</th>\n",
       "      <th>LLUncertainty_0.2</th>\n",
       "    </tr>\n",
       "  </thead>\n",
       "  <tbody>\n",
       "    <tr>\n",
       "      <th>0</th>\n",
       "      <td>1</td>\n",
       "      <td>2006.54</td>\n",
       "      <td>0.000839</td>\n",
       "      <td>0.53</td>\n",
       "      <td>ce14x14</td>\n",
       "      <td>pwr</td>\n",
       "      <td>0.000593</td>\n",
       "      <td>0.6109</td>\n",
       "      <td>0.5142</td>\n",
       "      <td>0.002411</td>\n",
       "      <td>...</td>\n",
       "      <td>144.401032</td>\n",
       "      <td>1.295935e-131</td>\n",
       "      <td>-301.379415</td>\n",
       "      <td>72.200516</td>\n",
       "      <td>2.554691e-43</td>\n",
       "      <td>-98.073228</td>\n",
       "      <td>48.133677</td>\n",
       "      <td>2.295624e-13</td>\n",
       "      <td>-29.102601</td>\n",
       "      <td>36.100258</td>\n",
       "    </tr>\n",
       "    <tr>\n",
       "      <th>1</th>\n",
       "      <td>2</td>\n",
       "      <td>2006.54</td>\n",
       "      <td>0.592485</td>\n",
       "      <td>0.53</td>\n",
       "      <td>ce14x14</td>\n",
       "      <td>pwr</td>\n",
       "      <td>0.000600</td>\n",
       "      <td>0.6114</td>\n",
       "      <td>0.5204</td>\n",
       "      <td>0.002411</td>\n",
       "      <td>...</td>\n",
       "      <td>142.963806</td>\n",
       "      <td>2.833535e-126</td>\n",
       "      <td>-289.084197</td>\n",
       "      <td>71.481903</td>\n",
       "      <td>5.462914e-41</td>\n",
       "      <td>-92.708007</td>\n",
       "      <td>47.654602</td>\n",
       "      <td>4.341161e-12</td>\n",
       "      <td>-26.162879</td>\n",
       "      <td>35.740951</td>\n",
       "    </tr>\n",
       "    <tr>\n",
       "      <th>2</th>\n",
       "      <td>3</td>\n",
       "      <td>2006.54</td>\n",
       "      <td>1.109213</td>\n",
       "      <td>0.53</td>\n",
       "      <td>ce14x14</td>\n",
       "      <td>pwr</td>\n",
       "      <td>0.000607</td>\n",
       "      <td>0.6114</td>\n",
       "      <td>0.5256</td>\n",
       "      <td>0.002410</td>\n",
       "      <td>...</td>\n",
       "      <td>142.242179</td>\n",
       "      <td>2.075084e-123</td>\n",
       "      <td>-282.487965</td>\n",
       "      <td>71.121089</td>\n",
       "      <td>9.566980e-40</td>\n",
       "      <td>-89.845086</td>\n",
       "      <td>47.414060</td>\n",
       "      <td>2.058172e-11</td>\n",
       "      <td>-24.606618</td>\n",
       "      <td>35.560545</td>\n",
       "    </tr>\n",
       "    <tr>\n",
       "      <th>3</th>\n",
       "      <td>4</td>\n",
       "      <td>2006.54</td>\n",
       "      <td>8.460400</td>\n",
       "      <td>0.53</td>\n",
       "      <td>ce14x14</td>\n",
       "      <td>pwr</td>\n",
       "      <td>0.000681</td>\n",
       "      <td>0.6114</td>\n",
       "      <td>0.5759</td>\n",
       "      <td>0.002394</td>\n",
       "      <td>...</td>\n",
       "      <td>139.681858</td>\n",
       "      <td>5.128500e-114</td>\n",
       "      <td>-260.859887</td>\n",
       "      <td>69.840929</td>\n",
       "      <td>1.022475e-35</td>\n",
       "      <td>-80.568252</td>\n",
       "      <td>46.560619</td>\n",
       "      <td>2.916976e-09</td>\n",
       "      <td>-19.652718</td>\n",
       "      <td>34.920465</td>\n",
       "    </tr>\n",
       "    <tr>\n",
       "      <th>4</th>\n",
       "      <td>5</td>\n",
       "      <td>2006.54</td>\n",
       "      <td>38.415629</td>\n",
       "      <td>0.53</td>\n",
       "      <td>ce14x14</td>\n",
       "      <td>pwr</td>\n",
       "      <td>0.000806</td>\n",
       "      <td>0.6114</td>\n",
       "      <td>0.6069</td>\n",
       "      <td>0.002329</td>\n",
       "      <td>...</td>\n",
       "      <td>138.599281</td>\n",
       "      <td>2.220295e-109</td>\n",
       "      <td>-250.184135</td>\n",
       "      <td>69.299641</td>\n",
       "      <td>1.041416e-33</td>\n",
       "      <td>-75.944726</td>\n",
       "      <td>46.199760</td>\n",
       "      <td>3.572295e-08</td>\n",
       "      <td>-17.147473</td>\n",
       "      <td>34.649820</td>\n",
       "    </tr>\n",
       "  </tbody>\n",
       "</table>\n",
       "<p>5 rows × 33 columns</p>\n",
       "</div>"
      ],
      "text/plain": [
       "   Unnamed: 0   Burnup  CoolingTime  Enrichment OrigenReactor ReactorType  \\\n",
       "0           1  2006.54     0.000839        0.53       ce14x14         pwr   \n",
       "1           2  2006.54     0.592485        0.53       ce14x14         pwr   \n",
       "2           3  2006.54     1.109213        0.53       ce14x14         pwr   \n",
       "3           4  2006.54     8.460400        0.53       ce14x14         pwr   \n",
       "4           5  2006.54    38.415629        0.53       ce14x14         pwr   \n",
       "\n",
       "      ba136   ba138   cs133     cs134  ...  LLUncertainty_0.05  Likelihood0.1  \\\n",
       "0  0.000593  0.6109  0.5142  0.002411  ...          144.401032  1.295935e-131   \n",
       "1  0.000600  0.6114  0.5204  0.002411  ...          142.963806  2.833535e-126   \n",
       "2  0.000607  0.6114  0.5256  0.002410  ...          142.242179  2.075084e-123   \n",
       "3  0.000681  0.6114  0.5759  0.002394  ...          139.681858  5.128500e-114   \n",
       "4  0.000806  0.6114  0.6069  0.002329  ...          138.599281  2.220295e-109   \n",
       "\n",
       "   LogLikelihood_0.1  LLUncertainty_0.1  Likelihood0.15  LogLikelihood_0.15  \\\n",
       "0        -301.379415          72.200516    2.554691e-43          -98.073228   \n",
       "1        -289.084197          71.481903    5.462914e-41          -92.708007   \n",
       "2        -282.487965          71.121089    9.566980e-40          -89.845086   \n",
       "3        -260.859887          69.840929    1.022475e-35          -80.568252   \n",
       "4        -250.184135          69.299641    1.041416e-33          -75.944726   \n",
       "\n",
       "   LLUncertainty_0.15  Likelihood0.2  LogLikelihood_0.2  LLUncertainty_0.2  \n",
       "0           48.133677   2.295624e-13         -29.102601          36.100258  \n",
       "1           47.654602   4.341161e-12         -26.162879          35.740951  \n",
       "2           47.414060   2.058172e-11         -24.606618          35.560545  \n",
       "3           46.560619   2.916976e-09         -19.652718          34.920465  \n",
       "4           46.199760   3.572295e-08         -17.147473          34.649820  \n",
       "\n",
       "[5 rows x 33 columns]"
      ]
     },
     "execution_count": 2,
     "metadata": {},
     "output_type": "execute_result"
    }
   ],
   "source": [
    "# two idx options: 10522 and 5010\n",
    "# ...oh and 13287\n",
    "df = pd.read_csv('likelihood_idx10522_15nucs_opusupdate-aug2019.csv')\n",
    "df.head()"
   ]
  },
  {
   "cell_type": "code",
   "execution_count": 4,
   "metadata": {},
   "outputs": [
    {
     "data": {
      "text/plain": [
       "Index(['Unnamed: 0', 'Burnup', 'CoolingTime', 'Enrichment', 'OrigenReactor',\n",
       "       'ReactorType', 'ba136', 'ba138', 'cs133', 'cs134', 'cs135', 'cs137',\n",
       "       'eu153', 'eu154', 'pu239', 'pu240', 'pu241', 'pu242', 'sm149', 'sm150',\n",
       "       'sm152', 'Likelihood0.05', 'LogLikelihood_0.05', 'LLUncertainty_0.05',\n",
       "       'Likelihood0.1', 'LogLikelihood_0.1', 'LLUncertainty_0.1',\n",
       "       'Likelihood0.15', 'LogLikelihood_0.15', 'LLUncertainty_0.15',\n",
       "       'Likelihood0.2', 'LogLikelihood_0.2', 'LLUncertainty_0.2'],\n",
       "      dtype='object')"
      ]
     },
     "execution_count": 4,
     "metadata": {},
     "output_type": "execute_result"
    }
   ],
   "source": [
    "df.columns"
   ]
  },
  {
   "cell_type": "code",
   "execution_count": 26,
   "metadata": {},
   "outputs": [
    {
     "data": {
      "text/plain": [
       "(0, 5000)"
      ]
     },
     "execution_count": 26,
     "metadata": {},
     "output_type": "execute_result"
    },
    {
     "data": {
      "image/png": "[encoded data removed]",
      "text/plain": [
       "<Figure size 432x288 with 1 Axes>"
      ]
     },
     "metadata": {
      "needs_background": "light"
     },
     "output_type": "display_data"
    }
   ],
   "source": [
    "x = df['Burnup']\n",
    "y = df['Likelihood0.15']\n",
    "fig = plt.figure()#figsize=(6,6))\n",
    "ax = fig.add_subplot(111)\n",
    "ax.plot(x, y, '.')\n",
    "#ax.set_ylim(-2000, 200)\n",
    "ax.set_xlim(0, 5000)"
   ]
  },
  {
   "cell_type": "code",
   "execution_count": null,
   "metadata": {},
   "outputs": [],
   "source": []
  }
 ],
 "metadata": {
  "kernelspec": {
   "display_name": "Python 3",
   "language": "python",
   "name": "python3"
  },
  "language_info": {
   "codemirror_mode": {
    "name": "ipython",
    "version": 3
   },
   "file_extension": ".py",
   "mimetype": "text/x-python",
   "name": "python",
   "nbconvert_exporter": "python",
   "pygments_lexer": "ipython3",
   "version": "3.6.9"
  }
 },
 "nbformat": 4,
 "nbformat_minor": 4
}
