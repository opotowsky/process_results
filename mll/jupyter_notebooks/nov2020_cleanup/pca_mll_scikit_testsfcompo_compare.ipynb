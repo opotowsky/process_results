{
 "cells": [
  {
   "cell_type": "code",
   "execution_count": 1,
   "metadata": {},
   "outputs": [],
   "source": [
    "import numpy as np\n",
    "import pandas as pd\n",
    "from sklearn.metrics import accuracy_score, explained_variance_score, mean_absolute_error"
   ]
  },
  {
   "cell_type": "code",
   "execution_count": 3,
   "metadata": {},
   "outputs": [],
   "source": [
    "preds = {'rxtr': 'reactor', 'burn' : 'burnup', 'cool' : 'cooling', 'enri' : 'enrichment'}\n",
    "algs = ['knn', 'dtree']\n",
    "fracs = ['0.1', '0.3', '1.0']\n",
    "mll_frac = '1.0'\n",
    "learn15 = {}\n",
    "learn29 = {}\n",
    "base = '~/sims_n_results/simupdates_aug2020/'\n",
    "path15 = base + 'learn15/sfcompo_compare/'\n",
    "path29 = base + 'learn29/sfcompo_compare/'\n",
    "path_end = '_ext_test_compare.csv'\n",
    "for frac in fracs:\n",
    "    for p, pred in preds.items():\n",
    "        for alg in algs:\n",
    "            key = p + frac + '_' + alg\n",
    "            nuc_mid = 'tset' + frac + '_' + pred + '_' + alg\n",
    "            pca_mid = 'pca/' + pred + '_' + alg + '_tset' + frac\n",
    "            learn15['nuc_' + key] = pd.read_csv(path15 + nuc_mid + '_nuc15' + path_end, index_col=0)\n",
    "            learn15['pca_' + key] = pd.read_csv(path15 + pca_mid + '_nuc15' + path_end, index_col=0)\n",
    "            learn29['nuc_' + key] = pd.read_csv(path29 + nuc_mid + '_nuc29' + path_end, index_col=0)\n",
    "            learn29['pca_' + key] = pd.read_csv(path29 + pca_mid + '_nuc29' + path_end, index_col=0)\n",
    "\n",
    "nuc_mll15 = pd.read_csv(base+'sfco15/Job0_unc0.05/Job0_unc0.05.csv', index_col=0)\n",
    "nuc_mll29 = pd.read_csv(base+'sfco29/Job0_unc0.05/Job0_unc0.05.csv', index_col=0)\n",
    "pca_mll29 = pd.read_csv(base+'pca_sfco29/Job0_unc0.05/Job0_unc0.05.csv', index_col=0)"
   ]
  },
  {
   "cell_type": "code",
   "execution_count": 4,
   "metadata": {},
   "outputs": [
    {
     "data": {
      "text/html": [
       "<div>\n",
       "<style scoped>\n",
       "    .dataframe tbody tr th:only-of-type {\n",
       "        vertical-align: middle;\n",
       "    }\n",
       "\n",
       "    .dataframe tbody tr th {\n",
       "        vertical-align: top;\n",
       "    }\n",
       "\n",
       "    .dataframe thead th {\n",
       "        text-align: right;\n",
       "    }\n",
       "</style>\n",
       "<table border=\"1\" class=\"dataframe\">\n",
       "  <thead>\n",
       "    <tr style=\"text-align: right;\">\n",
       "      <th></th>\n",
       "      <th>TrueY</th>\n",
       "      <th>kNN</th>\n",
       "    </tr>\n",
       "  </thead>\n",
       "  <tbody>\n",
       "    <tr>\n",
       "      <th>0</th>\n",
       "      <td>pwr</td>\n",
       "      <td>bwr</td>\n",
       "    </tr>\n",
       "  </tbody>\n",
       "</table>\n",
       "</div>"
      ],
      "text/plain": [
       "  TrueY  kNN\n",
       "0   pwr  bwr"
      ]
     },
     "execution_count": 4,
     "metadata": {},
     "output_type": "execute_result"
    }
   ],
   "source": [
    "learn29['nuc_rxtr0.1_knn'].head(1)"
   ]
  },
  {
   "cell_type": "code",
   "execution_count": 5,
   "metadata": {},
   "outputs": [
    {
     "data": {
      "text/plain": [
       "['nuc_kNN', 'nuc_DTree', 'pca_kNN', 'pca_DTree', 'nuc_MaxLL', 'pca_MaxLL']"
      ]
     },
     "execution_count": 5,
     "metadata": {},
     "output_type": "execute_result"
    }
   ],
   "source": [
    "Algs = ['kNN', 'DTree']\n",
    "\n",
    "nuc_cols = ['nuc_' + col for col in Algs]\n",
    "pca_cols = ['pca_' + col for col in Algs]\n",
    "mll_cols = ['nuc_MaxLL', 'pca_MaxLL']\n",
    "\n",
    "cols = nuc_cols + pca_cols + mll_cols\n",
    "cols"
   ]
  },
  {
   "cell_type": "code",
   "execution_count": 6,
   "metadata": {},
   "outputs": [
    {
     "name": "stdout",
     "output_type": "stream",
     "text": [
      "Reactor Type, 29 Nuclides: \n",
      "\n"
     ]
    },
    {
     "data": {
      "text/html": [
       "<div>\n",
       "<style scoped>\n",
       "    .dataframe tbody tr th:only-of-type {\n",
       "        vertical-align: middle;\n",
       "    }\n",
       "\n",
       "    .dataframe tbody tr th {\n",
       "        vertical-align: top;\n",
       "    }\n",
       "\n",
       "    .dataframe thead th {\n",
       "        text-align: right;\n",
       "    }\n",
       "</style>\n",
       "<table border=\"1\" class=\"dataframe\">\n",
       "  <thead>\n",
       "    <tr style=\"text-align: right;\">\n",
       "      <th></th>\n",
       "      <th>nuc_kNN</th>\n",
       "      <th>nuc_DTree</th>\n",
       "      <th>pca_kNN</th>\n",
       "      <th>pca_DTree</th>\n",
       "      <th>nuc_MaxLL</th>\n",
       "      <th>pca_MaxLL</th>\n",
       "    </tr>\n",
       "  </thead>\n",
       "  <tbody>\n",
       "    <tr>\n",
       "      <th>0.1</th>\n",
       "      <td>0.653465</td>\n",
       "      <td>0.352475</td>\n",
       "      <td>0.445545</td>\n",
       "      <td>0.398020</td>\n",
       "      <td>NaN</td>\n",
       "      <td>NaN</td>\n",
       "    </tr>\n",
       "    <tr>\n",
       "      <th>0.3</th>\n",
       "      <td>0.641584</td>\n",
       "      <td>0.801980</td>\n",
       "      <td>0.396040</td>\n",
       "      <td>0.479208</td>\n",
       "      <td>NaN</td>\n",
       "      <td>NaN</td>\n",
       "    </tr>\n",
       "    <tr>\n",
       "      <th>1.0</th>\n",
       "      <td>0.641584</td>\n",
       "      <td>0.627723</td>\n",
       "      <td>0.386139</td>\n",
       "      <td>0.425743</td>\n",
       "      <td>0.784158</td>\n",
       "      <td>0.554455</td>\n",
       "    </tr>\n",
       "  </tbody>\n",
       "</table>\n",
       "</div>"
      ],
      "text/plain": [
       "      nuc_kNN  nuc_DTree   pca_kNN  pca_DTree  nuc_MaxLL  pca_MaxLL\n",
       "0.1  0.653465   0.352475  0.445545   0.398020        NaN        NaN\n",
       "0.3  0.641584   0.801980  0.396040   0.479208        NaN        NaN\n",
       "1.0  0.641584   0.627723  0.386139   0.425743   0.784158   0.554455"
      ]
     },
     "execution_count": 6,
     "metadata": {},
     "output_type": "execute_result"
    }
   ],
   "source": [
    "rxtr29 = pd.DataFrame(columns=cols)\n",
    "for frac in fracs:\n",
    "    scores29 = []\n",
    "    for col in cols:\n",
    "        if col in nuc_cols:\n",
    "            key = 'nuc_rxtr' + frac\n",
    "            if 'kNN' in col:\n",
    "                key = key + '_knn'\n",
    "            else:\n",
    "                key = key + '_dtree'\n",
    "            scores29.append(accuracy_score(learn29[key]['TrueY'], learn29[key][col[4:]]))    \n",
    "        elif col in pca_cols:\n",
    "            key = 'pca_rxtr' + frac\n",
    "            if 'kNN' in col:\n",
    "                key = key + '_knn'\n",
    "            else:\n",
    "                key = key + '_dtree'\n",
    "            scores29.append(accuracy_score(learn29[key]['TrueY'], learn29[key][col[4:]]))\n",
    "        elif col == 'nuc_MaxLL':\n",
    "            if frac == mll_frac:\n",
    "                scores29.append(accuracy_score(nuc_mll29['ReactorType'], nuc_mll29['pred_ReactorType']))\n",
    "            else:\n",
    "                scores29.append(np.nan)\n",
    "        else:\n",
    "            if frac == mll_frac:\n",
    "                scores29.append(accuracy_score(pca_mll29['ReactorType'], pca_mll29['pred_ReactorType']))\n",
    "            else:\n",
    "                scores29.append(np.nan)\n",
    "    rxtr29.loc[frac] = scores29\n",
    "print('Reactor Type, 29 Nuclides: \\n')\n",
    "rxtr29"
   ]
  },
  {
   "cell_type": "code",
   "execution_count": 7,
   "metadata": {},
   "outputs": [
    {
     "name": "stdout",
     "output_type": "stream",
     "text": [
      "Reactor Type, 15 Nuclides: \n",
      "\n"
     ]
    },
    {
     "data": {
      "text/html": [
       "<div>\n",
       "<style scoped>\n",
       "    .dataframe tbody tr th:only-of-type {\n",
       "        vertical-align: middle;\n",
       "    }\n",
       "\n",
       "    .dataframe tbody tr th {\n",
       "        vertical-align: top;\n",
       "    }\n",
       "\n",
       "    .dataframe thead th {\n",
       "        text-align: right;\n",
       "    }\n",
       "</style>\n",
       "<table border=\"1\" class=\"dataframe\">\n",
       "  <thead>\n",
       "    <tr style=\"text-align: right;\">\n",
       "      <th></th>\n",
       "      <th>nuc_kNN</th>\n",
       "      <th>nuc_DTree</th>\n",
       "      <th>nuc_MaxLL</th>\n",
       "    </tr>\n",
       "  </thead>\n",
       "  <tbody>\n",
       "    <tr>\n",
       "      <th>0.1</th>\n",
       "      <td>0.704950</td>\n",
       "      <td>0.635644</td>\n",
       "      <td>NaN</td>\n",
       "    </tr>\n",
       "    <tr>\n",
       "      <th>0.3</th>\n",
       "      <td>0.685149</td>\n",
       "      <td>0.645545</td>\n",
       "      <td>NaN</td>\n",
       "    </tr>\n",
       "    <tr>\n",
       "      <th>1.0</th>\n",
       "      <td>0.679208</td>\n",
       "      <td>0.647525</td>\n",
       "      <td>0.794059</td>\n",
       "    </tr>\n",
       "  </tbody>\n",
       "</table>\n",
       "</div>"
      ],
      "text/plain": [
       "      nuc_kNN  nuc_DTree  nuc_MaxLL\n",
       "0.1  0.704950   0.635644        NaN\n",
       "0.3  0.685149   0.645545        NaN\n",
       "1.0  0.679208   0.647525   0.794059"
      ]
     },
     "execution_count": 7,
     "metadata": {},
     "output_type": "execute_result"
    }
   ],
   "source": [
    "rxtr15 = pd.DataFrame(columns=nuc_cols+['nuc_MaxLL'])\n",
    "for frac in fracs:\n",
    "    scores15 = []\n",
    "    for col in cols:\n",
    "        if col in nuc_cols:\n",
    "            key = 'nuc_rxtr' + frac\n",
    "            if 'kNN' in col:\n",
    "                key = key + '_knn'\n",
    "            else:\n",
    "                key = key + '_dtree'\n",
    "            scores15.append(accuracy_score(learn15[key]['TrueY'], learn15[key][col[4:]]))\n",
    "        elif col == 'nuc_MaxLL':\n",
    "            if frac == mll_frac:\n",
    "                scores15.append(accuracy_score(nuc_mll15['ReactorType'], nuc_mll15['pred_ReactorType']))\n",
    "            else:\n",
    "                scores15.append(np.nan)\n",
    "    rxtr15.loc[frac] = scores15\n",
    "print('Reactor Type, 15 Nuclides: \\n')\n",
    "rxtr15"
   ]
  },
  {
   "cell_type": "code",
   "execution_count": 8,
   "metadata": {},
   "outputs": [],
   "source": [
    "llparam = { 'burn' : ['Burnup', 'pred_Burnup'],\n",
    "            'cool' : ['CoolingTime', 'pred_CoolingTime'],\n",
    "            'enri' : ['Enrichment', 'pred_Enrichment'] }"
   ]
  },
  {
   "cell_type": "code",
   "execution_count": 9,
   "metadata": {},
   "outputs": [],
   "source": [
    "def explained_variances(param):\n",
    "    df29 = pd.DataFrame(columns=cols)\n",
    "    for frac in fracs:\n",
    "        scores29 = []\n",
    "        for col in cols:\n",
    "            if col in nuc_cols:\n",
    "                key = 'nuc_' + param + frac\n",
    "                if 'kNN' in col:\n",
    "                    key = key + '_knn'\n",
    "                else:\n",
    "                    key = key + '_dtree'\n",
    "                scores29.append(explained_variance_score(learn29[key]['TrueY'], learn29[key][col[4:]]))\n",
    "            elif col in pca_cols:\n",
    "                key = 'pca_' + param + frac\n",
    "                if 'kNN' in col:\n",
    "                    key = key + '_knn'\n",
    "                else:\n",
    "                    key = key + '_dtree'\n",
    "                scores29.append(explained_variance_score(learn29[key]['TrueY'], learn29[key][col[4:]]))    \n",
    "            elif col == 'nuc_MaxLL':\n",
    "                if frac == mll_frac:\n",
    "                    scores29.append(explained_variance_score(nuc_mll29[llparam[param][0]], nuc_mll29[llparam[param][1]]))\n",
    "                else:\n",
    "                    scores29.append(np.nan)\n",
    "            else:\n",
    "                if frac == mll_frac:\n",
    "                    scores29.append(explained_variance_score(pca_mll29[llparam[param][0]], pca_mll29[llparam[param][1]]))\n",
    "                else:\n",
    "                    scores29.append(np.nan)\n",
    "        df29.loc[frac] = scores29\n",
    "    print(llparam[param][0] + ', ExpVar, 29 nuclides: \\n')\n",
    "    return df29"
   ]
  },
  {
   "cell_type": "code",
   "execution_count": 10,
   "metadata": {},
   "outputs": [],
   "source": [
    "def mean_abs_error(param):\n",
    "    df29 = pd.DataFrame(columns=cols)\n",
    "    for frac in fracs:\n",
    "        scores29 = []\n",
    "        for col in cols:\n",
    "            if col in nuc_cols:\n",
    "                key = 'nuc_' + param + frac\n",
    "                if 'kNN' in col:\n",
    "                    key = key + '_knn'\n",
    "                else:\n",
    "                    key = key + '_dtree'\n",
    "                scores29.append(mean_absolute_error(learn29[key]['TrueY'], learn29[key][col[4:]]))\n",
    "            elif col in pca_cols:\n",
    "                key = 'pca_' + param + frac\n",
    "                if 'kNN' in col:\n",
    "                    key = key + '_knn'\n",
    "                else:\n",
    "                    key = key + '_dtree'\n",
    "                scores29.append(mean_absolute_error(learn29[key]['TrueY'], learn29[key][col[4:]]))    \n",
    "            elif col == 'nuc_MaxLL':\n",
    "                if frac == mll_frac:\n",
    "                    scores29.append(mean_absolute_error(nuc_mll29[llparam[param][0]], nuc_mll29[llparam[param][1]]))\n",
    "                else:\n",
    "                    scores29.append(np.nan)\n",
    "            else:\n",
    "                if frac == mll_frac:\n",
    "                    scores29.append(mean_absolute_error(pca_mll29[llparam[param][0]], pca_mll29[llparam[param][1]]))\n",
    "                else:\n",
    "                    scores29.append(np.nan)\n",
    "        df29.loc[frac] = scores29\n",
    "    print(llparam[param][0] + ', MAE, 29 nuclides: \\n')\n",
    "    return df29"
   ]
  },
  {
   "cell_type": "code",
   "execution_count": 11,
   "metadata": {},
   "outputs": [
    {
     "name": "stdout",
     "output_type": "stream",
     "text": [
      "Enrichment, ExpVar, 29 nuclides: \n",
      "\n"
     ]
    },
    {
     "data": {
      "text/html": [
       "<div>\n",
       "<style scoped>\n",
       "    .dataframe tbody tr th:only-of-type {\n",
       "        vertical-align: middle;\n",
       "    }\n",
       "\n",
       "    .dataframe tbody tr th {\n",
       "        vertical-align: top;\n",
       "    }\n",
       "\n",
       "    .dataframe thead th {\n",
       "        text-align: right;\n",
       "    }\n",
       "</style>\n",
       "<table border=\"1\" class=\"dataframe\">\n",
       "  <thead>\n",
       "    <tr style=\"text-align: right;\">\n",
       "      <th></th>\n",
       "      <th>nuc_kNN</th>\n",
       "      <th>nuc_DTree</th>\n",
       "      <th>pca_kNN</th>\n",
       "      <th>pca_DTree</th>\n",
       "      <th>nuc_MaxLL</th>\n",
       "      <th>pca_MaxLL</th>\n",
       "    </tr>\n",
       "  </thead>\n",
       "  <tbody>\n",
       "    <tr>\n",
       "      <th>0.1</th>\n",
       "      <td>-2.194820</td>\n",
       "      <td>0.761602</td>\n",
       "      <td>-1.991128</td>\n",
       "      <td>-2.111359</td>\n",
       "      <td>NaN</td>\n",
       "      <td>NaN</td>\n",
       "    </tr>\n",
       "    <tr>\n",
       "      <th>0.3</th>\n",
       "      <td>-2.233057</td>\n",
       "      <td>0.756433</td>\n",
       "      <td>-2.231744</td>\n",
       "      <td>-2.151357</td>\n",
       "      <td>NaN</td>\n",
       "      <td>NaN</td>\n",
       "    </tr>\n",
       "    <tr>\n",
       "      <th>1.0</th>\n",
       "      <td>-2.220625</td>\n",
       "      <td>0.760196</td>\n",
       "      <td>-2.250369</td>\n",
       "      <td>-2.207804</td>\n",
       "      <td>0.494476</td>\n",
       "      <td>-0.667237</td>\n",
       "    </tr>\n",
       "  </tbody>\n",
       "</table>\n",
       "</div>"
      ],
      "text/plain": [
       "      nuc_kNN  nuc_DTree   pca_kNN  pca_DTree  nuc_MaxLL  pca_MaxLL\n",
       "0.1 -2.194820   0.761602 -1.991128  -2.111359        NaN        NaN\n",
       "0.3 -2.233057   0.756433 -2.231744  -2.151357        NaN        NaN\n",
       "1.0 -2.220625   0.760196 -2.250369  -2.207804   0.494476  -0.667237"
      ]
     },
     "execution_count": 11,
     "metadata": {},
     "output_type": "execute_result"
    }
   ],
   "source": [
    "enri29 = explained_variances('enri')\n",
    "enri29"
   ]
  },
  {
   "cell_type": "code",
   "execution_count": 12,
   "metadata": {
    "scrolled": true
   },
   "outputs": [
    {
     "name": "stdout",
     "output_type": "stream",
     "text": [
      "Enrichment, MAE, 29 nuclides: \n",
      "\n"
     ]
    },
    {
     "data": {
      "text/html": [
       "<div>\n",
       "<style scoped>\n",
       "    .dataframe tbody tr th:only-of-type {\n",
       "        vertical-align: middle;\n",
       "    }\n",
       "\n",
       "    .dataframe tbody tr th {\n",
       "        vertical-align: top;\n",
       "    }\n",
       "\n",
       "    .dataframe thead th {\n",
       "        text-align: right;\n",
       "    }\n",
       "</style>\n",
       "<table border=\"1\" class=\"dataframe\">\n",
       "  <thead>\n",
       "    <tr style=\"text-align: right;\">\n",
       "      <th></th>\n",
       "      <th>nuc_kNN</th>\n",
       "      <th>nuc_DTree</th>\n",
       "      <th>pca_kNN</th>\n",
       "      <th>pca_DTree</th>\n",
       "      <th>nuc_MaxLL</th>\n",
       "      <th>pca_MaxLL</th>\n",
       "    </tr>\n",
       "  </thead>\n",
       "  <tbody>\n",
       "    <tr>\n",
       "      <th>0.1</th>\n",
       "      <td>1.880246</td>\n",
       "      <td>0.273374</td>\n",
       "      <td>1.801007</td>\n",
       "      <td>1.779962</td>\n",
       "      <td>NaN</td>\n",
       "      <td>NaN</td>\n",
       "    </tr>\n",
       "    <tr>\n",
       "      <th>0.3</th>\n",
       "      <td>1.885808</td>\n",
       "      <td>0.271602</td>\n",
       "      <td>1.856343</td>\n",
       "      <td>1.799050</td>\n",
       "      <td>NaN</td>\n",
       "      <td>NaN</td>\n",
       "    </tr>\n",
       "    <tr>\n",
       "      <th>1.0</th>\n",
       "      <td>1.872577</td>\n",
       "      <td>0.268968</td>\n",
       "      <td>1.867222</td>\n",
       "      <td>1.819030</td>\n",
       "      <td>0.481465</td>\n",
       "      <td>1.324863</td>\n",
       "    </tr>\n",
       "  </tbody>\n",
       "</table>\n",
       "</div>"
      ],
      "text/plain": [
       "      nuc_kNN  nuc_DTree   pca_kNN  pca_DTree  nuc_MaxLL  pca_MaxLL\n",
       "0.1  1.880246   0.273374  1.801007   1.779962        NaN        NaN\n",
       "0.3  1.885808   0.271602  1.856343   1.799050        NaN        NaN\n",
       "1.0  1.872577   0.268968  1.867222   1.819030   0.481465   1.324863"
      ]
     },
     "execution_count": 12,
     "metadata": {},
     "output_type": "execute_result"
    }
   ],
   "source": [
    "enri29 = mean_abs_error('enri')\n",
    "enri29"
   ]
  },
  {
   "cell_type": "code",
   "execution_count": 13,
   "metadata": {},
   "outputs": [
    {
     "name": "stdout",
     "output_type": "stream",
     "text": [
      "Burnup, ExpVar, 29 nuclides: \n",
      "\n"
     ]
    },
    {
     "data": {
      "text/html": [
       "<div>\n",
       "<style scoped>\n",
       "    .dataframe tbody tr th:only-of-type {\n",
       "        vertical-align: middle;\n",
       "    }\n",
       "\n",
       "    .dataframe tbody tr th {\n",
       "        vertical-align: top;\n",
       "    }\n",
       "\n",
       "    .dataframe thead th {\n",
       "        text-align: right;\n",
       "    }\n",
       "</style>\n",
       "<table border=\"1\" class=\"dataframe\">\n",
       "  <thead>\n",
       "    <tr style=\"text-align: right;\">\n",
       "      <th></th>\n",
       "      <th>nuc_kNN</th>\n",
       "      <th>nuc_DTree</th>\n",
       "      <th>pca_kNN</th>\n",
       "      <th>pca_DTree</th>\n",
       "      <th>nuc_MaxLL</th>\n",
       "      <th>pca_MaxLL</th>\n",
       "    </tr>\n",
       "  </thead>\n",
       "  <tbody>\n",
       "    <tr>\n",
       "      <th>0.1</th>\n",
       "      <td>0.365091</td>\n",
       "      <td>-0.002214</td>\n",
       "      <td>0.121318</td>\n",
       "      <td>0.196136</td>\n",
       "      <td>NaN</td>\n",
       "      <td>NaN</td>\n",
       "    </tr>\n",
       "    <tr>\n",
       "      <th>0.3</th>\n",
       "      <td>0.376998</td>\n",
       "      <td>0.200148</td>\n",
       "      <td>0.100587</td>\n",
       "      <td>0.171561</td>\n",
       "      <td>NaN</td>\n",
       "      <td>NaN</td>\n",
       "    </tr>\n",
       "    <tr>\n",
       "      <th>1.0</th>\n",
       "      <td>0.382870</td>\n",
       "      <td>0.218227</td>\n",
       "      <td>0.068910</td>\n",
       "      <td>0.179242</td>\n",
       "      <td>0.917114</td>\n",
       "      <td>-0.188202</td>\n",
       "    </tr>\n",
       "  </tbody>\n",
       "</table>\n",
       "</div>"
      ],
      "text/plain": [
       "      nuc_kNN  nuc_DTree   pca_kNN  pca_DTree  nuc_MaxLL  pca_MaxLL\n",
       "0.1  0.365091  -0.002214  0.121318   0.196136        NaN        NaN\n",
       "0.3  0.376998   0.200148  0.100587   0.171561        NaN        NaN\n",
       "1.0  0.382870   0.218227  0.068910   0.179242   0.917114  -0.188202"
      ]
     },
     "execution_count": 13,
     "metadata": {},
     "output_type": "execute_result"
    }
   ],
   "source": [
    "burn29 = explained_variances('burn')\n",
    "burn29"
   ]
  },
  {
   "cell_type": "code",
   "execution_count": 14,
   "metadata": {},
   "outputs": [
    {
     "name": "stdout",
     "output_type": "stream",
     "text": [
      "Burnup, MAE, 29 nuclides: \n",
      "\n"
     ]
    },
    {
     "data": {
      "text/html": [
       "<div>\n",
       "<style scoped>\n",
       "    .dataframe tbody tr th:only-of-type {\n",
       "        vertical-align: middle;\n",
       "    }\n",
       "\n",
       "    .dataframe tbody tr th {\n",
       "        vertical-align: top;\n",
       "    }\n",
       "\n",
       "    .dataframe thead th {\n",
       "        text-align: right;\n",
       "    }\n",
       "</style>\n",
       "<table border=\"1\" class=\"dataframe\">\n",
       "  <thead>\n",
       "    <tr style=\"text-align: right;\">\n",
       "      <th></th>\n",
       "      <th>nuc_kNN</th>\n",
       "      <th>nuc_DTree</th>\n",
       "      <th>pca_kNN</th>\n",
       "      <th>pca_DTree</th>\n",
       "      <th>nuc_MaxLL</th>\n",
       "      <th>pca_MaxLL</th>\n",
       "    </tr>\n",
       "  </thead>\n",
       "  <tbody>\n",
       "    <tr>\n",
       "      <th>0.1</th>\n",
       "      <td>12719.954783</td>\n",
       "      <td>20231.556957</td>\n",
       "      <td>14744.920837</td>\n",
       "      <td>14493.669116</td>\n",
       "      <td>NaN</td>\n",
       "      <td>NaN</td>\n",
       "    </tr>\n",
       "    <tr>\n",
       "      <th>0.3</th>\n",
       "      <td>12659.625918</td>\n",
       "      <td>18693.649254</td>\n",
       "      <td>14853.392360</td>\n",
       "      <td>14548.225512</td>\n",
       "      <td>NaN</td>\n",
       "      <td>NaN</td>\n",
       "    </tr>\n",
       "    <tr>\n",
       "      <th>1.0</th>\n",
       "      <td>12592.140639</td>\n",
       "      <td>19026.505155</td>\n",
       "      <td>15000.340555</td>\n",
       "      <td>14530.088818</td>\n",
       "      <td>3611.447056</td>\n",
       "      <td>40734.010132</td>\n",
       "    </tr>\n",
       "  </tbody>\n",
       "</table>\n",
       "</div>"
      ],
      "text/plain": [
       "          nuc_kNN     nuc_DTree       pca_kNN     pca_DTree    nuc_MaxLL  \\\n",
       "0.1  12719.954783  20231.556957  14744.920837  14493.669116          NaN   \n",
       "0.3  12659.625918  18693.649254  14853.392360  14548.225512          NaN   \n",
       "1.0  12592.140639  19026.505155  15000.340555  14530.088818  3611.447056   \n",
       "\n",
       "        pca_MaxLL  \n",
       "0.1           NaN  \n",
       "0.3           NaN  \n",
       "1.0  40734.010132  "
      ]
     },
     "execution_count": 14,
     "metadata": {},
     "output_type": "execute_result"
    }
   ],
   "source": [
    "burn29 = mean_abs_error('burn')\n",
    "burn29"
   ]
  },
  {
   "cell_type": "code",
   "execution_count": null,
   "metadata": {},
   "outputs": [],
   "source": []
  }
 ],
 "metadata": {
  "kernelspec": {
   "display_name": "Python 3",
   "language": "python",
   "name": "python3"
  },
  "language_info": {
   "codemirror_mode": {
    "name": "ipython",
    "version": 3
   },
   "file_extension": ".py",
   "mimetype": "text/x-python",
   "name": "python",
   "nbconvert_exporter": "python",
   "pygments_lexer": "ipython3",
   "version": "3.6.9"
  }
 },
 "nbformat": 4,
 "nbformat_minor": 4
}
