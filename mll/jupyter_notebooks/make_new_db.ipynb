{
 "cells": [
  {
   "cell_type": "code",
   "execution_count": 1,
   "metadata": {},
   "outputs": [],
   "source": [
    "import pandas as pd\n",
    "from mll_calc.mll_pred import format_XY"
   ]
  },
  {
   "cell_type": "code",
   "execution_count": 4,
   "metadata": {},
   "outputs": [
    {
     "data": {
      "text/plain": [
       "(505, 34)"
      ]
     },
     "execution_count": 4,
     "metadata": {},
     "output_type": "execute_result"
    }
   ],
   "source": [
    "lbls = ['ReactorType', 'CoolingTime', 'Enrichment', 'Burnup', 'OrigenReactor']\n",
    "nonlbls = ['AvgPowerDensity', 'ModDensity', 'UiWeight']\n",
    "\n",
    "train_pkl = '~/sims_n_results/final_sims_nov2020/not-scaled_nuc29.pkl'\n",
    "XY = format_XY(train_pkl)\n",
    "#XY = convert_g_to_mgUi(XY, lbls+nonlbls)\n",
    "\n",
    "sfco_pkl = '~/sfcompo/format_clean/sfcompo_nuc29.pkl'\n",
    "sfco = pd.read_pickle(sfco_pkl)\n",
    "sfco.shape"
   ]
  },
  {
   "cell_type": "code",
   "execution_count": 5,
   "metadata": {},
   "outputs": [
    {
     "data": {
      "text/plain": [
       "(528480, 37)"
      ]
     },
     "execution_count": 5,
     "metadata": {},
     "output_type": "execute_result"
    }
   ],
   "source": [
    "XY.shape"
   ]
  },
  {
   "cell_type": "code",
   "execution_count": 7,
   "metadata": {},
   "outputs": [
    {
     "data": {
      "text/plain": [
       "Index(['AvgPowerDensity', 'Burnup', 'CoolingTime', 'Enrichment', 'ModDensity',\n",
       "       'OrigenReactor', 'ReactorType', 'UiWeight', 'am241', 'am242m', 'am243',\n",
       "       'cm242', 'cm244', 'cs134', 'cs137', 'eu154', 'nd143', 'nd144', 'nd145',\n",
       "       'nd146', 'nd148', 'nd150', 'np237', 'pu238', 'pu239', 'pu240', 'pu241',\n",
       "       'pu242', 'sm147', 'sm149', 'sm150', 'sm151', 'sm152', 'u234', 'u235',\n",
       "       'u236', 'u238'],\n",
       "      dtype='object')"
      ]
     },
     "execution_count": 7,
     "metadata": {},
     "output_type": "execute_result"
    }
   ],
   "source": [
    "XY.columns"
   ]
  },
  {
   "cell_type": "markdown",
   "metadata": {},
   "source": [
    "# Trainset pkls\n",
    "\n",
    "### Good"
   ]
  },
  {
   "cell_type": "code",
   "execution_count": 8,
   "metadata": {},
   "outputs": [
    {
     "data": {
      "text/html": [
       "<div>\n",
       "<style scoped>\n",
       "    .dataframe tbody tr th:only-of-type {\n",
       "        vertical-align: middle;\n",
       "    }\n",
       "\n",
       "    .dataframe tbody tr th {\n",
       "        vertical-align: top;\n",
       "    }\n",
       "\n",
       "    .dataframe thead th {\n",
       "        text-align: right;\n",
       "    }\n",
       "</style>\n",
       "<table border=\"1\" class=\"dataframe\">\n",
       "  <thead>\n",
       "    <tr style=\"text-align: right;\">\n",
       "      <th></th>\n",
       "      <th>AvgPowerDensity</th>\n",
       "      <th>Burnup</th>\n",
       "      <th>CoolingTime</th>\n",
       "      <th>Enrichment</th>\n",
       "      <th>ModDensity</th>\n",
       "      <th>OrigenReactor</th>\n",
       "      <th>ReactorType</th>\n",
       "      <th>UiWeight</th>\n",
       "      <th>am241</th>\n",
       "      <th>am242m</th>\n",
       "      <th>...</th>\n",
       "      <th>pu242</th>\n",
       "      <th>sm147</th>\n",
       "      <th>sm149</th>\n",
       "      <th>sm150</th>\n",
       "      <th>sm151</th>\n",
       "      <th>sm152</th>\n",
       "      <th>u234</th>\n",
       "      <th>u235</th>\n",
       "      <th>u236</th>\n",
       "      <th>u238</th>\n",
       "    </tr>\n",
       "  </thead>\n",
       "  <tbody>\n",
       "    <tr>\n",
       "      <th>470037</th>\n",
       "      <td>41.0</td>\n",
       "      <td>1878.95</td>\n",
       "      <td>6878.110557</td>\n",
       "      <td>5.4</td>\n",
       "      <td>0.71</td>\n",
       "      <td>s18x18</td>\n",
       "      <td>pwr</td>\n",
       "      <td>1</td>\n",
       "      <td>1.071</td>\n",
       "      <td>0.000006</td>\n",
       "      <td>...</td>\n",
       "      <td>0.01683</td>\n",
       "      <td>27.28</td>\n",
       "      <td>3.888</td>\n",
       "      <td>10.32</td>\n",
       "      <td>3.923</td>\n",
       "      <td>4.715</td>\n",
       "      <td>348.8</td>\n",
       "      <td>51710.0</td>\n",
       "      <td>630.0</td>\n",
       "      <td>944500.0</td>\n",
       "    </tr>\n",
       "  </tbody>\n",
       "</table>\n",
       "<p>1 rows × 37 columns</p>\n",
       "</div>"
      ],
      "text/plain": [
       "        AvgPowerDensity   Burnup  CoolingTime  Enrichment  ModDensity  \\\n",
       "470037             41.0  1878.95  6878.110557         5.4        0.71   \n",
       "\n",
       "       OrigenReactor ReactorType  UiWeight  am241    am242m  ...    pu242  \\\n",
       "470037        s18x18         pwr         1  1.071  0.000006  ...  0.01683   \n",
       "\n",
       "        sm147  sm149  sm150  sm151  sm152   u234     u235   u236      u238  \n",
       "470037  27.28  3.888  10.32  3.923  4.715  348.8  51710.0  630.0  944500.0  \n",
       "\n",
       "[1 rows x 37 columns]"
      ]
     },
     "execution_count": 8,
     "metadata": {},
     "output_type": "execute_result"
    }
   ],
   "source": [
    "gidx = 470037\n",
    "XY.iloc[[gidx]]"
   ]
  },
  {
   "cell_type": "code",
   "execution_count": 10,
   "metadata": {},
   "outputs": [],
   "source": [
    "XY.iloc[[gidx]].to_pickle('../mll_calc/htc_files/train_good.pkl')"
   ]
  },
  {
   "cell_type": "markdown",
   "metadata": {},
   "source": [
    "### Bad"
   ]
  },
  {
   "cell_type": "code",
   "execution_count": 9,
   "metadata": {},
   "outputs": [
    {
     "data": {
      "text/html": [
       "<div>\n",
       "<style scoped>\n",
       "    .dataframe tbody tr th:only-of-type {\n",
       "        vertical-align: middle;\n",
       "    }\n",
       "\n",
       "    .dataframe tbody tr th {\n",
       "        vertical-align: top;\n",
       "    }\n",
       "\n",
       "    .dataframe thead th {\n",
       "        text-align: right;\n",
       "    }\n",
       "</style>\n",
       "<table border=\"1\" class=\"dataframe\">\n",
       "  <thead>\n",
       "    <tr style=\"text-align: right;\">\n",
       "      <th></th>\n",
       "      <th>AvgPowerDensity</th>\n",
       "      <th>Burnup</th>\n",
       "      <th>CoolingTime</th>\n",
       "      <th>Enrichment</th>\n",
       "      <th>ModDensity</th>\n",
       "      <th>OrigenReactor</th>\n",
       "      <th>ReactorType</th>\n",
       "      <th>UiWeight</th>\n",
       "      <th>am241</th>\n",
       "      <th>am242m</th>\n",
       "      <th>...</th>\n",
       "      <th>pu242</th>\n",
       "      <th>sm147</th>\n",
       "      <th>sm149</th>\n",
       "      <th>sm150</th>\n",
       "      <th>sm151</th>\n",
       "      <th>sm152</th>\n",
       "      <th>u234</th>\n",
       "      <th>u235</th>\n",
       "      <th>u236</th>\n",
       "      <th>u238</th>\n",
       "    </tr>\n",
       "  </thead>\n",
       "  <tbody>\n",
       "    <tr>\n",
       "      <th>230410</th>\n",
       "      <td>22.0</td>\n",
       "      <td>6085.43</td>\n",
       "      <td>698.65191</td>\n",
       "      <td>1.36</td>\n",
       "      <td>0.7</td>\n",
       "      <td>atrium10x10-9</td>\n",
       "      <td>bwr</td>\n",
       "      <td>1</td>\n",
       "      <td>21.45</td>\n",
       "      <td>0.01952</td>\n",
       "      <td>...</td>\n",
       "      <td>25.54</td>\n",
       "      <td>33.13</td>\n",
       "      <td>1.648</td>\n",
       "      <td>49.01</td>\n",
       "      <td>3.789</td>\n",
       "      <td>28.25</td>\n",
       "      <td>308.9</td>\n",
       "      <td>8541.0</td>\n",
       "      <td>1018.0</td>\n",
       "      <td>980200.0</td>\n",
       "    </tr>\n",
       "  </tbody>\n",
       "</table>\n",
       "<p>1 rows × 37 columns</p>\n",
       "</div>"
      ],
      "text/plain": [
       "        AvgPowerDensity   Burnup  CoolingTime  Enrichment  ModDensity  \\\n",
       "230410             22.0  6085.43    698.65191        1.36         0.7   \n",
       "\n",
       "        OrigenReactor ReactorType  UiWeight  am241   am242m  ...  pu242  \\\n",
       "230410  atrium10x10-9         bwr         1  21.45  0.01952  ...  25.54   \n",
       "\n",
       "        sm147  sm149  sm150  sm151  sm152   u234    u235    u236      u238  \n",
       "230410  33.13  1.648  49.01  3.789  28.25  308.9  8541.0  1018.0  980200.0  \n",
       "\n",
       "[1 rows x 37 columns]"
      ]
     },
     "execution_count": 9,
     "metadata": {},
     "output_type": "execute_result"
    }
   ],
   "source": [
    "bidx = 230410\n",
    "XY.iloc[[bidx]]"
   ]
  },
  {
   "cell_type": "code",
   "execution_count": 11,
   "metadata": {},
   "outputs": [],
   "source": [
    "XY.iloc[[bidx]].to_pickle('../mll_calc/htc_files/train_bad.pkl')"
   ]
  },
  {
   "cell_type": "markdown",
   "metadata": {},
   "source": [
    "# Sfcompo pkls\n",
    "\n",
    "### Good"
   ]
  },
  {
   "cell_type": "code",
   "execution_count": 13,
   "metadata": {},
   "outputs": [
    {
     "data": {
      "text/html": [
       "<div>\n",
       "<style scoped>\n",
       "    .dataframe tbody tr th:only-of-type {\n",
       "        vertical-align: middle;\n",
       "    }\n",
       "\n",
       "    .dataframe tbody tr th {\n",
       "        vertical-align: top;\n",
       "    }\n",
       "\n",
       "    .dataframe thead th {\n",
       "        text-align: right;\n",
       "    }\n",
       "</style>\n",
       "<table border=\"1\" class=\"dataframe\">\n",
       "  <thead>\n",
       "    <tr style=\"text-align: right;\">\n",
       "      <th></th>\n",
       "      <th>Burnup</th>\n",
       "      <th>CoolingTime</th>\n",
       "      <th>Enrichment</th>\n",
       "      <th>OrigenReactor</th>\n",
       "      <th>ReactorType</th>\n",
       "      <th>am241</th>\n",
       "      <th>am242m</th>\n",
       "      <th>am243</th>\n",
       "      <th>cm242</th>\n",
       "      <th>cm244</th>\n",
       "      <th>...</th>\n",
       "      <th>pu242</th>\n",
       "      <th>sm147</th>\n",
       "      <th>sm149</th>\n",
       "      <th>sm150</th>\n",
       "      <th>sm151</th>\n",
       "      <th>sm152</th>\n",
       "      <th>u234</th>\n",
       "      <th>u235</th>\n",
       "      <th>u236</th>\n",
       "      <th>u238</th>\n",
       "    </tr>\n",
       "  </thead>\n",
       "  <tbody>\n",
       "    <tr>\n",
       "      <th>TMI-1|NJ070G|O13|S7</th>\n",
       "      <td>22800.0</td>\n",
       "      <td>0.0</td>\n",
       "      <td>4.66</td>\n",
       "      <td>Three Mile Island-1_PWR</td>\n",
       "      <td>pwr</td>\n",
       "      <td>0.1626</td>\n",
       "      <td>0.000316</td>\n",
       "      <td>0.01607</td>\n",
       "      <td>0.000007</td>\n",
       "      <td>0.002462</td>\n",
       "      <td>...</td>\n",
       "      <td>0.1447</td>\n",
       "      <td>0.1748</td>\n",
       "      <td>0.003975</td>\n",
       "      <td>0.1936</td>\n",
       "      <td>0.01269</td>\n",
       "      <td>0.0796</td>\n",
       "      <td>0.343</td>\n",
       "      <td>23.78</td>\n",
       "      <td>4.219</td>\n",
       "      <td>0.0</td>\n",
       "    </tr>\n",
       "  </tbody>\n",
       "</table>\n",
       "<p>1 rows × 34 columns</p>\n",
       "</div>"
      ],
      "text/plain": [
       "                      Burnup  CoolingTime  Enrichment  \\\n",
       "TMI-1|NJ070G|O13|S7  22800.0          0.0        4.66   \n",
       "\n",
       "                               OrigenReactor ReactorType   am241    am242m  \\\n",
       "TMI-1|NJ070G|O13|S7  Three Mile Island-1_PWR         pwr  0.1626  0.000316   \n",
       "\n",
       "                       am243     cm242     cm244  ...   pu242   sm147  \\\n",
       "TMI-1|NJ070G|O13|S7  0.01607  0.000007  0.002462  ...  0.1447  0.1748   \n",
       "\n",
       "                        sm149   sm150    sm151   sm152   u234   u235   u236  \\\n",
       "TMI-1|NJ070G|O13|S7  0.003975  0.1936  0.01269  0.0796  0.343  23.78  4.219   \n",
       "\n",
       "                     u238  \n",
       "TMI-1|NJ070G|O13|S7   0.0  \n",
       "\n",
       "[1 rows x 34 columns]"
      ]
     },
     "execution_count": 13,
     "metadata": {},
     "output_type": "execute_result"
    }
   ],
   "source": [
    "# TMI-1|NJ070G|O13|S7\n",
    "gidx = 328\n",
    "sfco.iloc[[gidx]]"
   ]
  },
  {
   "cell_type": "code",
   "execution_count": 14,
   "metadata": {},
   "outputs": [],
   "source": [
    "sfco.iloc[[gidx]].to_pickle('../mll_calc/htc_files/sfco_good.pkl')"
   ]
  },
  {
   "cell_type": "markdown",
   "metadata": {},
   "source": [
    "### Bad"
   ]
  },
  {
   "cell_type": "code",
   "execution_count": 15,
   "metadata": {},
   "outputs": [
    {
     "data": {
      "text/html": [
       "<div>\n",
       "<style scoped>\n",
       "    .dataframe tbody tr th:only-of-type {\n",
       "        vertical-align: middle;\n",
       "    }\n",
       "\n",
       "    .dataframe tbody tr th {\n",
       "        vertical-align: top;\n",
       "    }\n",
       "\n",
       "    .dataframe thead th {\n",
       "        text-align: right;\n",
       "    }\n",
       "</style>\n",
       "<table border=\"1\" class=\"dataframe\">\n",
       "  <thead>\n",
       "    <tr style=\"text-align: right;\">\n",
       "      <th></th>\n",
       "      <th>Burnup</th>\n",
       "      <th>CoolingTime</th>\n",
       "      <th>Enrichment</th>\n",
       "      <th>OrigenReactor</th>\n",
       "      <th>ReactorType</th>\n",
       "      <th>am241</th>\n",
       "      <th>am242m</th>\n",
       "      <th>am243</th>\n",
       "      <th>cm242</th>\n",
       "      <th>cm244</th>\n",
       "      <th>...</th>\n",
       "      <th>pu242</th>\n",
       "      <th>sm147</th>\n",
       "      <th>sm149</th>\n",
       "      <th>sm150</th>\n",
       "      <th>sm151</th>\n",
       "      <th>sm152</th>\n",
       "      <th>u234</th>\n",
       "      <th>u235</th>\n",
       "      <th>u236</th>\n",
       "      <th>u238</th>\n",
       "    </tr>\n",
       "  </thead>\n",
       "  <tbody>\n",
       "    <tr>\n",
       "      <th>MON-1|MTB099|F6|S4</th>\n",
       "      <td>44100.0</td>\n",
       "      <td>0.0</td>\n",
       "      <td>2.87</td>\n",
       "      <td>Monticello-1_BWR</td>\n",
       "      <td>bwr</td>\n",
       "      <td>0.0</td>\n",
       "      <td>0.0</td>\n",
       "      <td>0.0</td>\n",
       "      <td>0.02877</td>\n",
       "      <td>0.0</td>\n",
       "      <td>...</td>\n",
       "      <td>0.878</td>\n",
       "      <td>0.0</td>\n",
       "      <td>0.0</td>\n",
       "      <td>0.0</td>\n",
       "      <td>0.0</td>\n",
       "      <td>0.0</td>\n",
       "      <td>0.1021</td>\n",
       "      <td>4.269</td>\n",
       "      <td>4.225</td>\n",
       "      <td>933.7</td>\n",
       "    </tr>\n",
       "  </tbody>\n",
       "</table>\n",
       "<p>1 rows × 34 columns</p>\n",
       "</div>"
      ],
      "text/plain": [
       "                     Burnup  CoolingTime  Enrichment     OrigenReactor  \\\n",
       "MON-1|MTB099|F6|S4  44100.0          0.0        2.87  Monticello-1_BWR   \n",
       "\n",
       "                   ReactorType  am241  am242m  am243    cm242  cm244  ...  \\\n",
       "MON-1|MTB099|F6|S4         bwr    0.0     0.0    0.0  0.02877    0.0  ...   \n",
       "\n",
       "                    pu242  sm147  sm149  sm150  sm151  sm152    u234   u235  \\\n",
       "MON-1|MTB099|F6|S4  0.878    0.0    0.0    0.0    0.0    0.0  0.1021  4.269   \n",
       "\n",
       "                     u236   u238  \n",
       "MON-1|MTB099|F6|S4  4.225  933.7  \n",
       "\n",
       "[1 rows x 34 columns]"
      ]
     },
     "execution_count": 15,
     "metadata": {},
     "output_type": "execute_result"
    }
   ],
   "source": [
    "# MON-1|MTB099|F6|S4\n",
    "bidx = 168\n",
    "sfco.iloc[[bidx]]"
   ]
  },
  {
   "cell_type": "code",
   "execution_count": 16,
   "metadata": {},
   "outputs": [],
   "source": [
    "sfco.iloc[[bidx]].to_pickle('../mll_calc/htc_files/sfco_bad.pkl')"
   ]
  },
  {
   "cell_type": "code",
   "execution_count": null,
   "metadata": {},
   "outputs": [],
   "source": []
  },
  {
   "cell_type": "code",
   "execution_count": null,
   "metadata": {},
   "outputs": [],
   "source": []
  },
  {
   "cell_type": "code",
   "execution_count": null,
   "metadata": {},
   "outputs": [],
   "source": []
  }
 ],
 "metadata": {
  "kernelspec": {
   "display_name": "Python 3",
   "language": "python",
   "name": "python3"
  },
  "language_info": {
   "codemirror_mode": {
    "name": "ipython",
    "version": 3
   },
   "file_extension": ".py",
   "mimetype": "text/x-python",
   "name": "python",
   "nbconvert_exporter": "python",
   "pygments_lexer": "ipython3",
   "version": "3.6.9"
  }
 },
 "nbformat": 4,
 "nbformat_minor": 4
}
