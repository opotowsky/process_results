{
 "cells": [
  {
   "cell_type": "code",
   "execution_count": 1,
   "metadata": {},
   "outputs": [],
   "source": [
    "import numpy as np\n",
    "import pandas as pd\n",
    "from sklearn.metrics import accuracy_score, explained_variance_score, mean_absolute_error"
   ]
  },
  {
   "cell_type": "code",
   "execution_count": 2,
   "metadata": {},
   "outputs": [],
   "source": [
    "preds = {'rxtr': 'reactor', 'burn' : 'burnup', 'cool' : 'cooling', 'enri' : 'enrichment'}\n",
    "algs = ['knn', 'dtree']\n",
    "fracs = ['0.1', '0.3', '1.0']\n",
    "mll_frac = '1.0'\n",
    "learn29 = {}\n",
    "base = '~/sims_n_results/final_sims_nov2020/'\n",
    "sci_path = base + 'scikit/sfco/'\n",
    "path_end = '_nuc29_ext_test_compare.csv'\n",
    "for frac in fracs:\n",
    "    for p, pred in preds.items():\n",
    "        for alg in algs:\n",
    "            key = p + frac + '_' + alg\n",
    "            mid = pred + '_' + alg + '_tset' + frac\n",
    "            learn29[key] = pd.read_csv(sci_path + mid + path_end, index_col=0)\n",
    "\n",
    "mll29 = pd.read_csv(base + 'mll/sfco/Job0_unc0.05/Job0_unc0.05.csv', index_col=0)"
   ]
  },
  {
   "cell_type": "code",
   "execution_count": 3,
   "metadata": {},
   "outputs": [
    {
     "data": {
      "text/html": [
       "<div>\n",
       "<style scoped>\n",
       "    .dataframe tbody tr th:only-of-type {\n",
       "        vertical-align: middle;\n",
       "    }\n",
       "\n",
       "    .dataframe tbody tr th {\n",
       "        vertical-align: top;\n",
       "    }\n",
       "\n",
       "    .dataframe thead th {\n",
       "        text-align: right;\n",
       "    }\n",
       "</style>\n",
       "<table border=\"1\" class=\"dataframe\">\n",
       "  <thead>\n",
       "    <tr style=\"text-align: right;\">\n",
       "      <th></th>\n",
       "      <th>TrueY</th>\n",
       "      <th>kNN</th>\n",
       "    </tr>\n",
       "  </thead>\n",
       "  <tbody>\n",
       "    <tr>\n",
       "      <th>0</th>\n",
       "      <td>pwr</td>\n",
       "      <td>pwr</td>\n",
       "    </tr>\n",
       "  </tbody>\n",
       "</table>\n",
       "</div>"
      ],
      "text/plain": [
       "  TrueY  kNN\n",
       "0   pwr  pwr"
      ]
     },
     "execution_count": 3,
     "metadata": {},
     "output_type": "execute_result"
    }
   ],
   "source": [
    "learn29['rxtr0.1_knn'].head(1)"
   ]
  },
  {
   "cell_type": "code",
   "execution_count": 4,
   "metadata": {},
   "outputs": [
    {
     "data": {
      "text/plain": [
       "['kNN', 'DTree', 'MaxLL']"
      ]
     },
     "execution_count": 4,
     "metadata": {},
     "output_type": "execute_result"
    }
   ],
   "source": [
    "Algs = ['kNN', 'DTree']\n",
    "cols = Algs + ['MaxLL']\n",
    "cols"
   ]
  },
  {
   "cell_type": "code",
   "execution_count": 5,
   "metadata": {},
   "outputs": [
    {
     "name": "stdout",
     "output_type": "stream",
     "text": [
      "Reactor Type, 29 Nuclides: \n",
      "\n"
     ]
    },
    {
     "data": {
      "text/html": [
       "<div>\n",
       "<style scoped>\n",
       "    .dataframe tbody tr th:only-of-type {\n",
       "        vertical-align: middle;\n",
       "    }\n",
       "\n",
       "    .dataframe tbody tr th {\n",
       "        vertical-align: top;\n",
       "    }\n",
       "\n",
       "    .dataframe thead th {\n",
       "        text-align: right;\n",
       "    }\n",
       "</style>\n",
       "<table border=\"1\" class=\"dataframe\">\n",
       "  <thead>\n",
       "    <tr style=\"text-align: right;\">\n",
       "      <th></th>\n",
       "      <th>kNN</th>\n",
       "      <th>DTree</th>\n",
       "      <th>MaxLL</th>\n",
       "    </tr>\n",
       "  </thead>\n",
       "  <tbody>\n",
       "    <tr>\n",
       "      <th>0.1</th>\n",
       "      <td>0.542574</td>\n",
       "      <td>0.443564</td>\n",
       "      <td>NaN</td>\n",
       "    </tr>\n",
       "    <tr>\n",
       "      <th>0.3</th>\n",
       "      <td>0.605941</td>\n",
       "      <td>0.172277</td>\n",
       "      <td>NaN</td>\n",
       "    </tr>\n",
       "    <tr>\n",
       "      <th>1.0</th>\n",
       "      <td>0.613861</td>\n",
       "      <td>0.512871</td>\n",
       "      <td>0.718812</td>\n",
       "    </tr>\n",
       "  </tbody>\n",
       "</table>\n",
       "</div>"
      ],
      "text/plain": [
       "          kNN     DTree     MaxLL\n",
       "0.1  0.542574  0.443564       NaN\n",
       "0.3  0.605941  0.172277       NaN\n",
       "1.0  0.613861  0.512871  0.718812"
      ]
     },
     "execution_count": 5,
     "metadata": {},
     "output_type": "execute_result"
    }
   ],
   "source": [
    "rxtr29 = pd.DataFrame(columns=cols)\n",
    "for frac in fracs:\n",
    "    scores29 = []\n",
    "    for col in cols:\n",
    "        if col in Algs:\n",
    "            key = 'rxtr' + frac\n",
    "            if 'kNN' in col:\n",
    "                key = key + '_knn'\n",
    "                scores29.append(accuracy_score(learn29[key]['TrueY'], learn29[key]['kNN']))\n",
    "            else:\n",
    "                key = key + '_dtree'\n",
    "                scores29.append(accuracy_score(learn29[key]['TrueY'], learn29[key]['DTree']))\n",
    "        else:\n",
    "            if frac == mll_frac:\n",
    "                scores29.append(accuracy_score(mll29['ReactorType'], mll29['pred_ReactorType']))\n",
    "            else:\n",
    "                scores29.append(np.nan)\n",
    "    rxtr29.loc[frac] = scores29\n",
    "print('Reactor Type, 29 Nuclides: \\n')\n",
    "rxtr29"
   ]
  },
  {
   "cell_type": "code",
   "execution_count": 6,
   "metadata": {},
   "outputs": [],
   "source": [
    "llparam = { 'burn' : ['Burnup', 'pred_Burnup'],\n",
    "            'cool' : ['CoolingTime', 'pred_CoolingTime'],\n",
    "            'enri' : ['Enrichment', 'pred_Enrichment'] }"
   ]
  },
  {
   "cell_type": "code",
   "execution_count": 7,
   "metadata": {},
   "outputs": [],
   "source": [
    "def explained_variances(param):\n",
    "    df29 = pd.DataFrame(columns=cols)\n",
    "    for frac in fracs:\n",
    "        scores29 = []\n",
    "        for col in cols:\n",
    "            if col in Algs:\n",
    "                key = param + frac\n",
    "                if 'kNN' in col:\n",
    "                    key = key + '_knn'\n",
    "                    scores29.append(explained_variance_score(learn29[key]['TrueY'], learn29[key]['kNN']))\n",
    "                else:\n",
    "                    key = key + '_dtree'\n",
    "                    scores29.append(explained_variance_score(learn29[key]['TrueY'], learn29[key]['DTree']))\n",
    "            else:\n",
    "                if frac == mll_frac:\n",
    "                    scores29.append(explained_variance_score(mll29[llparam[param][0]], mll29[llparam[param][1]]))\n",
    "                else:\n",
    "                    scores29.append(np.nan)\n",
    "        df29.loc[frac] = scores29\n",
    "    print(llparam[param][0] + ', ExpVar, 29 nuclides: \\n')\n",
    "    return df29"
   ]
  },
  {
   "cell_type": "code",
   "execution_count": 8,
   "metadata": {},
   "outputs": [],
   "source": [
    "def mean_abs_error(param):\n",
    "    df29 = pd.DataFrame(columns=cols)\n",
    "    for frac in fracs:\n",
    "        scores29 = []\n",
    "        for col in cols:\n",
    "            if col in Algs:\n",
    "                key = param + frac\n",
    "                if 'kNN' in col:\n",
    "                    key = key + '_knn'\n",
    "                    scores29.append(mean_absolute_error(learn29[key]['TrueY'], learn29[key]['kNN']))\n",
    "                else:\n",
    "                    key = key + '_dtree'\n",
    "                    scores29.append(mean_absolute_error(learn29[key]['TrueY'], learn29[key]['DTree']))\n",
    "            else:\n",
    "                if frac == mll_frac:\n",
    "                    scores29.append(mean_absolute_error(mll29[llparam[param][0]], mll29[llparam[param][1]]))\n",
    "                else:\n",
    "                    scores29.append(np.nan)\n",
    "        df29.loc[frac] = scores29\n",
    "    print(llparam[param][0] + ', MAE, 29 nuclides: \\n')\n",
    "    return df29"
   ]
  },
  {
   "cell_type": "code",
   "execution_count": 9,
   "metadata": {},
   "outputs": [
    {
     "name": "stdout",
     "output_type": "stream",
     "text": [
      "Enrichment, ExpVar, 29 nuclides: \n",
      "\n"
     ]
    },
    {
     "data": {
      "text/html": [
       "<div>\n",
       "<style scoped>\n",
       "    .dataframe tbody tr th:only-of-type {\n",
       "        vertical-align: middle;\n",
       "    }\n",
       "\n",
       "    .dataframe tbody tr th {\n",
       "        vertical-align: top;\n",
       "    }\n",
       "\n",
       "    .dataframe thead th {\n",
       "        text-align: right;\n",
       "    }\n",
       "</style>\n",
       "<table border=\"1\" class=\"dataframe\">\n",
       "  <thead>\n",
       "    <tr style=\"text-align: right;\">\n",
       "      <th></th>\n",
       "      <th>kNN</th>\n",
       "      <th>DTree</th>\n",
       "      <th>MaxLL</th>\n",
       "    </tr>\n",
       "  </thead>\n",
       "  <tbody>\n",
       "    <tr>\n",
       "      <th>0.1</th>\n",
       "      <td>-0.567388</td>\n",
       "      <td>0.655351</td>\n",
       "      <td>NaN</td>\n",
       "    </tr>\n",
       "    <tr>\n",
       "      <th>0.3</th>\n",
       "      <td>-0.585302</td>\n",
       "      <td>0.709187</td>\n",
       "      <td>NaN</td>\n",
       "    </tr>\n",
       "    <tr>\n",
       "      <th>1.0</th>\n",
       "      <td>-0.561107</td>\n",
       "      <td>0.721632</td>\n",
       "      <td>0.557847</td>\n",
       "    </tr>\n",
       "  </tbody>\n",
       "</table>\n",
       "</div>"
      ],
      "text/plain": [
       "          kNN     DTree     MaxLL\n",
       "0.1 -0.567388  0.655351       NaN\n",
       "0.3 -0.585302  0.709187       NaN\n",
       "1.0 -0.561107  0.721632  0.557847"
      ]
     },
     "execution_count": 9,
     "metadata": {},
     "output_type": "execute_result"
    }
   ],
   "source": [
    "enri29 = explained_variances('enri')\n",
    "enri29"
   ]
  },
  {
   "cell_type": "code",
   "execution_count": 10,
   "metadata": {
    "scrolled": true
   },
   "outputs": [
    {
     "name": "stdout",
     "output_type": "stream",
     "text": [
      "Enrichment, MAE, 29 nuclides: \n",
      "\n"
     ]
    },
    {
     "data": {
      "text/html": [
       "<div>\n",
       "<style scoped>\n",
       "    .dataframe tbody tr th:only-of-type {\n",
       "        vertical-align: middle;\n",
       "    }\n",
       "\n",
       "    .dataframe tbody tr th {\n",
       "        vertical-align: top;\n",
       "    }\n",
       "\n",
       "    .dataframe thead th {\n",
       "        text-align: right;\n",
       "    }\n",
       "</style>\n",
       "<table border=\"1\" class=\"dataframe\">\n",
       "  <thead>\n",
       "    <tr style=\"text-align: right;\">\n",
       "      <th></th>\n",
       "      <th>kNN</th>\n",
       "      <th>DTree</th>\n",
       "      <th>MaxLL</th>\n",
       "    </tr>\n",
       "  </thead>\n",
       "  <tbody>\n",
       "    <tr>\n",
       "      <th>0.1</th>\n",
       "      <td>1.480971</td>\n",
       "      <td>0.348291</td>\n",
       "      <td>NaN</td>\n",
       "    </tr>\n",
       "    <tr>\n",
       "      <th>0.3</th>\n",
       "      <td>1.486951</td>\n",
       "      <td>0.330467</td>\n",
       "      <td>NaN</td>\n",
       "    </tr>\n",
       "    <tr>\n",
       "      <th>1.0</th>\n",
       "      <td>1.477326</td>\n",
       "      <td>0.329612</td>\n",
       "      <td>0.484412</td>\n",
       "    </tr>\n",
       "  </tbody>\n",
       "</table>\n",
       "</div>"
      ],
      "text/plain": [
       "          kNN     DTree     MaxLL\n",
       "0.1  1.480971  0.348291       NaN\n",
       "0.3  1.486951  0.330467       NaN\n",
       "1.0  1.477326  0.329612  0.484412"
      ]
     },
     "execution_count": 10,
     "metadata": {},
     "output_type": "execute_result"
    }
   ],
   "source": [
    "enri29 = mean_abs_error('enri')\n",
    "enri29"
   ]
  },
  {
   "cell_type": "code",
   "execution_count": 11,
   "metadata": {},
   "outputs": [
    {
     "name": "stdout",
     "output_type": "stream",
     "text": [
      "Burnup, ExpVar, 29 nuclides: \n",
      "\n"
     ]
    },
    {
     "data": {
      "text/html": [
       "<div>\n",
       "<style scoped>\n",
       "    .dataframe tbody tr th:only-of-type {\n",
       "        vertical-align: middle;\n",
       "    }\n",
       "\n",
       "    .dataframe tbody tr th {\n",
       "        vertical-align: top;\n",
       "    }\n",
       "\n",
       "    .dataframe thead th {\n",
       "        text-align: right;\n",
       "    }\n",
       "</style>\n",
       "<table border=\"1\" class=\"dataframe\">\n",
       "  <thead>\n",
       "    <tr style=\"text-align: right;\">\n",
       "      <th></th>\n",
       "      <th>kNN</th>\n",
       "      <th>DTree</th>\n",
       "      <th>MaxLL</th>\n",
       "    </tr>\n",
       "  </thead>\n",
       "  <tbody>\n",
       "    <tr>\n",
       "      <th>0.1</th>\n",
       "      <td>0.424760</td>\n",
       "      <td>0.195675</td>\n",
       "      <td>NaN</td>\n",
       "    </tr>\n",
       "    <tr>\n",
       "      <th>0.3</th>\n",
       "      <td>0.425014</td>\n",
       "      <td>0.186354</td>\n",
       "      <td>NaN</td>\n",
       "    </tr>\n",
       "    <tr>\n",
       "      <th>1.0</th>\n",
       "      <td>0.435253</td>\n",
       "      <td>0.242814</td>\n",
       "      <td>0.919398</td>\n",
       "    </tr>\n",
       "  </tbody>\n",
       "</table>\n",
       "</div>"
      ],
      "text/plain": [
       "          kNN     DTree     MaxLL\n",
       "0.1  0.424760  0.195675       NaN\n",
       "0.3  0.425014  0.186354       NaN\n",
       "1.0  0.435253  0.242814  0.919398"
      ]
     },
     "execution_count": 11,
     "metadata": {},
     "output_type": "execute_result"
    }
   ],
   "source": [
    "burn29 = explained_variances('burn')\n",
    "burn29"
   ]
  },
  {
   "cell_type": "code",
   "execution_count": 12,
   "metadata": {},
   "outputs": [
    {
     "name": "stdout",
     "output_type": "stream",
     "text": [
      "Burnup, MAE, 29 nuclides: \n",
      "\n"
     ]
    },
    {
     "data": {
      "text/html": [
       "<div>\n",
       "<style scoped>\n",
       "    .dataframe tbody tr th:only-of-type {\n",
       "        vertical-align: middle;\n",
       "    }\n",
       "\n",
       "    .dataframe tbody tr th {\n",
       "        vertical-align: top;\n",
       "    }\n",
       "\n",
       "    .dataframe thead th {\n",
       "        text-align: right;\n",
       "    }\n",
       "</style>\n",
       "<table border=\"1\" class=\"dataframe\">\n",
       "  <thead>\n",
       "    <tr style=\"text-align: right;\">\n",
       "      <th></th>\n",
       "      <th>kNN</th>\n",
       "      <th>DTree</th>\n",
       "      <th>MaxLL</th>\n",
       "    </tr>\n",
       "  </thead>\n",
       "  <tbody>\n",
       "    <tr>\n",
       "      <th>0.1</th>\n",
       "      <td>15478.703855</td>\n",
       "      <td>14211.989630</td>\n",
       "      <td>NaN</td>\n",
       "    </tr>\n",
       "    <tr>\n",
       "      <th>0.3</th>\n",
       "      <td>15376.937827</td>\n",
       "      <td>14283.393749</td>\n",
       "      <td>NaN</td>\n",
       "    </tr>\n",
       "    <tr>\n",
       "      <th>1.0</th>\n",
       "      <td>15172.076809</td>\n",
       "      <td>14027.794601</td>\n",
       "      <td>3462.108343</td>\n",
       "    </tr>\n",
       "  </tbody>\n",
       "</table>\n",
       "</div>"
      ],
      "text/plain": [
       "              kNN         DTree        MaxLL\n",
       "0.1  15478.703855  14211.989630          NaN\n",
       "0.3  15376.937827  14283.393749          NaN\n",
       "1.0  15172.076809  14027.794601  3462.108343"
      ]
     },
     "execution_count": 12,
     "metadata": {},
     "output_type": "execute_result"
    }
   ],
   "source": [
    "burn29 = mean_abs_error('burn')\n",
    "burn29"
   ]
  },
  {
   "cell_type": "code",
   "execution_count": null,
   "metadata": {},
   "outputs": [],
   "source": []
  }
 ],
 "metadata": {
  "kernelspec": {
   "display_name": "Python 3",
   "language": "python",
   "name": "python3"
  },
  "language_info": {
   "codemirror_mode": {
    "name": "ipython",
    "version": 3
   },
   "file_extension": ".py",
   "mimetype": "text/x-python",
   "name": "python",
   "nbconvert_exporter": "python",
   "pygments_lexer": "ipython3",
   "version": "3.6.9"
  }
 },
 "nbformat": 4,
 "nbformat_minor": 4
}
