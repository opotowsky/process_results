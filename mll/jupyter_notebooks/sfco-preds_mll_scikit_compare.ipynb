{
 "cells": [
  {
   "cell_type": "code",
   "execution_count": 35,
   "metadata": {},
   "outputs": [],
   "source": [
    "import numpy as np\n",
    "import pandas as pd\n",
    "from sklearn.metrics import accuracy_score, explained_variance_score, mean_absolute_error"
   ]
  },
  {
   "cell_type": "code",
   "execution_count": 3,
   "metadata": {},
   "outputs": [],
   "source": [
    "preds = {'rxtr': 'reactor', 'burn' : 'burnup', 'cool' : 'cooling', 'enri' : 'enrichment'}\n",
    "algs = ['knn', 'dtree']\n",
    "fracs = ['1.0']#['0.1', '0.3', '1.0']\n",
    "mll_frac = '1.0'\n",
    "learn29 = {}\n",
    "base = '/mnt/researchdrive/BOX_INTERNAL/opotowsky/'\n",
    "sci_path = base + 'scikit/conc_sfco/'\n",
    "path_end = '_nuc29_ext_test_compare.csv'\n",
    "for frac in fracs:\n",
    "    for p, pred in preds.items():\n",
    "        for alg in algs:\n",
    "            key = p + frac + '_' + alg\n",
    "            mid = pred + '_' + alg + '_tset' + frac\n",
    "            learn29[key] = pd.read_csv(sci_path + mid + path_end, index_col=0)\n",
    "\n",
    "mll29 = pd.read_csv(base + 'mll/nuc_conc/sfco/Job0_unc0.05/Job0_unc0.05.csv', index_col=0)"
   ]
  },
  {
   "cell_type": "markdown",
   "metadata": {},
   "source": [
    "## New code only looking at full trainset"
   ]
  },
  {
   "cell_type": "code",
   "execution_count": 72,
   "metadata": {},
   "outputs": [],
   "source": [
    "cols = ['kNN', 'kNN Std', 'DTree', 'DTree Std', 'MaxLL', 'MaxLL Std']\n",
    "rows = ['rxtr', 'burn', 'enri']\n",
    "llparam = { 'rxtr' : ['ReactorType', 'pred_ReactorType'],\n",
    "            'burn' : ['Burnup', 'pred_Burnup'],\n",
    "            'enri' : ['Enrichment', 'pred_Enrichment'] }\n",
    "sfco_errs = pd.DataFrame(index=rows, columns=cols)"
   ]
  },
  {
   "cell_type": "code",
   "execution_count": 73,
   "metadata": {},
   "outputs": [],
   "source": [
    "#overwrite algs:\n",
    "algs = ['kNN', 'DTree', 'MaxLL']\n",
    "for pred in rows:\n",
    "    for alg in algs:\n",
    "        key = pred + '1.0'\n",
    "        std = alg + ' Std'\n",
    "        if alg == 'kNN':\n",
    "            key = key + '_knn'\n",
    "        else:\n",
    "            key = key + '_dtree'\n",
    "        if pred == 'rxtr':\n",
    "            if alg == 'MaxLL':\n",
    "                sfco_errs.loc[pred, alg] = np.around(accuracy_score(mll29[llparam[pred][0]], mll29[llparam[pred][1]]), decimals=2)\n",
    "                sfco_errs.loc[pred, std] = np.around(np.std(mll29[llparam[pred][0]] == mll29[llparam[pred][1]]), decimals=2)\n",
    "            else:\n",
    "                sfco_errs.loc[pred, alg] = np.around(accuracy_score(learn29[key]['TrueY'], learn29[key][alg]), decimals=2)\n",
    "                sfco_errs.loc[pred, std] = np.around(np.std(learn29[key]['TrueY'] == learn29[key][alg]), decimals=2)\n",
    "        elif pred == 'burn':\n",
    "            gw = 1000.0\n",
    "            if alg == 'MaxLL':\n",
    "                sfco_errs.loc[pred, alg] = np.around(mean_absolute_error(mll29[llparam[pred][0]], mll29[llparam[pred][1]])/gw, decimals=2)\n",
    "                sfco_errs.loc[pred, std] = np.around(np.std(mll29[llparam[pred][0]] - mll29[llparam[pred][1]])/gw, decimals=2)\n",
    "            else:\n",
    "                sfco_errs.loc[pred, alg] = np.around(mean_absolute_error(learn29[key]['TrueY'], learn29[key][alg])/gw, decimals=2)\n",
    "                sfco_errs.loc[pred, std] = np.around(np.std(learn29[key]['TrueY'] - learn29[key][alg])/gw, decimals=2)\n",
    "        else:\n",
    "            if alg == 'MaxLL':\n",
    "                sfco_errs.loc[pred, alg] = np.around(mean_absolute_error(mll29[llparam[pred][0]], mll29[llparam[pred][1]]), decimals=2)\n",
    "                sfco_errs.loc[pred, std] = np.around(np.std(mll29[llparam[pred][0]] - mll29[llparam[pred][1]]), decimals=2)\n",
    "            else:\n",
    "                sfco_errs.loc[pred, alg] = np.around(mean_absolute_error(learn29[key]['TrueY'], learn29[key][alg]), decimals=2)\n",
    "                sfco_errs.loc[pred, std] = np.around(np.std(learn29[key]['TrueY'] - learn29[key][alg]), decimals=2)"
   ]
  },
  {
   "cell_type": "code",
   "execution_count": 74,
   "metadata": {},
   "outputs": [],
   "source": [
    "new_idx = {'rxtr' : 'Reactor Type Accuracy',\n",
    "           'burn' : 'Burnup MAE [GWd/MTU]',\n",
    "           'enri' : 'Enrichment MAE [%U235]'\n",
    "          }\n",
    "sfco_errs.rename(index=new_idx, inplace=True)"
   ]
  },
  {
   "cell_type": "code",
   "execution_count": 75,
   "metadata": {
    "scrolled": true
   },
   "outputs": [
    {
     "data": {
      "text/html": [
       "<div>\n",
       "<style scoped>\n",
       "    .dataframe tbody tr th:only-of-type {\n",
       "        vertical-align: middle;\n",
       "    }\n",
       "\n",
       "    .dataframe tbody tr th {\n",
       "        vertical-align: top;\n",
       "    }\n",
       "\n",
       "    .dataframe thead th {\n",
       "        text-align: right;\n",
       "    }\n",
       "</style>\n",
       "<table border=\"1\" class=\"dataframe\">\n",
       "  <thead>\n",
       "    <tr style=\"text-align: right;\">\n",
       "      <th></th>\n",
       "      <th>kNN</th>\n",
       "      <th>kNN Std</th>\n",
       "      <th>DTree</th>\n",
       "      <th>DTree Std</th>\n",
       "      <th>MaxLL</th>\n",
       "      <th>MaxLL Std</th>\n",
       "    </tr>\n",
       "  </thead>\n",
       "  <tbody>\n",
       "    <tr>\n",
       "      <th>Reactor Type Accuracy</th>\n",
       "      <td>0.61</td>\n",
       "      <td>0.49</td>\n",
       "      <td>0.51</td>\n",
       "      <td>0.5</td>\n",
       "      <td>0.72</td>\n",
       "      <td>0.45</td>\n",
       "    </tr>\n",
       "    <tr>\n",
       "      <th>Burnup MAE [GWd/MTU]</th>\n",
       "      <td>15.17</td>\n",
       "      <td>13.23</td>\n",
       "      <td>14.03</td>\n",
       "      <td>15.32</td>\n",
       "      <td>3.46</td>\n",
       "      <td>5</td>\n",
       "    </tr>\n",
       "    <tr>\n",
       "      <th>Enrichment MAE [%U235]</th>\n",
       "      <td>1.48</td>\n",
       "      <td>1.18</td>\n",
       "      <td>0.33</td>\n",
       "      <td>0.5</td>\n",
       "      <td>0.48</td>\n",
       "      <td>0.63</td>\n",
       "    </tr>\n",
       "  </tbody>\n",
       "</table>\n",
       "</div>"
      ],
      "text/plain": [
       "                          kNN kNN Std  DTree DTree Std MaxLL MaxLL Std\n",
       "Reactor Type Accuracy    0.61    0.49   0.51       0.5  0.72      0.45\n",
       "Burnup MAE [GWd/MTU]    15.17   13.23  14.03     15.32  3.46         5\n",
       "Enrichment MAE [%U235]   1.48    1.18   0.33       0.5  0.48      0.63"
      ]
     },
     "execution_count": 75,
     "metadata": {},
     "output_type": "execute_result"
    }
   ],
   "source": [
    "sfco_errs"
   ]
  },
  {
   "cell_type": "code",
   "execution_count": 77,
   "metadata": {},
   "outputs": [],
   "source": [
    "import dataframe_image as dfi\n",
    "dfi.export(sfco_errs, 'sfcoerrs.png')"
   ]
  },
  {
   "cell_type": "markdown",
   "metadata": {},
   "source": [
    "## Saving code for comparing multiple trainset fracs"
   ]
  },
  {
   "cell_type": "code",
   "execution_count": 5,
   "metadata": {},
   "outputs": [
    {
     "data": {
      "text/plain": [
       "['kNN', 'DTree', 'MaxLL']"
      ]
     },
     "execution_count": 5,
     "metadata": {},
     "output_type": "execute_result"
    }
   ],
   "source": [
    "Algs = ['kNN', 'DTree']\n",
    "cols = Algs + ['MaxLL']\n",
    "cols"
   ]
  },
  {
   "cell_type": "code",
   "execution_count": 6,
   "metadata": {},
   "outputs": [
    {
     "name": "stdout",
     "output_type": "stream",
     "text": [
      "Reactor Type, 29 Nuclides: \n",
      "\n"
     ]
    },
    {
     "data": {
      "text/html": [
       "<div>\n",
       "<style scoped>\n",
       "    .dataframe tbody tr th:only-of-type {\n",
       "        vertical-align: middle;\n",
       "    }\n",
       "\n",
       "    .dataframe tbody tr th {\n",
       "        vertical-align: top;\n",
       "    }\n",
       "\n",
       "    .dataframe thead th {\n",
       "        text-align: right;\n",
       "    }\n",
       "</style>\n",
       "<table border=\"1\" class=\"dataframe\">\n",
       "  <thead>\n",
       "    <tr style=\"text-align: right;\">\n",
       "      <th></th>\n",
       "      <th>kNN</th>\n",
       "      <th>DTree</th>\n",
       "      <th>MaxLL</th>\n",
       "    </tr>\n",
       "  </thead>\n",
       "  <tbody>\n",
       "    <tr>\n",
       "      <th>1.0</th>\n",
       "      <td>0.613861</td>\n",
       "      <td>0.512871</td>\n",
       "      <td>0.718812</td>\n",
       "    </tr>\n",
       "  </tbody>\n",
       "</table>\n",
       "</div>"
      ],
      "text/plain": [
       "          kNN     DTree     MaxLL\n",
       "1.0  0.613861  0.512871  0.718812"
      ]
     },
     "execution_count": 6,
     "metadata": {},
     "output_type": "execute_result"
    }
   ],
   "source": [
    "rxtr29 = pd.DataFrame(columns=cols)\n",
    "for frac in fracs:\n",
    "    scores29 = []\n",
    "    for col in cols:\n",
    "        if col in Algs:\n",
    "            key = 'rxtr' + frac\n",
    "            if 'kNN' in col:\n",
    "                key = key + '_knn'\n",
    "                scores29.append(accuracy_score(learn29[key]['TrueY'], learn29[key]['kNN']))\n",
    "            else:\n",
    "                key = key + '_dtree'\n",
    "                scores29.append(accuracy_score(learn29[key]['TrueY'], learn29[key]['DTree']))\n",
    "        else:\n",
    "            if frac == mll_frac:\n",
    "                scores29.append(accuracy_score(mll29['ReactorType'], mll29['pred_ReactorType']))\n",
    "            else:\n",
    "                scores29.append(np.nan)\n",
    "    rxtr29.loc[frac] = scores29\n",
    "print('Reactor Type, 29 Nuclides: \\n')\n",
    "rxtr29"
   ]
  },
  {
   "cell_type": "code",
   "execution_count": 7,
   "metadata": {},
   "outputs": [],
   "source": [
    "llparam = { 'burn' : ['Burnup', 'pred_Burnup'],\n",
    "            'cool' : ['CoolingTime', 'pred_CoolingTime'],\n",
    "            'enri' : ['Enrichment', 'pred_Enrichment'] }"
   ]
  },
  {
   "cell_type": "code",
   "execution_count": 8,
   "metadata": {},
   "outputs": [],
   "source": [
    "def explained_variances(param):\n",
    "    df29 = pd.DataFrame(columns=cols)\n",
    "    for frac in fracs:\n",
    "        scores29 = []\n",
    "        for col in cols:\n",
    "            if col in Algs:\n",
    "                key = param + frac\n",
    "                if 'kNN' in col:\n",
    "                    key = key + '_knn'\n",
    "                    scores29.append(explained_variance_score(learn29[key]['TrueY'], learn29[key]['kNN']))\n",
    "                else:\n",
    "                    key = key + '_dtree'\n",
    "                    scores29.append(explained_variance_score(learn29[key]['TrueY'], learn29[key]['DTree']))\n",
    "            else:\n",
    "                if frac == mll_frac:\n",
    "                    scores29.append(explained_variance_score(mll29[llparam[param][0]], mll29[llparam[param][1]]))\n",
    "                else:\n",
    "                    scores29.append(np.nan)\n",
    "        df29.loc[frac] = scores29\n",
    "    print(llparam[param][0] + ', ExpVar, 29 nuclides: \\n')\n",
    "    return df29"
   ]
  },
  {
   "cell_type": "code",
   "execution_count": 9,
   "metadata": {},
   "outputs": [],
   "source": [
    "def mean_abs_error(param):\n",
    "    df29 = pd.DataFrame(columns=cols)\n",
    "    for frac in fracs:\n",
    "        scores29 = []\n",
    "        for col in cols:\n",
    "            if col in Algs:\n",
    "                key = param + frac\n",
    "                if 'kNN' in col:\n",
    "                    key = key + '_knn'\n",
    "                    scores29.append(mean_absolute_error(learn29[key]['TrueY'], learn29[key]['kNN']))\n",
    "                else:\n",
    "                    key = key + '_dtree'\n",
    "                    scores29.append(mean_absolute_error(learn29[key]['TrueY'], learn29[key]['DTree']))\n",
    "            else:\n",
    "                if frac == mll_frac:\n",
    "                    scores29.append(mean_absolute_error(mll29[llparam[param][0]], mll29[llparam[param][1]]))\n",
    "                else:\n",
    "                    scores29.append(np.nan)\n",
    "        df29.loc[frac] = scores29\n",
    "    print(llparam[param][0] + ', MAE, 29 nuclides: \\n')\n",
    "    return df29"
   ]
  },
  {
   "cell_type": "code",
   "execution_count": 10,
   "metadata": {
    "scrolled": true
   },
   "outputs": [
    {
     "name": "stdout",
     "output_type": "stream",
     "text": [
      "Enrichment, MAE, 29 nuclides: \n",
      "\n"
     ]
    },
    {
     "data": {
      "text/html": [
       "<div>\n",
       "<style scoped>\n",
       "    .dataframe tbody tr th:only-of-type {\n",
       "        vertical-align: middle;\n",
       "    }\n",
       "\n",
       "    .dataframe tbody tr th {\n",
       "        vertical-align: top;\n",
       "    }\n",
       "\n",
       "    .dataframe thead th {\n",
       "        text-align: right;\n",
       "    }\n",
       "</style>\n",
       "<table border=\"1\" class=\"dataframe\">\n",
       "  <thead>\n",
       "    <tr style=\"text-align: right;\">\n",
       "      <th></th>\n",
       "      <th>kNN</th>\n",
       "      <th>DTree</th>\n",
       "      <th>MaxLL</th>\n",
       "    </tr>\n",
       "  </thead>\n",
       "  <tbody>\n",
       "    <tr>\n",
       "      <th>1.0</th>\n",
       "      <td>1.477326</td>\n",
       "      <td>0.329612</td>\n",
       "      <td>0.484412</td>\n",
       "    </tr>\n",
       "  </tbody>\n",
       "</table>\n",
       "</div>"
      ],
      "text/plain": [
       "          kNN     DTree     MaxLL\n",
       "1.0  1.477326  0.329612  0.484412"
      ]
     },
     "execution_count": 10,
     "metadata": {},
     "output_type": "execute_result"
    }
   ],
   "source": [
    "enri29 = mean_abs_error('enri')\n",
    "enri29"
   ]
  },
  {
   "cell_type": "code",
   "execution_count": 11,
   "metadata": {},
   "outputs": [
    {
     "name": "stdout",
     "output_type": "stream",
     "text": [
      "Burnup, MAE, 29 nuclides: \n",
      "\n"
     ]
    },
    {
     "data": {
      "text/html": [
       "<div>\n",
       "<style scoped>\n",
       "    .dataframe tbody tr th:only-of-type {\n",
       "        vertical-align: middle;\n",
       "    }\n",
       "\n",
       "    .dataframe tbody tr th {\n",
       "        vertical-align: top;\n",
       "    }\n",
       "\n",
       "    .dataframe thead th {\n",
       "        text-align: right;\n",
       "    }\n",
       "</style>\n",
       "<table border=\"1\" class=\"dataframe\">\n",
       "  <thead>\n",
       "    <tr style=\"text-align: right;\">\n",
       "      <th></th>\n",
       "      <th>kNN</th>\n",
       "      <th>DTree</th>\n",
       "      <th>MaxLL</th>\n",
       "    </tr>\n",
       "  </thead>\n",
       "  <tbody>\n",
       "    <tr>\n",
       "      <th>1.0</th>\n",
       "      <td>15172.076809</td>\n",
       "      <td>14027.794601</td>\n",
       "      <td>3462.108343</td>\n",
       "    </tr>\n",
       "  </tbody>\n",
       "</table>\n",
       "</div>"
      ],
      "text/plain": [
       "              kNN         DTree        MaxLL\n",
       "1.0  15172.076809  14027.794601  3462.108343"
      ]
     },
     "execution_count": 11,
     "metadata": {},
     "output_type": "execute_result"
    }
   ],
   "source": [
    "burn29 = mean_abs_error('burn')\n",
    "burn29"
   ]
  },
  {
   "cell_type": "code",
   "execution_count": 9,
   "metadata": {},
   "outputs": [
    {
     "name": "stdout",
     "output_type": "stream",
     "text": [
      "Enrichment, ExpVar, 29 nuclides: \n",
      "\n"
     ]
    },
    {
     "data": {
      "text/html": [
       "<div>\n",
       "<style scoped>\n",
       "    .dataframe tbody tr th:only-of-type {\n",
       "        vertical-align: middle;\n",
       "    }\n",
       "\n",
       "    .dataframe tbody tr th {\n",
       "        vertical-align: top;\n",
       "    }\n",
       "\n",
       "    .dataframe thead th {\n",
       "        text-align: right;\n",
       "    }\n",
       "</style>\n",
       "<table border=\"1\" class=\"dataframe\">\n",
       "  <thead>\n",
       "    <tr style=\"text-align: right;\">\n",
       "      <th></th>\n",
       "      <th>kNN</th>\n",
       "      <th>DTree</th>\n",
       "      <th>MaxLL</th>\n",
       "    </tr>\n",
       "  </thead>\n",
       "  <tbody>\n",
       "    <tr>\n",
       "      <th>0.1</th>\n",
       "      <td>-0.567388</td>\n",
       "      <td>0.655351</td>\n",
       "      <td>NaN</td>\n",
       "    </tr>\n",
       "    <tr>\n",
       "      <th>0.3</th>\n",
       "      <td>-0.585302</td>\n",
       "      <td>0.709187</td>\n",
       "      <td>NaN</td>\n",
       "    </tr>\n",
       "    <tr>\n",
       "      <th>1.0</th>\n",
       "      <td>-0.561107</td>\n",
       "      <td>0.721632</td>\n",
       "      <td>0.557847</td>\n",
       "    </tr>\n",
       "  </tbody>\n",
       "</table>\n",
       "</div>"
      ],
      "text/plain": [
       "          kNN     DTree     MaxLL\n",
       "0.1 -0.567388  0.655351       NaN\n",
       "0.3 -0.585302  0.709187       NaN\n",
       "1.0 -0.561107  0.721632  0.557847"
      ]
     },
     "execution_count": 9,
     "metadata": {},
     "output_type": "execute_result"
    }
   ],
   "source": [
    "enri29 = explained_variances('enri')\n",
    "enri29"
   ]
  },
  {
   "cell_type": "code",
   "execution_count": 11,
   "metadata": {},
   "outputs": [
    {
     "name": "stdout",
     "output_type": "stream",
     "text": [
      "Burnup, ExpVar, 29 nuclides: \n",
      "\n"
     ]
    },
    {
     "data": {
      "text/html": [
       "<div>\n",
       "<style scoped>\n",
       "    .dataframe tbody tr th:only-of-type {\n",
       "        vertical-align: middle;\n",
       "    }\n",
       "\n",
       "    .dataframe tbody tr th {\n",
       "        vertical-align: top;\n",
       "    }\n",
       "\n",
       "    .dataframe thead th {\n",
       "        text-align: right;\n",
       "    }\n",
       "</style>\n",
       "<table border=\"1\" class=\"dataframe\">\n",
       "  <thead>\n",
       "    <tr style=\"text-align: right;\">\n",
       "      <th></th>\n",
       "      <th>kNN</th>\n",
       "      <th>DTree</th>\n",
       "      <th>MaxLL</th>\n",
       "    </tr>\n",
       "  </thead>\n",
       "  <tbody>\n",
       "    <tr>\n",
       "      <th>0.1</th>\n",
       "      <td>0.424760</td>\n",
       "      <td>0.195675</td>\n",
       "      <td>NaN</td>\n",
       "    </tr>\n",
       "    <tr>\n",
       "      <th>0.3</th>\n",
       "      <td>0.425014</td>\n",
       "      <td>0.186354</td>\n",
       "      <td>NaN</td>\n",
       "    </tr>\n",
       "    <tr>\n",
       "      <th>1.0</th>\n",
       "      <td>0.435253</td>\n",
       "      <td>0.242814</td>\n",
       "      <td>0.919398</td>\n",
       "    </tr>\n",
       "  </tbody>\n",
       "</table>\n",
       "</div>"
      ],
      "text/plain": [
       "          kNN     DTree     MaxLL\n",
       "0.1  0.424760  0.195675       NaN\n",
       "0.3  0.425014  0.186354       NaN\n",
       "1.0  0.435253  0.242814  0.919398"
      ]
     },
     "execution_count": 11,
     "metadata": {},
     "output_type": "execute_result"
    }
   ],
   "source": [
    "burn29 = explained_variances('burn')\n",
    "burn29"
   ]
  },
  {
   "cell_type": "code",
   "execution_count": null,
   "metadata": {},
   "outputs": [],
   "source": []
  }
 ],
 "metadata": {
  "kernelspec": {
   "display_name": "Python 3",
   "language": "python",
   "name": "python3"
  },
  "language_info": {
   "codemirror_mode": {
    "name": "ipython",
    "version": 3
   },
   "file_extension": ".py",
   "mimetype": "text/x-python",
   "name": "python",
   "nbconvert_exporter": "python",
   "pygments_lexer": "ipython3",
   "version": "3.6.9"
  }
 },
 "nbformat": 4,
 "nbformat_minor": 4
}
