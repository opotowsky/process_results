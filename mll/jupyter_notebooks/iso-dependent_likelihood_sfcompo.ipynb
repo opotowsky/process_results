{
 "cells": [
  {
   "cell_type": "code",
   "execution_count": 2,
   "metadata": {},
   "outputs": [],
   "source": [
    "import numpy as np\n",
    "import pandas as pd\n",
    "import scipy.stats as stats\n",
    "from mll_calc.mll_pred import format_XY, convert_g_to_mgUi"
   ]
  },
  {
   "cell_type": "markdown",
   "metadata": {},
   "source": [
    "# Functions"
   ]
  },
  {
   "cell_type": "code",
   "execution_count": 48,
   "metadata": {},
   "outputs": [],
   "source": [
    "def logpdf_calc(row, test_sample, unc):\n",
    "    y_sim = row[test_sample>0].values.tolist()\n",
    "    std = row.multiply(unc)[test_sample>0].values.tolist()\n",
    "    y_mes = test_sample[test_sample>0].values.tolist()\n",
    "    logpdf_list = stats.norm.logpdf(y_sim, loc=y_mes, scale=std)\n",
    "    return logpdf_list"
   ]
  },
  {
   "cell_type": "code",
   "execution_count": 49,
   "metadata": {},
   "outputs": [],
   "source": [
    "def loop_sfco(XY, test, pred, unc, lbls):\n",
    "    logpdf_df = pd.DataFrame()\n",
    "    for test_idx, row in test.iterrows():\n",
    "        test_sample = row.drop(lbls)\n",
    "        test_answer = row[lbls]\n",
    "        \n",
    "        pred_idx = pred['pred_idx'].loc[pred['sim_idx'] == test_idx]\n",
    "        train_row = XY.loc[pred_idx.values[0]].drop(lbls)\n",
    "        \n",
    "        logpdf = logpdf_calc(train_row, test_sample, unc)\n",
    "        logpdf = pd.Series(logpdf, index=train_row[test_sample>0].index, name=test_idx)\n",
    "        \n",
    "        if logpdf_df.empty:\n",
    "            logpdf_df = pd.DataFrame(columns = test_sample.index.to_list())\n",
    "        logpdf_df = logpdf_df.append(logpdf)\n",
    "    return logpdf_df"
   ]
  },
  {
   "cell_type": "code",
   "execution_count": 4,
   "metadata": {},
   "outputs": [],
   "source": [
    "unc = 0.05\n",
    "lbls = ['ReactorType', 'CoolingTime', 'Enrichment', 'Burnup', 'OrigenReactor']\n",
    "nonlbls = ['AvgPowerDensity', 'ModDensity', 'UiWeight']"
   ]
  },
  {
   "cell_type": "code",
   "execution_count": 1,
   "metadata": {},
   "outputs": [],
   "source": [
    "to_print = ['sim_idx', 'pred_idx', 'MaxLogLL',\n",
    "            'ReactorType', 'pred_ReactorType', 'ReactorType_Score',\n",
    "            'OrigenReactor', 'pred_OrigenReactor',\n",
    "            'Enrichment', 'pred_Enrichment', \n",
    "            'Burnup', 'pred_Burnup', \n",
    "            'pred_CoolingTime', 'AvgPowerDensity', 'ModDensity']"
   ]
  },
  {
   "cell_type": "markdown",
   "metadata": {},
   "source": [
    "# Data formatting & Calculations"
   ]
  },
  {
   "cell_type": "code",
   "execution_count": 5,
   "metadata": {},
   "outputs": [],
   "source": [
    "pklfile = '~/sims_n_results/simupdates_aug2020/not-scaled_nuc29.pkl'\n",
    "XY = format_XY(pklfile)\n",
    "XY = convert_g_to_mgUi(XY, lbls+nonlbls)\n",
    "\n",
    "sfco_pkl = '~/sfcompo/format_clean/sfcompo_nuc29.pkl'\n",
    "sfco = pd.read_pickle(sfco_pkl)\n",
    "\n",
    "# for preds\n",
    "sfco_path = '~/sims_n_results/simupdates_aug2020/sfco29/'\n",
    "unc_job = 'Job0_unc0.05'\n",
    "sfcoLL = pd.read_csv(sfco_path + unc_job + '/' + unc_job + '.csv').drop(columns=['Unnamed: 0', 'Unnamed: 0.1'])"
   ]
  },
  {
   "cell_type": "markdown",
   "metadata": {},
   "source": [
    "## (a) Get test samples for iso-dependent logpdf calcs"
   ]
  },
  {
   "cell_type": "markdown",
   "metadata": {},
   "source": [
    "manually found predictions with low and high errors, respectively"
   ]
  },
  {
   "cell_type": "code",
   "execution_count": 6,
   "metadata": {},
   "outputs": [],
   "source": [
    "# <1% burnup and enrichment errors + correct reactor pred\n",
    "good_id = 'CCL-1|D047|MKP109|LL' \n",
    "good_idx = 7 \n",
    "grow_train_idx = 344552\n",
    "# ~150% burnup and enrichment error + wrong reactor pred\n",
    "bad_id = 'GAR-1|A-106|E5|1' \n",
    "bad_idx = 63 \n",
    "brow_train_idx = 309124"
   ]
  },
  {
   "cell_type": "code",
   "execution_count": 7,
   "metadata": {},
   "outputs": [
    {
     "data": {
      "text/html": [
       "<div>\n",
       "<style scoped>\n",
       "    .dataframe tbody tr th:only-of-type {\n",
       "        vertical-align: middle;\n",
       "    }\n",
       "\n",
       "    .dataframe tbody tr th {\n",
       "        vertical-align: top;\n",
       "    }\n",
       "\n",
       "    .dataframe thead th {\n",
       "        text-align: right;\n",
       "    }\n",
       "</style>\n",
       "<table border=\"1\" class=\"dataframe\">\n",
       "  <thead>\n",
       "    <tr style=\"text-align: right;\">\n",
       "      <th></th>\n",
       "      <th>sim_idx</th>\n",
       "      <th>pred_idx</th>\n",
       "      <th>MaxLogLL</th>\n",
       "      <th>ReactorType</th>\n",
       "      <th>pred_ReactorType</th>\n",
       "      <th>ReactorType_Score</th>\n",
       "      <th>OrigenReactor</th>\n",
       "      <th>pred_OrigenReactor</th>\n",
       "      <th>Enrichment</th>\n",
       "      <th>pred_Enrichment</th>\n",
       "      <th>Burnup</th>\n",
       "      <th>pred_Burnup</th>\n",
       "      <th>pred_CoolingTime</th>\n",
       "      <th>AvgPowerDensity</th>\n",
       "      <th>ModDensity</th>\n",
       "    </tr>\n",
       "  </thead>\n",
       "  <tbody>\n",
       "    <tr>\n",
       "      <th>7</th>\n",
       "      <td>CCL-1|D047|MKP109|LL</td>\n",
       "      <td>344552</td>\n",
       "      <td>15.400516</td>\n",
       "      <td>pwr</td>\n",
       "      <td>pwr</td>\n",
       "      <td>True</td>\n",
       "      <td>Calvert Cliffs-1_PWR</td>\n",
       "      <td>vver1000</td>\n",
       "      <td>3.038</td>\n",
       "      <td>3.04</td>\n",
       "      <td>27350.0</td>\n",
       "      <td>27280.53</td>\n",
       "      <td>3031.473636</td>\n",
       "      <td>25.0</td>\n",
       "      <td>0.71</td>\n",
       "    </tr>\n",
       "  </tbody>\n",
       "</table>\n",
       "</div>"
      ],
      "text/plain": [
       "                sim_idx  pred_idx   MaxLogLL ReactorType pred_ReactorType  \\\n",
       "7  CCL-1|D047|MKP109|LL    344552  15.400516         pwr              pwr   \n",
       "\n",
       "   ReactorType_Score         OrigenReactor pred_OrigenReactor  Enrichment  \\\n",
       "7               True  Calvert Cliffs-1_PWR           vver1000       3.038   \n",
       "\n",
       "   pred_Enrichment   Burnup  pred_Burnup  pred_CoolingTime  AvgPowerDensity  \\\n",
       "7             3.04  27350.0     27280.53       3031.473636             25.0   \n",
       "\n",
       "   ModDensity  \n",
       "7        0.71  "
      ]
     },
     "execution_count": 7,
     "metadata": {},
     "output_type": "execute_result"
    }
   ],
   "source": [
    "grow = sfco.loc[sfco.index == good_id].squeeze()\n",
    "grow_pred = sfcoLL.loc[sfcoLL.index == good_idx]\n",
    "#grow_train_idx = grow_pred['pred_idx']\n",
    "grow_pred[to_print]"
   ]
  },
  {
   "cell_type": "code",
   "execution_count": 8,
   "metadata": {},
   "outputs": [
    {
     "data": {
      "text/html": [
       "<div>\n",
       "<style scoped>\n",
       "    .dataframe tbody tr th:only-of-type {\n",
       "        vertical-align: middle;\n",
       "    }\n",
       "\n",
       "    .dataframe tbody tr th {\n",
       "        vertical-align: top;\n",
       "    }\n",
       "\n",
       "    .dataframe thead th {\n",
       "        text-align: right;\n",
       "    }\n",
       "</style>\n",
       "<table border=\"1\" class=\"dataframe\">\n",
       "  <thead>\n",
       "    <tr style=\"text-align: right;\">\n",
       "      <th></th>\n",
       "      <th>sim_idx</th>\n",
       "      <th>pred_idx</th>\n",
       "      <th>MaxLogLL</th>\n",
       "      <th>ReactorType</th>\n",
       "      <th>pred_ReactorType</th>\n",
       "      <th>ReactorType_Score</th>\n",
       "      <th>OrigenReactor</th>\n",
       "      <th>pred_OrigenReactor</th>\n",
       "      <th>Enrichment</th>\n",
       "      <th>pred_Enrichment</th>\n",
       "      <th>Burnup</th>\n",
       "      <th>pred_Burnup</th>\n",
       "      <th>pred_CoolingTime</th>\n",
       "      <th>AvgPowerDensity</th>\n",
       "      <th>ModDensity</th>\n",
       "    </tr>\n",
       "  </thead>\n",
       "  <tbody>\n",
       "    <tr>\n",
       "      <th>63</th>\n",
       "      <td>GAR-1|A-106|E5|1</td>\n",
       "      <td>309124</td>\n",
       "      <td>-516.102948</td>\n",
       "      <td>bwr</td>\n",
       "      <td>pwr</td>\n",
       "      <td>False</td>\n",
       "      <td>Garigliano-1_BWR</td>\n",
       "      <td>s18x18</td>\n",
       "      <td>2.1</td>\n",
       "      <td>5.48</td>\n",
       "      <td>8930.0</td>\n",
       "      <td>21793.78</td>\n",
       "      <td>29.215503</td>\n",
       "      <td>41.0</td>\n",
       "      <td>0.71</td>\n",
       "    </tr>\n",
       "  </tbody>\n",
       "</table>\n",
       "</div>"
      ],
      "text/plain": [
       "             sim_idx  pred_idx    MaxLogLL ReactorType pred_ReactorType  \\\n",
       "63  GAR-1|A-106|E5|1    309124 -516.102948         bwr              pwr   \n",
       "\n",
       "    ReactorType_Score     OrigenReactor pred_OrigenReactor  Enrichment  \\\n",
       "63              False  Garigliano-1_BWR             s18x18         2.1   \n",
       "\n",
       "    pred_Enrichment  Burnup  pred_Burnup  pred_CoolingTime  AvgPowerDensity  \\\n",
       "63             5.48  8930.0     21793.78         29.215503             41.0   \n",
       "\n",
       "    ModDensity  \n",
       "63        0.71  "
      ]
     },
     "execution_count": 8,
     "metadata": {},
     "output_type": "execute_result"
    }
   ],
   "source": [
    "brow = sfco.loc[sfco.index == bad_id].squeeze()\n",
    "brow_pred = sfcoLL.loc[sfcoLL.index == bad_idx]\n",
    "#brow_train_idx = brow_pred['pred_idx']\n",
    "brow_pred[to_print]"
   ]
  },
  {
   "cell_type": "code",
   "execution_count": 9,
   "metadata": {},
   "outputs": [],
   "source": [
    "to_save = pd.concat([grow_pred[to_print], brow_pred[to_print]])\n",
    "to_save.to_csv('sims.csv')"
   ]
  },
  {
   "cell_type": "markdown",
   "metadata": {},
   "source": [
    "## (b) logpdf calcs for \"good\" pred"
   ]
  },
  {
   "cell_type": "code",
   "execution_count": 56,
   "metadata": {},
   "outputs": [],
   "source": [
    "test_sample = grow.drop(lbls)\n",
    "test_answer = grow[lbls]\n",
    "row = XY.loc[grow_train_idx].drop(lbls+nonlbls)\n",
    "logpdf = logpdf_calc(row, test_sample, unc)"
   ]
  },
  {
   "cell_type": "code",
   "execution_count": 57,
   "metadata": {},
   "outputs": [
    {
     "data": {
      "text/plain": [
       "array([ 2.32427716,  2.00529073,  2.62440243,  2.66290005,  3.19868018,\n",
       "        3.83192943,  2.47230846,  0.29155296, -9.49417025,  1.456463  ,\n",
       "       -5.72762326,  3.23450913,  4.26116623,  3.49302582,  6.69741831,\n",
       "        4.32891265, -8.00625375, -0.25009964,  0.78413377, -4.78830782])"
      ]
     },
     "execution_count": 57,
     "metadata": {},
     "output_type": "execute_result"
    }
   ],
   "source": [
    "logpdf"
   ]
  },
  {
   "cell_type": "code",
   "execution_count": 58,
   "metadata": {},
   "outputs": [
    {
     "data": {
      "text/plain": [
       "15.400515584443543"
      ]
     },
     "execution_count": 58,
     "metadata": {},
     "output_type": "execute_result"
    }
   ],
   "source": [
    "np.sum(logpdf)"
   ]
  },
  {
   "cell_type": "code",
   "execution_count": 59,
   "metadata": {},
   "outputs": [
    {
     "data": {
      "text/plain": [
       "7    15.400516\n",
       "Name: MaxLogLL, dtype: float64"
      ]
     },
     "execution_count": 59,
     "metadata": {},
     "output_type": "execute_result"
    }
   ],
   "source": [
    "#check match\n",
    "sfcoLL['MaxLogLL'].loc[sfcoLL['sim_idx']==good_id]"
   ]
  },
  {
   "cell_type": "code",
   "execution_count": 60,
   "metadata": {},
   "outputs": [
    {
     "data": {
      "text/plain": [
       "nd143      0.7108\n",
       "nd144       1.062\n",
       "nd145      0.5783\n",
       "nd146      0.5564\n",
       "nd148       0.306\n",
       "nd150       0.145\n",
       "pu238      0.1047\n",
       "pu239       4.986\n",
       "pu240       1.578\n",
       "pu241      0.8254\n",
       "pu242      0.4136\n",
       "sm147      0.2247\n",
       "sm149    0.002898\n",
       "sm150      0.2373\n",
       "sm151    0.009662\n",
       "sm152     0.09672\n",
       "u234       0.2388\n",
       "u235        9.761\n",
       "u236        3.592\n",
       "u238        949.3\n",
       "Name: 344552, dtype: object"
      ]
     },
     "execution_count": 60,
     "metadata": {},
     "output_type": "execute_result"
    }
   ],
   "source": [
    "row[test_sample>0]"
   ]
  },
  {
   "cell_type": "code",
   "execution_count": 61,
   "metadata": {},
   "outputs": [
    {
     "data": {
      "text/plain": [
       "nd143    2.324277\n",
       "nd144    2.005291\n",
       "nd145    2.624402\n",
       "nd146    2.662900\n",
       "nd148    3.198680\n",
       "nd150    3.831929\n",
       "pu238    2.472308\n",
       "pu239    0.291553\n",
       "pu240   -9.494170\n",
       "pu241    1.456463\n",
       "pu242   -5.727623\n",
       "sm147    3.234509\n",
       "sm149    4.261166\n",
       "sm150    3.493026\n",
       "sm151    6.697418\n",
       "sm152    4.328913\n",
       "u234    -8.006254\n",
       "u235    -0.250100\n",
       "u236     0.784134\n",
       "u238    -4.788308\n",
       "Name: LogPDF, dtype: float64"
      ]
     },
     "execution_count": 61,
     "metadata": {},
     "output_type": "execute_result"
    }
   ],
   "source": [
    "logpdf = pd.Series(logpdf, index=row[test_sample>0].index, name='LogPDF')\n",
    "logpdf"
   ]
  },
  {
   "cell_type": "code",
   "execution_count": 62,
   "metadata": {},
   "outputs": [
    {
     "data": {
      "text/html": [
       "<div>\n",
       "<style scoped>\n",
       "    .dataframe tbody tr th:only-of-type {\n",
       "        vertical-align: middle;\n",
       "    }\n",
       "\n",
       "    .dataframe tbody tr th {\n",
       "        vertical-align: top;\n",
       "    }\n",
       "\n",
       "    .dataframe thead th {\n",
       "        text-align: right;\n",
       "    }\n",
       "</style>\n",
       "<table border=\"1\" class=\"dataframe\">\n",
       "  <thead>\n",
       "    <tr style=\"text-align: right;\">\n",
       "      <th></th>\n",
       "      <th>am241</th>\n",
       "      <th>am242m</th>\n",
       "      <th>am243</th>\n",
       "      <th>cm242</th>\n",
       "      <th>cm244</th>\n",
       "      <th>cs134</th>\n",
       "      <th>cs137</th>\n",
       "      <th>eu154</th>\n",
       "      <th>nd143</th>\n",
       "      <th>nd144</th>\n",
       "      <th>...</th>\n",
       "      <th>pu242</th>\n",
       "      <th>sm147</th>\n",
       "      <th>sm149</th>\n",
       "      <th>sm150</th>\n",
       "      <th>sm151</th>\n",
       "      <th>sm152</th>\n",
       "      <th>u234</th>\n",
       "      <th>u235</th>\n",
       "      <th>u236</th>\n",
       "      <th>u238</th>\n",
       "    </tr>\n",
       "  </thead>\n",
       "  <tbody>\n",
       "    <tr>\n",
       "      <th>344552</th>\n",
       "      <td>0.4456</td>\n",
       "      <td>0.000591</td>\n",
       "      <td>0.06028</td>\n",
       "      <td>0.000002</td>\n",
       "      <td>0.01087</td>\n",
       "      <td>0.004962</td>\n",
       "      <td>0.8313</td>\n",
       "      <td>0.008788</td>\n",
       "      <td>0.710800</td>\n",
       "      <td>1.062000</td>\n",
       "      <td>...</td>\n",
       "      <td>0.413600</td>\n",
       "      <td>0.224700</td>\n",
       "      <td>0.002898</td>\n",
       "      <td>0.237300</td>\n",
       "      <td>0.009662</td>\n",
       "      <td>0.096720</td>\n",
       "      <td>0.238800</td>\n",
       "      <td>9.7610</td>\n",
       "      <td>3.592000</td>\n",
       "      <td>949.300000</td>\n",
       "    </tr>\n",
       "    <tr>\n",
       "      <th>CCL-1|D047|MKP109|LL</th>\n",
       "      <td>0.0000</td>\n",
       "      <td>0.000000</td>\n",
       "      <td>0.00000</td>\n",
       "      <td>0.000000</td>\n",
       "      <td>0.00000</td>\n",
       "      <td>0.000000</td>\n",
       "      <td>0.0000</td>\n",
       "      <td>0.000000</td>\n",
       "      <td>0.695400</td>\n",
       "      <td>1.070000</td>\n",
       "      <td>...</td>\n",
       "      <td>0.327400</td>\n",
       "      <td>0.215500</td>\n",
       "      <td>0.003290</td>\n",
       "      <td>0.234800</td>\n",
       "      <td>0.009756</td>\n",
       "      <td>0.098700</td>\n",
       "      <td>0.181500</td>\n",
       "      <td>9.6090</td>\n",
       "      <td>3.562000</td>\n",
       "      <td>955.800000</td>\n",
       "    </tr>\n",
       "    <tr>\n",
       "      <th>LogPDF</th>\n",
       "      <td>NaN</td>\n",
       "      <td>NaN</td>\n",
       "      <td>NaN</td>\n",
       "      <td>NaN</td>\n",
       "      <td>NaN</td>\n",
       "      <td>NaN</td>\n",
       "      <td>NaN</td>\n",
       "      <td>NaN</td>\n",
       "      <td>2.324277</td>\n",
       "      <td>2.005291</td>\n",
       "      <td>...</td>\n",
       "      <td>-5.727623</td>\n",
       "      <td>3.234509</td>\n",
       "      <td>4.261166</td>\n",
       "      <td>3.493026</td>\n",
       "      <td>6.697418</td>\n",
       "      <td>4.328913</td>\n",
       "      <td>-8.006254</td>\n",
       "      <td>-0.2501</td>\n",
       "      <td>0.784134</td>\n",
       "      <td>-4.788308</td>\n",
       "    </tr>\n",
       "  </tbody>\n",
       "</table>\n",
       "<p>3 rows × 29 columns</p>\n",
       "</div>"
      ],
      "text/plain": [
       "                       am241    am242m    am243     cm242    cm244     cs134  \\\n",
       "344552                0.4456  0.000591  0.06028  0.000002  0.01087  0.004962   \n",
       "CCL-1|D047|MKP109|LL  0.0000  0.000000  0.00000  0.000000  0.00000  0.000000   \n",
       "LogPDF                   NaN       NaN      NaN       NaN      NaN       NaN   \n",
       "\n",
       "                       cs137     eu154     nd143     nd144  ...     pu242  \\\n",
       "344552                0.8313  0.008788  0.710800  1.062000  ...  0.413600   \n",
       "CCL-1|D047|MKP109|LL  0.0000  0.000000  0.695400  1.070000  ...  0.327400   \n",
       "LogPDF                   NaN       NaN  2.324277  2.005291  ... -5.727623   \n",
       "\n",
       "                         sm147     sm149     sm150     sm151     sm152  \\\n",
       "344552                0.224700  0.002898  0.237300  0.009662  0.096720   \n",
       "CCL-1|D047|MKP109|LL  0.215500  0.003290  0.234800  0.009756  0.098700   \n",
       "LogPDF                3.234509  4.261166  3.493026  6.697418  4.328913   \n",
       "\n",
       "                          u234    u235      u236        u238  \n",
       "344552                0.238800  9.7610  3.592000  949.300000  \n",
       "CCL-1|D047|MKP109|LL  0.181500  9.6090  3.562000  955.800000  \n",
       "LogPDF               -8.006254 -0.2501  0.784134   -4.788308  \n",
       "\n",
       "[3 rows x 29 columns]"
      ]
     },
     "execution_count": 62,
     "metadata": {},
     "output_type": "execute_result"
    }
   ],
   "source": [
    "pd.DataFrame([row, test_sample, logpdf])"
   ]
  },
  {
   "cell_type": "markdown",
   "metadata": {},
   "source": [
    "### Sidebar: Finding some samples to simulate"
   ]
  },
  {
   "cell_type": "code",
   "execution_count": 63,
   "metadata": {},
   "outputs": [
    {
     "data": {
      "text/html": [
       "<div>\n",
       "<style scoped>\n",
       "    .dataframe tbody tr th:only-of-type {\n",
       "        vertical-align: middle;\n",
       "    }\n",
       "\n",
       "    .dataframe tbody tr th {\n",
       "        vertical-align: top;\n",
       "    }\n",
       "\n",
       "    .dataframe thead th {\n",
       "        text-align: right;\n",
       "    }\n",
       "</style>\n",
       "<table border=\"1\" class=\"dataframe\">\n",
       "  <thead>\n",
       "    <tr style=\"text-align: right;\">\n",
       "      <th></th>\n",
       "      <th>ReactorType</th>\n",
       "      <th>CoolingTime</th>\n",
       "      <th>Enrichment</th>\n",
       "      <th>Burnup</th>\n",
       "      <th>OrigenReactor</th>\n",
       "    </tr>\n",
       "  </thead>\n",
       "  <tbody>\n",
       "    <tr>\n",
       "      <th>CCL-1|D047|MKP109|LL</th>\n",
       "      <td>pwr</td>\n",
       "      <td>0.0</td>\n",
       "      <td>3.038</td>\n",
       "      <td>27350.0</td>\n",
       "      <td>Calvert Cliffs-1_PWR</td>\n",
       "    </tr>\n",
       "  </tbody>\n",
       "</table>\n",
       "</div>"
      ],
      "text/plain": [
       "                     ReactorType  CoolingTime  Enrichment   Burnup  \\\n",
       "CCL-1|D047|MKP109|LL         pwr          0.0       3.038  27350.0   \n",
       "\n",
       "                             OrigenReactor  \n",
       "CCL-1|D047|MKP109|LL  Calvert Cliffs-1_PWR  "
      ]
     },
     "execution_count": 63,
     "metadata": {},
     "output_type": "execute_result"
    }
   ],
   "source": [
    "# print \"good\" pred labels\n",
    "sfco.loc[sfco.index == good_id, lbls]"
   ]
  },
  {
   "cell_type": "code",
   "execution_count": 64,
   "metadata": {},
   "outputs": [
    {
     "data": {
      "text/html": [
       "<div>\n",
       "<style scoped>\n",
       "    .dataframe tbody tr th:only-of-type {\n",
       "        vertical-align: middle;\n",
       "    }\n",
       "\n",
       "    .dataframe tbody tr th {\n",
       "        vertical-align: top;\n",
       "    }\n",
       "\n",
       "    .dataframe thead th {\n",
       "        text-align: right;\n",
       "    }\n",
       "</style>\n",
       "<table border=\"1\" class=\"dataframe\">\n",
       "  <thead>\n",
       "    <tr style=\"text-align: right;\">\n",
       "      <th></th>\n",
       "      <th>ReactorType</th>\n",
       "      <th>CoolingTime</th>\n",
       "      <th>Enrichment</th>\n",
       "      <th>Burnup</th>\n",
       "      <th>OrigenReactor</th>\n",
       "    </tr>\n",
       "  </thead>\n",
       "  <tbody>\n",
       "    <tr>\n",
       "      <th>GAR-1|A-106|E5|1</th>\n",
       "      <td>bwr</td>\n",
       "      <td>0.0</td>\n",
       "      <td>2.1</td>\n",
       "      <td>8930.0</td>\n",
       "      <td>Garigliano-1_BWR</td>\n",
       "    </tr>\n",
       "  </tbody>\n",
       "</table>\n",
       "</div>"
      ],
      "text/plain": [
       "                 ReactorType  CoolingTime  Enrichment  Burnup  \\\n",
       "GAR-1|A-106|E5|1         bwr          0.0         2.1  8930.0   \n",
       "\n",
       "                     OrigenReactor  \n",
       "GAR-1|A-106|E5|1  Garigliano-1_BWR  "
      ]
     },
     "execution_count": 64,
     "metadata": {},
     "output_type": "execute_result"
    }
   ],
   "source": [
    "# print \"bad\" pred labels\n",
    "sfco.loc[sfco.index == bad_id, lbls]"
   ]
  },
  {
   "cell_type": "code",
   "execution_count": 13,
   "metadata": {},
   "outputs": [
    {
     "data": {
      "text/html": [
       "<div>\n",
       "<style scoped>\n",
       "    .dataframe tbody tr th:only-of-type {\n",
       "        vertical-align: middle;\n",
       "    }\n",
       "\n",
       "    .dataframe tbody tr th {\n",
       "        vertical-align: top;\n",
       "    }\n",
       "\n",
       "    .dataframe thead th {\n",
       "        text-align: right;\n",
       "    }\n",
       "</style>\n",
       "<table border=\"1\" class=\"dataframe\">\n",
       "  <thead>\n",
       "    <tr style=\"text-align: right;\">\n",
       "      <th></th>\n",
       "      <th>ReactorType</th>\n",
       "      <th>CoolingTime</th>\n",
       "      <th>Enrichment</th>\n",
       "      <th>Burnup</th>\n",
       "      <th>OrigenReactor</th>\n",
       "    </tr>\n",
       "  </thead>\n",
       "  <tbody>\n",
       "    <tr>\n",
       "      <th>VAN-2|EF05|WZR0058|E58-88</th>\n",
       "      <td>pwr</td>\n",
       "      <td>0.0</td>\n",
       "      <td>4.5</td>\n",
       "      <td>43520.0</td>\n",
       "      <td>Vandellos-2_PWR</td>\n",
       "    </tr>\n",
       "  </tbody>\n",
       "</table>\n",
       "</div>"
      ],
      "text/plain": [
       "                          ReactorType  CoolingTime  Enrichment   Burnup  \\\n",
       "VAN-2|EF05|WZR0058|E58-88         pwr          0.0         4.5  43520.0   \n",
       "\n",
       "                             OrigenReactor  \n",
       "VAN-2|EF05|WZR0058|E58-88  Vandellos-2_PWR  "
      ]
     },
     "execution_count": 13,
     "metadata": {},
     "output_type": "execute_result"
    }
   ],
   "source": [
    "# print labels for a 9 ratio case\n",
    "sfco.loc[sfco.index == 'VAN-2|EF05|WZR0058|E58-88', lbls]"
   ]
  },
  {
   "cell_type": "markdown",
   "metadata": {},
   "source": [
    "## (c) logpdf calcs for \"bad\" pred"
   ]
  },
  {
   "cell_type": "code",
   "execution_count": 20,
   "metadata": {},
   "outputs": [],
   "source": [
    "test_sample = brow.drop(lbls)\n",
    "test_answer = brow[lbls]\n",
    "row = XY.loc[14605].drop(lbls)\n",
    "logpdf = logpdf_calc(row, test_sample, unc)\n",
    "logpdf = pd.Series(logpdf, index=row[test_sample>0].index, name='LogPDF')"
   ]
  },
  {
   "cell_type": "code",
   "execution_count": 21,
   "metadata": {},
   "outputs": [
    {
     "data": {
      "text/plain": [
       "7.57858452439314"
      ]
     },
     "execution_count": 21,
     "metadata": {},
     "output_type": "execute_result"
    }
   ],
   "source": [
    "np.sum(logpdf)"
   ]
  },
  {
   "cell_type": "code",
   "execution_count": 22,
   "metadata": {},
   "outputs": [
    {
     "data": {
      "text/plain": [
       "268    7.578585\n",
       "Name: MaxLogLL, dtype: float64"
      ]
     },
     "execution_count": 22,
     "metadata": {},
     "output_type": "execute_result"
    }
   ],
   "source": [
    "#check match\n",
    "sfcoLL['MaxLogLL'].loc[sfcoLL['sim_idx']==bad_id]"
   ]
  },
  {
   "cell_type": "code",
   "execution_count": 23,
   "metadata": {},
   "outputs": [
    {
     "data": {
      "text/html": [
       "<div>\n",
       "<style scoped>\n",
       "    .dataframe tbody tr th:only-of-type {\n",
       "        vertical-align: middle;\n",
       "    }\n",
       "\n",
       "    .dataframe tbody tr th {\n",
       "        vertical-align: top;\n",
       "    }\n",
       "\n",
       "    .dataframe thead th {\n",
       "        text-align: right;\n",
       "    }\n",
       "</style>\n",
       "<table border=\"1\" class=\"dataframe\">\n",
       "  <thead>\n",
       "    <tr style=\"text-align: right;\">\n",
       "      <th></th>\n",
       "      <th>cs137/cs133</th>\n",
       "      <th>cs134/cs137</th>\n",
       "      <th>cs135/cs137</th>\n",
       "      <th>ba136/ba138</th>\n",
       "      <th>sm150/sm149</th>\n",
       "      <th>sm152/sm149</th>\n",
       "      <th>eu154/eu153</th>\n",
       "      <th>pu240/pu239</th>\n",
       "      <th>pu241/pu239</th>\n",
       "      <th>pu242/pu239</th>\n",
       "    </tr>\n",
       "  </thead>\n",
       "  <tbody>\n",
       "    <tr>\n",
       "      <th>14605</th>\n",
       "      <td>0.67858</td>\n",
       "      <td>0.000137</td>\n",
       "      <td>0.4421</td>\n",
       "      <td>0.002254</td>\n",
       "      <td>9.63477</td>\n",
       "      <td>4.754565</td>\n",
       "      <td>0.015806</td>\n",
       "      <td>0.065473</td>\n",
       "      <td>0.005232</td>\n",
       "      <td>0.000288</td>\n",
       "    </tr>\n",
       "    <tr>\n",
       "      <th>NPD-1|1022|B|1</th>\n",
       "      <td>0.00000</td>\n",
       "      <td>0.000000</td>\n",
       "      <td>0.0000</td>\n",
       "      <td>0.000000</td>\n",
       "      <td>0.00000</td>\n",
       "      <td>0.000000</td>\n",
       "      <td>0.000000</td>\n",
       "      <td>0.055976</td>\n",
       "      <td>0.004129</td>\n",
       "      <td>0.000314</td>\n",
       "    </tr>\n",
       "    <tr>\n",
       "      <th>LogPDF</th>\n",
       "      <td>NaN</td>\n",
       "      <td>NaN</td>\n",
       "      <td>NaN</td>\n",
       "      <td>NaN</td>\n",
       "      <td>NaN</td>\n",
       "      <td>NaN</td>\n",
       "      <td>NaN</td>\n",
       "      <td>0.594151</td>\n",
       "      <td>-1.555835</td>\n",
       "      <td>8.540268</td>\n",
       "    </tr>\n",
       "  </tbody>\n",
       "</table>\n",
       "</div>"
      ],
      "text/plain": [
       "                cs137/cs133  cs134/cs137  cs135/cs137  ba136/ba138  \\\n",
       "14605               0.67858     0.000137       0.4421     0.002254   \n",
       "NPD-1|1022|B|1      0.00000     0.000000       0.0000     0.000000   \n",
       "LogPDF                  NaN          NaN          NaN          NaN   \n",
       "\n",
       "                sm150/sm149  sm152/sm149  eu154/eu153  pu240/pu239  \\\n",
       "14605               9.63477     4.754565     0.015806     0.065473   \n",
       "NPD-1|1022|B|1      0.00000     0.000000     0.000000     0.055976   \n",
       "LogPDF                  NaN          NaN          NaN     0.594151   \n",
       "\n",
       "                pu241/pu239  pu242/pu239  \n",
       "14605              0.005232     0.000288  \n",
       "NPD-1|1022|B|1     0.004129     0.000314  \n",
       "LogPDF            -1.555835     8.540268  "
      ]
     },
     "execution_count": 23,
     "metadata": {},
     "output_type": "execute_result"
    }
   ],
   "source": [
    "pd.DataFrame([row, test_sample, logpdf])"
   ]
  },
  {
   "cell_type": "markdown",
   "metadata": {},
   "source": [
    "# Expand Calcs to Entire SFCOMPO DB"
   ]
  },
  {
   "cell_type": "code",
   "execution_count": 24,
   "metadata": {},
   "outputs": [],
   "source": [
    "logpdf_df = loop_sfco(XY, sfco, sfcoLL, unc, lbls)"
   ]
  },
  {
   "cell_type": "code",
   "execution_count": 25,
   "metadata": {},
   "outputs": [
    {
     "data": {
      "text/html": [
       "<div>\n",
       "<style scoped>\n",
       "    .dataframe tbody tr th:only-of-type {\n",
       "        vertical-align: middle;\n",
       "    }\n",
       "\n",
       "    .dataframe tbody tr th {\n",
       "        vertical-align: top;\n",
       "    }\n",
       "\n",
       "    .dataframe thead th {\n",
       "        text-align: right;\n",
       "    }\n",
       "</style>\n",
       "<table border=\"1\" class=\"dataframe\">\n",
       "  <thead>\n",
       "    <tr style=\"text-align: right;\">\n",
       "      <th></th>\n",
       "      <th>cs137/cs133</th>\n",
       "      <th>cs134/cs137</th>\n",
       "      <th>cs135/cs137</th>\n",
       "      <th>ba136/ba138</th>\n",
       "      <th>sm150/sm149</th>\n",
       "      <th>sm152/sm149</th>\n",
       "      <th>eu154/eu153</th>\n",
       "      <th>pu240/pu239</th>\n",
       "      <th>pu241/pu239</th>\n",
       "      <th>pu242/pu239</th>\n",
       "    </tr>\n",
       "  </thead>\n",
       "  <tbody>\n",
       "    <tr>\n",
       "      <th>YNK-1|E6|C-A1|G-107</th>\n",
       "      <td>NaN</td>\n",
       "      <td>NaN</td>\n",
       "      <td>NaN</td>\n",
       "      <td>NaN</td>\n",
       "      <td>NaN</td>\n",
       "      <td>NaN</td>\n",
       "      <td>NaN</td>\n",
       "      <td>3.386169</td>\n",
       "      <td>3.532635</td>\n",
       "      <td>5.215175</td>\n",
       "    </tr>\n",
       "    <tr>\n",
       "      <th>TMI-1|NJ05YU|H6|B3J</th>\n",
       "      <td>NaN</td>\n",
       "      <td>NaN</td>\n",
       "      <td>NaN</td>\n",
       "      <td>NaN</td>\n",
       "      <td>-13.286297</td>\n",
       "      <td>-3.636586</td>\n",
       "      <td>NaN</td>\n",
       "      <td>0.704379</td>\n",
       "      <td>2.609359</td>\n",
       "      <td>3.071930</td>\n",
       "    </tr>\n",
       "    <tr>\n",
       "      <th>NOV-3|RP-3371A|58|4</th>\n",
       "      <td>NaN</td>\n",
       "      <td>NaN</td>\n",
       "      <td>NaN</td>\n",
       "      <td>NaN</td>\n",
       "      <td>NaN</td>\n",
       "      <td>NaN</td>\n",
       "      <td>NaN</td>\n",
       "      <td>3.674064</td>\n",
       "      <td>4.510104</td>\n",
       "      <td>6.744375</td>\n",
       "    </tr>\n",
       "    <tr>\n",
       "      <th>GRM-1|B23|B3|K2680</th>\n",
       "      <td>NaN</td>\n",
       "      <td>NaN</td>\n",
       "      <td>NaN</td>\n",
       "      <td>NaN</td>\n",
       "      <td>NaN</td>\n",
       "      <td>NaN</td>\n",
       "      <td>NaN</td>\n",
       "      <td>2.613706</td>\n",
       "      <td>3.644666</td>\n",
       "      <td>5.094574</td>\n",
       "    </tr>\n",
       "    <tr>\n",
       "      <th>GAR-1|SA-13|E6|7</th>\n",
       "      <td>NaN</td>\n",
       "      <td>NaN</td>\n",
       "      <td>NaN</td>\n",
       "      <td>NaN</td>\n",
       "      <td>NaN</td>\n",
       "      <td>NaN</td>\n",
       "      <td>NaN</td>\n",
       "      <td>3.349305</td>\n",
       "      <td>4.298478</td>\n",
       "      <td>7.036366</td>\n",
       "    </tr>\n",
       "    <tr>\n",
       "      <th>COO-1|CZ346|ADD2966|B</th>\n",
       "      <td>NaN</td>\n",
       "      <td>NaN</td>\n",
       "      <td>NaN</td>\n",
       "      <td>NaN</td>\n",
       "      <td>NaN</td>\n",
       "      <td>NaN</td>\n",
       "      <td>NaN</td>\n",
       "      <td>3.199513</td>\n",
       "      <td>4.422056</td>\n",
       "      <td>5.702915</td>\n",
       "    </tr>\n",
       "    <tr>\n",
       "      <th>JPD-1|A-20|C3|KA-1040+660</th>\n",
       "      <td>NaN</td>\n",
       "      <td>-30.246236</td>\n",
       "      <td>NaN</td>\n",
       "      <td>NaN</td>\n",
       "      <td>NaN</td>\n",
       "      <td>NaN</td>\n",
       "      <td>NaN</td>\n",
       "      <td>3.673956</td>\n",
       "      <td>5.275301</td>\n",
       "      <td>7.443001</td>\n",
       "    </tr>\n",
       "    <tr>\n",
       "      <th>TVC-1|509-069|L11|7</th>\n",
       "      <td>NaN</td>\n",
       "      <td>NaN</td>\n",
       "      <td>NaN</td>\n",
       "      <td>NaN</td>\n",
       "      <td>NaN</td>\n",
       "      <td>NaN</td>\n",
       "      <td>NaN</td>\n",
       "      <td>3.227234</td>\n",
       "      <td>3.789009</td>\n",
       "      <td>5.206139</td>\n",
       "    </tr>\n",
       "    <tr>\n",
       "      <th>NOV-4|213|25|8</th>\n",
       "      <td>NaN</td>\n",
       "      <td>NaN</td>\n",
       "      <td>NaN</td>\n",
       "      <td>NaN</td>\n",
       "      <td>NaN</td>\n",
       "      <td>NaN</td>\n",
       "      <td>NaN</td>\n",
       "      <td>3.387765</td>\n",
       "      <td>4.021041</td>\n",
       "      <td>5.649760</td>\n",
       "    </tr>\n",
       "    <tr>\n",
       "      <th>MON-1|MTB099|H1|S5</th>\n",
       "      <td>NaN</td>\n",
       "      <td>NaN</td>\n",
       "      <td>NaN</td>\n",
       "      <td>NaN</td>\n",
       "      <td>NaN</td>\n",
       "      <td>NaN</td>\n",
       "      <td>NaN</td>\n",
       "      <td>-10.523500</td>\n",
       "      <td>2.845892</td>\n",
       "      <td>1.611120</td>\n",
       "    </tr>\n",
       "  </tbody>\n",
       "</table>\n",
       "</div>"
      ],
      "text/plain": [
       "                           cs137/cs133  cs134/cs137  cs135/cs137  ba136/ba138  \\\n",
       "YNK-1|E6|C-A1|G-107                NaN          NaN          NaN          NaN   \n",
       "TMI-1|NJ05YU|H6|B3J                NaN          NaN          NaN          NaN   \n",
       "NOV-3|RP-3371A|58|4                NaN          NaN          NaN          NaN   \n",
       "GRM-1|B23|B3|K2680                 NaN          NaN          NaN          NaN   \n",
       "GAR-1|SA-13|E6|7                   NaN          NaN          NaN          NaN   \n",
       "COO-1|CZ346|ADD2966|B              NaN          NaN          NaN          NaN   \n",
       "JPD-1|A-20|C3|KA-1040+660          NaN   -30.246236          NaN          NaN   \n",
       "TVC-1|509-069|L11|7                NaN          NaN          NaN          NaN   \n",
       "NOV-4|213|25|8                     NaN          NaN          NaN          NaN   \n",
       "MON-1|MTB099|H1|S5                 NaN          NaN          NaN          NaN   \n",
       "\n",
       "                           sm150/sm149  sm152/sm149  eu154/eu153  pu240/pu239  \\\n",
       "YNK-1|E6|C-A1|G-107                NaN          NaN          NaN     3.386169   \n",
       "TMI-1|NJ05YU|H6|B3J         -13.286297    -3.636586          NaN     0.704379   \n",
       "NOV-3|RP-3371A|58|4                NaN          NaN          NaN     3.674064   \n",
       "GRM-1|B23|B3|K2680                 NaN          NaN          NaN     2.613706   \n",
       "GAR-1|SA-13|E6|7                   NaN          NaN          NaN     3.349305   \n",
       "COO-1|CZ346|ADD2966|B              NaN          NaN          NaN     3.199513   \n",
       "JPD-1|A-20|C3|KA-1040+660          NaN          NaN          NaN     3.673956   \n",
       "TVC-1|509-069|L11|7                NaN          NaN          NaN     3.227234   \n",
       "NOV-4|213|25|8                     NaN          NaN          NaN     3.387765   \n",
       "MON-1|MTB099|H1|S5                 NaN          NaN          NaN   -10.523500   \n",
       "\n",
       "                           pu241/pu239  pu242/pu239  \n",
       "YNK-1|E6|C-A1|G-107           3.532635     5.215175  \n",
       "TMI-1|NJ05YU|H6|B3J           2.609359     3.071930  \n",
       "NOV-3|RP-3371A|58|4           4.510104     6.744375  \n",
       "GRM-1|B23|B3|K2680            3.644666     5.094574  \n",
       "GAR-1|SA-13|E6|7              4.298478     7.036366  \n",
       "COO-1|CZ346|ADD2966|B         4.422056     5.702915  \n",
       "JPD-1|A-20|C3|KA-1040+660     5.275301     7.443001  \n",
       "TVC-1|509-069|L11|7           3.789009     5.206139  \n",
       "NOV-4|213|25|8                4.021041     5.649760  \n",
       "MON-1|MTB099|H1|S5            2.845892     1.611120  "
      ]
     },
     "execution_count": 25,
     "metadata": {},
     "output_type": "execute_result"
    }
   ],
   "source": [
    "logpdf_df.sample(10)"
   ]
  },
  {
   "cell_type": "markdown",
   "metadata": {},
   "source": [
    "## Stats on Pu Isotope Ratios"
   ]
  },
  {
   "cell_type": "code",
   "execution_count": 27,
   "metadata": {},
   "outputs": [
    {
     "data": {
      "text/plain": [
       "count    544.000000\n",
       "mean      -6.514987\n",
       "std       19.998108\n",
       "min     -106.368642\n",
       "25%       -6.891090\n",
       "50%        2.562300\n",
       "75%        3.261939\n",
       "max        4.801567\n",
       "Name: pu240/pu239, dtype: float64"
      ]
     },
     "execution_count": 27,
     "metadata": {},
     "output_type": "execute_result"
    }
   ],
   "source": [
    "logpdf_df['pu240/pu239'].describe()"
   ]
  },
  {
   "cell_type": "code",
   "execution_count": 28,
   "metadata": {},
   "outputs": [
    {
     "data": {
      "text/plain": [
       "count    543.000000\n",
       "mean      -1.641779\n",
       "std       20.742276\n",
       "min     -128.179832\n",
       "25%        1.571448\n",
       "50%        3.370135\n",
       "75%        3.820741\n",
       "max        7.535007\n",
       "Name: pu241/pu239, dtype: float64"
      ]
     },
     "execution_count": 28,
     "metadata": {},
     "output_type": "execute_result"
    }
   ],
   "source": [
    "logpdf_df['pu241/pu239'].describe()"
   ]
  },
  {
   "cell_type": "code",
   "execution_count": 29,
   "metadata": {},
   "outputs": [
    {
     "data": {
      "text/plain": [
       "count    544.000000\n",
       "mean       2.436788\n",
       "std        9.196064\n",
       "min      -96.145311\n",
       "25%        2.697182\n",
       "50%        4.294617\n",
       "75%        5.613382\n",
       "max       10.632926\n",
       "Name: pu242/pu239, dtype: float64"
      ]
     },
     "execution_count": 29,
     "metadata": {},
     "output_type": "execute_result"
    }
   ],
   "source": [
    "logpdf_df['pu242/pu239'].describe()"
   ]
  },
  {
   "cell_type": "markdown",
   "metadata": {},
   "source": [
    "## Stats on Cs Isotope Ratios"
   ]
  },
  {
   "cell_type": "code",
   "execution_count": 70,
   "metadata": {},
   "outputs": [
    {
     "data": {
      "text/plain": [
       "count      45.000000\n",
       "mean     -180.031390\n",
       "std      1025.921941\n",
       "min     -6789.207620\n",
       "25%        -2.383887\n",
       "50%         1.468763\n",
       "75%         2.058430\n",
       "max         2.365249\n",
       "Name: cs137/cs133, dtype: float64"
      ]
     },
     "execution_count": 70,
     "metadata": {},
     "output_type": "execute_result"
    }
   ],
   "source": [
    "logpdf_df['cs137/cs133'].describe()"
   ]
  },
  {
   "cell_type": "code",
   "execution_count": 71,
   "metadata": {
    "scrolled": false
   },
   "outputs": [
    {
     "data": {
      "text/plain": [
       "count    133.000000\n",
       "mean      -6.879995\n",
       "std       20.992119\n",
       "min     -147.531583\n",
       "25%      -12.617056\n",
       "50%       -0.745675\n",
       "75%        5.016665\n",
       "max        8.388282\n",
       "Name: cs134/cs137, dtype: float64"
      ]
     },
     "execution_count": 71,
     "metadata": {},
     "output_type": "execute_result"
    }
   ],
   "source": [
    "logpdf_df['cs134/cs137'].describe()"
   ]
  },
  {
   "cell_type": "code",
   "execution_count": 72,
   "metadata": {},
   "outputs": [
    {
     "data": {
      "text/plain": [
       "count     40.000000\n",
       "mean     -27.931060\n",
       "std       27.555771\n",
       "min     -111.785441\n",
       "25%      -41.708223\n",
       "50%      -24.461021\n",
       "75%       -4.510232\n",
       "max        3.409395\n",
       "Name: cs135/cs137, dtype: float64"
      ]
     },
     "execution_count": 72,
     "metadata": {},
     "output_type": "execute_result"
    }
   ],
   "source": [
    "logpdf_df['cs135/cs137'].describe()"
   ]
  },
  {
   "cell_type": "markdown",
   "metadata": {},
   "source": [
    "## Stats on Sm/Eu Isotope Ratios"
   ]
  },
  {
   "cell_type": "code",
   "execution_count": 75,
   "metadata": {},
   "outputs": [
    {
     "data": {
      "text/plain": [
       "count    105.000000\n",
       "mean      -7.958776\n",
       "std       10.296818\n",
       "min      -70.498442\n",
       "25%       -8.685561\n",
       "50%       -4.832084\n",
       "75%       -3.161528\n",
       "max       -1.763939\n",
       "Name: sm150/sm149, dtype: float64"
      ]
     },
     "execution_count": 75,
     "metadata": {},
     "output_type": "execute_result"
    }
   ],
   "source": [
    "logpdf_df['sm150/sm149'].describe()"
   ]
  },
  {
   "cell_type": "code",
   "execution_count": 76,
   "metadata": {},
   "outputs": [
    {
     "data": {
      "text/plain": [
       "count    105.000000\n",
       "mean     -10.076113\n",
       "std       12.685425\n",
       "min      -86.321396\n",
       "25%      -10.867071\n",
       "50%       -5.882239\n",
       "75%       -3.501622\n",
       "max       -1.080357\n",
       "Name: sm152/sm149, dtype: float64"
      ]
     },
     "execution_count": 76,
     "metadata": {},
     "output_type": "execute_result"
    }
   ],
   "source": [
    "logpdf_df['sm152/sm149'].describe()"
   ]
  },
  {
   "cell_type": "code",
   "execution_count": 77,
   "metadata": {},
   "outputs": [
    {
     "data": {
      "text/plain": [
       "count    45.000000\n",
       "mean     -9.164255\n",
       "std      12.323654\n",
       "min     -44.838226\n",
       "25%     -19.010468\n",
       "50%      -5.105708\n",
       "75%       0.373877\n",
       "max       4.451885\n",
       "Name: eu154/eu153, dtype: float64"
      ]
     },
     "execution_count": 77,
     "metadata": {},
     "output_type": "execute_result"
    }
   ],
   "source": [
    "logpdf_df['eu154/eu153'].describe()"
   ]
  },
  {
   "cell_type": "code",
   "execution_count": null,
   "metadata": {},
   "outputs": [],
   "source": []
  }
 ],
 "metadata": {
  "kernelspec": {
   "display_name": "Python 3",
   "language": "python",
   "name": "python3"
  },
  "language_info": {
   "codemirror_mode": {
    "name": "ipython",
    "version": 3
   },
   "file_extension": ".py",
   "mimetype": "text/x-python",
   "name": "python",
   "nbconvert_exporter": "python",
   "pygments_lexer": "ipython3",
   "version": "3.6.9"
  }
 },
 "nbformat": 4,
 "nbformat_minor": 2
}
