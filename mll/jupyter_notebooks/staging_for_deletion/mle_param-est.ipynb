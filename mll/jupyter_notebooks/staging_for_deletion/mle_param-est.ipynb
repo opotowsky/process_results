{
 "cells": [
  {
   "cell_type": "code",
   "execution_count": 48,
   "metadata": {},
   "outputs": [],
   "source": [
    "import numpy as np\n",
    "import pandas as pd\n",
    "import matplotlib.pyplot as plt\n",
    "import seaborn as sns\n",
    "import scipy.stats as stats\n",
    "import statsmodels.api as sm\n",
    "from scipy.optimize import minimize\n",
    "from statsmodels.base.model import GenericLikelihoodModel\n",
    "%matplotlib inline"
   ]
  },
  {
   "cell_type": "markdown",
   "metadata": {},
   "source": [
    "### Four Steps in calculating MLE\n",
    "1. Verify that uniform priors are a safe assumption\n",
    "2. Define distribution (normal)\n",
    "3. Define objective function\n",
    "4. Define likelihood \n",
    "5. Take natural log to reduce product to sum\n",
    "6. Minimize negative of objective function"
   ]
  },
  {
   "cell_type": "markdown",
   "metadata": {},
   "source": [
    "# n-D example for normal distribution"
   ]
  },
  {
   "cell_type": "code",
   "execution_count": 77,
   "metadata": {},
   "outputs": [
    {
     "data": {
      "text/html": [
       "<div>\n",
       "<style scoped>\n",
       "    .dataframe tbody tr th:only-of-type {\n",
       "        vertical-align: middle;\n",
       "    }\n",
       "\n",
       "    .dataframe tbody tr th {\n",
       "        vertical-align: top;\n",
       "    }\n",
       "\n",
       "    .dataframe thead th {\n",
       "        text-align: right;\n",
       "    }\n",
       "</style>\n",
       "<table border=\"1\" class=\"dataframe\">\n",
       "  <thead>\n",
       "    <tr style=\"text-align: right;\">\n",
       "      <th></th>\n",
       "      <th>const</th>\n",
       "      <th>rate_marriage</th>\n",
       "      <th>age</th>\n",
       "      <th>yrs_married</th>\n",
       "      <th>children</th>\n",
       "      <th>religious</th>\n",
       "      <th>educ</th>\n",
       "      <th>occupation</th>\n",
       "      <th>occupation_husb</th>\n",
       "    </tr>\n",
       "  </thead>\n",
       "  <tbody>\n",
       "    <tr>\n",
       "      <th>0</th>\n",
       "      <td>1.0</td>\n",
       "      <td>3.0</td>\n",
       "      <td>32.0</td>\n",
       "      <td>9.0</td>\n",
       "      <td>3.0</td>\n",
       "      <td>3.0</td>\n",
       "      <td>17.0</td>\n",
       "      <td>2.0</td>\n",
       "      <td>5.0</td>\n",
       "    </tr>\n",
       "    <tr>\n",
       "      <th>1</th>\n",
       "      <td>1.0</td>\n",
       "      <td>3.0</td>\n",
       "      <td>27.0</td>\n",
       "      <td>13.0</td>\n",
       "      <td>3.0</td>\n",
       "      <td>1.0</td>\n",
       "      <td>14.0</td>\n",
       "      <td>3.0</td>\n",
       "      <td>4.0</td>\n",
       "    </tr>\n",
       "    <tr>\n",
       "      <th>2</th>\n",
       "      <td>1.0</td>\n",
       "      <td>4.0</td>\n",
       "      <td>22.0</td>\n",
       "      <td>2.5</td>\n",
       "      <td>0.0</td>\n",
       "      <td>1.0</td>\n",
       "      <td>16.0</td>\n",
       "      <td>3.0</td>\n",
       "      <td>5.0</td>\n",
       "    </tr>\n",
       "    <tr>\n",
       "      <th>3</th>\n",
       "      <td>1.0</td>\n",
       "      <td>4.0</td>\n",
       "      <td>37.0</td>\n",
       "      <td>16.5</td>\n",
       "      <td>4.0</td>\n",
       "      <td>3.0</td>\n",
       "      <td>16.0</td>\n",
       "      <td>5.0</td>\n",
       "      <td>5.0</td>\n",
       "    </tr>\n",
       "    <tr>\n",
       "      <th>4</th>\n",
       "      <td>1.0</td>\n",
       "      <td>5.0</td>\n",
       "      <td>27.0</td>\n",
       "      <td>9.0</td>\n",
       "      <td>1.0</td>\n",
       "      <td>1.0</td>\n",
       "      <td>14.0</td>\n",
       "      <td>3.0</td>\n",
       "      <td>4.0</td>\n",
       "    </tr>\n",
       "  </tbody>\n",
       "</table>\n",
       "</div>"
      ],
      "text/plain": [
       "   const  rate_marriage   age  yrs_married  children  religious  educ  \\\n",
       "0    1.0            3.0  32.0          9.0       3.0        3.0  17.0   \n",
       "1    1.0            3.0  27.0         13.0       3.0        1.0  14.0   \n",
       "2    1.0            4.0  22.0          2.5       0.0        1.0  16.0   \n",
       "3    1.0            4.0  37.0         16.5       4.0        3.0  16.0   \n",
       "4    1.0            5.0  27.0          9.0       1.0        1.0  14.0   \n",
       "\n",
       "   occupation  occupation_husb  \n",
       "0         2.0              5.0  \n",
       "1         3.0              4.0  \n",
       "2         3.0              5.0  \n",
       "3         5.0              5.0  \n",
       "4         3.0              4.0  "
      ]
     },
     "execution_count": 77,
     "metadata": {},
     "output_type": "execute_result"
    }
   ],
   "source": [
    "data = sm.datasets.fair.load_pandas().data\n",
    "y = data.affairs\n",
    "X = data[['rate_marriage', 'age', 'yrs_married', 'children', 'religious', 'educ', 'occupation', 'occupation_husb']].copy()\n",
    "X = sm.add_constant(X)\n",
    "X.head()"
   ]
  },
  {
   "cell_type": "code",
   "execution_count": 91,
   "metadata": {},
   "outputs": [],
   "source": [
    "class NormMod(GenericLikelihoodModel):\n",
    "    def __init__(self, endog, exog, **kwds):\n",
    "        super(NormMod, self).__init__(endog, exog, **kwds)\n",
    "    \n",
    "    def nloglikeobs(self, params):\n",
    "        beta = params\n",
    "        yhat = np.dot(self.exog, beta)\n",
    "        LL = stats.norm.logpdf(self.endog, loc=yhat)\n",
    "        return -LL\n",
    "    \n",
    "    def fit(self, start_params=None, maxiter=10000, maxfun=5000, **kwds):\n",
    "        if start_params == None:\n",
    "            start_params = np.zeros(self.exog.shape[1])\n",
    "            start_params[0] = np.log(self.endog.mean())\n",
    "        return super(NormMod, self).fit(start_params=start_params,\n",
    "                                        maxiter=maxiter, maxfun=maxfun,\n",
    "                                        **kwds)"
   ]
  },
  {
   "cell_type": "code",
   "execution_count": 92,
   "metadata": {},
   "outputs": [
    {
     "name": "stdout",
     "output_type": "stream",
     "text": [
      "Optimization terminated successfully.\n",
      "         Current function value: 3.252746\n",
      "         Iterations: 1865\n",
      "         Function evaluations: 2669\n"
     ]
    }
   ],
   "source": [
    "mod = NormMod(y, X)\n",
    "res = mod.fit()"
   ]
  },
  {
   "cell_type": "code",
   "execution_count": 93,
   "metadata": {},
   "outputs": [
    {
     "name": "stdout",
     "output_type": "stream",
     "text": [
      "                               NormMod Results                                \n",
      "==============================================================================\n",
      "Dep. Variable:                affairs   Log-Likelihood:                -20707.\n",
      "Model:                        NormMod   AIC:                         4.143e+04\n",
      "Method:            Maximum Likelihood   BIC:                         4.149e+04\n",
      "Date:                Wed, 14 Aug 2019                                         \n",
      "Time:                        12:11:17                                         \n",
      "No. Observations:                6366                                         \n",
      "Df Residuals:                    6357                                         \n",
      "Df Model:                           8                                         \n",
      "===================================================================================\n",
      "                      coef    std err          z      P>|z|      [0.025      0.975]\n",
      "-----------------------------------------------------------------------------------\n",
      "const               2.0665      0.124     16.657      0.000       1.823       2.310\n",
      "rate_marriage      -0.2891      0.013    -21.803      0.000      -0.315      -0.263\n",
      "age                -0.0168      0.004     -3.926      0.000      -0.025      -0.008\n",
      "yrs_married        -0.0050      0.005     -1.095      0.273      -0.014       0.004\n",
      "children           -0.0732      0.014     -5.267      0.000      -0.100      -0.046\n",
      "religious          -0.1473      0.015    -10.136      0.000      -0.176      -0.119\n",
      "educ               -0.0244      0.007     -3.721      0.000      -0.037      -0.012\n",
      "occupation          0.2011      0.015     13.761      0.000       0.172       0.230\n",
      "occupation_husb     0.1235      0.010     12.753      0.000       0.105       0.143\n",
      "===================================================================================\n"
     ]
    }
   ],
   "source": [
    "print(res.summary())"
   ]
  },
  {
   "cell_type": "markdown",
   "metadata": {},
   "source": [
    "# n-D example for binomial distribution"
   ]
  },
  {
   "cell_type": "code",
   "execution_count": 60,
   "metadata": {},
   "outputs": [],
   "source": [
    "def _ll_nb2(y, X, beta, alph):\n",
    "    mu = np.exp(np.dot(X, beta))\n",
    "    n = 1 / alph\n",
    "    p = n / (n + mu)\n",
    "    ll = stats.nbinom.logpmf(y, n, p)\n",
    "    return ll"
   ]
  },
  {
   "cell_type": "code",
   "execution_count": 57,
   "metadata": {},
   "outputs": [],
   "source": [
    "class NBin(GenericLikelihoodModel):\n",
    "    def __init__(self, endog, exog, **kwds):\n",
    "        super(NBin, self).__init__(endog, exog, **kwds)\n",
    "    \n",
    "    def nloglikeobs(self, params):\n",
    "        alph = params[-1]\n",
    "        beta = params[:-1]\n",
    "        ll = _ll_nb2(self.endog, self.exog, beta, alph)\n",
    "        return -ll\n",
    "    \n",
    "    def fit(self, start_params=None, maxiter=10000, maxfun=5000, **kwds):\n",
    "        # add alpha to summary\n",
    "        self.exog_names.append('alpha')\n",
    "        if start_params == None:\n",
    "            start_params = np.append(np.zeros(self.exog.shape[1]), 0.5)\n",
    "            start_params[-2] = np.log(self.endog.mean())\n",
    "        return super(NBin, self).fit(start_params=start_params,\n",
    "                                     maxiter=maxiter, maxfun=maxfun,\n",
    "                                     **kwds)"
   ]
  },
  {
   "cell_type": "code",
   "execution_count": 76,
   "metadata": {},
   "outputs": [
    {
     "data": {
      "text/html": [
       "<div>\n",
       "<style scoped>\n",
       "    .dataframe tbody tr th:only-of-type {\n",
       "        vertical-align: middle;\n",
       "    }\n",
       "\n",
       "    .dataframe tbody tr th {\n",
       "        vertical-align: top;\n",
       "    }\n",
       "\n",
       "    .dataframe thead th {\n",
       "        text-align: right;\n",
       "    }\n",
       "</style>\n",
       "<table border=\"1\" class=\"dataframe\">\n",
       "  <thead>\n",
       "    <tr style=\"text-align: right;\">\n",
       "      <th></th>\n",
       "      <th>type2</th>\n",
       "      <th>type3</th>\n",
       "      <th>hmo</th>\n",
       "      <th>white</th>\n",
       "      <th>constant</th>\n",
       "    </tr>\n",
       "  </thead>\n",
       "  <tbody>\n",
       "    <tr>\n",
       "      <th>0</th>\n",
       "      <td>0</td>\n",
       "      <td>0</td>\n",
       "      <td>0</td>\n",
       "      <td>1</td>\n",
       "      <td>1</td>\n",
       "    </tr>\n",
       "    <tr>\n",
       "      <th>1</th>\n",
       "      <td>0</td>\n",
       "      <td>0</td>\n",
       "      <td>1</td>\n",
       "      <td>1</td>\n",
       "      <td>1</td>\n",
       "    </tr>\n",
       "    <tr>\n",
       "      <th>2</th>\n",
       "      <td>0</td>\n",
       "      <td>0</td>\n",
       "      <td>1</td>\n",
       "      <td>1</td>\n",
       "      <td>1</td>\n",
       "    </tr>\n",
       "    <tr>\n",
       "      <th>3</th>\n",
       "      <td>0</td>\n",
       "      <td>0</td>\n",
       "      <td>0</td>\n",
       "      <td>1</td>\n",
       "      <td>1</td>\n",
       "    </tr>\n",
       "    <tr>\n",
       "      <th>4</th>\n",
       "      <td>0</td>\n",
       "      <td>0</td>\n",
       "      <td>0</td>\n",
       "      <td>1</td>\n",
       "      <td>1</td>\n",
       "    </tr>\n",
       "  </tbody>\n",
       "</table>\n",
       "</div>"
      ],
      "text/plain": [
       "   type2  type3  hmo  white  constant\n",
       "0      0      0    0      1         1\n",
       "1      0      0    1      1         1\n",
       "2      0      0    1      1         1\n",
       "3      0      0    0      1         1\n",
       "4      0      0    0      1         1"
      ]
     },
     "execution_count": 76,
     "metadata": {},
     "output_type": "execute_result"
    }
   ],
   "source": [
    "data = sm.datasets.get_rdataset('medpar', 'COUNT', cache=True).data\n",
    "y = data.los\n",
    "X = data[['type2', 'type3', 'hmo', 'white']].copy()\n",
    "X['constant'] = 1\n",
    "X.head()"
   ]
  },
  {
   "cell_type": "code",
   "execution_count": 61,
   "metadata": {},
   "outputs": [
    {
     "name": "stdout",
     "output_type": "stream",
     "text": [
      "Optimization terminated successfully.\n",
      "         Current function value: 3.209014\n",
      "         Iterations: 805\n",
      "         Function evaluations: 1238\n"
     ]
    }
   ],
   "source": [
    "mod = NBin(y, X)\n",
    "res = mod.fit()"
   ]
  },
  {
   "cell_type": "code",
   "execution_count": 62,
   "metadata": {},
   "outputs": [
    {
     "name": "stdout",
     "output_type": "stream",
     "text": [
      "Parameters:  [ 0.2212642   0.70613942 -0.06798155 -0.12903932  2.31026565  0.44575147]\n",
      "Standard errors:  [0.05059259 0.07613047 0.05326096 0.0685414  0.06794696 0.01981542]\n",
      "P-values:  [1.22298084e-005 1.76979047e-020 2.01819053e-001 5.97481232e-002\n",
      " 2.15207253e-253 4.62688811e-112]\n",
      "AIC:  9604.95320583016\n"
     ]
    }
   ],
   "source": [
    "print('Parameters: ', res.params)\n",
    "print('Standard errors: ', res.bse)\n",
    "print('P-values: ', res.pvalues)\n",
    "print('AIC: ', res.aic)"
   ]
  },
  {
   "cell_type": "code",
   "execution_count": 63,
   "metadata": {},
   "outputs": [
    {
     "name": "stdout",
     "output_type": "stream",
     "text": [
      "                                 NBin Results                                 \n",
      "==============================================================================\n",
      "Dep. Variable:                    los   Log-Likelihood:                -4797.5\n",
      "Model:                           NBin   AIC:                             9605.\n",
      "Method:            Maximum Likelihood   BIC:                             9632.\n",
      "Date:                Tue, 13 Aug 2019                                         \n",
      "Time:                        12:14:40                                         \n",
      "No. Observations:                1495                                         \n",
      "Df Residuals:                    1490                                         \n",
      "Df Model:                           4                                         \n",
      "==============================================================================\n",
      "                 coef    std err          z      P>|z|      [0.025      0.975]\n",
      "------------------------------------------------------------------------------\n",
      "type2          0.2213      0.051      4.373      0.000       0.122       0.320\n",
      "type3          0.7061      0.076      9.275      0.000       0.557       0.855\n",
      "hmo           -0.0680      0.053     -1.276      0.202      -0.172       0.036\n",
      "white         -0.1290      0.069     -1.883      0.060      -0.263       0.005\n",
      "constant       2.3103      0.068     34.001      0.000       2.177       2.443\n",
      "alpha          0.4458      0.020     22.495      0.000       0.407       0.485\n",
      "==============================================================================\n"
     ]
    }
   ],
   "source": [
    "print(res.summary())"
   ]
  },
  {
   "cell_type": "markdown",
   "metadata": {},
   "source": [
    "# n-D Example for binary prediction (Probit model)"
   ]
  },
  {
   "cell_type": "markdown",
   "metadata": {},
   "source": [
    "### https://www.statsmodels.org/dev/examples/notebooks/generated/generic_mle.html"
   ]
  },
  {
   "cell_type": "code",
   "execution_count": 41,
   "metadata": {},
   "outputs": [
    {
     "data": {
      "text/html": [
       "<div>\n",
       "<style scoped>\n",
       "    .dataframe tbody tr th:only-of-type {\n",
       "        vertical-align: middle;\n",
       "    }\n",
       "\n",
       "    .dataframe tbody tr th {\n",
       "        vertical-align: top;\n",
       "    }\n",
       "\n",
       "    .dataframe thead th {\n",
       "        text-align: right;\n",
       "    }\n",
       "</style>\n",
       "<table border=\"1\" class=\"dataframe\">\n",
       "  <thead>\n",
       "    <tr style=\"text-align: right;\">\n",
       "      <th></th>\n",
       "      <th>GPA</th>\n",
       "      <th>TUCE</th>\n",
       "      <th>PSI</th>\n",
       "      <th>GRADE</th>\n",
       "    </tr>\n",
       "  </thead>\n",
       "  <tbody>\n",
       "    <tr>\n",
       "      <th>0</th>\n",
       "      <td>2.66</td>\n",
       "      <td>20.0</td>\n",
       "      <td>0.0</td>\n",
       "      <td>0.0</td>\n",
       "    </tr>\n",
       "    <tr>\n",
       "      <th>1</th>\n",
       "      <td>2.89</td>\n",
       "      <td>22.0</td>\n",
       "      <td>0.0</td>\n",
       "      <td>0.0</td>\n",
       "    </tr>\n",
       "    <tr>\n",
       "      <th>2</th>\n",
       "      <td>3.28</td>\n",
       "      <td>24.0</td>\n",
       "      <td>0.0</td>\n",
       "      <td>0.0</td>\n",
       "    </tr>\n",
       "    <tr>\n",
       "      <th>3</th>\n",
       "      <td>2.92</td>\n",
       "      <td>12.0</td>\n",
       "      <td>0.0</td>\n",
       "      <td>0.0</td>\n",
       "    </tr>\n",
       "    <tr>\n",
       "      <th>4</th>\n",
       "      <td>4.00</td>\n",
       "      <td>21.0</td>\n",
       "      <td>0.0</td>\n",
       "      <td>1.0</td>\n",
       "    </tr>\n",
       "  </tbody>\n",
       "</table>\n",
       "</div>"
      ],
      "text/plain": [
       "    GPA  TUCE  PSI  GRADE\n",
       "0  2.66  20.0  0.0    0.0\n",
       "1  2.89  22.0  0.0    0.0\n",
       "2  3.28  24.0  0.0    0.0\n",
       "3  2.92  12.0  0.0    0.0\n",
       "4  4.00  21.0  0.0    1.0"
      ]
     },
     "execution_count": 41,
     "metadata": {},
     "output_type": "execute_result"
    }
   ],
   "source": [
    "data = sm.datasets.spector.load_pandas()\n",
    "data.data.head()"
   ]
  },
  {
   "cell_type": "code",
   "execution_count": 42,
   "metadata": {},
   "outputs": [
    {
     "data": {
      "text/html": [
       "<div>\n",
       "<style scoped>\n",
       "    .dataframe tbody tr th:only-of-type {\n",
       "        vertical-align: middle;\n",
       "    }\n",
       "\n",
       "    .dataframe tbody tr th {\n",
       "        vertical-align: top;\n",
       "    }\n",
       "\n",
       "    .dataframe thead th {\n",
       "        text-align: right;\n",
       "    }\n",
       "</style>\n",
       "<table border=\"1\" class=\"dataframe\">\n",
       "  <thead>\n",
       "    <tr style=\"text-align: right;\">\n",
       "      <th></th>\n",
       "      <th>const</th>\n",
       "      <th>GPA</th>\n",
       "      <th>TUCE</th>\n",
       "      <th>PSI</th>\n",
       "    </tr>\n",
       "  </thead>\n",
       "  <tbody>\n",
       "    <tr>\n",
       "      <th>0</th>\n",
       "      <td>1.0</td>\n",
       "      <td>2.66</td>\n",
       "      <td>20.0</td>\n",
       "      <td>0.0</td>\n",
       "    </tr>\n",
       "    <tr>\n",
       "      <th>1</th>\n",
       "      <td>1.0</td>\n",
       "      <td>2.89</td>\n",
       "      <td>22.0</td>\n",
       "      <td>0.0</td>\n",
       "    </tr>\n",
       "    <tr>\n",
       "      <th>2</th>\n",
       "      <td>1.0</td>\n",
       "      <td>3.28</td>\n",
       "      <td>24.0</td>\n",
       "      <td>0.0</td>\n",
       "    </tr>\n",
       "    <tr>\n",
       "      <th>3</th>\n",
       "      <td>1.0</td>\n",
       "      <td>2.92</td>\n",
       "      <td>12.0</td>\n",
       "      <td>0.0</td>\n",
       "    </tr>\n",
       "    <tr>\n",
       "      <th>4</th>\n",
       "      <td>1.0</td>\n",
       "      <td>4.00</td>\n",
       "      <td>21.0</td>\n",
       "      <td>0.0</td>\n",
       "    </tr>\n",
       "  </tbody>\n",
       "</table>\n",
       "</div>"
      ],
      "text/plain": [
       "   const   GPA  TUCE  PSI\n",
       "0    1.0  2.66  20.0  0.0\n",
       "1    1.0  2.89  22.0  0.0\n",
       "2    1.0  3.28  24.0  0.0\n",
       "3    1.0  2.92  12.0  0.0\n",
       "4    1.0  4.00  21.0  0.0"
      ]
     },
     "execution_count": 42,
     "metadata": {},
     "output_type": "execute_result"
    }
   ],
   "source": [
    "y = data.endog\n",
    "X = data.exog\n",
    "X = sm.add_constant(X, prepend=True)\n",
    "X.head()"
   ]
  },
  {
   "cell_type": "code",
   "execution_count": 43,
   "metadata": {},
   "outputs": [
    {
     "data": {
      "text/plain": [
       "0    0.0\n",
       "1    0.0\n",
       "2    0.0\n",
       "3    0.0\n",
       "4    1.0\n",
       "Name: GRADE, dtype: float64"
      ]
     },
     "execution_count": 43,
     "metadata": {},
     "output_type": "execute_result"
    }
   ],
   "source": [
    "y.head()"
   ]
  },
  {
   "cell_type": "code",
   "execution_count": 44,
   "metadata": {},
   "outputs": [
    {
     "name": "stdout",
     "output_type": "stream",
     "text": [
      "Optimization terminated successfully.\n",
      "         Current function value: 0.400588\n",
      "         Iterations 6\n"
     ]
    }
   ],
   "source": [
    "results = sm.Probit(y, X).fit()"
   ]
  },
  {
   "cell_type": "code",
   "execution_count": 45,
   "metadata": {},
   "outputs": [
    {
     "name": "stdout",
     "output_type": "stream",
     "text": [
      "const   -7.452320\n",
      "GPA      1.625810\n",
      "TUCE     0.051729\n",
      "PSI      1.426332\n",
      "dtype: float64\n"
     ]
    }
   ],
   "source": [
    "print(results.params)"
   ]
  },
  {
   "cell_type": "code",
   "execution_count": 46,
   "metadata": {},
   "outputs": [
    {
     "name": "stdout",
     "output_type": "stream",
     "text": [
      "          const       GPA      TUCE       PSI\n",
      "const  6.464166 -1.169668 -0.101173 -0.594792\n",
      "GPA   -1.169668  0.481473 -0.018914  0.105439\n",
      "TUCE  -0.101173 -0.018914  0.007038  0.002472\n",
      "PSI   -0.594792  0.105439  0.002472  0.354070\n"
     ]
    }
   ],
   "source": [
    "print(results.cov_params())"
   ]
  },
  {
   "cell_type": "markdown",
   "metadata": {},
   "source": [
    "# 2D Example for regression"
   ]
  },
  {
   "cell_type": "markdown",
   "metadata": {},
   "source": [
    "### https://towardsdatascience.com/a-gentle-introduction-to-maximum-likelihood-estimation-9fbff27ea12f"
   ]
  },
  {
   "cell_type": "code",
   "execution_count": 2,
   "metadata": {},
   "outputs": [],
   "source": [
    "# generate data\n",
    "N = 100\n",
    "x = np.linspace(0,20,N)\n",
    "ϵ = np.random.normal(loc = 0.0, scale = 5.0, size = N)\n",
    "y = 3*x + ϵ\n",
    "df = pd.DataFrame({'y':y, 'x':x})\n",
    "df['constant'] = 1"
   ]
  },
  {
   "cell_type": "code",
   "execution_count": 12,
   "metadata": {},
   "outputs": [],
   "source": [
    "df"
   ]
  },
  {
   "cell_type": "code",
   "execution_count": 4,
   "metadata": {},
   "outputs": [
    {
     "data": {
      "text/plain": [
       "<matplotlib.axes._subplots.AxesSubplot at 0x7fb8b478aa58>"
      ]
     },
     "execution_count": 4,
     "metadata": {},
     "output_type": "execute_result"
    },
    {
     "data": {
      "image/png": "[encoded data removed]",
      "text/plain": [
       "<Figure size 432x288 with 1 Axes>"
      ]
     },
     "metadata": {
      "needs_background": "light"
     },
     "output_type": "display_data"
    }
   ],
   "source": [
    "# plot\n",
    "sns.regplot(df.x, df.y)"
   ]
  },
  {
   "cell_type": "code",
   "execution_count": 11,
   "metadata": {},
   "outputs": [],
   "source": [
    "# split features and target\n",
    "X = df[['constant', 'x']]\n",
    "# fit model and summarize\n",
    "sm.OLS(y,X).fit().summary()"
   ]
  },
  {
   "cell_type": "code",
   "execution_count": 6,
   "metadata": {},
   "outputs": [],
   "source": [
    "# define likelihood function\n",
    "def MLERegression(params):\n",
    "    intercept, beta, sd = params[0], params[1], params[2] # inputs are guesses at our parameters\n",
    "    yhat = intercept + beta*x # predictions\n",
    "    # next, we flip the Bayesian question\n",
    "    # compute PDF of observed values normally distributed around mean (yhat)\n",
    "    # with a standard deviation of sd\n",
    "    negLL = -np.sum( stats.norm.logpdf(y, loc=yhat, scale=sd) )\n",
    "    # return negative LL\n",
    "    return(negLL)"
   ]
  },
  {
   "cell_type": "code",
   "execution_count": 9,
   "metadata": {},
   "outputs": [
    {
     "name": "stdout",
     "output_type": "stream",
     "text": [
      "Optimization terminated successfully.\n",
      "         Current function value: 292.128416\n",
      "         Iterations: 111\n",
      "         Function evaluations: 200\n"
     ]
    }
   ],
   "source": [
    "# let’s start with some random coefficient guesses and optimize\n",
    "guess = np.array([5,5,2])\n",
    "results = minimize(MLERegression, guess, method = 'Nelder-Mead', options={'disp': True})"
   ]
  },
  {
   "cell_type": "code",
   "execution_count": 10,
   "metadata": {},
   "outputs": [
    {
     "data": {
      "text/plain": [
       " final_simplex: (array([[0.7689675 , 2.96506055, 4.4922065 ],\n",
       "       [0.7690214 , 2.96505258, 4.49223652],\n",
       "       [0.76895628, 2.96506083, 4.49222613],\n",
       "       [0.76903375, 2.96505494, 4.49224128]]), array([292.1284157, 292.1284157, 292.1284157, 292.1284157]))\n",
       "           fun: 292.12841570113983\n",
       "       message: 'Optimization terminated successfully.'\n",
       "          nfev: 200\n",
       "           nit: 111\n",
       "        status: 0\n",
       "       success: True\n",
       "             x: array([0.7689675 , 2.96506055, 4.4922065 ])"
      ]
     },
     "execution_count": 10,
     "metadata": {},
     "output_type": "execute_result"
    }
   ],
   "source": [
    "results"
   ]
  },
  {
   "cell_type": "code",
   "execution_count": null,
   "metadata": {},
   "outputs": [],
   "source": []
  }
 ],
 "metadata": {
  "kernelspec": {
   "display_name": "Python 3",
   "language": "python",
   "name": "python3"
  },
  "language_info": {
   "codemirror_mode": {
    "name": "ipython",
    "version": 3
   },
   "file_extension": ".py",
   "mimetype": "text/x-python",
   "name": "python",
   "nbconvert_exporter": "python",
   "pygments_lexer": "ipython3",
   "version": "3.6.8"
  }
 },
 "nbformat": 4,
 "nbformat_minor": 2
}
