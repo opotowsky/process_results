{
 "cells": [
  {
   "cell_type": "code",
   "execution_count": 1,
   "metadata": {},
   "outputs": [],
   "source": [
    "import pandas as pd"
   ]
  },
  {
   "cell_type": "markdown",
   "metadata": {},
   "source": [
    "# filtering and scaling nuc62 --> nuc32"
   ]
  },
  {
   "cell_type": "code",
   "execution_count": 2,
   "metadata": {},
   "outputs": [],
   "source": [
    "rdrive = '/mnt/researchdrive/BOX_INTERNAL/opotowsky/'"
   ]
  },
  {
   "cell_type": "code",
   "execution_count": 3,
   "metadata": {},
   "outputs": [],
   "source": [
    "db = pd.read_pickle(rdrive + 'not-scaled_nuc62_activities.pkl')"
   ]
  },
  {
   "cell_type": "code",
   "execution_count": 5,
   "metadata": {},
   "outputs": [
    {
     "data": {
      "text/plain": [
       "(458036, 71)"
      ]
     },
     "execution_count": 5,
     "metadata": {},
     "output_type": "execute_result"
    }
   ],
   "source": [
    "db.shape"
   ]
  },
  {
   "cell_type": "code",
   "execution_count": 6,
   "metadata": {},
   "outputs": [],
   "source": [
    "lbls = ['ReactorType', 'CoolingTime', 'Enrichment', 'Burnup', 'OrigenReactor']\n",
    "nonlbls = ['AvgPowerDensity', 'ModDensity', 'UiWeight']\n",
    "nuc_list = ['ac227', 'am241', 'am243', 'ba133', 'cf249', 'cf252', 'cm243', 'cm244', \n",
    "            'cm245', 'cs134', 'cs137', 'eu152', 'eu154', 'ho166m', 'kr85', 'nb94', \n",
    "            'np236', 'np237', 'pa231', 'pm146', 'pu236', 'pu238', 'pu239', 'pu240', \n",
    "            'ra226', 'sb125', 'th228', 'th229', 'u232', 'u233', 'u234', 'u235']\n",
    "all_cols = lbls + nonlbls + nuc_list"
   ]
  },
  {
   "cell_type": "code",
   "execution_count": 7,
   "metadata": {},
   "outputs": [
    {
     "data": {
      "text/html": [
       "<div>\n",
       "<style scoped>\n",
       "    .dataframe tbody tr th:only-of-type {\n",
       "        vertical-align: middle;\n",
       "    }\n",
       "\n",
       "    .dataframe tbody tr th {\n",
       "        vertical-align: top;\n",
       "    }\n",
       "\n",
       "    .dataframe thead th {\n",
       "        text-align: right;\n",
       "    }\n",
       "</style>\n",
       "<table border=\"1\" class=\"dataframe\">\n",
       "  <thead>\n",
       "    <tr style=\"text-align: right;\">\n",
       "      <th></th>\n",
       "      <th>ReactorType</th>\n",
       "      <th>CoolingTime</th>\n",
       "      <th>Enrichment</th>\n",
       "      <th>Burnup</th>\n",
       "      <th>OrigenReactor</th>\n",
       "      <th>AvgPowerDensity</th>\n",
       "      <th>ModDensity</th>\n",
       "      <th>UiWeight</th>\n",
       "      <th>ac227</th>\n",
       "      <th>am241</th>\n",
       "      <th>...</th>\n",
       "      <th>pu239</th>\n",
       "      <th>pu240</th>\n",
       "      <th>ra226</th>\n",
       "      <th>sb125</th>\n",
       "      <th>th228</th>\n",
       "      <th>th229</th>\n",
       "      <th>u232</th>\n",
       "      <th>u233</th>\n",
       "      <th>u234</th>\n",
       "      <th>u235</th>\n",
       "    </tr>\n",
       "  </thead>\n",
       "  <tbody>\n",
       "    <tr>\n",
       "      <th>2.223e+02</th>\n",
       "      <td>bwr</td>\n",
       "      <td>117.108292</td>\n",
       "      <td>0.55</td>\n",
       "      <td>1051.45</td>\n",
       "      <td>ge7x7-0</td>\n",
       "      <td>10.0</td>\n",
       "      <td>0.1</td>\n",
       "      <td>1</td>\n",
       "      <td>5.928000e-09</td>\n",
       "      <td>1.410</td>\n",
       "      <td>...</td>\n",
       "      <td>85.74</td>\n",
       "      <td>27.01</td>\n",
       "      <td>1.554000e-09</td>\n",
       "      <td>388.8</td>\n",
       "      <td>0.000002</td>\n",
       "      <td>3.467000e-10</td>\n",
       "      <td>0.000014</td>\n",
       "      <td>0.000003</td>\n",
       "      <td>2.106</td>\n",
       "      <td>0.01013</td>\n",
       "    </tr>\n",
       "    <tr>\n",
       "      <th>3.428e+02</th>\n",
       "      <td>bwr</td>\n",
       "      <td>237.640559</td>\n",
       "      <td>0.55</td>\n",
       "      <td>1051.45</td>\n",
       "      <td>ge7x7-0</td>\n",
       "      <td>10.0</td>\n",
       "      <td>0.1</td>\n",
       "      <td>1</td>\n",
       "      <td>1.122000e-08</td>\n",
       "      <td>2.572</td>\n",
       "      <td>...</td>\n",
       "      <td>85.74</td>\n",
       "      <td>27.01</td>\n",
       "      <td>3.693000e-09</td>\n",
       "      <td>357.9</td>\n",
       "      <td>0.000003</td>\n",
       "      <td>4.437000e-10</td>\n",
       "      <td>0.000017</td>\n",
       "      <td>0.000003</td>\n",
       "      <td>2.106</td>\n",
       "      <td>0.01013</td>\n",
       "    </tr>\n",
       "    <tr>\n",
       "      <th>3.993e+02</th>\n",
       "      <td>bwr</td>\n",
       "      <td>294.185773</td>\n",
       "      <td>0.55</td>\n",
       "      <td>1051.45</td>\n",
       "      <td>ge7x7-0</td>\n",
       "      <td>10.0</td>\n",
       "      <td>0.1</td>\n",
       "      <td>1</td>\n",
       "      <td>1.393000e-08</td>\n",
       "      <td>3.110</td>\n",
       "      <td>...</td>\n",
       "      <td>85.74</td>\n",
       "      <td>27.01</td>\n",
       "      <td>5.011000e-09</td>\n",
       "      <td>344.2</td>\n",
       "      <td>0.000004</td>\n",
       "      <td>4.892000e-10</td>\n",
       "      <td>0.000018</td>\n",
       "      <td>0.000003</td>\n",
       "      <td>2.106</td>\n",
       "      <td>0.01013</td>\n",
       "    </tr>\n",
       "    <tr>\n",
       "      <th>4.676e+02</th>\n",
       "      <td>bwr</td>\n",
       "      <td>362.419607</td>\n",
       "      <td>0.55</td>\n",
       "      <td>1051.45</td>\n",
       "      <td>ge7x7-0</td>\n",
       "      <td>10.0</td>\n",
       "      <td>0.1</td>\n",
       "      <td>1</td>\n",
       "      <td>1.741000e-08</td>\n",
       "      <td>3.755</td>\n",
       "      <td>...</td>\n",
       "      <td>85.74</td>\n",
       "      <td>27.01</td>\n",
       "      <td>6.869000e-09</td>\n",
       "      <td>328.4</td>\n",
       "      <td>0.000005</td>\n",
       "      <td>5.443000e-10</td>\n",
       "      <td>0.000019</td>\n",
       "      <td>0.000003</td>\n",
       "      <td>2.106</td>\n",
       "      <td>0.01013</td>\n",
       "    </tr>\n",
       "    <tr>\n",
       "      <th>6.148e+02</th>\n",
       "      <td>bwr</td>\n",
       "      <td>509.653584</td>\n",
       "      <td>0.55</td>\n",
       "      <td>1051.45</td>\n",
       "      <td>ge7x7-0</td>\n",
       "      <td>10.0</td>\n",
       "      <td>0.1</td>\n",
       "      <td>1</td>\n",
       "      <td>2.565000e-08</td>\n",
       "      <td>5.125</td>\n",
       "      <td>...</td>\n",
       "      <td>85.74</td>\n",
       "      <td>27.01</td>\n",
       "      <td>1.187000e-08</td>\n",
       "      <td>296.8</td>\n",
       "      <td>0.000007</td>\n",
       "      <td>6.634000e-10</td>\n",
       "      <td>0.000022</td>\n",
       "      <td>0.000003</td>\n",
       "      <td>2.106</td>\n",
       "      <td>0.01013</td>\n",
       "    </tr>\n",
       "  </tbody>\n",
       "</table>\n",
       "<p>5 rows × 40 columns</p>\n",
       "</div>"
      ],
      "text/plain": [
       "          ReactorType  CoolingTime  Enrichment   Burnup OrigenReactor  \\\n",
       "2.223e+02         bwr   117.108292        0.55  1051.45       ge7x7-0   \n",
       "3.428e+02         bwr   237.640559        0.55  1051.45       ge7x7-0   \n",
       "3.993e+02         bwr   294.185773        0.55  1051.45       ge7x7-0   \n",
       "4.676e+02         bwr   362.419607        0.55  1051.45       ge7x7-0   \n",
       "6.148e+02         bwr   509.653584        0.55  1051.45       ge7x7-0   \n",
       "\n",
       "           AvgPowerDensity  ModDensity  UiWeight         ac227  am241  ...  \\\n",
       "2.223e+02             10.0         0.1         1  5.928000e-09  1.410  ...   \n",
       "3.428e+02             10.0         0.1         1  1.122000e-08  2.572  ...   \n",
       "3.993e+02             10.0         0.1         1  1.393000e-08  3.110  ...   \n",
       "4.676e+02             10.0         0.1         1  1.741000e-08  3.755  ...   \n",
       "6.148e+02             10.0         0.1         1  2.565000e-08  5.125  ...   \n",
       "\n",
       "           pu239  pu240         ra226  sb125     th228         th229  \\\n",
       "2.223e+02  85.74  27.01  1.554000e-09  388.8  0.000002  3.467000e-10   \n",
       "3.428e+02  85.74  27.01  3.693000e-09  357.9  0.000003  4.437000e-10   \n",
       "3.993e+02  85.74  27.01  5.011000e-09  344.2  0.000004  4.892000e-10   \n",
       "4.676e+02  85.74  27.01  6.869000e-09  328.4  0.000005  5.443000e-10   \n",
       "6.148e+02  85.74  27.01  1.187000e-08  296.8  0.000007  6.634000e-10   \n",
       "\n",
       "               u232      u233   u234     u235  \n",
       "2.223e+02  0.000014  0.000003  2.106  0.01013  \n",
       "3.428e+02  0.000017  0.000003  2.106  0.01013  \n",
       "3.993e+02  0.000018  0.000003  2.106  0.01013  \n",
       "4.676e+02  0.000019  0.000003  2.106  0.01013  \n",
       "6.148e+02  0.000022  0.000003  2.106  0.01013  \n",
       "\n",
       "[5 rows x 40 columns]"
      ]
     },
     "execution_count": 7,
     "metadata": {},
     "output_type": "execute_result"
    }
   ],
   "source": [
    "db = db[all_cols]\n",
    "db = db.loc[db['Burnup'] > 0]\n",
    "db = db.loc[db['CoolingTime'] > 0]\n",
    "db.head(5)"
   ]
  },
  {
   "cell_type": "code",
   "execution_count": 8,
   "metadata": {},
   "outputs": [],
   "source": [
    "db.reset_index(drop=True, inplace=True)\n",
    "# don't rerun this cell\n",
    "# scaling all activities to be from 1MT material to 1g so gadras detector setups can handle the sources\n",
    "db[nuc_list] = db[nuc_list]/1e6"
   ]
  },
  {
   "cell_type": "code",
   "execution_count": 9,
   "metadata": {},
   "outputs": [
    {
     "data": {
      "text/html": [
       "<div>\n",
       "<style scoped>\n",
       "    .dataframe tbody tr th:only-of-type {\n",
       "        vertical-align: middle;\n",
       "    }\n",
       "\n",
       "    .dataframe tbody tr th {\n",
       "        vertical-align: top;\n",
       "    }\n",
       "\n",
       "    .dataframe thead th {\n",
       "        text-align: right;\n",
       "    }\n",
       "</style>\n",
       "<table border=\"1\" class=\"dataframe\">\n",
       "  <thead>\n",
       "    <tr style=\"text-align: right;\">\n",
       "      <th></th>\n",
       "      <th>ReactorType</th>\n",
       "      <th>CoolingTime</th>\n",
       "      <th>Enrichment</th>\n",
       "      <th>Burnup</th>\n",
       "      <th>OrigenReactor</th>\n",
       "      <th>AvgPowerDensity</th>\n",
       "      <th>ModDensity</th>\n",
       "      <th>UiWeight</th>\n",
       "      <th>ac227</th>\n",
       "      <th>am241</th>\n",
       "      <th>...</th>\n",
       "      <th>pu239</th>\n",
       "      <th>pu240</th>\n",
       "      <th>ra226</th>\n",
       "      <th>sb125</th>\n",
       "      <th>th228</th>\n",
       "      <th>th229</th>\n",
       "      <th>u232</th>\n",
       "      <th>u233</th>\n",
       "      <th>u234</th>\n",
       "      <th>u235</th>\n",
       "    </tr>\n",
       "  </thead>\n",
       "  <tbody>\n",
       "    <tr>\n",
       "      <th>0</th>\n",
       "      <td>bwr</td>\n",
       "      <td>117.108292</td>\n",
       "      <td>0.55</td>\n",
       "      <td>1051.45</td>\n",
       "      <td>ge7x7-0</td>\n",
       "      <td>10.0</td>\n",
       "      <td>0.1</td>\n",
       "      <td>1</td>\n",
       "      <td>5.928000e-15</td>\n",
       "      <td>0.000001</td>\n",
       "      <td>...</td>\n",
       "      <td>0.000086</td>\n",
       "      <td>0.000027</td>\n",
       "      <td>1.554000e-15</td>\n",
       "      <td>0.000389</td>\n",
       "      <td>1.696000e-12</td>\n",
       "      <td>3.467000e-16</td>\n",
       "      <td>1.423000e-11</td>\n",
       "      <td>3.107000e-12</td>\n",
       "      <td>0.000002</td>\n",
       "      <td>1.013000e-08</td>\n",
       "    </tr>\n",
       "    <tr>\n",
       "      <th>1</th>\n",
       "      <td>bwr</td>\n",
       "      <td>237.640559</td>\n",
       "      <td>0.55</td>\n",
       "      <td>1051.45</td>\n",
       "      <td>ge7x7-0</td>\n",
       "      <td>10.0</td>\n",
       "      <td>0.1</td>\n",
       "      <td>1</td>\n",
       "      <td>1.122000e-14</td>\n",
       "      <td>0.000003</td>\n",
       "      <td>...</td>\n",
       "      <td>0.000086</td>\n",
       "      <td>0.000027</td>\n",
       "      <td>3.693000e-15</td>\n",
       "      <td>0.000358</td>\n",
       "      <td>3.252000e-12</td>\n",
       "      <td>4.437000e-16</td>\n",
       "      <td>1.668000e-11</td>\n",
       "      <td>3.115000e-12</td>\n",
       "      <td>0.000002</td>\n",
       "      <td>1.013000e-08</td>\n",
       "    </tr>\n",
       "    <tr>\n",
       "      <th>2</th>\n",
       "      <td>bwr</td>\n",
       "      <td>294.185773</td>\n",
       "      <td>0.55</td>\n",
       "      <td>1051.45</td>\n",
       "      <td>ge7x7-0</td>\n",
       "      <td>10.0</td>\n",
       "      <td>0.1</td>\n",
       "      <td>1</td>\n",
       "      <td>1.393000e-14</td>\n",
       "      <td>0.000003</td>\n",
       "      <td>...</td>\n",
       "      <td>0.000086</td>\n",
       "      <td>0.000027</td>\n",
       "      <td>5.011000e-15</td>\n",
       "      <td>0.000344</td>\n",
       "      <td>4.015000e-12</td>\n",
       "      <td>4.892000e-16</td>\n",
       "      <td>1.776000e-11</td>\n",
       "      <td>3.119000e-12</td>\n",
       "      <td>0.000002</td>\n",
       "      <td>1.013000e-08</td>\n",
       "    </tr>\n",
       "    <tr>\n",
       "      <th>3</th>\n",
       "      <td>bwr</td>\n",
       "      <td>362.419607</td>\n",
       "      <td>0.55</td>\n",
       "      <td>1051.45</td>\n",
       "      <td>ge7x7-0</td>\n",
       "      <td>10.0</td>\n",
       "      <td>0.1</td>\n",
       "      <td>1</td>\n",
       "      <td>1.741000e-14</td>\n",
       "      <td>0.000004</td>\n",
       "      <td>...</td>\n",
       "      <td>0.000086</td>\n",
       "      <td>0.000027</td>\n",
       "      <td>6.869000e-15</td>\n",
       "      <td>0.000328</td>\n",
       "      <td>4.957000e-12</td>\n",
       "      <td>5.443000e-16</td>\n",
       "      <td>1.901000e-11</td>\n",
       "      <td>3.124000e-12</td>\n",
       "      <td>0.000002</td>\n",
       "      <td>1.013000e-08</td>\n",
       "    </tr>\n",
       "    <tr>\n",
       "      <th>4</th>\n",
       "      <td>bwr</td>\n",
       "      <td>509.653584</td>\n",
       "      <td>0.55</td>\n",
       "      <td>1051.45</td>\n",
       "      <td>ge7x7-0</td>\n",
       "      <td>10.0</td>\n",
       "      <td>0.1</td>\n",
       "      <td>1</td>\n",
       "      <td>2.565000e-14</td>\n",
       "      <td>0.000005</td>\n",
       "      <td>...</td>\n",
       "      <td>0.000086</td>\n",
       "      <td>0.000027</td>\n",
       "      <td>1.187000e-14</td>\n",
       "      <td>0.000297</td>\n",
       "      <td>7.044000e-12</td>\n",
       "      <td>6.634000e-16</td>\n",
       "      <td>2.150000e-11</td>\n",
       "      <td>3.134000e-12</td>\n",
       "      <td>0.000002</td>\n",
       "      <td>1.013000e-08</td>\n",
       "    </tr>\n",
       "  </tbody>\n",
       "</table>\n",
       "<p>5 rows × 40 columns</p>\n",
       "</div>"
      ],
      "text/plain": [
       "  ReactorType  CoolingTime  Enrichment   Burnup OrigenReactor  \\\n",
       "0         bwr   117.108292        0.55  1051.45       ge7x7-0   \n",
       "1         bwr   237.640559        0.55  1051.45       ge7x7-0   \n",
       "2         bwr   294.185773        0.55  1051.45       ge7x7-0   \n",
       "3         bwr   362.419607        0.55  1051.45       ge7x7-0   \n",
       "4         bwr   509.653584        0.55  1051.45       ge7x7-0   \n",
       "\n",
       "   AvgPowerDensity  ModDensity  UiWeight         ac227     am241  ...  \\\n",
       "0             10.0         0.1         1  5.928000e-15  0.000001  ...   \n",
       "1             10.0         0.1         1  1.122000e-14  0.000003  ...   \n",
       "2             10.0         0.1         1  1.393000e-14  0.000003  ...   \n",
       "3             10.0         0.1         1  1.741000e-14  0.000004  ...   \n",
       "4             10.0         0.1         1  2.565000e-14  0.000005  ...   \n",
       "\n",
       "      pu239     pu240         ra226     sb125         th228         th229  \\\n",
       "0  0.000086  0.000027  1.554000e-15  0.000389  1.696000e-12  3.467000e-16   \n",
       "1  0.000086  0.000027  3.693000e-15  0.000358  3.252000e-12  4.437000e-16   \n",
       "2  0.000086  0.000027  5.011000e-15  0.000344  4.015000e-12  4.892000e-16   \n",
       "3  0.000086  0.000027  6.869000e-15  0.000328  4.957000e-12  5.443000e-16   \n",
       "4  0.000086  0.000027  1.187000e-14  0.000297  7.044000e-12  6.634000e-16   \n",
       "\n",
       "           u232          u233      u234          u235  \n",
       "0  1.423000e-11  3.107000e-12  0.000002  1.013000e-08  \n",
       "1  1.668000e-11  3.115000e-12  0.000002  1.013000e-08  \n",
       "2  1.776000e-11  3.119000e-12  0.000002  1.013000e-08  \n",
       "3  1.901000e-11  3.124000e-12  0.000002  1.013000e-08  \n",
       "4  2.150000e-11  3.134000e-12  0.000002  1.013000e-08  \n",
       "\n",
       "[5 rows x 40 columns]"
      ]
     },
     "execution_count": 9,
     "metadata": {},
     "output_type": "execute_result"
    }
   ],
   "source": [
    "db.head(5)"
   ]
  },
  {
   "cell_type": "code",
   "execution_count": 10,
   "metadata": {},
   "outputs": [
    {
     "data": {
      "text/plain": [
       "(450240, 40)"
      ]
     },
     "execution_count": 10,
     "metadata": {},
     "output_type": "execute_result"
    }
   ],
   "source": [
    "db.shape"
   ]
  },
  {
   "cell_type": "code",
   "execution_count": 11,
   "metadata": {},
   "outputs": [],
   "source": [
    "db.to_pickle(rdrive + 'nuc32_activities_scaled_1g_reindex.pkl')"
   ]
  },
  {
   "cell_type": "markdown",
   "metadata": {},
   "source": [
    "# Filtering from scaled nuc32 trainset"
   ]
  },
  {
   "cell_type": "code",
   "execution_count": 3,
   "metadata": {},
   "outputs": [],
   "source": [
    "#rdrive = '/mnt/researchdrive/BOX_INTERNAL/opotowsky/'\n",
    "#db = pd.read_pickle(rdrive + 'nuc32_activities_scaled_1g_reindex.pkl')"
   ]
  },
  {
   "cell_type": "code",
   "execution_count": 12,
   "metadata": {},
   "outputs": [],
   "source": [
    "nuc7 = ['am241', 'am243', 'cs134', 'cs137', 'eu154', 'kr85', 'sb125']\n",
    "nuc12 = ['am241', 'am243', 'cm243', 'cm244', 'cm245', 'cs134', 'cs137', 'eu152', 'eu154', 'kr85', 'pu238', 'sb125']"
   ]
  },
  {
   "cell_type": "code",
   "execution_count": 13,
   "metadata": {},
   "outputs": [
    {
     "data": {
      "text/html": [
       "<div>\n",
       "<style scoped>\n",
       "    .dataframe tbody tr th:only-of-type {\n",
       "        vertical-align: middle;\n",
       "    }\n",
       "\n",
       "    .dataframe tbody tr th {\n",
       "        vertical-align: top;\n",
       "    }\n",
       "\n",
       "    .dataframe thead th {\n",
       "        text-align: right;\n",
       "    }\n",
       "</style>\n",
       "<table border=\"1\" class=\"dataframe\">\n",
       "  <thead>\n",
       "    <tr style=\"text-align: right;\">\n",
       "      <th></th>\n",
       "      <th>ReactorType</th>\n",
       "      <th>CoolingTime</th>\n",
       "      <th>Enrichment</th>\n",
       "      <th>Burnup</th>\n",
       "      <th>OrigenReactor</th>\n",
       "      <th>AvgPowerDensity</th>\n",
       "      <th>ModDensity</th>\n",
       "      <th>UiWeight</th>\n",
       "      <th>am241</th>\n",
       "      <th>am243</th>\n",
       "      <th>cs134</th>\n",
       "      <th>cs137</th>\n",
       "      <th>eu154</th>\n",
       "      <th>kr85</th>\n",
       "      <th>sb125</th>\n",
       "    </tr>\n",
       "  </thead>\n",
       "  <tbody>\n",
       "    <tr>\n",
       "      <th>0</th>\n",
       "      <td>bwr</td>\n",
       "      <td>117.108292</td>\n",
       "      <td>0.55</td>\n",
       "      <td>1051.45</td>\n",
       "      <td>ge7x7-0</td>\n",
       "      <td>10.0</td>\n",
       "      <td>0.1</td>\n",
       "      <td>1</td>\n",
       "      <td>0.000001</td>\n",
       "      <td>2.261000e-09</td>\n",
       "      <td>0.000480</td>\n",
       "      <td>0.003458</td>\n",
       "      <td>0.000028</td>\n",
       "      <td>0.000351</td>\n",
       "      <td>0.000389</td>\n",
       "    </tr>\n",
       "    <tr>\n",
       "      <th>1</th>\n",
       "      <td>bwr</td>\n",
       "      <td>237.640559</td>\n",
       "      <td>0.55</td>\n",
       "      <td>1051.45</td>\n",
       "      <td>ge7x7-0</td>\n",
       "      <td>10.0</td>\n",
       "      <td>0.1</td>\n",
       "      <td>1</td>\n",
       "      <td>0.000003</td>\n",
       "      <td>2.261000e-09</td>\n",
       "      <td>0.000429</td>\n",
       "      <td>0.003431</td>\n",
       "      <td>0.000027</td>\n",
       "      <td>0.000344</td>\n",
       "      <td>0.000358</td>\n",
       "    </tr>\n",
       "  </tbody>\n",
       "</table>\n",
       "</div>"
      ],
      "text/plain": [
       "  ReactorType  CoolingTime  Enrichment   Burnup OrigenReactor  \\\n",
       "0         bwr   117.108292        0.55  1051.45       ge7x7-0   \n",
       "1         bwr   237.640559        0.55  1051.45       ge7x7-0   \n",
       "\n",
       "   AvgPowerDensity  ModDensity  UiWeight     am241         am243     cs134  \\\n",
       "0             10.0         0.1         1  0.000001  2.261000e-09  0.000480   \n",
       "1             10.0         0.1         1  0.000003  2.261000e-09  0.000429   \n",
       "\n",
       "      cs137     eu154      kr85     sb125  \n",
       "0  0.003458  0.000028  0.000351  0.000389  \n",
       "1  0.003431  0.000027  0.000344  0.000358  "
      ]
     },
     "execution_count": 13,
     "metadata": {},
     "output_type": "execute_result"
    }
   ],
   "source": [
    "db[lbls + nonlbls + nuc7].head(2)"
   ]
  },
  {
   "cell_type": "code",
   "execution_count": 14,
   "metadata": {},
   "outputs": [],
   "source": [
    "db[lbls + nonlbls + nuc7].to_pickle(rdrive + 'nuc7_activities_scaled_1g_reindex.pkl')\n",
    "db[lbls + nonlbls + nuc12].to_pickle(rdrive + 'nuc12_activities_scaled_1g_reindex.pkl')"
   ]
  },
  {
   "cell_type": "markdown",
   "metadata": {},
   "source": [
    "# filtering 0 cooling time and burnup from nuc29 for valid scikit comparison"
   ]
  },
  {
   "cell_type": "code",
   "execution_count": 16,
   "metadata": {},
   "outputs": [],
   "source": [
    "rdrive = '/mnt/researchdrive/BOX_INTERNAL/opotowsky/'\n",
    "#db = pd.read_pickle(rdrive + 'sim_grams_nuc29.pkl')\n",
    "db = pd.read_pickle(rdrive + 'not-scaled_nuc29_masses.pkl')"
   ]
  },
  {
   "cell_type": "code",
   "execution_count": 17,
   "metadata": {},
   "outputs": [
    {
     "data": {
      "text/plain": [
       "(458036, 38)"
      ]
     },
     "execution_count": 17,
     "metadata": {},
     "output_type": "execute_result"
    }
   ],
   "source": [
    "db.shape"
   ]
  },
  {
   "cell_type": "code",
   "execution_count": 18,
   "metadata": {},
   "outputs": [
    {
     "data": {
      "text/plain": [
       "Index(['AvgPowerDensity', 'Burnup', 'CoolingTime', 'Enrichment', 'ModDensity',\n",
       "       'OrigenReactor', 'ReactorType', 'UiWeight', 'am241', 'am242m', 'am243',\n",
       "       'cm242', 'cm244', 'cs134', 'cs137', 'eu154', 'nd143', 'nd144', 'nd145',\n",
       "       'nd146', 'nd148', 'nd150', 'np237', 'pu238', 'pu239', 'pu240', 'pu241',\n",
       "       'pu242', 'sm147', 'sm149', 'sm150', 'sm151', 'sm152', 'total', 'u234',\n",
       "       'u235', 'u236', 'u238'],\n",
       "      dtype='object')"
      ]
     },
     "execution_count": 18,
     "metadata": {},
     "output_type": "execute_result"
    }
   ],
   "source": [
    "db.columns"
   ]
  },
  {
   "cell_type": "code",
   "execution_count": 19,
   "metadata": {},
   "outputs": [],
   "source": [
    "db = db.loc[db['Burnup'] > 0]\n",
    "db = db.loc[db['CoolingTime'] > 0]\n",
    "db = db.drop(columns='total')\n",
    "db.reset_index(drop=True, inplace=True)"
   ]
  },
  {
   "cell_type": "code",
   "execution_count": 20,
   "metadata": {},
   "outputs": [
    {
     "data": {
      "text/plain": [
       "(450240, 37)"
      ]
     },
     "execution_count": 20,
     "metadata": {},
     "output_type": "execute_result"
    }
   ],
   "source": [
    "db.shape"
   ]
  },
  {
   "cell_type": "code",
   "execution_count": 21,
   "metadata": {},
   "outputs": [],
   "source": [
    "db.to_pickle(rdrive + 'sim_grams_nuc29.pkl')"
   ]
  },
  {
   "cell_type": "markdown",
   "metadata": {},
   "source": [
    "# Making 10% db for testing code"
   ]
  },
  {
   "cell_type": "code",
   "execution_count": 4,
   "metadata": {},
   "outputs": [
    {
     "data": {
      "text/plain": [
       "(44059, 40)"
      ]
     },
     "execution_count": 4,
     "metadata": {},
     "output_type": "execute_result"
    }
   ],
   "source": [
    "db = pd.read_pickle(rdrive + 'nuc32_activities_scaled_1g_reindex.pkl')\n",
    "db = db.sample(frac = 0.1)\n",
    "db.shape"
   ]
  },
  {
   "cell_type": "code",
   "execution_count": 5,
   "metadata": {},
   "outputs": [
    {
     "data": {
      "text/html": [
       "<div>\n",
       "<style scoped>\n",
       "    .dataframe tbody tr th:only-of-type {\n",
       "        vertical-align: middle;\n",
       "    }\n",
       "\n",
       "    .dataframe tbody tr th {\n",
       "        vertical-align: top;\n",
       "    }\n",
       "\n",
       "    .dataframe thead th {\n",
       "        text-align: right;\n",
       "    }\n",
       "</style>\n",
       "<table border=\"1\" class=\"dataframe\">\n",
       "  <thead>\n",
       "    <tr style=\"text-align: right;\">\n",
       "      <th></th>\n",
       "      <th>ReactorType</th>\n",
       "      <th>CoolingTime</th>\n",
       "      <th>Enrichment</th>\n",
       "      <th>Burnup</th>\n",
       "      <th>OrigenReactor</th>\n",
       "      <th>AvgPowerDensity</th>\n",
       "      <th>ModDensity</th>\n",
       "      <th>UiWeight</th>\n",
       "      <th>ac227</th>\n",
       "      <th>am241</th>\n",
       "      <th>...</th>\n",
       "      <th>pu239</th>\n",
       "      <th>pu240</th>\n",
       "      <th>ra226</th>\n",
       "      <th>sb125</th>\n",
       "      <th>th228</th>\n",
       "      <th>th229</th>\n",
       "      <th>u232</th>\n",
       "      <th>u233</th>\n",
       "      <th>u234</th>\n",
       "      <th>u235</th>\n",
       "    </tr>\n",
       "  </thead>\n",
       "  <tbody>\n",
       "    <tr>\n",
       "      <th>51089</th>\n",
       "      <td>bwr</td>\n",
       "      <td>5871.149464</td>\n",
       "      <td>2.79</td>\n",
       "      <td>58412.76</td>\n",
       "      <td>ge7x7-0</td>\n",
       "      <td>10.0</td>\n",
       "      <td>0.7</td>\n",
       "      <td>1</td>\n",
       "      <td>3.568000e-11</td>\n",
       "      <td>0.002666</td>\n",
       "      <td>...</td>\n",
       "      <td>0.000228</td>\n",
       "      <td>0.000335</td>\n",
       "      <td>1.622000e-12</td>\n",
       "      <td>0.000126</td>\n",
       "      <td>1.019000e-07</td>\n",
       "      <td>5.106000e-12</td>\n",
       "      <td>1.005000e-07</td>\n",
       "      <td>5.552000e-11</td>\n",
       "      <td>0.000001</td>\n",
       "      <td>1.929000e-09</td>\n",
       "    </tr>\n",
       "  </tbody>\n",
       "</table>\n",
       "<p>1 rows × 40 columns</p>\n",
       "</div>"
      ],
      "text/plain": [
       "      ReactorType  CoolingTime  Enrichment    Burnup OrigenReactor  \\\n",
       "51089         bwr  5871.149464        2.79  58412.76       ge7x7-0   \n",
       "\n",
       "       AvgPowerDensity  ModDensity  UiWeight         ac227     am241  ...  \\\n",
       "51089             10.0         0.7         1  3.568000e-11  0.002666  ...   \n",
       "\n",
       "          pu239     pu240         ra226     sb125         th228         th229  \\\n",
       "51089  0.000228  0.000335  1.622000e-12  0.000126  1.019000e-07  5.106000e-12   \n",
       "\n",
       "               u232          u233      u234          u235  \n",
       "51089  1.005000e-07  5.552000e-11  0.000001  1.929000e-09  \n",
       "\n",
       "[1 rows x 40 columns]"
      ]
     },
     "execution_count": 5,
     "metadata": {},
     "output_type": "execute_result"
    }
   ],
   "source": [
    "db.head(1)"
   ]
  },
  {
   "cell_type": "code",
   "execution_count": 6,
   "metadata": {},
   "outputs": [],
   "source": [
    "db.to_pickle('~/like-me-fuel/mll_calc/testdb.pkl')"
   ]
  },
  {
   "cell_type": "code",
   "execution_count": null,
   "metadata": {},
   "outputs": [],
   "source": []
  }
 ],
 "metadata": {
  "kernelspec": {
   "display_name": "Python 3",
   "language": "python",
   "name": "python3"
  },
  "language_info": {
   "codemirror_mode": {
    "name": "ipython",
    "version": 3
   },
   "file_extension": ".py",
   "mimetype": "text/x-python",
   "name": "python",
   "nbconvert_exporter": "python",
   "pygments_lexer": "ipython3",
   "version": "3.6.9"
  }
 },
 "nbformat": 4,
 "nbformat_minor": 4
}
