{
 "cells": [
  {
   "cell_type": "code",
   "execution_count": 1,
   "metadata": {},
   "outputs": [],
   "source": [
    "import pandas as pd"
   ]
  },
  {
   "cell_type": "code",
   "execution_count": 2,
   "metadata": {},
   "outputs": [],
   "source": [
    "db = pd.read_pickle('not-scaled_nuc62_activities.pkl')"
   ]
  },
  {
   "cell_type": "code",
   "execution_count": 3,
   "metadata": {},
   "outputs": [
    {
     "data": {
      "text/html": [
       "<div>\n",
       "<style scoped>\n",
       "    .dataframe tbody tr th:only-of-type {\n",
       "        vertical-align: middle;\n",
       "    }\n",
       "\n",
       "    .dataframe tbody tr th {\n",
       "        vertical-align: top;\n",
       "    }\n",
       "\n",
       "    .dataframe thead th {\n",
       "        text-align: right;\n",
       "    }\n",
       "</style>\n",
       "<table border=\"1\" class=\"dataframe\">\n",
       "  <thead>\n",
       "    <tr style=\"text-align: right;\">\n",
       "      <th></th>\n",
       "      <th>AvgPowerDensity</th>\n",
       "      <th>Burnup</th>\n",
       "      <th>CoolingTime</th>\n",
       "      <th>Enrichment</th>\n",
       "      <th>ModDensity</th>\n",
       "      <th>OrigenReactor</th>\n",
       "      <th>ReactorType</th>\n",
       "      <th>UiWeight</th>\n",
       "      <th>ac227</th>\n",
       "      <th>am241</th>\n",
       "      <th>...</th>\n",
       "      <th>total</th>\n",
       "      <th>u232</th>\n",
       "      <th>u233</th>\n",
       "      <th>u234</th>\n",
       "      <th>u235</th>\n",
       "      <th>u236</th>\n",
       "      <th>u238</th>\n",
       "      <th>y88</th>\n",
       "      <th>zn65</th>\n",
       "      <th>zr93</th>\n",
       "    </tr>\n",
       "  </thead>\n",
       "  <tbody>\n",
       "    <tr>\n",
       "      <th>0.000e+00</th>\n",
       "      <td>10.0</td>\n",
       "      <td>0.0</td>\n",
       "      <td>0.0</td>\n",
       "      <td>0.54</td>\n",
       "      <td>0.1</td>\n",
       "      <td>ge7x7-0</td>\n",
       "      <td>bwr</td>\n",
       "      <td>1</td>\n",
       "      <td>0.0</td>\n",
       "      <td>0.0</td>\n",
       "      <td>...</td>\n",
       "      <td>2.561</td>\n",
       "      <td>0.0</td>\n",
       "      <td>0.0</td>\n",
       "      <td>2.215</td>\n",
       "      <td>0.01167</td>\n",
       "      <td>0.0</td>\n",
       "      <td>0.3342</td>\n",
       "      <td>0.0</td>\n",
       "      <td>0.0</td>\n",
       "      <td>0.0</td>\n",
       "    </tr>\n",
       "  </tbody>\n",
       "</table>\n",
       "<p>1 rows × 71 columns</p>\n",
       "</div>"
      ],
      "text/plain": [
       "           AvgPowerDensity  Burnup  CoolingTime  Enrichment  ModDensity  \\\n",
       "0.000e+00             10.0     0.0          0.0        0.54         0.1   \n",
       "\n",
       "          OrigenReactor ReactorType  UiWeight  ac227  am241  ...  total  u232  \\\n",
       "0.000e+00       ge7x7-0         bwr         1    0.0    0.0  ...  2.561   0.0   \n",
       "\n",
       "           u233   u234     u235  u236    u238  y88  zn65  zr93  \n",
       "0.000e+00   0.0  2.215  0.01167   0.0  0.3342  0.0   0.0   0.0  \n",
       "\n",
       "[1 rows x 71 columns]"
      ]
     },
     "execution_count": 3,
     "metadata": {},
     "output_type": "execute_result"
    }
   ],
   "source": [
    "db.head(1)"
   ]
  },
  {
   "cell_type": "code",
   "execution_count": 4,
   "metadata": {},
   "outputs": [
    {
     "name": "stdout",
     "output_type": "stream",
     "text": [
      "['ReactorType', 'CoolingTime', 'Enrichment', 'Burnup', 'OrigenReactor', 'AvgPowerDensity', 'ModDensity', 'UiWeight', 'ac227', 'am241', 'am243', 'ba133', 'cf249', 'cf252', 'cm243', 'cm244', 'cm245', 'cs134', 'cs137', 'eu152', 'eu154', 'ho166m', 'kr85', 'nb94', 'np236', 'np237', 'pa231', 'pm146', 'pu236', 'pu238', 'pu239', 'pu240', 'ra226', 'sb125', 'th228', 'th229', 'u232', 'u233', 'u234', 'u235']\n"
     ]
    }
   ],
   "source": [
    "lbls = ['ReactorType', 'CoolingTime', 'Enrichment', 'Burnup', 'OrigenReactor']\n",
    "nonlbls = ['AvgPowerDensity', 'ModDensity', 'UiWeight']\n",
    "nuc_list = ['ac227', 'am241', 'am243', 'ba133', 'cf249', 'cf252', 'cm243', 'cm244', \n",
    "            'cm245', 'cs134', 'cs137', 'eu152', 'eu154', 'ho166m', 'kr85', 'nb94', \n",
    "            'np236', 'np237', 'pa231', 'pm146', 'pu236', 'pu238', 'pu239', 'pu240', \n",
    "            'ra226', 'sb125', 'th228', 'th229', 'u232', 'u233', 'u234', 'u235']\n",
    "all_cols = lbls + nonlbls + nuc_list\n",
    "print(all_cols)"
   ]
  },
  {
   "cell_type": "code",
   "execution_count": 5,
   "metadata": {},
   "outputs": [
    {
     "data": {
      "text/html": [
       "<div>\n",
       "<style scoped>\n",
       "    .dataframe tbody tr th:only-of-type {\n",
       "        vertical-align: middle;\n",
       "    }\n",
       "\n",
       "    .dataframe tbody tr th {\n",
       "        vertical-align: top;\n",
       "    }\n",
       "\n",
       "    .dataframe thead th {\n",
       "        text-align: right;\n",
       "    }\n",
       "</style>\n",
       "<table border=\"1\" class=\"dataframe\">\n",
       "  <thead>\n",
       "    <tr style=\"text-align: right;\">\n",
       "      <th></th>\n",
       "      <th>ReactorType</th>\n",
       "      <th>CoolingTime</th>\n",
       "      <th>Enrichment</th>\n",
       "      <th>Burnup</th>\n",
       "      <th>OrigenReactor</th>\n",
       "      <th>AvgPowerDensity</th>\n",
       "      <th>ModDensity</th>\n",
       "      <th>UiWeight</th>\n",
       "      <th>ac227</th>\n",
       "      <th>am241</th>\n",
       "      <th>...</th>\n",
       "      <th>pu239</th>\n",
       "      <th>pu240</th>\n",
       "      <th>ra226</th>\n",
       "      <th>sb125</th>\n",
       "      <th>th228</th>\n",
       "      <th>th229</th>\n",
       "      <th>u232</th>\n",
       "      <th>u233</th>\n",
       "      <th>u234</th>\n",
       "      <th>u235</th>\n",
       "    </tr>\n",
       "  </thead>\n",
       "  <tbody>\n",
       "    <tr>\n",
       "      <th>0.000e+00</th>\n",
       "      <td>bwr</td>\n",
       "      <td>0.0</td>\n",
       "      <td>0.54</td>\n",
       "      <td>0.0</td>\n",
       "      <td>ge7x7-0</td>\n",
       "      <td>10.0</td>\n",
       "      <td>0.1</td>\n",
       "      <td>1</td>\n",
       "      <td>0.0</td>\n",
       "      <td>0.0</td>\n",
       "      <td>...</td>\n",
       "      <td>0.0</td>\n",
       "      <td>0.0</td>\n",
       "      <td>0.0</td>\n",
       "      <td>0.0</td>\n",
       "      <td>0.0</td>\n",
       "      <td>0.0</td>\n",
       "      <td>0.0</td>\n",
       "      <td>0.0</td>\n",
       "      <td>2.215</td>\n",
       "      <td>0.01167</td>\n",
       "    </tr>\n",
       "  </tbody>\n",
       "</table>\n",
       "<p>1 rows × 40 columns</p>\n",
       "</div>"
      ],
      "text/plain": [
       "          ReactorType  CoolingTime  Enrichment  Burnup OrigenReactor  \\\n",
       "0.000e+00         bwr          0.0        0.54     0.0       ge7x7-0   \n",
       "\n",
       "           AvgPowerDensity  ModDensity  UiWeight  ac227  am241  ...  pu239  \\\n",
       "0.000e+00             10.0         0.1         1    0.0    0.0  ...    0.0   \n",
       "\n",
       "           pu240  ra226  sb125  th228  th229  u232  u233   u234     u235  \n",
       "0.000e+00    0.0    0.0    0.0    0.0    0.0   0.0   0.0  2.215  0.01167  \n",
       "\n",
       "[1 rows x 40 columns]"
      ]
     },
     "execution_count": 5,
     "metadata": {},
     "output_type": "execute_result"
    }
   ],
   "source": [
    "db = db[all_cols]\n",
    "db.head(1)"
   ]
  },
  {
   "cell_type": "code",
   "execution_count": 6,
   "metadata": {},
   "outputs": [],
   "source": [
    "db = db.loc[db['Burnup'] > 0]\n",
    "db = db.loc[db['CoolingTime'] > 0]"
   ]
  },
  {
   "cell_type": "code",
   "execution_count": 7,
   "metadata": {},
   "outputs": [
    {
     "data": {
      "text/html": [
       "<div>\n",
       "<style scoped>\n",
       "    .dataframe tbody tr th:only-of-type {\n",
       "        vertical-align: middle;\n",
       "    }\n",
       "\n",
       "    .dataframe tbody tr th {\n",
       "        vertical-align: top;\n",
       "    }\n",
       "\n",
       "    .dataframe thead th {\n",
       "        text-align: right;\n",
       "    }\n",
       "</style>\n",
       "<table border=\"1\" class=\"dataframe\">\n",
       "  <thead>\n",
       "    <tr style=\"text-align: right;\">\n",
       "      <th></th>\n",
       "      <th>ReactorType</th>\n",
       "      <th>CoolingTime</th>\n",
       "      <th>Enrichment</th>\n",
       "      <th>Burnup</th>\n",
       "      <th>OrigenReactor</th>\n",
       "      <th>AvgPowerDensity</th>\n",
       "      <th>ModDensity</th>\n",
       "      <th>UiWeight</th>\n",
       "      <th>ac227</th>\n",
       "      <th>am241</th>\n",
       "      <th>...</th>\n",
       "      <th>pu239</th>\n",
       "      <th>pu240</th>\n",
       "      <th>ra226</th>\n",
       "      <th>sb125</th>\n",
       "      <th>th228</th>\n",
       "      <th>th229</th>\n",
       "      <th>u232</th>\n",
       "      <th>u233</th>\n",
       "      <th>u234</th>\n",
       "      <th>u235</th>\n",
       "    </tr>\n",
       "  </thead>\n",
       "  <tbody>\n",
       "    <tr>\n",
       "      <th>1.056e+02</th>\n",
       "      <td>bwr</td>\n",
       "      <td>0.000576</td>\n",
       "      <td>0.54</td>\n",
       "      <td>1055.5</td>\n",
       "      <td>ge7x7-0</td>\n",
       "      <td>10.0</td>\n",
       "      <td>0.1</td>\n",
       "      <td>1</td>\n",
       "      <td>1.471000e-09</td>\n",
       "      <td>0.272</td>\n",
       "      <td>...</td>\n",
       "      <td>82.9</td>\n",
       "      <td>27.62</td>\n",
       "      <td>3.525000e-10</td>\n",
       "      <td>396.6</td>\n",
       "      <td>3.135000e-07</td>\n",
       "      <td>2.562000e-10</td>\n",
       "      <td>0.000011</td>\n",
       "      <td>0.000003</td>\n",
       "      <td>2.104</td>\n",
       "      <td>0.009923</td>\n",
       "    </tr>\n",
       "  </tbody>\n",
       "</table>\n",
       "<p>1 rows × 40 columns</p>\n",
       "</div>"
      ],
      "text/plain": [
       "          ReactorType  CoolingTime  Enrichment  Burnup OrigenReactor  \\\n",
       "1.056e+02         bwr     0.000576        0.54  1055.5       ge7x7-0   \n",
       "\n",
       "           AvgPowerDensity  ModDensity  UiWeight         ac227  am241  ...  \\\n",
       "1.056e+02             10.0         0.1         1  1.471000e-09  0.272  ...   \n",
       "\n",
       "           pu239  pu240         ra226  sb125         th228         th229  \\\n",
       "1.056e+02   82.9  27.62  3.525000e-10  396.6  3.135000e-07  2.562000e-10   \n",
       "\n",
       "               u232      u233   u234      u235  \n",
       "1.056e+02  0.000011  0.000003  2.104  0.009923  \n",
       "\n",
       "[1 rows x 40 columns]"
      ]
     },
     "execution_count": 7,
     "metadata": {},
     "output_type": "execute_result"
    }
   ],
   "source": [
    "db.head(1)"
   ]
  },
  {
   "cell_type": "code",
   "execution_count": 8,
   "metadata": {},
   "outputs": [],
   "source": [
    "db.to_pickle('not-scaled_nuc32_activities.pkl')"
   ]
  },
  {
   "cell_type": "code",
   "execution_count": null,
   "metadata": {},
   "outputs": [],
   "source": []
  }
 ],
 "metadata": {
  "kernelspec": {
   "display_name": "Python 3",
   "language": "python",
   "name": "python3"
  },
  "language_info": {
   "codemirror_mode": {
    "name": "ipython",
    "version": 3
   },
   "file_extension": ".py",
   "mimetype": "text/x-python",
   "name": "python",
   "nbconvert_exporter": "python",
   "pygments_lexer": "ipython3",
   "version": "3.6.9"
  }
 },
 "nbformat": 4,
 "nbformat_minor": 4
}
